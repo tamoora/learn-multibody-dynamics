{
 "cells": [
  {
   "cell_type": "code",
   "execution_count": 1,
   "id": "cb02fc6e",
   "metadata": {
    "execution": {
     "iopub.execute_input": "2022-04-15T22:53:31.847889Z",
     "iopub.status.busy": "2022-04-15T22:53:31.847658Z",
     "iopub.status.idle": "2022-04-15T22:53:32.376217Z",
     "shell.execute_reply": "2022-04-15T22:53:32.375439Z"
    }
   },
   "outputs": [],
   "source": [
    "import sympy as sm\n",
    "import sympy.physics.mechanics as me\n",
    "sm.init_printing(use_latex='mathjax')"
   ]
  },
  {
   "cell_type": "code",
   "execution_count": 2,
   "id": "c61645dc",
   "metadata": {
    "execution": {
     "iopub.execute_input": "2022-04-15T22:53:32.379413Z",
     "iopub.status.busy": "2022-04-15T22:53:32.379242Z",
     "iopub.status.idle": "2022-04-15T22:53:32.398069Z",
     "shell.execute_reply": "2022-04-15T22:53:32.397551Z"
    }
   },
   "outputs": [
    {
     "data": {
      "text/latex": [
       "$\\displaystyle a\\mathbf{\\hat{a}_x} + b\\mathbf{\\hat{a}_y} + c\\mathbf{\\hat{b}_x} + d\\mathbf{\\hat{b}_y} + e\\mathbf{\\hat{c}_x} + f\\mathbf{\\hat{c}_y}$"
      ],
      "text/plain": [
       "a a_x + b a_y + c b_x + d b_y + e c_x + f c_y"
      ]
     },
     "execution_count": 2,
     "metadata": {},
     "output_type": "execute_result"
    }
   ],
   "source": [
    "alpha, beta = sm.symbols('alpha, beta')\n",
    "a, b, c, d, e, f = sm.symbols('a, b, c, d, e, f')\n",
    "\n",
    "A = me.ReferenceFrame('A')\n",
    "B = me.ReferenceFrame('B')\n",
    "C = me.ReferenceFrame('C')\n",
    "\n",
    "B.orient_axis(A, alpha, A.x)\n",
    "C.orient_axis(B, beta, B.y)\n",
    "\n",
    "v = a*A.x + b*A.y + c*B.x + d*B.y + e*C.x + f*C.y\n",
    "v"
   ]
  },
  {
   "cell_type": "code",
   "execution_count": 3,
   "id": "0a5a6666",
   "metadata": {
    "execution": {
     "iopub.execute_input": "2022-04-15T22:53:32.400591Z",
     "iopub.status.busy": "2022-04-15T22:53:32.400329Z",
     "iopub.status.idle": "2022-04-15T22:53:32.408981Z",
     "shell.execute_reply": "2022-04-15T22:53:32.408476Z"
    }
   },
   "outputs": [
    {
     "data": {
      "text/latex": [
       "$\\displaystyle 0$"
      ],
      "text/plain": [
       "0"
      ]
     },
     "execution_count": 3,
     "metadata": {},
     "output_type": "execute_result"
    }
   ],
   "source": [
    "dvdax = v.dot(A.x).diff(alpha)\n",
    "dvdax"
   ]
  },
  {
   "cell_type": "code",
   "execution_count": 4,
   "id": "b0615c85",
   "metadata": {
    "execution": {
     "iopub.execute_input": "2022-04-15T22:53:32.411472Z",
     "iopub.status.busy": "2022-04-15T22:53:32.411067Z",
     "iopub.status.idle": "2022-04-15T22:53:32.424887Z",
     "shell.execute_reply": "2022-04-15T22:53:32.424393Z"
    }
   },
   "outputs": [
    {
     "data": {
      "text/latex": [
       "$\\displaystyle - d \\sin{\\left(\\alpha \\right)} + e \\sin{\\left(\\beta \\right)} \\cos{\\left(\\alpha \\right)} - f \\sin{\\left(\\alpha \\right)}$"
      ],
      "text/plain": [
       "-d⋅sin(α) + e⋅sin(β)⋅cos(α) - f⋅sin(α)"
      ]
     },
     "execution_count": 4,
     "metadata": {},
     "output_type": "execute_result"
    }
   ],
   "source": [
    "dvday = v.dot(A.y).diff(alpha)\n",
    "dvday"
   ]
  },
  {
   "cell_type": "code",
   "execution_count": 5,
   "id": "594dbf29",
   "metadata": {
    "execution": {
     "iopub.execute_input": "2022-04-15T22:53:32.427405Z",
     "iopub.status.busy": "2022-04-15T22:53:32.426992Z",
     "iopub.status.idle": "2022-04-15T22:53:32.439461Z",
     "shell.execute_reply": "2022-04-15T22:53:32.438955Z"
    }
   },
   "outputs": [
    {
     "data": {
      "text/latex": [
       "$\\displaystyle d \\cos{\\left(\\alpha \\right)} + e \\sin{\\left(\\alpha \\right)} \\sin{\\left(\\beta \\right)} + f \\cos{\\left(\\alpha \\right)}$"
      ],
      "text/plain": [
       "d⋅cos(α) + e⋅sin(α)⋅sin(β) + f⋅cos(α)"
      ]
     },
     "execution_count": 5,
     "metadata": {},
     "output_type": "execute_result"
    }
   ],
   "source": [
    "dvdaz = v.dot(A.z).diff(alpha)\n",
    "dvdaz"
   ]
  },
  {
   "cell_type": "code",
   "execution_count": 6,
   "id": "389ac7da",
   "metadata": {
    "execution": {
     "iopub.execute_input": "2022-04-15T22:53:32.442090Z",
     "iopub.status.busy": "2022-04-15T22:53:32.441680Z",
     "iopub.status.idle": "2022-04-15T22:53:32.450595Z",
     "shell.execute_reply": "2022-04-15T22:53:32.450092Z"
    }
   },
   "outputs": [
    {
     "data": {
      "text/latex": [
       "$\\displaystyle (- d \\sin{\\left(\\alpha \\right)} + e \\sin{\\left(\\beta \\right)} \\cos{\\left(\\alpha \\right)} - f \\sin{\\left(\\alpha \\right)})\\mathbf{\\hat{a}_y} + (d \\cos{\\left(\\alpha \\right)} + e \\sin{\\left(\\alpha \\right)} \\sin{\\left(\\beta \\right)} + f \\cos{\\left(\\alpha \\right)})\\mathbf{\\hat{a}_z}$"
      ],
      "text/plain": [
       "(-d⋅sin(α) + e⋅sin(β)⋅cos(α) - f⋅sin(α)) a_y + (d⋅cos(α) + e⋅sin(α)⋅sin(β) + f\n",
       "⋅cos(α)) a_z"
      ]
     },
     "execution_count": 6,
     "metadata": {},
     "output_type": "execute_result"
    }
   ],
   "source": [
    "dvda = dvdax*A.x + dvday*A.y + dvdaz*A.z\n",
    "dvda"
   ]
  },
  {
   "cell_type": "code",
   "execution_count": 7,
   "id": "1ef8f772",
   "metadata": {
    "execution": {
     "iopub.execute_input": "2022-04-15T22:53:32.453134Z",
     "iopub.status.busy": "2022-04-15T22:53:32.452720Z",
     "iopub.status.idle": "2022-04-15T22:53:32.493818Z",
     "shell.execute_reply": "2022-04-15T22:53:32.493253Z"
    }
   },
   "outputs": [
    {
     "data": {
      "text/latex": [
       "$\\displaystyle (d \\sin^{2}{\\left(\\alpha \\right)} + d \\cos^{2}{\\left(\\alpha \\right)})\\mathbf{\\hat{b}_z} + (- \\left(e \\sin{\\left(\\alpha \\right)} \\sin{\\left(\\beta \\right)} + f \\cos{\\left(\\alpha \\right)}\\right) \\sin{\\left(\\beta \\right)} \\cos{\\left(\\alpha \\right)} + \\left(e \\sin{\\left(\\beta \\right)} \\cos{\\left(\\alpha \\right)} - f \\sin{\\left(\\alpha \\right)}\\right) \\sin{\\left(\\alpha \\right)} \\sin{\\left(\\beta \\right)})\\mathbf{\\hat{c}_x} + (\\left(e \\sin{\\left(\\alpha \\right)} \\sin{\\left(\\beta \\right)} + f \\cos{\\left(\\alpha \\right)}\\right) \\sin{\\left(\\alpha \\right)} + \\left(e \\sin{\\left(\\beta \\right)} \\cos{\\left(\\alpha \\right)} - f \\sin{\\left(\\alpha \\right)}\\right) \\cos{\\left(\\alpha \\right)})\\mathbf{\\hat{c}_y} + (\\left(e \\sin{\\left(\\alpha \\right)} \\sin{\\left(\\beta \\right)} + f \\cos{\\left(\\alpha \\right)}\\right) \\cos{\\left(\\alpha \\right)} \\cos{\\left(\\beta \\right)} - \\left(e \\sin{\\left(\\beta \\right)} \\cos{\\left(\\alpha \\right)} - f \\sin{\\left(\\alpha \\right)}\\right) \\sin{\\left(\\alpha \\right)} \\cos{\\left(\\beta \\right)})\\mathbf{\\hat{c}_z}$"
      ],
      "text/plain": [
       "⎛     2           2   ⎞\n",
       "⎝d⋅sin (α) + d⋅cos (α)⎠ b_z + (-(e⋅sin(α)⋅sin(β) + f⋅cos(α))⋅sin(β)⋅cos(α) + (\n",
       "\n",
       "\n",
       "e⋅sin(β)⋅cos(α) - f⋅sin(α))⋅sin(α)⋅sin(β)) c_x + ((e⋅sin(α)⋅sin(β) + f⋅cos(α))\n",
       "\n",
       "\n",
       "⋅sin(α) + (e⋅sin(β)⋅cos(α) - f⋅sin(α))⋅cos(α)) c_y + ((e⋅sin(α)⋅sin(β) + f⋅cos\n",
       "\n",
       "\n",
       "(α))⋅cos(α)⋅cos(β) - (e⋅sin(β)⋅cos(α) - f⋅sin(α))⋅sin(α)⋅cos(β)) c_z"
      ]
     },
     "execution_count": 7,
     "metadata": {},
     "output_type": "execute_result"
    }
   ],
   "source": [
    "dvdalpha = v.diff(alpha, A)\n",
    "dvdalpha"
   ]
  },
  {
   "cell_type": "code",
   "execution_count": 8,
   "id": "26a291b5",
   "metadata": {
    "execution": {
     "iopub.execute_input": "2022-04-15T22:53:32.496574Z",
     "iopub.status.busy": "2022-04-15T22:53:32.496149Z",
     "iopub.status.idle": "2022-04-15T22:53:32.718063Z",
     "shell.execute_reply": "2022-04-15T22:53:32.717464Z"
    }
   },
   "outputs": [
    {
     "data": {
      "text/latex": [
       "$\\displaystyle d\\mathbf{\\hat{b}_z} -  f \\sin{\\left(\\beta \\right)}\\mathbf{\\hat{c}_x} + e \\sin{\\left(\\beta \\right)}\\mathbf{\\hat{c}_y} + f \\cos{\\left(\\beta \\right)}\\mathbf{\\hat{c}_z}$"
      ],
      "text/plain": [
       "d b_z + -f⋅sin(β) c_x + e⋅sin(β) c_y + f⋅cos(β) c_z"
      ]
     },
     "execution_count": 8,
     "metadata": {},
     "output_type": "execute_result"
    }
   ],
   "source": [
    "v.diff(alpha, A).simplify()"
   ]
  },
  {
   "cell_type": "code",
   "execution_count": 9,
   "id": "6d0f7425",
   "metadata": {
    "execution": {
     "iopub.execute_input": "2022-04-15T22:53:32.721009Z",
     "iopub.status.busy": "2022-04-15T22:53:32.720720Z",
     "iopub.status.idle": "2022-04-15T22:53:33.697686Z",
     "shell.execute_reply": "2022-04-15T22:53:33.697077Z"
    }
   },
   "outputs": [
    {
     "data": {
      "text/latex": [
       "$\\displaystyle (- d \\sin{\\left(\\alpha \\right)} + e \\sin{\\left(\\beta \\right)} \\cos{\\left(\\alpha \\right)} - f \\sin{\\left(\\alpha \\right)})\\mathbf{\\hat{a}_y} + (d \\cos{\\left(\\alpha \\right)} + e \\sin{\\left(\\alpha \\right)} \\sin{\\left(\\beta \\right)} + f \\cos{\\left(\\alpha \\right)})\\mathbf{\\hat{a}_z}$"
      ],
      "text/plain": [
       "(-d⋅sin(α) + e⋅sin(β)⋅cos(α) - f⋅sin(α)) a_y + (d⋅cos(α) + e⋅sin(α)⋅sin(β) + f\n",
       "⋅cos(α)) a_z"
      ]
     },
     "execution_count": 9,
     "metadata": {},
     "output_type": "execute_result"
    }
   ],
   "source": [
    "v.diff(alpha, A).express(A).simplify()"
   ]
  },
  {
   "cell_type": "code",
   "execution_count": 10,
   "id": "e0b2b3f2",
   "metadata": {
    "execution": {
     "iopub.execute_input": "2022-04-15T22:53:33.700662Z",
     "iopub.status.busy": "2022-04-15T22:53:33.700364Z",
     "iopub.status.idle": "2022-04-15T22:53:33.705449Z",
     "shell.execute_reply": "2022-04-15T22:53:33.705069Z"
    }
   },
   "outputs": [
    {
     "data": {
      "text/latex": [
       "$\\displaystyle q{\\left(t \\right)}$"
      ],
      "text/plain": [
       "q(t)"
      ]
     },
     "execution_count": 10,
     "metadata": {},
     "output_type": "execute_result"
    }
   ],
   "source": [
    "t = sm.symbols('t')\n",
    "q_of = sm.Function('q')\n",
    "\n",
    "q = q_of(t)\n",
    "q"
   ]
  },
  {
   "cell_type": "code",
   "execution_count": 11,
   "id": "e592db30",
   "metadata": {
    "execution": {
     "iopub.execute_input": "2022-04-15T22:53:33.707891Z",
     "iopub.status.busy": "2022-04-15T22:53:33.707532Z",
     "iopub.status.idle": "2022-04-15T22:53:33.712217Z",
     "shell.execute_reply": "2022-04-15T22:53:33.711846Z"
    }
   },
   "outputs": [
    {
     "data": {
      "text/latex": [
       "$\\displaystyle \\frac{d}{d t} q{\\left(t \\right)}$"
      ],
      "text/plain": [
       "d       \n",
       "──(q(t))\n",
       "dt      "
      ]
     },
     "execution_count": 11,
     "metadata": {},
     "output_type": "execute_result"
    }
   ],
   "source": [
    "q.diff(t)"
   ]
  },
  {
   "cell_type": "code",
   "execution_count": 12,
   "id": "09fee4fd",
   "metadata": {
    "execution": {
     "iopub.execute_input": "2022-04-15T22:53:33.714591Z",
     "iopub.status.busy": "2022-04-15T22:53:33.714181Z",
     "iopub.status.idle": "2022-04-15T22:53:33.719720Z",
     "shell.execute_reply": "2022-04-15T22:53:33.719176Z"
    }
   },
   "outputs": [
    {
     "data": {
      "text/latex": [
       "$\\displaystyle \\left( \\operatorname{q_{1}}{\\left(t \\right)}, \\  \\operatorname{q_{2}}{\\left(t \\right)}, \\  \\operatorname{q_{3}}{\\left(t \\right)}\\right)$"
      ],
      "text/plain": [
       "(q₁(t), q₂(t), q₃(t))"
      ]
     },
     "execution_count": 12,
     "metadata": {},
     "output_type": "execute_result"
    }
   ],
   "source": [
    "q1, q2, q3 = me.dynamicsymbols('q1, q2, q3')\n",
    "q1, q2, q3"
   ]
  },
  {
   "cell_type": "code",
   "execution_count": 13,
   "id": "dc605e90",
   "metadata": {
    "execution": {
     "iopub.execute_input": "2022-04-15T22:53:33.722650Z",
     "iopub.status.busy": "2022-04-15T22:53:33.722172Z",
     "iopub.status.idle": "2022-04-15T22:53:33.725018Z",
     "shell.execute_reply": "2022-04-15T22:53:33.724518Z"
    }
   },
   "outputs": [],
   "source": [
    "t = me.dynamicsymbols._t"
   ]
  },
  {
   "cell_type": "code",
   "execution_count": 14,
   "id": "2c118a63",
   "metadata": {
    "execution": {
     "iopub.execute_input": "2022-04-15T22:53:33.727381Z",
     "iopub.status.busy": "2022-04-15T22:53:33.726919Z",
     "iopub.status.idle": "2022-04-15T22:53:33.735897Z",
     "shell.execute_reply": "2022-04-15T22:53:33.735372Z"
    }
   },
   "outputs": [
    {
     "data": {
      "text/latex": [
       "$\\displaystyle \\left( \\dot{q}_{1}, \\  \\ddot{q}_{2}, \\  \\dddot{q}_{3}\\right)$"
      ],
      "text/plain": [
       "(q₁̇, q₂̈, q₃⃛)"
      ]
     },
     "execution_count": 14,
     "metadata": {},
     "output_type": "execute_result"
    }
   ],
   "source": [
    "me.init_vprinting(use_latex='mathjax')\n",
    "q1.diff(t), q2.diff(t, 2), q3.diff(t, 3)"
   ]
  },
  {
   "cell_type": "code",
   "execution_count": 15,
   "id": "8c186c69",
   "metadata": {
    "execution": {
     "iopub.execute_input": "2022-04-15T22:53:33.738445Z",
     "iopub.status.busy": "2022-04-15T22:53:33.738038Z",
     "iopub.status.idle": "2022-04-15T22:53:33.885684Z",
     "shell.execute_reply": "2022-04-15T22:53:33.885075Z"
    }
   },
   "outputs": [
    {
     "data": {
      "text/latex": [
       "$\\displaystyle q_{1}\\mathbf{\\hat{a}_x} + q_{2}\\mathbf{\\hat{a}_y} + t^{2}\\mathbf{\\hat{a}_z}$"
      ],
      "text/plain": [
       "                   2\n",
       "q₁ a_x + q₂ a_y + t  a_z"
      ]
     },
     "execution_count": 15,
     "metadata": {},
     "output_type": "execute_result"
    }
   ],
   "source": [
    "A = me.ReferenceFrame('A')\n",
    "B = me.ReferenceFrame('B')\n",
    "B.orient_body_fixed(A, (q1, q2, q3), 'ZXZ')\n",
    "v = q1*A.x + q2*A.y + t**2*A.z\n",
    "v"
   ]
  },
  {
   "cell_type": "code",
   "execution_count": 16,
   "id": "7b49a128",
   "metadata": {
    "execution": {
     "iopub.execute_input": "2022-04-15T22:53:33.888641Z",
     "iopub.status.busy": "2022-04-15T22:53:33.888349Z",
     "iopub.status.idle": "2022-04-15T22:53:33.898267Z",
     "shell.execute_reply": "2022-04-15T22:53:33.897764Z"
    }
   },
   "outputs": [
    {
     "data": {
      "text/latex": [
       "$\\displaystyle \\dot{q}_{1}\\mathbf{\\hat{a}_x} + \\dot{q}_{2}\\mathbf{\\hat{a}_y} + 2 t\\mathbf{\\hat{a}_z}$"
      ],
      "text/plain": [
       "q₁̇ a_x + q₂̇ a_y + 2⋅t a_z"
      ]
     },
     "execution_count": 16,
     "metadata": {},
     "output_type": "execute_result"
    }
   ],
   "source": [
    "v.diff(t, A)"
   ]
  },
  {
   "cell_type": "code",
   "execution_count": 17,
   "id": "e11bf21a",
   "metadata": {
    "execution": {
     "iopub.execute_input": "2022-04-15T22:53:33.901352Z",
     "iopub.status.busy": "2022-04-15T22:53:33.900871Z",
     "iopub.status.idle": "2022-04-15T22:53:33.907996Z",
     "shell.execute_reply": "2022-04-15T22:53:33.907467Z"
    }
   },
   "outputs": [
    {
     "data": {
      "text/latex": [
       "$\\displaystyle \\dot{q}_{1}\\mathbf{\\hat{a}_x} + \\dot{q}_{2}\\mathbf{\\hat{a}_y} + 2 t\\mathbf{\\hat{a}_z}$"
      ],
      "text/plain": [
       "q₁̇ a_x + q₂̇ a_y + 2⋅t a_z"
      ]
     },
     "execution_count": 17,
     "metadata": {},
     "output_type": "execute_result"
    }
   ],
   "source": [
    "v.dt(A)"
   ]
  }
 ],
 "metadata": {
  "kernelspec": {
   "display_name": "Python 3 (ipykernel)",
   "language": "python",
   "name": "python3"
  },
  "language_info": {
   "codemirror_mode": {
    "name": "ipython",
    "version": 3
   },
   "file_extension": ".py",
   "mimetype": "text/x-python",
   "name": "python",
   "nbconvert_exporter": "python",
   "pygments_lexer": "ipython3",
   "version": "3.9.12"
  }
 },
 "nbformat": 4,
 "nbformat_minor": 5
}