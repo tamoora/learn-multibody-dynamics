{
 "cells": [
  {
   "cell_type": "code",
   "execution_count": 1,
   "id": "b0ec41e5",
   "metadata": {
    "execution": {
     "iopub.execute_input": "2022-03-10T20:18:08.480303Z",
     "iopub.status.busy": "2022-03-10T20:18:08.480071Z",
     "iopub.status.idle": "2022-03-10T20:18:09.080085Z",
     "shell.execute_reply": "2022-03-10T20:18:09.079250Z"
    }
   },
   "outputs": [],
   "source": [
    "import sympy as sm\n",
    "import sympy.physics.mechanics as me\n",
    "sm.init_printing(use_latex='mathjax')"
   ]
  },
  {
   "cell_type": "code",
   "execution_count": 2,
   "id": "b42f75b5",
   "metadata": {
    "execution": {
     "iopub.execute_input": "2022-03-10T20:18:09.084253Z",
     "iopub.status.busy": "2022-03-10T20:18:09.084061Z",
     "iopub.status.idle": "2022-03-10T20:18:09.087991Z",
     "shell.execute_reply": "2022-03-10T20:18:09.087273Z"
    }
   },
   "outputs": [],
   "source": [
    "N = me.ReferenceFrame('N')"
   ]
  },
  {
   "cell_type": "code",
   "execution_count": 3,
   "id": "5ca9acf0",
   "metadata": {
    "execution": {
     "iopub.execute_input": "2022-03-10T20:18:09.091427Z",
     "iopub.status.busy": "2022-03-10T20:18:09.091201Z",
     "iopub.status.idle": "2022-03-10T20:18:09.094725Z",
     "shell.execute_reply": "2022-03-10T20:18:09.094093Z"
    }
   },
   "outputs": [],
   "source": [
    "a, b, c, d, e, f = sm.symbols('a, b, c, d, e, f')"
   ]
  },
  {
   "cell_type": "code",
   "execution_count": 4,
   "id": "2e6d3b28",
   "metadata": {
    "execution": {
     "iopub.execute_input": "2022-03-10T20:18:09.097891Z",
     "iopub.status.busy": "2022-03-10T20:18:09.097659Z",
     "iopub.status.idle": "2022-03-10T20:18:09.105370Z",
     "shell.execute_reply": "2022-03-10T20:18:09.104684Z"
    }
   },
   "outputs": [
    {
     "data": {
      "text/latex": [
       "$\\displaystyle a\\mathbf{\\hat{n}_x}$"
      ],
      "text/plain": [
       "a n_x"
      ]
     },
     "execution_count": 4,
     "metadata": {},
     "output_type": "execute_result"
    }
   ],
   "source": [
    "v = a*N.x\n",
    "v"
   ]
  },
  {
   "cell_type": "code",
   "execution_count": 5,
   "id": "a4569b6d",
   "metadata": {
    "execution": {
     "iopub.execute_input": "2022-03-10T20:18:09.109109Z",
     "iopub.status.busy": "2022-03-10T20:18:09.108918Z",
     "iopub.status.idle": "2022-03-10T20:18:09.116198Z",
     "shell.execute_reply": "2022-03-10T20:18:09.115524Z"
    }
   },
   "outputs": [
    {
     "data": {
      "text/latex": [
       "$\\displaystyle \\left[\\begin{matrix}a\\\\0\\\\0\\end{matrix}\\right]$"
      ],
      "text/plain": [
       "⎡a⎤\n",
       "⎢ ⎥\n",
       "⎢0⎥\n",
       "⎢ ⎥\n",
       "⎣0⎦"
      ]
     },
     "execution_count": 5,
     "metadata": {},
     "output_type": "execute_result"
    }
   ],
   "source": [
    "v.to_matrix(N)"
   ]
  },
  {
   "cell_type": "code",
   "execution_count": 6,
   "id": "e7e64e7d",
   "metadata": {
    "execution": {
     "iopub.execute_input": "2022-03-10T20:18:09.120298Z",
     "iopub.status.busy": "2022-03-10T20:18:09.120080Z",
     "iopub.status.idle": "2022-03-10T20:18:09.126675Z",
     "shell.execute_reply": "2022-03-10T20:18:09.126061Z"
    }
   },
   "outputs": [
    {
     "data": {
      "text/latex": [
       "$\\displaystyle a\\mathbf{\\hat{n}_x} + b\\mathbf{\\hat{n}_y} + c\\mathbf{\\hat{n}_z}$"
      ],
      "text/plain": [
       "a n_x + b n_y + c n_z"
      ]
     },
     "execution_count": 6,
     "metadata": {},
     "output_type": "execute_result"
    }
   ],
   "source": [
    "w = a*N.x + b*N.y + c*N.z\n",
    "w"
   ]
  },
  {
   "cell_type": "code",
   "execution_count": 7,
   "id": "98f50a17",
   "metadata": {
    "execution": {
     "iopub.execute_input": "2022-03-10T20:18:09.129863Z",
     "iopub.status.busy": "2022-03-10T20:18:09.129681Z",
     "iopub.status.idle": "2022-03-10T20:18:09.136566Z",
     "shell.execute_reply": "2022-03-10T20:18:09.136111Z"
    }
   },
   "outputs": [
    {
     "data": {
      "text/latex": [
       "$\\displaystyle \\left[\\begin{matrix}a\\\\b\\\\c\\end{matrix}\\right]$"
      ],
      "text/plain": [
       "⎡a⎤\n",
       "⎢ ⎥\n",
       "⎢b⎥\n",
       "⎢ ⎥\n",
       "⎣c⎦"
      ]
     },
     "execution_count": 7,
     "metadata": {},
     "output_type": "execute_result"
    }
   ],
   "source": [
    "w.to_matrix(N)"
   ]
  },
  {
   "cell_type": "code",
   "execution_count": 8,
   "id": "c3cc313f",
   "metadata": {
    "execution": {
     "iopub.execute_input": "2022-03-10T20:18:09.139589Z",
     "iopub.status.busy": "2022-03-10T20:18:09.139099Z",
     "iopub.status.idle": "2022-03-10T20:18:09.145496Z",
     "shell.execute_reply": "2022-03-10T20:18:09.145018Z"
    }
   },
   "outputs": [
    {
     "data": {
      "text/latex": [
       "$\\displaystyle d\\mathbf{\\hat{n}_x} + e\\mathbf{\\hat{n}_y} + f\\mathbf{\\hat{n}_z}$"
      ],
      "text/plain": [
       "d n_x + e n_y + f n_z"
      ]
     },
     "execution_count": 8,
     "metadata": {},
     "output_type": "execute_result"
    }
   ],
   "source": [
    "x = d*N.x + e*N.y + f*N.z\n",
    "x"
   ]
  },
  {
   "cell_type": "code",
   "execution_count": 9,
   "id": "99431d63",
   "metadata": {
    "execution": {
     "iopub.execute_input": "2022-03-10T20:18:09.148237Z",
     "iopub.status.busy": "2022-03-10T20:18:09.147807Z",
     "iopub.status.idle": "2022-03-10T20:18:09.155685Z",
     "shell.execute_reply": "2022-03-10T20:18:09.154947Z"
    }
   },
   "outputs": [
    {
     "data": {
      "text/latex": [
       "$\\displaystyle (a + d)\\mathbf{\\hat{n}_x} + (b + e)\\mathbf{\\hat{n}_y} + (c + f)\\mathbf{\\hat{n}_z}$"
      ],
      "text/plain": [
       "(a + d) n_x + (b + e) n_y + (c + f) n_z"
      ]
     },
     "execution_count": 9,
     "metadata": {},
     "output_type": "execute_result"
    }
   ],
   "source": [
    "w + x"
   ]
  },
  {
   "cell_type": "code",
   "execution_count": 10,
   "id": "fcb0c8b2",
   "metadata": {
    "execution": {
     "iopub.execute_input": "2022-03-10T20:18:09.158870Z",
     "iopub.status.busy": "2022-03-10T20:18:09.158680Z",
     "iopub.status.idle": "2022-03-10T20:18:09.165645Z",
     "shell.execute_reply": "2022-03-10T20:18:09.164998Z"
    }
   },
   "outputs": [
    {
     "data": {
      "text/latex": [
       "$\\displaystyle 2 a\\mathbf{\\hat{n}_x} + 2 b\\mathbf{\\hat{n}_y} + 2 c\\mathbf{\\hat{n}_z}$"
      ],
      "text/plain": [
       "2⋅a n_x + 2⋅b n_y + 2⋅c n_z"
      ]
     },
     "execution_count": 10,
     "metadata": {},
     "output_type": "execute_result"
    }
   ],
   "source": [
    "y = 2*w\n",
    "y"
   ]
  },
  {
   "cell_type": "code",
   "execution_count": 11,
   "id": "e5cf2f4e",
   "metadata": {
    "execution": {
     "iopub.execute_input": "2022-03-10T20:18:09.169136Z",
     "iopub.status.busy": "2022-03-10T20:18:09.168944Z",
     "iopub.status.idle": "2022-03-10T20:18:09.176108Z",
     "shell.execute_reply": "2022-03-10T20:18:09.175456Z"
    }
   },
   "outputs": [
    {
     "data": {
      "text/latex": [
       "$\\displaystyle -  a\\mathbf{\\hat{n}_x} -  b\\mathbf{\\hat{n}_y} -  c\\mathbf{\\hat{n}_z}$"
      ],
      "text/plain": [
       "-a n_x + -b n_y + -c n_z"
      ]
     },
     "execution_count": 11,
     "metadata": {},
     "output_type": "execute_result"
    }
   ],
   "source": [
    "z = -w\n",
    "z"
   ]
  },
  {
   "cell_type": "code",
   "execution_count": 12,
   "id": "45e915ff",
   "metadata": {
    "execution": {
     "iopub.execute_input": "2022-03-10T20:18:09.179549Z",
     "iopub.status.busy": "2022-03-10T20:18:09.179354Z",
     "iopub.status.idle": "2022-03-10T20:18:09.183448Z",
     "shell.execute_reply": "2022-03-10T20:18:09.182707Z"
    }
   },
   "outputs": [],
   "source": [
    "N = me.ReferenceFrame('N')\n",
    "l, theta = sm.symbols('l, theta')"
   ]
  },
  {
   "cell_type": "code",
   "execution_count": 13,
   "id": "d8a4be69",
   "metadata": {
    "execution": {
     "iopub.execute_input": "2022-03-10T20:18:09.186275Z",
     "iopub.status.busy": "2022-03-10T20:18:09.186076Z",
     "iopub.status.idle": "2022-03-10T20:18:09.198185Z",
     "shell.execute_reply": "2022-03-10T20:18:09.197557Z"
    }
   },
   "outputs": [
    {
     "data": {
      "text/latex": [
       "$\\displaystyle \\frac{\\sqrt{2} l}{2}\\mathbf{\\hat{n}_x} + \\frac{\\sqrt{2} l}{2}\\mathbf{\\hat{n}_y}$"
      ],
      "text/plain": [
       "√2⋅l       √2⋅l\n",
       "──── n_x + ──── n_y\n",
       " 2          2"
      ]
     },
     "execution_count": 13,
     "metadata": {},
     "output_type": "execute_result"
    }
   ],
   "source": [
    "v1 = l*sm.cos(sm.pi/4)*N.x + l*sm.sin(sm.pi/4)*N.y\n",
    "v1"
   ]
  },
  {
   "cell_type": "code",
   "execution_count": 14,
   "id": "833df56e",
   "metadata": {
    "execution": {
     "iopub.execute_input": "2022-03-10T20:18:09.200767Z",
     "iopub.status.busy": "2022-03-10T20:18:09.200571Z",
     "iopub.status.idle": "2022-03-10T20:18:09.206405Z",
     "shell.execute_reply": "2022-03-10T20:18:09.205708Z"
    }
   },
   "outputs": [
    {
     "data": {
      "text/latex": [
       "$\\displaystyle - 10\\mathbf{\\hat{n}_y}$"
      ],
      "text/plain": [
       "-10 n_y"
      ]
     },
     "execution_count": 14,
     "metadata": {},
     "output_type": "execute_result"
    }
   ],
   "source": [
    "v2 = -10*N.y\n",
    "v2"
   ]
  },
  {
   "cell_type": "code",
   "execution_count": 15,
   "id": "45e9c46f",
   "metadata": {
    "execution": {
     "iopub.execute_input": "2022-03-10T20:18:09.209793Z",
     "iopub.status.busy": "2022-03-10T20:18:09.209584Z",
     "iopub.status.idle": "2022-03-10T20:18:09.218970Z",
     "shell.execute_reply": "2022-03-10T20:18:09.218254Z"
    }
   },
   "outputs": [
    {
     "data": {
      "text/latex": [
       "$\\displaystyle -  l \\sin{\\left(\\theta \\right)}\\mathbf{\\hat{n}_x} + l \\cos{\\left(\\theta \\right)}\\mathbf{\\hat{n}_y}$"
      ],
      "text/plain": [
       "-l⋅sin(θ) n_x + l⋅cos(θ) n_y"
      ]
     },
     "execution_count": 15,
     "metadata": {},
     "output_type": "execute_result"
    }
   ],
   "source": [
    "v3 = -l*sm.sin(theta)*N.x + l*sm.cos(theta)*N.y\n",
    "v3"
   ]
  },
  {
   "cell_type": "code",
   "execution_count": 16,
   "id": "33fcec02",
   "metadata": {
    "execution": {
     "iopub.execute_input": "2022-03-10T20:18:09.221798Z",
     "iopub.status.busy": "2022-03-10T20:18:09.221610Z",
     "iopub.status.idle": "2022-03-10T20:18:09.232896Z",
     "shell.execute_reply": "2022-03-10T20:18:09.232008Z"
    }
   },
   "outputs": [
    {
     "data": {
      "text/latex": [
       "$\\displaystyle (5 l \\sin{\\left(\\theta \\right)} + \\frac{\\sqrt{2} l}{2})\\mathbf{\\hat{n}_x} + (- 5 l \\cos{\\left(\\theta \\right)} + \\frac{\\sqrt{2} l}{2} - 10)\\mathbf{\\hat{n}_y}$"
      ],
      "text/plain": [
       "⎛             √2⋅l⎞       ⎛              √2⋅l     ⎞\n",
       "⎜5⋅l⋅sin(θ) + ────⎟ n_x + ⎜-5⋅l⋅cos(θ) + ──── - 10⎟ n_y\n",
       "⎝              2  ⎠       ⎝               2       ⎠"
      ]
     },
     "execution_count": 16,
     "metadata": {},
     "output_type": "execute_result"
    }
   ],
   "source": [
    "v1 + v2 - 5*v3"
   ]
  },
  {
   "cell_type": "code",
   "execution_count": 17,
   "id": "4f487eb2",
   "metadata": {
    "execution": {
     "iopub.execute_input": "2022-03-10T20:18:09.236139Z",
     "iopub.status.busy": "2022-03-10T20:18:09.235911Z",
     "iopub.status.idle": "2022-03-10T20:18:09.241593Z",
     "shell.execute_reply": "2022-03-10T20:18:09.240939Z"
    }
   },
   "outputs": [],
   "source": [
    "N = me.ReferenceFrame('N')\n",
    "w = a*N.x + b*N.y + c*N.z\n",
    "x = d*N.x + e*N.y + f*N.z"
   ]
  },
  {
   "cell_type": "code",
   "execution_count": 18,
   "id": "301bc61c",
   "metadata": {
    "execution": {
     "iopub.execute_input": "2022-03-10T20:18:09.244621Z",
     "iopub.status.busy": "2022-03-10T20:18:09.244439Z",
     "iopub.status.idle": "2022-03-10T20:18:09.251728Z",
     "shell.execute_reply": "2022-03-10T20:18:09.251091Z"
    }
   },
   "outputs": [
    {
     "data": {
      "text/latex": [
       "$\\displaystyle a d + b e + c f$"
      ],
      "text/plain": [
       "a⋅d + b⋅e + c⋅f"
      ]
     },
     "execution_count": 18,
     "metadata": {},
     "output_type": "execute_result"
    }
   ],
   "source": [
    "me.dot(w, x)"
   ]
  },
  {
   "cell_type": "code",
   "execution_count": 19,
   "id": "f3d24e94",
   "metadata": {
    "execution": {
     "iopub.execute_input": "2022-03-10T20:18:09.255474Z",
     "iopub.status.busy": "2022-03-10T20:18:09.255056Z",
     "iopub.status.idle": "2022-03-10T20:18:09.261292Z",
     "shell.execute_reply": "2022-03-10T20:18:09.260596Z"
    }
   },
   "outputs": [
    {
     "data": {
      "text/latex": [
       "$\\displaystyle a d + b e + c f$"
      ],
      "text/plain": [
       "a⋅d + b⋅e + c⋅f"
      ]
     },
     "execution_count": 19,
     "metadata": {},
     "output_type": "execute_result"
    }
   ],
   "source": [
    "w.dot(x)"
   ]
  },
  {
   "cell_type": "code",
   "execution_count": 20,
   "id": "1fbf08e2",
   "metadata": {
    "execution": {
     "iopub.execute_input": "2022-03-10T20:18:09.265369Z",
     "iopub.status.busy": "2022-03-10T20:18:09.265184Z",
     "iopub.status.idle": "2022-03-10T20:18:09.285407Z",
     "shell.execute_reply": "2022-03-10T20:18:09.284767Z"
    }
   },
   "outputs": [
    {
     "data": {
      "text/latex": [
       "$\\displaystyle \\frac{a}{\\sqrt{a^{2} + b^{2} + c^{2}}}\\mathbf{\\hat{n}_x} + \\frac{b}{\\sqrt{a^{2} + b^{2} + c^{2}}}\\mathbf{\\hat{n}_y} + \\frac{c}{\\sqrt{a^{2} + b^{2} + c^{2}}}\\mathbf{\\hat{n}_z}$"
      ],
      "text/plain": [
       "        a                       b                       c\n",
       "───────────────── n_x + ───────────────── n_y + ───────────────── n_z\n",
       "   ______________          ______________          ______________\n",
       "  ╱  2    2    2          ╱  2    2    2          ╱  2    2    2\n",
       "╲╱  a  + b  + c         ╲╱  a  + b  + c         ╲╱  a  + b  + c"
      ]
     },
     "execution_count": 20,
     "metadata": {},
     "output_type": "execute_result"
    }
   ],
   "source": [
    "w.normalize()"
   ]
  },
  {
   "cell_type": "code",
   "execution_count": 21,
   "id": "c902bc65",
   "metadata": {
    "execution": {
     "iopub.execute_input": "2022-03-10T20:18:09.288417Z",
     "iopub.status.busy": "2022-03-10T20:18:09.288121Z",
     "iopub.status.idle": "2022-03-10T20:18:09.299649Z",
     "shell.execute_reply": "2022-03-10T20:18:09.299012Z"
    }
   },
   "outputs": [
    {
     "data": {
      "text/latex": [
       "$\\displaystyle \\frac{a}{\\sqrt{a^{2} + b^{2} + c^{2}}}\\mathbf{\\hat{n}_x} + \\frac{b}{\\sqrt{a^{2} + b^{2} + c^{2}}}\\mathbf{\\hat{n}_y} + \\frac{c}{\\sqrt{a^{2} + b^{2} + c^{2}}}\\mathbf{\\hat{n}_z}$"
      ],
      "text/plain": [
       "        a                       b                       c\n",
       "───────────────── n_x + ───────────────── n_y + ───────────────── n_z\n",
       "   ______________          ______________          ______________\n",
       "  ╱  2    2    2          ╱  2    2    2          ╱  2    2    2\n",
       "╲╱  a  + b  + c         ╲╱  a  + b  + c         ╲╱  a  + b  + c"
      ]
     },
     "execution_count": 21,
     "metadata": {},
     "output_type": "execute_result"
    }
   ],
   "source": [
    "def normalize(vector):\n",
    "    return vector/sm.sqrt(me.dot(vector, vector))\n",
    "\n",
    "normalize(w)"
   ]
  },
  {
   "cell_type": "code",
   "execution_count": 22,
   "id": "70704b33",
   "metadata": {
    "execution": {
     "iopub.execute_input": "2022-03-10T20:18:09.302997Z",
     "iopub.status.busy": "2022-03-10T20:18:09.302354Z",
     "iopub.status.idle": "2022-03-10T20:18:09.308529Z",
     "shell.execute_reply": "2022-03-10T20:18:09.307863Z"
    }
   },
   "outputs": [
    {
     "data": {
      "text/latex": [
       "$\\displaystyle \\sqrt{a^{2} + b^{2} + c^{2}}$"
      ],
      "text/plain": [
       "   ______________\n",
       "  ╱  2    2    2 \n",
       "╲╱  a  + b  + c  "
      ]
     },
     "execution_count": 22,
     "metadata": {},
     "output_type": "execute_result"
    }
   ],
   "source": [
    "w.magnitude()"
   ]
  },
  {
   "cell_type": "code",
   "execution_count": 23,
   "id": "4088cc5a",
   "metadata": {
    "execution": {
     "iopub.execute_input": "2022-03-10T20:18:09.311775Z",
     "iopub.status.busy": "2022-03-10T20:18:09.311299Z",
     "iopub.status.idle": "2022-03-10T20:18:09.320530Z",
     "shell.execute_reply": "2022-03-10T20:18:09.319806Z"
    }
   },
   "outputs": [
    {
     "data": {
      "text/latex": [
       "$\\displaystyle \\frac{a}{\\sqrt{a^{2} + b^{2} + c^{2}}}\\mathbf{\\hat{n}_x} + \\frac{b}{\\sqrt{a^{2} + b^{2} + c^{2}}}\\mathbf{\\hat{n}_y} + \\frac{c}{\\sqrt{a^{2} + b^{2} + c^{2}}}\\mathbf{\\hat{n}_z}$"
      ],
      "text/plain": [
       "        a                       b                       c\n",
       "───────────────── n_x + ───────────────── n_y + ───────────────── n_z\n",
       "   ______________          ______________          ______________\n",
       "  ╱  2    2    2          ╱  2    2    2          ╱  2    2    2\n",
       "╲╱  a  + b  + c         ╲╱  a  + b  + c         ╲╱  a  + b  + c"
      ]
     },
     "execution_count": 23,
     "metadata": {},
     "output_type": "execute_result"
    }
   ],
   "source": [
    "w/w.magnitude()"
   ]
  },
  {
   "cell_type": "code",
   "execution_count": 24,
   "id": "50bf785c",
   "metadata": {
    "execution": {
     "iopub.execute_input": "2022-03-10T20:18:09.323788Z",
     "iopub.status.busy": "2022-03-10T20:18:09.323556Z",
     "iopub.status.idle": "2022-03-10T20:18:09.329430Z",
     "shell.execute_reply": "2022-03-10T20:18:09.328760Z"
    }
   },
   "outputs": [],
   "source": [
    "N = me.ReferenceFrame('N')\n",
    "v1 = a*N.x + b*N.y + a*N.z\n",
    "v2 = b*N.x + a*N.y + b*N.z"
   ]
  },
  {
   "cell_type": "code",
   "execution_count": 25,
   "id": "c76401e1",
   "metadata": {
    "execution": {
     "iopub.execute_input": "2022-03-10T20:18:09.332221Z",
     "iopub.status.busy": "2022-03-10T20:18:09.331771Z",
     "iopub.status.idle": "2022-03-10T20:18:09.354311Z",
     "shell.execute_reply": "2022-03-10T20:18:09.353565Z"
    }
   },
   "outputs": [
    {
     "data": {
      "text/latex": [
       "$\\displaystyle \\operatorname{acos}{\\left(\\frac{3 a b}{\\sqrt{a^{2} + 2 b^{2}} \\sqrt{2 a^{2} + b^{2}}} \\right)}$"
      ],
      "text/plain": [
       "    ⎛            3⋅a⋅b            ⎞\n",
       "acos⎜─────────────────────────────⎟\n",
       "    ⎜   ___________    ___________⎟\n",
       "    ⎜  ╱  2      2    ╱    2    2 ⎟\n",
       "    ⎝╲╱  a  + 2⋅b  ⋅╲╱  2⋅a  + b  ⎠"
      ]
     },
     "execution_count": 25,
     "metadata": {},
     "output_type": "execute_result"
    }
   ],
   "source": [
    "sm.acos(v1.dot(v2) / (v1.magnitude()*v2.magnitude()))"
   ]
  },
  {
   "cell_type": "code",
   "execution_count": 26,
   "id": "4d522a66",
   "metadata": {
    "execution": {
     "iopub.execute_input": "2022-03-10T20:18:09.357116Z",
     "iopub.status.busy": "2022-03-10T20:18:09.356919Z",
     "iopub.status.idle": "2022-03-10T20:18:09.363768Z",
     "shell.execute_reply": "2022-03-10T20:18:09.362863Z"
    }
   },
   "outputs": [
    {
     "data": {
      "text/latex": [
       "$\\displaystyle a\\mathbf{\\hat{n}_x} + b\\mathbf{\\hat{n}_y} + c\\mathbf{\\hat{n}_z}$"
      ],
      "text/plain": [
       "a n_x + b n_y + c n_z"
      ]
     },
     "execution_count": 26,
     "metadata": {},
     "output_type": "execute_result"
    }
   ],
   "source": [
    "N = me.ReferenceFrame('N')\n",
    "w = a*N.x + b*N.y + c*N.z\n",
    "w"
   ]
  },
  {
   "cell_type": "code",
   "execution_count": 27,
   "id": "54ddb6d6",
   "metadata": {
    "execution": {
     "iopub.execute_input": "2022-03-10T20:18:09.367117Z",
     "iopub.status.busy": "2022-03-10T20:18:09.366859Z",
     "iopub.status.idle": "2022-03-10T20:18:09.376094Z",
     "shell.execute_reply": "2022-03-10T20:18:09.372931Z"
    }
   },
   "outputs": [
    {
     "data": {
      "text/latex": [
       "$\\displaystyle d\\mathbf{\\hat{n}_x} + e\\mathbf{\\hat{n}_y} + f\\mathbf{\\hat{n}_z}$"
      ],
      "text/plain": [
       "d n_x + e n_y + f n_z"
      ]
     },
     "execution_count": 27,
     "metadata": {},
     "output_type": "execute_result"
    }
   ],
   "source": [
    "x = d*N.x + e*N.y + f*N.z\n",
    "x"
   ]
  },
  {
   "cell_type": "code",
   "execution_count": 28,
   "id": "183f5057",
   "metadata": {
    "execution": {
     "iopub.execute_input": "2022-03-10T20:18:09.378797Z",
     "iopub.status.busy": "2022-03-10T20:18:09.378591Z",
     "iopub.status.idle": "2022-03-10T20:18:09.390599Z",
     "shell.execute_reply": "2022-03-10T20:18:09.390103Z"
    }
   },
   "outputs": [
    {
     "data": {
      "text/latex": [
       "$\\displaystyle (b f - c e)\\mathbf{\\hat{n}_x} + (- a f + c d)\\mathbf{\\hat{n}_y} + (a e - b d)\\mathbf{\\hat{n}_z}$"
      ],
      "text/plain": [
       "(b⋅f - c⋅e) n_x + (-a⋅f + c⋅d) n_y + (a⋅e - b⋅d) n_z"
      ]
     },
     "execution_count": 28,
     "metadata": {},
     "output_type": "execute_result"
    }
   ],
   "source": [
    "me.cross(w, x)"
   ]
  },
  {
   "cell_type": "code",
   "execution_count": 29,
   "id": "14c1b9cc",
   "metadata": {
    "execution": {
     "iopub.execute_input": "2022-03-10T20:18:09.393466Z",
     "iopub.status.busy": "2022-03-10T20:18:09.392931Z",
     "iopub.status.idle": "2022-03-10T20:18:09.404328Z",
     "shell.execute_reply": "2022-03-10T20:18:09.403280Z"
    }
   },
   "outputs": [
    {
     "data": {
      "text/latex": [
       "$\\displaystyle (b f - c e)\\mathbf{\\hat{n}_x} + (- a f + c d)\\mathbf{\\hat{n}_y} + (a e - b d)\\mathbf{\\hat{n}_z}$"
      ],
      "text/plain": [
       "(b⋅f - c⋅e) n_x + (-a⋅f + c⋅d) n_y + (a⋅e - b⋅d) n_z"
      ]
     },
     "execution_count": 29,
     "metadata": {},
     "output_type": "execute_result"
    }
   ],
   "source": [
    "w.cross(x)"
   ]
  },
  {
   "cell_type": "code",
   "execution_count": 30,
   "id": "e0a753f3",
   "metadata": {
    "execution": {
     "iopub.execute_input": "2022-03-10T20:18:09.407062Z",
     "iopub.status.busy": "2022-03-10T20:18:09.406874Z",
     "iopub.status.idle": "2022-03-10T20:18:09.419662Z",
     "shell.execute_reply": "2022-03-10T20:18:09.418959Z"
    }
   },
   "outputs": [
    {
     "data": {
      "text/latex": [
       "$\\displaystyle \\sqrt{36077}$"
      ],
      "text/plain": [
       "√36077"
      ]
     },
     "execution_count": 30,
     "metadata": {},
     "output_type": "execute_result"
    }
   ],
   "source": [
    "N = me.ReferenceFrame('N')\n",
    "\n",
    "p1 = 23*N.x - 12* N.y\n",
    "p2 = 16*N.x + 2*N.y - 4*N.z\n",
    "p3 = N.x + 14*N.z\n",
    "\n",
    "me.cross(p2 - p1, p3 - p1).magnitude() / 2"
   ]
  },
  {
   "cell_type": "code",
   "execution_count": 31,
   "id": "f77533a4",
   "metadata": {
    "execution": {
     "iopub.execute_input": "2022-03-10T20:18:09.422848Z",
     "iopub.status.busy": "2022-03-10T20:18:09.422647Z",
     "iopub.status.idle": "2022-03-10T20:18:09.432805Z",
     "shell.execute_reply": "2022-03-10T20:18:09.432083Z"
    }
   },
   "outputs": [
    {
     "data": {
      "text/latex": [
       "$\\displaystyle a\\mathbf{\\hat{a}_x} + b\\mathbf{\\hat{n}_y}$"
      ],
      "text/plain": [
       "a a_x + b n_y"
      ]
     },
     "execution_count": 31,
     "metadata": {},
     "output_type": "execute_result"
    }
   ],
   "source": [
    "N = me.ReferenceFrame('N')\n",
    "A = me.ReferenceFrame('A')\n",
    "a, b, theta = sm.symbols('a, b, theta')\n",
    "\n",
    "v = a*A.x + b*N.y\n",
    "v"
   ]
  },
  {
   "cell_type": "code",
   "execution_count": 32,
   "id": "edd85cbc",
   "metadata": {
    "execution": {
     "iopub.execute_input": "2022-03-10T20:18:09.435878Z",
     "iopub.status.busy": "2022-03-10T20:18:09.435674Z",
     "iopub.status.idle": "2022-03-10T20:18:09.441299Z",
     "shell.execute_reply": "2022-03-10T20:18:09.440625Z"
    }
   },
   "outputs": [
    {
     "data": {
      "text/latex": [
       "$\\displaystyle 2 a\\mathbf{\\hat{a}_x} + 2 b\\mathbf{\\hat{n}_y}$"
      ],
      "text/plain": [
       "2⋅a a_x + 2⋅b n_y"
      ]
     },
     "execution_count": 32,
     "metadata": {},
     "output_type": "execute_result"
    }
   ],
   "source": [
    "v + v"
   ]
  },
  {
   "cell_type": "code",
   "execution_count": 33,
   "id": "9bf835b9",
   "metadata": {
    "execution": {
     "iopub.execute_input": "2022-03-10T20:18:09.444454Z",
     "iopub.status.busy": "2022-03-10T20:18:09.444089Z",
     "iopub.status.idle": "2022-03-10T20:18:09.456040Z",
     "shell.execute_reply": "2022-03-10T20:18:09.455366Z"
    }
   },
   "outputs": [
    {
     "data": {
      "text/latex": [
       "$\\displaystyle a \\cos{\\left(\\theta \\right)}\\mathbf{\\hat{n}_x} + (a \\sin{\\left(\\theta \\right)} + b)\\mathbf{\\hat{n}_y}$"
      ],
      "text/plain": [
       "a⋅cos(θ) n_x + (a⋅sin(θ) + b) n_y"
      ]
     },
     "execution_count": 33,
     "metadata": {},
     "output_type": "execute_result"
    }
   ],
   "source": [
    "A.orient_axis(N, theta, N.z)\n",
    "\n",
    "v.express(N)"
   ]
  },
  {
   "cell_type": "code",
   "execution_count": 34,
   "id": "63b71780",
   "metadata": {
    "execution": {
     "iopub.execute_input": "2022-03-10T20:18:09.458926Z",
     "iopub.status.busy": "2022-03-10T20:18:09.458709Z",
     "iopub.status.idle": "2022-03-10T20:18:09.465574Z",
     "shell.execute_reply": "2022-03-10T20:18:09.464879Z"
    }
   },
   "outputs": [
    {
     "data": {
      "text/latex": [
       "$\\displaystyle (a + b \\sin{\\left(\\theta \\right)})\\mathbf{\\hat{a}_x} + b \\cos{\\left(\\theta \\right)}\\mathbf{\\hat{a}_y}$"
      ],
      "text/plain": [
       "(a + b⋅sin(θ)) a_x + b⋅cos(θ) a_y"
      ]
     },
     "execution_count": 34,
     "metadata": {},
     "output_type": "execute_result"
    }
   ],
   "source": [
    "v.express(A)"
   ]
  },
  {
   "cell_type": "code",
   "execution_count": 35,
   "id": "5fb20f71",
   "metadata": {
    "execution": {
     "iopub.execute_input": "2022-03-10T20:18:09.468815Z",
     "iopub.status.busy": "2022-03-10T20:18:09.468428Z",
     "iopub.status.idle": "2022-03-10T20:18:09.474265Z",
     "shell.execute_reply": "2022-03-10T20:18:09.473622Z"
    }
   },
   "outputs": [],
   "source": [
    "q1, q2, q3, q4 = sm.symbols('q1, q2, q3, q4')\n",
    "l1, l2, l3, l4 = sm.symbols('l1, l2, l3, l4')\n",
    "N = me.ReferenceFrame('N')\n",
    "A = me.ReferenceFrame('A')\n",
    "B = me.ReferenceFrame('B')\n",
    "C = me.ReferenceFrame('C')"
   ]
  },
  {
   "cell_type": "code",
   "execution_count": 36,
   "id": "287fe610",
   "metadata": {
    "execution": {
     "iopub.execute_input": "2022-03-10T20:18:09.477102Z",
     "iopub.status.busy": "2022-03-10T20:18:09.476910Z",
     "iopub.status.idle": "2022-03-10T20:18:09.503653Z",
     "shell.execute_reply": "2022-03-10T20:18:09.502965Z"
    }
   },
   "outputs": [],
   "source": [
    "A.orient_body_fixed(N, (q1, q2, 0), 'ZXZ')"
   ]
  },
  {
   "cell_type": "code",
   "execution_count": 37,
   "id": "62cfc48d",
   "metadata": {
    "execution": {
     "iopub.execute_input": "2022-03-10T20:18:09.506871Z",
     "iopub.status.busy": "2022-03-10T20:18:09.506636Z",
     "iopub.status.idle": "2022-03-10T20:18:09.513222Z",
     "shell.execute_reply": "2022-03-10T20:18:09.512606Z"
    }
   },
   "outputs": [],
   "source": [
    "B.orient_axis(A, q3, A.x)"
   ]
  },
  {
   "cell_type": "code",
   "execution_count": 38,
   "id": "07c3a4bb",
   "metadata": {
    "execution": {
     "iopub.execute_input": "2022-03-10T20:18:09.516173Z",
     "iopub.status.busy": "2022-03-10T20:18:09.515709Z",
     "iopub.status.idle": "2022-03-10T20:18:09.543790Z",
     "shell.execute_reply": "2022-03-10T20:18:09.543048Z"
    }
   },
   "outputs": [],
   "source": [
    "C.orient_body_fixed(B, (q3, q4, 0), 'XZX')"
   ]
  },
  {
   "cell_type": "code",
   "execution_count": 39,
   "id": "fa8a8713",
   "metadata": {
    "execution": {
     "iopub.execute_input": "2022-03-10T20:18:09.547053Z",
     "iopub.status.busy": "2022-03-10T20:18:09.546843Z",
     "iopub.status.idle": "2022-03-10T20:18:09.551904Z",
     "shell.execute_reply": "2022-03-10T20:18:09.551134Z"
    }
   },
   "outputs": [],
   "source": [
    "R_P1_P2 = l1*A.z\n",
    "R_P2_P3 = l2*B.z\n",
    "R_P3_P4 = l3*C.z - l4*C.y"
   ]
  },
  {
   "cell_type": "code",
   "execution_count": 40,
   "id": "0a64aed0",
   "metadata": {
    "execution": {
     "iopub.execute_input": "2022-03-10T20:18:09.554629Z",
     "iopub.status.busy": "2022-03-10T20:18:09.554441Z",
     "iopub.status.idle": "2022-03-10T20:18:09.560402Z",
     "shell.execute_reply": "2022-03-10T20:18:09.559701Z"
    }
   },
   "outputs": [
    {
     "data": {
      "text/latex": [
       "$\\displaystyle l_{1}\\mathbf{\\hat{a}_z} + l_{2}\\mathbf{\\hat{b}_z} -  l_{4}\\mathbf{\\hat{c}_y} + l_{3}\\mathbf{\\hat{c}_z}$"
      ],
      "text/plain": [
       "l₁ a_z + l₂ b_z + -l₄ c_y + l₃ c_z"
      ]
     },
     "execution_count": 40,
     "metadata": {},
     "output_type": "execute_result"
    }
   ],
   "source": [
    "R_P1_P4 = R_P1_P2 + R_P2_P3 + R_P3_P4\n",
    "R_P1_P4"
   ]
  },
  {
   "cell_type": "code",
   "execution_count": 41,
   "id": "2ff1a693",
   "metadata": {
    "execution": {
     "iopub.execute_input": "2022-03-10T20:18:09.563923Z",
     "iopub.status.busy": "2022-03-10T20:18:09.563736Z",
     "iopub.status.idle": "2022-03-10T20:18:09.672870Z",
     "shell.execute_reply": "2022-03-10T20:18:09.672157Z"
    }
   },
   "outputs": [
    {
     "data": {
      "text/latex": [
       "$\\displaystyle (l_{1} \\sin{\\left(q_{1} \\right)} \\sin{\\left(q_{2} \\right)} + l_{2} \\left(\\sin{\\left(q_{1} \\right)} \\sin{\\left(q_{2} \\right)} \\cos{\\left(q_{3} \\right)} + \\sin{\\left(q_{1} \\right)} \\sin{\\left(q_{3} \\right)} \\cos{\\left(q_{2} \\right)}\\right) + l_{3} \\left(- \\left(\\sin{\\left(q_{1} \\right)} \\sin{\\left(q_{2} \\right)} \\sin{\\left(q_{3} \\right)} - \\sin{\\left(q_{1} \\right)} \\cos{\\left(q_{2} \\right)} \\cos{\\left(q_{3} \\right)}\\right) \\sin{\\left(q_{3} \\right)} + \\left(\\sin{\\left(q_{1} \\right)} \\sin{\\left(q_{2} \\right)} \\cos{\\left(q_{3} \\right)} + \\sin{\\left(q_{1} \\right)} \\sin{\\left(q_{3} \\right)} \\cos{\\left(q_{2} \\right)}\\right) \\cos{\\left(q_{3} \\right)}\\right) - l_{4} \\left(\\left(\\sin{\\left(q_{1} \\right)} \\sin{\\left(q_{2} \\right)} \\sin{\\left(q_{3} \\right)} - \\sin{\\left(q_{1} \\right)} \\cos{\\left(q_{2} \\right)} \\cos{\\left(q_{3} \\right)}\\right) \\cos{\\left(q_{3} \\right)} \\cos{\\left(q_{4} \\right)} + \\left(\\sin{\\left(q_{1} \\right)} \\sin{\\left(q_{2} \\right)} \\cos{\\left(q_{3} \\right)} + \\sin{\\left(q_{1} \\right)} \\sin{\\left(q_{3} \\right)} \\cos{\\left(q_{2} \\right)}\\right) \\sin{\\left(q_{3} \\right)} \\cos{\\left(q_{4} \\right)} - \\sin{\\left(q_{4} \\right)} \\cos{\\left(q_{1} \\right)}\\right))\\mathbf{\\hat{n}_x} + (- l_{1} \\sin{\\left(q_{2} \\right)} \\cos{\\left(q_{1} \\right)} + l_{2} \\left(- \\sin{\\left(q_{2} \\right)} \\cos{\\left(q_{1} \\right)} \\cos{\\left(q_{3} \\right)} - \\sin{\\left(q_{3} \\right)} \\cos{\\left(q_{1} \\right)} \\cos{\\left(q_{2} \\right)}\\right) + l_{3} \\left(- \\left(- \\sin{\\left(q_{2} \\right)} \\sin{\\left(q_{3} \\right)} \\cos{\\left(q_{1} \\right)} + \\cos{\\left(q_{1} \\right)} \\cos{\\left(q_{2} \\right)} \\cos{\\left(q_{3} \\right)}\\right) \\sin{\\left(q_{3} \\right)} + \\left(- \\sin{\\left(q_{2} \\right)} \\cos{\\left(q_{1} \\right)} \\cos{\\left(q_{3} \\right)} - \\sin{\\left(q_{3} \\right)} \\cos{\\left(q_{1} \\right)} \\cos{\\left(q_{2} \\right)}\\right) \\cos{\\left(q_{3} \\right)}\\right) - l_{4} \\left(\\left(- \\sin{\\left(q_{2} \\right)} \\sin{\\left(q_{3} \\right)} \\cos{\\left(q_{1} \\right)} + \\cos{\\left(q_{1} \\right)} \\cos{\\left(q_{2} \\right)} \\cos{\\left(q_{3} \\right)}\\right) \\cos{\\left(q_{3} \\right)} \\cos{\\left(q_{4} \\right)} + \\left(- \\sin{\\left(q_{2} \\right)} \\cos{\\left(q_{1} \\right)} \\cos{\\left(q_{3} \\right)} - \\sin{\\left(q_{3} \\right)} \\cos{\\left(q_{1} \\right)} \\cos{\\left(q_{2} \\right)}\\right) \\sin{\\left(q_{3} \\right)} \\cos{\\left(q_{4} \\right)} - \\sin{\\left(q_{1} \\right)} \\sin{\\left(q_{4} \\right)}\\right))\\mathbf{\\hat{n}_y} + (l_{1} \\cos{\\left(q_{2} \\right)} + l_{2} \\left(- \\sin{\\left(q_{2} \\right)} \\sin{\\left(q_{3} \\right)} + \\cos{\\left(q_{2} \\right)} \\cos{\\left(q_{3} \\right)}\\right) + l_{3} \\left(\\left(- \\sin{\\left(q_{2} \\right)} \\sin{\\left(q_{3} \\right)} + \\cos{\\left(q_{2} \\right)} \\cos{\\left(q_{3} \\right)}\\right) \\cos{\\left(q_{3} \\right)} - \\left(\\sin{\\left(q_{2} \\right)} \\cos{\\left(q_{3} \\right)} + \\sin{\\left(q_{3} \\right)} \\cos{\\left(q_{2} \\right)}\\right) \\sin{\\left(q_{3} \\right)}\\right) - l_{4} \\left(\\left(- \\sin{\\left(q_{2} \\right)} \\sin{\\left(q_{3} \\right)} + \\cos{\\left(q_{2} \\right)} \\cos{\\left(q_{3} \\right)}\\right) \\sin{\\left(q_{3} \\right)} \\cos{\\left(q_{4} \\right)} + \\left(\\sin{\\left(q_{2} \\right)} \\cos{\\left(q_{3} \\right)} + \\sin{\\left(q_{3} \\right)} \\cos{\\left(q_{2} \\right)}\\right) \\cos{\\left(q_{3} \\right)} \\cos{\\left(q_{4} \\right)}\\right))\\mathbf{\\hat{n}_z}$"
      ],
      "text/plain": [
       "(l₁⋅sin(q₁)⋅sin(q₂) + l₂⋅(sin(q₁)⋅sin(q₂)⋅cos(q₃) + sin(q₁)⋅sin(q₃)⋅cos(q₂)) +\n",
       " l₃⋅(-(sin(q₁)⋅sin(q₂)⋅sin(q₃) - sin(q₁)⋅cos(q₂)⋅cos(q₃))⋅sin(q₃) + (sin(q₁)⋅s\n",
       "in(q₂)⋅cos(q₃) + sin(q₁)⋅sin(q₃)⋅cos(q₂))⋅cos(q₃)) - l₄⋅((sin(q₁)⋅sin(q₂)⋅sin(\n",
       "q₃) - sin(q₁)⋅cos(q₂)⋅cos(q₃))⋅cos(q₃)⋅cos(q₄) + (sin(q₁)⋅sin(q₂)⋅cos(q₃) + si\n",
       "n(q₁)⋅sin(q₃)⋅cos(q₂))⋅sin(q₃)⋅cos(q₄) - sin(q₄)⋅cos(q₁))) n_x + (-l₁⋅sin(q₂)⋅\n",
       "cos(q₁) + l₂⋅(-sin(q₂)⋅cos(q₁)⋅cos(q₃) - sin(q₃)⋅cos(q₁)⋅cos(q₂)) + l₃⋅(-(-sin\n",
       "(q₂)⋅sin(q₃)⋅cos(q₁) + cos(q₁)⋅cos(q₂)⋅cos(q₃))⋅sin(q₃) + (-sin(q₂)⋅cos(q₁)⋅co\n",
       "s(q₃) - sin(q₃)⋅cos(q₁)⋅cos(q₂))⋅cos(q₃)) - l₄⋅((-sin(q₂)⋅sin(q₃)⋅cos(q₁) + co\n",
       "s(q₁)⋅cos(q₂)⋅cos(q₃))⋅cos(q₃)⋅cos(q₄) + (-sin(q₂)⋅cos(q₁)⋅cos(q₃) - sin(q₃)⋅c\n",
       "os(q₁)⋅cos(q₂))⋅sin(q₃)⋅cos(q₄) - sin(q₁)⋅sin(q₄))) n_y + (l₁⋅cos(q₂) + l₂⋅(-s\n",
       "in(q₂)⋅sin(q₃) + cos(q₂)⋅cos(q₃)) + l₃⋅((-sin(q₂)⋅sin(q₃) + cos(q₂)⋅cos(q₃))⋅c\n",
       "os(q₃) - (sin(q₂)⋅cos(q₃) + sin(q₃)⋅cos(q₂))⋅sin(q₃)) - l₄⋅((-sin(q₂)⋅sin(q₃)\n",
       "+ cos(q₂)⋅cos(q₃))⋅sin(q₃)⋅cos(q₄) + (sin(q₂)⋅cos(q₃) + sin(q₃)⋅cos(q₂))⋅cos(q\n",
       "₃)⋅cos(q₄))) n_z"
      ]
     },
     "execution_count": 41,
     "metadata": {},
     "output_type": "execute_result"
    }
   ],
   "source": [
    "R_P1_P4.express(N)"
   ]
  },
  {
   "cell_type": "code",
   "execution_count": 42,
   "id": "d9f802c3",
   "metadata": {
    "execution": {
     "iopub.execute_input": "2022-03-10T20:18:09.675835Z",
     "iopub.status.busy": "2022-03-10T20:18:09.675505Z",
     "iopub.status.idle": "2022-03-10T20:18:09.687425Z",
     "shell.execute_reply": "2022-03-10T20:18:09.686351Z"
    }
   },
   "outputs": [
    {
     "data": {
      "text/latex": [
       "$\\displaystyle l_{1} \\sin{\\left(q_{1} \\right)} \\sin{\\left(q_{2} \\right)}\\mathbf{\\hat{n}_x} -  l_{1} \\sin{\\left(q_{2} \\right)} \\cos{\\left(q_{1} \\right)}\\mathbf{\\hat{n}_y} + l_{1} \\cos{\\left(q_{2} \\right)}\\mathbf{\\hat{n}_z}$"
      ],
      "text/plain": [
       "l₁⋅sin(q₁)⋅sin(q₂) n_x + -l₁⋅sin(q₂)⋅cos(q₁) n_y + l₁⋅cos(q₂) n_z"
      ]
     },
     "execution_count": 42,
     "metadata": {},
     "output_type": "execute_result"
    }
   ],
   "source": [
    "R_P1_P2.express(N)"
   ]
  },
  {
   "cell_type": "code",
   "execution_count": 43,
   "id": "61fb8b7b",
   "metadata": {
    "execution": {
     "iopub.execute_input": "2022-03-10T20:18:09.690119Z",
     "iopub.status.busy": "2022-03-10T20:18:09.689903Z",
     "iopub.status.idle": "2022-03-10T20:18:09.696019Z",
     "shell.execute_reply": "2022-03-10T20:18:09.695332Z"
    }
   },
   "outputs": [
    {
     "data": {
      "text/latex": [
       "$\\displaystyle \\left\\{l_{1}, q_{1}, q_{2}\\right\\}$"
      ],
      "text/plain": [
       "{l₁, q₁, q₂}"
      ]
     },
     "execution_count": 43,
     "metadata": {},
     "output_type": "execute_result"
    }
   ],
   "source": [
    "R_P1_P2.free_symbols(N)"
   ]
  },
  {
   "cell_type": "code",
   "execution_count": 44,
   "id": "0abaf903",
   "metadata": {
    "execution": {
     "iopub.execute_input": "2022-03-10T20:18:09.699790Z",
     "iopub.status.busy": "2022-03-10T20:18:09.699571Z",
     "iopub.status.idle": "2022-03-10T20:18:09.705832Z",
     "shell.execute_reply": "2022-03-10T20:18:09.705118Z"
    }
   },
   "outputs": [
    {
     "data": {
      "text/latex": [
       "$\\displaystyle \\left\\{l_{1}\\right\\}$"
      ],
      "text/plain": [
       "{l₁}"
      ]
     },
     "execution_count": 44,
     "metadata": {},
     "output_type": "execute_result"
    }
   ],
   "source": [
    "R_P1_P2.free_symbols(A)"
   ]
  },
  {
   "cell_type": "code",
   "execution_count": 45,
   "id": "25ea9de3",
   "metadata": {
    "execution": {
     "iopub.execute_input": "2022-03-10T20:18:09.709457Z",
     "iopub.status.busy": "2022-03-10T20:18:09.709262Z",
     "iopub.status.idle": "2022-03-10T20:18:09.717583Z",
     "shell.execute_reply": "2022-03-10T20:18:09.716723Z"
    }
   },
   "outputs": [
    {
     "data": {
      "text/latex": [
       "$\\displaystyle \\left\\{l_{1}, l_{2}, l_{3}, l_{4}, q_{1}, q_{2}, q_{3}, q_{4}\\right\\}$"
      ],
      "text/plain": [
       "{l₁, l₂, l₃, l₄, q₁, q₂, q₃, q₄}"
      ]
     },
     "execution_count": 45,
     "metadata": {},
     "output_type": "execute_result"
    }
   ],
   "source": [
    "R_P1_P4.free_symbols(N)"
   ]
  }
 ],
 "metadata": {
  "kernelspec": {
   "display_name": "Python 3 (ipykernel)",
   "language": "python",
   "name": "python3"
  },
  "language_info": {
   "codemirror_mode": {
    "name": "ipython",
    "version": 3
   },
   "file_extension": ".py",
   "mimetype": "text/x-python",
   "name": "python",
   "nbconvert_exporter": "python",
   "pygments_lexer": "ipython3",
   "version": "3.9.10"
  }
 },
 "nbformat": 4,
 "nbformat_minor": 5
}