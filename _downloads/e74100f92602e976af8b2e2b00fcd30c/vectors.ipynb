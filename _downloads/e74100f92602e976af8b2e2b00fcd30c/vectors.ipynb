{
 "cells": [
  {
   "cell_type": "code",
   "execution_count": 1,
   "id": "64c4f451",
   "metadata": {
    "execution": {
     "iopub.execute_input": "2022-04-15T22:54:14.357637Z",
     "iopub.status.busy": "2022-04-15T22:54:14.357434Z",
     "iopub.status.idle": "2022-04-15T22:54:14.883772Z",
     "shell.execute_reply": "2022-04-15T22:54:14.883188Z"
    }
   },
   "outputs": [],
   "source": [
    "import sympy as sm\n",
    "import sympy.physics.mechanics as me\n",
    "sm.init_printing(use_latex='mathjax')"
   ]
  },
  {
   "cell_type": "code",
   "execution_count": 2,
   "id": "447f85a3",
   "metadata": {
    "execution": {
     "iopub.execute_input": "2022-04-15T22:54:14.886910Z",
     "iopub.status.busy": "2022-04-15T22:54:14.886738Z",
     "iopub.status.idle": "2022-04-15T22:54:14.890236Z",
     "shell.execute_reply": "2022-04-15T22:54:14.889692Z"
    }
   },
   "outputs": [],
   "source": [
    "N = me.ReferenceFrame('N')"
   ]
  },
  {
   "cell_type": "code",
   "execution_count": 3,
   "id": "7440e7b0",
   "metadata": {
    "execution": {
     "iopub.execute_input": "2022-04-15T22:54:14.892721Z",
     "iopub.status.busy": "2022-04-15T22:54:14.892565Z",
     "iopub.status.idle": "2022-04-15T22:54:14.895559Z",
     "shell.execute_reply": "2022-04-15T22:54:14.895092Z"
    }
   },
   "outputs": [],
   "source": [
    "a, b, c, d, e, f = sm.symbols('a, b, c, d, e, f')"
   ]
  },
  {
   "cell_type": "code",
   "execution_count": 4,
   "id": "01fa6310",
   "metadata": {
    "execution": {
     "iopub.execute_input": "2022-04-15T22:54:14.898033Z",
     "iopub.status.busy": "2022-04-15T22:54:14.897620Z",
     "iopub.status.idle": "2022-04-15T22:54:14.903899Z",
     "shell.execute_reply": "2022-04-15T22:54:14.903378Z"
    }
   },
   "outputs": [
    {
     "data": {
      "text/latex": [
       "$\\displaystyle a\\mathbf{\\hat{n}_x}$"
      ],
      "text/plain": [
       "a n_x"
      ]
     },
     "execution_count": 4,
     "metadata": {},
     "output_type": "execute_result"
    }
   ],
   "source": [
    "v = a*N.x\n",
    "v"
   ]
  },
  {
   "cell_type": "code",
   "execution_count": 5,
   "id": "dbfd4a3b",
   "metadata": {
    "execution": {
     "iopub.execute_input": "2022-04-15T22:54:14.906634Z",
     "iopub.status.busy": "2022-04-15T22:54:14.906379Z",
     "iopub.status.idle": "2022-04-15T22:54:14.912648Z",
     "shell.execute_reply": "2022-04-15T22:54:14.912145Z"
    }
   },
   "outputs": [
    {
     "data": {
      "text/latex": [
       "$\\displaystyle \\left[\\begin{matrix}a\\\\0\\\\0\\end{matrix}\\right]$"
      ],
      "text/plain": [
       "⎡a⎤\n",
       "⎢ ⎥\n",
       "⎢0⎥\n",
       "⎢ ⎥\n",
       "⎣0⎦"
      ]
     },
     "execution_count": 5,
     "metadata": {},
     "output_type": "execute_result"
    }
   ],
   "source": [
    "v.to_matrix(N)"
   ]
  },
  {
   "cell_type": "code",
   "execution_count": 6,
   "id": "88d05d93",
   "metadata": {
    "execution": {
     "iopub.execute_input": "2022-04-15T22:54:14.915658Z",
     "iopub.status.busy": "2022-04-15T22:54:14.915389Z",
     "iopub.status.idle": "2022-04-15T22:54:14.920633Z",
     "shell.execute_reply": "2022-04-15T22:54:14.920093Z"
    }
   },
   "outputs": [
    {
     "data": {
      "text/latex": [
       "$\\displaystyle a\\mathbf{\\hat{n}_x} + b\\mathbf{\\hat{n}_y} + c\\mathbf{\\hat{n}_z}$"
      ],
      "text/plain": [
       "a n_x + b n_y + c n_z"
      ]
     },
     "execution_count": 6,
     "metadata": {},
     "output_type": "execute_result"
    }
   ],
   "source": [
    "w = a*N.x + b*N.y + c*N.z\n",
    "w"
   ]
  },
  {
   "cell_type": "code",
   "execution_count": 7,
   "id": "c9a509ff",
   "metadata": {
    "execution": {
     "iopub.execute_input": "2022-04-15T22:54:14.923529Z",
     "iopub.status.busy": "2022-04-15T22:54:14.923125Z",
     "iopub.status.idle": "2022-04-15T22:54:14.929103Z",
     "shell.execute_reply": "2022-04-15T22:54:14.928608Z"
    }
   },
   "outputs": [
    {
     "data": {
      "text/latex": [
       "$\\displaystyle \\left[\\begin{matrix}a\\\\b\\\\c\\end{matrix}\\right]$"
      ],
      "text/plain": [
       "⎡a⎤\n",
       "⎢ ⎥\n",
       "⎢b⎥\n",
       "⎢ ⎥\n",
       "⎣c⎦"
      ]
     },
     "execution_count": 7,
     "metadata": {},
     "output_type": "execute_result"
    }
   ],
   "source": [
    "w.to_matrix(N)"
   ]
  },
  {
   "cell_type": "code",
   "execution_count": 8,
   "id": "cbe5b559",
   "metadata": {
    "execution": {
     "iopub.execute_input": "2022-04-15T22:54:14.931499Z",
     "iopub.status.busy": "2022-04-15T22:54:14.931246Z",
     "iopub.status.idle": "2022-04-15T22:54:14.936442Z",
     "shell.execute_reply": "2022-04-15T22:54:14.935932Z"
    }
   },
   "outputs": [
    {
     "data": {
      "text/latex": [
       "$\\displaystyle d\\mathbf{\\hat{n}_x} + e\\mathbf{\\hat{n}_y} + f\\mathbf{\\hat{n}_z}$"
      ],
      "text/plain": [
       "d n_x + e n_y + f n_z"
      ]
     },
     "execution_count": 8,
     "metadata": {},
     "output_type": "execute_result"
    }
   ],
   "source": [
    "x = d*N.x + e*N.y + f*N.z\n",
    "x"
   ]
  },
  {
   "cell_type": "code",
   "execution_count": 9,
   "id": "550758a0",
   "metadata": {
    "execution": {
     "iopub.execute_input": "2022-04-15T22:54:14.939367Z",
     "iopub.status.busy": "2022-04-15T22:54:14.939035Z",
     "iopub.status.idle": "2022-04-15T22:54:14.944896Z",
     "shell.execute_reply": "2022-04-15T22:54:14.944377Z"
    }
   },
   "outputs": [
    {
     "data": {
      "text/latex": [
       "$\\displaystyle (a + d)\\mathbf{\\hat{n}_x} + (b + e)\\mathbf{\\hat{n}_y} + (c + f)\\mathbf{\\hat{n}_z}$"
      ],
      "text/plain": [
       "(a + d) n_x + (b + e) n_y + (c + f) n_z"
      ]
     },
     "execution_count": 9,
     "metadata": {},
     "output_type": "execute_result"
    }
   ],
   "source": [
    "w + x"
   ]
  },
  {
   "cell_type": "code",
   "execution_count": 10,
   "id": "f530b5fb",
   "metadata": {
    "execution": {
     "iopub.execute_input": "2022-04-15T22:54:14.947701Z",
     "iopub.status.busy": "2022-04-15T22:54:14.947366Z",
     "iopub.status.idle": "2022-04-15T22:54:14.952823Z",
     "shell.execute_reply": "2022-04-15T22:54:14.952321Z"
    }
   },
   "outputs": [
    {
     "data": {
      "text/latex": [
       "$\\displaystyle 2 a\\mathbf{\\hat{n}_x} + 2 b\\mathbf{\\hat{n}_y} + 2 c\\mathbf{\\hat{n}_z}$"
      ],
      "text/plain": [
       "2⋅a n_x + 2⋅b n_y + 2⋅c n_z"
      ]
     },
     "execution_count": 10,
     "metadata": {},
     "output_type": "execute_result"
    }
   ],
   "source": [
    "y = 2*w\n",
    "y"
   ]
  },
  {
   "cell_type": "code",
   "execution_count": 11,
   "id": "b085ed50",
   "metadata": {
    "execution": {
     "iopub.execute_input": "2022-04-15T22:54:14.955701Z",
     "iopub.status.busy": "2022-04-15T22:54:14.955290Z",
     "iopub.status.idle": "2022-04-15T22:54:14.960354Z",
     "shell.execute_reply": "2022-04-15T22:54:14.959834Z"
    }
   },
   "outputs": [
    {
     "data": {
      "text/latex": [
       "$\\displaystyle -  a\\mathbf{\\hat{n}_x} -  b\\mathbf{\\hat{n}_y} -  c\\mathbf{\\hat{n}_z}$"
      ],
      "text/plain": [
       "-a n_x + -b n_y + -c n_z"
      ]
     },
     "execution_count": 11,
     "metadata": {},
     "output_type": "execute_result"
    }
   ],
   "source": [
    "z = -w\n",
    "z"
   ]
  },
  {
   "cell_type": "code",
   "execution_count": 12,
   "id": "b9fc3f69",
   "metadata": {
    "execution": {
     "iopub.execute_input": "2022-04-15T22:54:14.963232Z",
     "iopub.status.busy": "2022-04-15T22:54:14.962837Z",
     "iopub.status.idle": "2022-04-15T22:54:14.966446Z",
     "shell.execute_reply": "2022-04-15T22:54:14.965941Z"
    }
   },
   "outputs": [],
   "source": [
    "N = me.ReferenceFrame('N')\n",
    "l, theta = sm.symbols('l, theta')"
   ]
  },
  {
   "cell_type": "code",
   "execution_count": 13,
   "id": "1989fa18",
   "metadata": {
    "execution": {
     "iopub.execute_input": "2022-04-15T22:54:14.968889Z",
     "iopub.status.busy": "2022-04-15T22:54:14.968631Z",
     "iopub.status.idle": "2022-04-15T22:54:14.978698Z",
     "shell.execute_reply": "2022-04-15T22:54:14.978202Z"
    }
   },
   "outputs": [
    {
     "data": {
      "text/latex": [
       "$\\displaystyle \\frac{\\sqrt{2} l}{2}\\mathbf{\\hat{n}_x} + \\frac{\\sqrt{2} l}{2}\\mathbf{\\hat{n}_y}$"
      ],
      "text/plain": [
       "√2⋅l       √2⋅l\n",
       "──── n_x + ──── n_y\n",
       " 2          2"
      ]
     },
     "execution_count": 13,
     "metadata": {},
     "output_type": "execute_result"
    }
   ],
   "source": [
    "v1 = l*sm.cos(sm.pi/4)*N.x + l*sm.sin(sm.pi/4)*N.y\n",
    "v1"
   ]
  },
  {
   "cell_type": "code",
   "execution_count": 14,
   "id": "795ecf7b",
   "metadata": {
    "execution": {
     "iopub.execute_input": "2022-04-15T22:54:14.981526Z",
     "iopub.status.busy": "2022-04-15T22:54:14.981374Z",
     "iopub.status.idle": "2022-04-15T22:54:14.985397Z",
     "shell.execute_reply": "2022-04-15T22:54:14.984902Z"
    }
   },
   "outputs": [
    {
     "data": {
      "text/latex": [
       "$\\displaystyle - 10\\mathbf{\\hat{n}_y}$"
      ],
      "text/plain": [
       "-10 n_y"
      ]
     },
     "execution_count": 14,
     "metadata": {},
     "output_type": "execute_result"
    }
   ],
   "source": [
    "v2 = -10*N.y\n",
    "v2"
   ]
  },
  {
   "cell_type": "code",
   "execution_count": 15,
   "id": "c2c0aa2f",
   "metadata": {
    "execution": {
     "iopub.execute_input": "2022-04-15T22:54:14.988279Z",
     "iopub.status.busy": "2022-04-15T22:54:14.987861Z",
     "iopub.status.idle": "2022-04-15T22:54:14.994838Z",
     "shell.execute_reply": "2022-04-15T22:54:14.994335Z"
    }
   },
   "outputs": [
    {
     "data": {
      "text/latex": [
       "$\\displaystyle -  l \\sin{\\left(\\theta \\right)}\\mathbf{\\hat{n}_x} + l \\cos{\\left(\\theta \\right)}\\mathbf{\\hat{n}_y}$"
      ],
      "text/plain": [
       "-l⋅sin(θ) n_x + l⋅cos(θ) n_y"
      ]
     },
     "execution_count": 15,
     "metadata": {},
     "output_type": "execute_result"
    }
   ],
   "source": [
    "v3 = -l*sm.sin(theta)*N.x + l*sm.cos(theta)*N.y\n",
    "v3"
   ]
  },
  {
   "cell_type": "code",
   "execution_count": 16,
   "id": "f9b33d3a",
   "metadata": {
    "execution": {
     "iopub.execute_input": "2022-04-15T22:54:14.997222Z",
     "iopub.status.busy": "2022-04-15T22:54:14.996827Z",
     "iopub.status.idle": "2022-04-15T22:54:15.006209Z",
     "shell.execute_reply": "2022-04-15T22:54:15.005692Z"
    }
   },
   "outputs": [
    {
     "data": {
      "text/latex": [
       "$\\displaystyle (5 l \\sin{\\left(\\theta \\right)} + \\frac{\\sqrt{2} l}{2})\\mathbf{\\hat{n}_x} + (- 5 l \\cos{\\left(\\theta \\right)} + \\frac{\\sqrt{2} l}{2} - 10)\\mathbf{\\hat{n}_y}$"
      ],
      "text/plain": [
       "⎛             √2⋅l⎞       ⎛              √2⋅l     ⎞\n",
       "⎜5⋅l⋅sin(θ) + ────⎟ n_x + ⎜-5⋅l⋅cos(θ) + ──── - 10⎟ n_y\n",
       "⎝              2  ⎠       ⎝               2       ⎠"
      ]
     },
     "execution_count": 16,
     "metadata": {},
     "output_type": "execute_result"
    }
   ],
   "source": [
    "v1 + v2 - 5*v3"
   ]
  },
  {
   "cell_type": "code",
   "execution_count": 17,
   "id": "a2ac16a2",
   "metadata": {
    "execution": {
     "iopub.execute_input": "2022-04-15T22:54:15.009170Z",
     "iopub.status.busy": "2022-04-15T22:54:15.008911Z",
     "iopub.status.idle": "2022-04-15T22:54:15.013964Z",
     "shell.execute_reply": "2022-04-15T22:54:15.013443Z"
    }
   },
   "outputs": [],
   "source": [
    "N = me.ReferenceFrame('N')\n",
    "w = a*N.x + b*N.y + c*N.z\n",
    "x = d*N.x + e*N.y + f*N.z"
   ]
  },
  {
   "cell_type": "code",
   "execution_count": 18,
   "id": "3ced1db6",
   "metadata": {
    "execution": {
     "iopub.execute_input": "2022-04-15T22:54:15.016311Z",
     "iopub.status.busy": "2022-04-15T22:54:15.015919Z",
     "iopub.status.idle": "2022-04-15T22:54:15.022368Z",
     "shell.execute_reply": "2022-04-15T22:54:15.021859Z"
    }
   },
   "outputs": [
    {
     "data": {
      "text/latex": [
       "$\\displaystyle a d + b e + c f$"
      ],
      "text/plain": [
       "a⋅d + b⋅e + c⋅f"
      ]
     },
     "execution_count": 18,
     "metadata": {},
     "output_type": "execute_result"
    }
   ],
   "source": [
    "me.dot(w, x)"
   ]
  },
  {
   "cell_type": "code",
   "execution_count": 19,
   "id": "4d00d77d",
   "metadata": {
    "execution": {
     "iopub.execute_input": "2022-04-15T22:54:15.025201Z",
     "iopub.status.busy": "2022-04-15T22:54:15.024870Z",
     "iopub.status.idle": "2022-04-15T22:54:15.030148Z",
     "shell.execute_reply": "2022-04-15T22:54:15.029648Z"
    }
   },
   "outputs": [
    {
     "data": {
      "text/latex": [
       "$\\displaystyle a d + b e + c f$"
      ],
      "text/plain": [
       "a⋅d + b⋅e + c⋅f"
      ]
     },
     "execution_count": 19,
     "metadata": {},
     "output_type": "execute_result"
    }
   ],
   "source": [
    "w.dot(x)"
   ]
  },
  {
   "cell_type": "code",
   "execution_count": 20,
   "id": "f94bc452",
   "metadata": {
    "execution": {
     "iopub.execute_input": "2022-04-15T22:54:15.033053Z",
     "iopub.status.busy": "2022-04-15T22:54:15.032654Z",
     "iopub.status.idle": "2022-04-15T22:54:15.048385Z",
     "shell.execute_reply": "2022-04-15T22:54:15.047871Z"
    }
   },
   "outputs": [
    {
     "data": {
      "text/latex": [
       "$\\displaystyle \\frac{a}{\\sqrt{a^{2} + b^{2} + c^{2}}}\\mathbf{\\hat{n}_x} + \\frac{b}{\\sqrt{a^{2} + b^{2} + c^{2}}}\\mathbf{\\hat{n}_y} + \\frac{c}{\\sqrt{a^{2} + b^{2} + c^{2}}}\\mathbf{\\hat{n}_z}$"
      ],
      "text/plain": [
       "        a                       b                       c\n",
       "───────────────── n_x + ───────────────── n_y + ───────────────── n_z\n",
       "   ______________          ______________          ______________\n",
       "  ╱  2    2    2          ╱  2    2    2          ╱  2    2    2\n",
       "╲╱  a  + b  + c         ╲╱  a  + b  + c         ╲╱  a  + b  + c"
      ]
     },
     "execution_count": 20,
     "metadata": {},
     "output_type": "execute_result"
    }
   ],
   "source": [
    "w.normalize()"
   ]
  },
  {
   "cell_type": "code",
   "execution_count": 21,
   "id": "3c95626d",
   "metadata": {
    "execution": {
     "iopub.execute_input": "2022-04-15T22:54:15.050626Z",
     "iopub.status.busy": "2022-04-15T22:54:15.050366Z",
     "iopub.status.idle": "2022-04-15T22:54:15.060404Z",
     "shell.execute_reply": "2022-04-15T22:54:15.059939Z"
    }
   },
   "outputs": [
    {
     "data": {
      "text/latex": [
       "$\\displaystyle \\frac{a}{\\sqrt{a^{2} + b^{2} + c^{2}}}\\mathbf{\\hat{n}_x} + \\frac{b}{\\sqrt{a^{2} + b^{2} + c^{2}}}\\mathbf{\\hat{n}_y} + \\frac{c}{\\sqrt{a^{2} + b^{2} + c^{2}}}\\mathbf{\\hat{n}_z}$"
      ],
      "text/plain": [
       "        a                       b                       c\n",
       "───────────────── n_x + ───────────────── n_y + ───────────────── n_z\n",
       "   ______________          ______________          ______________\n",
       "  ╱  2    2    2          ╱  2    2    2          ╱  2    2    2\n",
       "╲╱  a  + b  + c         ╲╱  a  + b  + c         ╲╱  a  + b  + c"
      ]
     },
     "execution_count": 21,
     "metadata": {},
     "output_type": "execute_result"
    }
   ],
   "source": [
    "def normalize(vector):\n",
    "    return vector/sm.sqrt(me.dot(vector, vector))\n",
    "\n",
    "normalize(w)"
   ]
  },
  {
   "cell_type": "code",
   "execution_count": 22,
   "id": "f54960a4",
   "metadata": {
    "execution": {
     "iopub.execute_input": "2022-04-15T22:54:15.062977Z",
     "iopub.status.busy": "2022-04-15T22:54:15.062609Z",
     "iopub.status.idle": "2022-04-15T22:54:15.068867Z",
     "shell.execute_reply": "2022-04-15T22:54:15.068365Z"
    }
   },
   "outputs": [
    {
     "data": {
      "text/latex": [
       "$\\displaystyle \\sqrt{a^{2} + b^{2} + c^{2}}$"
      ],
      "text/plain": [
       "   ______________\n",
       "  ╱  2    2    2 \n",
       "╲╱  a  + b  + c  "
      ]
     },
     "execution_count": 22,
     "metadata": {},
     "output_type": "execute_result"
    }
   ],
   "source": [
    "w.magnitude()"
   ]
  },
  {
   "cell_type": "code",
   "execution_count": 23,
   "id": "29a9e6ca",
   "metadata": {
    "execution": {
     "iopub.execute_input": "2022-04-15T22:54:15.071301Z",
     "iopub.status.busy": "2022-04-15T22:54:15.071051Z",
     "iopub.status.idle": "2022-04-15T22:54:15.080493Z",
     "shell.execute_reply": "2022-04-15T22:54:15.080041Z"
    }
   },
   "outputs": [
    {
     "data": {
      "text/latex": [
       "$\\displaystyle \\frac{a}{\\sqrt{a^{2} + b^{2} + c^{2}}}\\mathbf{\\hat{n}_x} + \\frac{b}{\\sqrt{a^{2} + b^{2} + c^{2}}}\\mathbf{\\hat{n}_y} + \\frac{c}{\\sqrt{a^{2} + b^{2} + c^{2}}}\\mathbf{\\hat{n}_z}$"
      ],
      "text/plain": [
       "        a                       b                       c\n",
       "───────────────── n_x + ───────────────── n_y + ───────────────── n_z\n",
       "   ______________          ______________          ______________\n",
       "  ╱  2    2    2          ╱  2    2    2          ╱  2    2    2\n",
       "╲╱  a  + b  + c         ╲╱  a  + b  + c         ╲╱  a  + b  + c"
      ]
     },
     "execution_count": 23,
     "metadata": {},
     "output_type": "execute_result"
    }
   ],
   "source": [
    "w/w.magnitude()"
   ]
  },
  {
   "cell_type": "code",
   "execution_count": 24,
   "id": "2b8eb35c",
   "metadata": {
    "execution": {
     "iopub.execute_input": "2022-04-15T22:54:15.083077Z",
     "iopub.status.busy": "2022-04-15T22:54:15.082708Z",
     "iopub.status.idle": "2022-04-15T22:54:15.088704Z",
     "shell.execute_reply": "2022-04-15T22:54:15.088086Z"
    }
   },
   "outputs": [],
   "source": [
    "N = me.ReferenceFrame('N')\n",
    "v1 = a*N.x + b*N.y + a*N.z\n",
    "v2 = b*N.x + a*N.y + b*N.z"
   ]
  },
  {
   "cell_type": "code",
   "execution_count": 25,
   "id": "ce3a3cf6",
   "metadata": {
    "execution": {
     "iopub.execute_input": "2022-04-15T22:54:15.091176Z",
     "iopub.status.busy": "2022-04-15T22:54:15.090815Z",
     "iopub.status.idle": "2022-04-15T22:54:15.112362Z",
     "shell.execute_reply": "2022-04-15T22:54:15.111889Z"
    }
   },
   "outputs": [
    {
     "data": {
      "text/latex": [
       "$\\displaystyle \\operatorname{acos}{\\left(\\frac{3 a b}{\\sqrt{a^{2} + 2 b^{2}} \\sqrt{2 a^{2} + b^{2}}} \\right)}$"
      ],
      "text/plain": [
       "    ⎛            3⋅a⋅b            ⎞\n",
       "acos⎜─────────────────────────────⎟\n",
       "    ⎜   ___________    ___________⎟\n",
       "    ⎜  ╱  2      2    ╱    2    2 ⎟\n",
       "    ⎝╲╱  a  + 2⋅b  ⋅╲╱  2⋅a  + b  ⎠"
      ]
     },
     "execution_count": 25,
     "metadata": {},
     "output_type": "execute_result"
    }
   ],
   "source": [
    "sm.acos(v1.dot(v2) / (v1.magnitude()*v2.magnitude()))"
   ]
  },
  {
   "cell_type": "code",
   "execution_count": 26,
   "id": "3d1a909e",
   "metadata": {
    "execution": {
     "iopub.execute_input": "2022-04-15T22:54:15.115085Z",
     "iopub.status.busy": "2022-04-15T22:54:15.114682Z",
     "iopub.status.idle": "2022-04-15T22:54:15.122378Z",
     "shell.execute_reply": "2022-04-15T22:54:15.121925Z"
    }
   },
   "outputs": [
    {
     "data": {
      "text/latex": [
       "$\\displaystyle a\\mathbf{\\hat{n}_x} + b\\mathbf{\\hat{n}_y} + c\\mathbf{\\hat{n}_z}$"
      ],
      "text/plain": [
       "a n_x + b n_y + c n_z"
      ]
     },
     "execution_count": 26,
     "metadata": {},
     "output_type": "execute_result"
    }
   ],
   "source": [
    "N = me.ReferenceFrame('N')\n",
    "w = a*N.x + b*N.y + c*N.z\n",
    "w"
   ]
  },
  {
   "cell_type": "code",
   "execution_count": 27,
   "id": "6a1d7ab7",
   "metadata": {
    "execution": {
     "iopub.execute_input": "2022-04-15T22:54:15.124871Z",
     "iopub.status.busy": "2022-04-15T22:54:15.124625Z",
     "iopub.status.idle": "2022-04-15T22:54:15.131549Z",
     "shell.execute_reply": "2022-04-15T22:54:15.131096Z"
    }
   },
   "outputs": [
    {
     "data": {
      "text/latex": [
       "$\\displaystyle d\\mathbf{\\hat{n}_x} + e\\mathbf{\\hat{n}_y} + f\\mathbf{\\hat{n}_z}$"
      ],
      "text/plain": [
       "d n_x + e n_y + f n_z"
      ]
     },
     "execution_count": 27,
     "metadata": {},
     "output_type": "execute_result"
    }
   ],
   "source": [
    "x = d*N.x + e*N.y + f*N.z\n",
    "x"
   ]
  },
  {
   "cell_type": "code",
   "execution_count": 28,
   "id": "84d0b6e3",
   "metadata": {
    "execution": {
     "iopub.execute_input": "2022-04-15T22:54:15.133994Z",
     "iopub.status.busy": "2022-04-15T22:54:15.133748Z",
     "iopub.status.idle": "2022-04-15T22:54:15.145814Z",
     "shell.execute_reply": "2022-04-15T22:54:15.145361Z"
    }
   },
   "outputs": [
    {
     "data": {
      "text/latex": [
       "$\\displaystyle (b f - c e)\\mathbf{\\hat{n}_x} + (- a f + c d)\\mathbf{\\hat{n}_y} + (a e - b d)\\mathbf{\\hat{n}_z}$"
      ],
      "text/plain": [
       "(b⋅f - c⋅e) n_x + (-a⋅f + c⋅d) n_y + (a⋅e - b⋅d) n_z"
      ]
     },
     "execution_count": 28,
     "metadata": {},
     "output_type": "execute_result"
    }
   ],
   "source": [
    "me.cross(w, x)"
   ]
  },
  {
   "cell_type": "code",
   "execution_count": 29,
   "id": "d081294a",
   "metadata": {
    "execution": {
     "iopub.execute_input": "2022-04-15T22:54:15.148513Z",
     "iopub.status.busy": "2022-04-15T22:54:15.148264Z",
     "iopub.status.idle": "2022-04-15T22:54:15.159266Z",
     "shell.execute_reply": "2022-04-15T22:54:15.158808Z"
    }
   },
   "outputs": [
    {
     "data": {
      "text/latex": [
       "$\\displaystyle (b f - c e)\\mathbf{\\hat{n}_x} + (- a f + c d)\\mathbf{\\hat{n}_y} + (a e - b d)\\mathbf{\\hat{n}_z}$"
      ],
      "text/plain": [
       "(b⋅f - c⋅e) n_x + (-a⋅f + c⋅d) n_y + (a⋅e - b⋅d) n_z"
      ]
     },
     "execution_count": 29,
     "metadata": {},
     "output_type": "execute_result"
    }
   ],
   "source": [
    "w.cross(x)"
   ]
  },
  {
   "cell_type": "code",
   "execution_count": 30,
   "id": "05efa578",
   "metadata": {
    "execution": {
     "iopub.execute_input": "2022-04-15T22:54:15.161875Z",
     "iopub.status.busy": "2022-04-15T22:54:15.161493Z",
     "iopub.status.idle": "2022-04-15T22:54:15.173926Z",
     "shell.execute_reply": "2022-04-15T22:54:15.173470Z"
    }
   },
   "outputs": [
    {
     "data": {
      "text/latex": [
       "$\\displaystyle \\sqrt{36077}$"
      ],
      "text/plain": [
       "√36077"
      ]
     },
     "execution_count": 30,
     "metadata": {},
     "output_type": "execute_result"
    }
   ],
   "source": [
    "N = me.ReferenceFrame('N')\n",
    "\n",
    "p1 = 23*N.x - 12* N.y\n",
    "p2 = 16*N.x + 2*N.y - 4*N.z\n",
    "p3 = N.x + 14*N.z\n",
    "\n",
    "me.cross(p2 - p1, p3 - p1).magnitude() / 2"
   ]
  },
  {
   "cell_type": "code",
   "execution_count": 31,
   "id": "f2f23299",
   "metadata": {
    "execution": {
     "iopub.execute_input": "2022-04-15T22:54:15.176572Z",
     "iopub.status.busy": "2022-04-15T22:54:15.176163Z",
     "iopub.status.idle": "2022-04-15T22:54:15.184207Z",
     "shell.execute_reply": "2022-04-15T22:54:15.183752Z"
    }
   },
   "outputs": [
    {
     "data": {
      "text/latex": [
       "$\\displaystyle a\\mathbf{\\hat{a}_x} + b\\mathbf{\\hat{n}_y}$"
      ],
      "text/plain": [
       "a a_x + b n_y"
      ]
     },
     "execution_count": 31,
     "metadata": {},
     "output_type": "execute_result"
    }
   ],
   "source": [
    "N = me.ReferenceFrame('N')\n",
    "A = me.ReferenceFrame('A')\n",
    "a, b, theta = sm.symbols('a, b, theta')\n",
    "\n",
    "v = a*A.x + b*N.y\n",
    "v"
   ]
  },
  {
   "cell_type": "code",
   "execution_count": 32,
   "id": "7b807c88",
   "metadata": {
    "execution": {
     "iopub.execute_input": "2022-04-15T22:54:15.186699Z",
     "iopub.status.busy": "2022-04-15T22:54:15.186432Z",
     "iopub.status.idle": "2022-04-15T22:54:15.192868Z",
     "shell.execute_reply": "2022-04-15T22:54:15.192382Z"
    }
   },
   "outputs": [
    {
     "data": {
      "text/latex": [
       "$\\displaystyle 2 a\\mathbf{\\hat{a}_x} + 2 b\\mathbf{\\hat{n}_y}$"
      ],
      "text/plain": [
       "2⋅a a_x + 2⋅b n_y"
      ]
     },
     "execution_count": 32,
     "metadata": {},
     "output_type": "execute_result"
    }
   ],
   "source": [
    "v + v"
   ]
  },
  {
   "cell_type": "code",
   "execution_count": 33,
   "id": "224bb524",
   "metadata": {
    "execution": {
     "iopub.execute_input": "2022-04-15T22:54:15.195343Z",
     "iopub.status.busy": "2022-04-15T22:54:15.195091Z",
     "iopub.status.idle": "2022-04-15T22:54:15.207359Z",
     "shell.execute_reply": "2022-04-15T22:54:15.206909Z"
    }
   },
   "outputs": [
    {
     "data": {
      "text/latex": [
       "$\\displaystyle a \\cos{\\left(\\theta \\right)}\\mathbf{\\hat{n}_x} + (a \\sin{\\left(\\theta \\right)} + b)\\mathbf{\\hat{n}_y}$"
      ],
      "text/plain": [
       "a⋅cos(θ) n_x + (a⋅sin(θ) + b) n_y"
      ]
     },
     "execution_count": 33,
     "metadata": {},
     "output_type": "execute_result"
    }
   ],
   "source": [
    "A.orient_axis(N, theta, N.z)\n",
    "\n",
    "v.express(N)"
   ]
  },
  {
   "cell_type": "code",
   "execution_count": 34,
   "id": "46ceb0bc",
   "metadata": {
    "execution": {
     "iopub.execute_input": "2022-04-15T22:54:15.209909Z",
     "iopub.status.busy": "2022-04-15T22:54:15.209570Z",
     "iopub.status.idle": "2022-04-15T22:54:15.217280Z",
     "shell.execute_reply": "2022-04-15T22:54:15.216825Z"
    }
   },
   "outputs": [
    {
     "data": {
      "text/latex": [
       "$\\displaystyle (a + b \\sin{\\left(\\theta \\right)})\\mathbf{\\hat{a}_x} + b \\cos{\\left(\\theta \\right)}\\mathbf{\\hat{a}_y}$"
      ],
      "text/plain": [
       "(a + b⋅sin(θ)) a_x + b⋅cos(θ) a_y"
      ]
     },
     "execution_count": 34,
     "metadata": {},
     "output_type": "execute_result"
    }
   ],
   "source": [
    "v.express(A)"
   ]
  },
  {
   "cell_type": "code",
   "execution_count": 35,
   "id": "ebe13a72",
   "metadata": {
    "execution": {
     "iopub.execute_input": "2022-04-15T22:54:15.219940Z",
     "iopub.status.busy": "2022-04-15T22:54:15.219497Z",
     "iopub.status.idle": "2022-04-15T22:54:15.226042Z",
     "shell.execute_reply": "2022-04-15T22:54:15.225575Z"
    }
   },
   "outputs": [],
   "source": [
    "q1, q2, q3, q4 = sm.symbols('q1, q2, q3, q4')\n",
    "l1, l2, l3, l4 = sm.symbols('l1, l2, l3, l4')\n",
    "N = me.ReferenceFrame('N')\n",
    "A = me.ReferenceFrame('A')\n",
    "B = me.ReferenceFrame('B')\n",
    "C = me.ReferenceFrame('C')"
   ]
  },
  {
   "cell_type": "code",
   "execution_count": 36,
   "id": "1512809a",
   "metadata": {
    "execution": {
     "iopub.execute_input": "2022-04-15T22:54:15.228498Z",
     "iopub.status.busy": "2022-04-15T22:54:15.228253Z",
     "iopub.status.idle": "2022-04-15T22:54:15.253908Z",
     "shell.execute_reply": "2022-04-15T22:54:15.253407Z"
    }
   },
   "outputs": [],
   "source": [
    "A.orient_body_fixed(N, (q1, q2, 0), 'ZXZ')"
   ]
  },
  {
   "cell_type": "code",
   "execution_count": 37,
   "id": "76fdcdb3",
   "metadata": {
    "execution": {
     "iopub.execute_input": "2022-04-15T22:54:15.256660Z",
     "iopub.status.busy": "2022-04-15T22:54:15.256475Z",
     "iopub.status.idle": "2022-04-15T22:54:15.263576Z",
     "shell.execute_reply": "2022-04-15T22:54:15.263108Z"
    }
   },
   "outputs": [],
   "source": [
    "B.orient_axis(A, q3, A.x)"
   ]
  },
  {
   "cell_type": "code",
   "execution_count": 38,
   "id": "6190459e",
   "metadata": {
    "execution": {
     "iopub.execute_input": "2022-04-15T22:54:15.266025Z",
     "iopub.status.busy": "2022-04-15T22:54:15.265626Z",
     "iopub.status.idle": "2022-04-15T22:54:15.289601Z",
     "shell.execute_reply": "2022-04-15T22:54:15.289137Z"
    }
   },
   "outputs": [],
   "source": [
    "C.orient_body_fixed(B, (q3, q4, 0), 'XZX')"
   ]
  },
  {
   "cell_type": "code",
   "execution_count": 39,
   "id": "0849d944",
   "metadata": {
    "execution": {
     "iopub.execute_input": "2022-04-15T22:54:15.291778Z",
     "iopub.status.busy": "2022-04-15T22:54:15.291608Z",
     "iopub.status.idle": "2022-04-15T22:54:15.296727Z",
     "shell.execute_reply": "2022-04-15T22:54:15.296270Z"
    }
   },
   "outputs": [],
   "source": [
    "R_P1_P2 = l1*A.z\n",
    "R_P2_P3 = l2*B.z\n",
    "R_P3_P4 = l3*C.z - l4*C.y"
   ]
  },
  {
   "cell_type": "code",
   "execution_count": 40,
   "id": "fa4e9bf4",
   "metadata": {
    "execution": {
     "iopub.execute_input": "2022-04-15T22:54:15.299206Z",
     "iopub.status.busy": "2022-04-15T22:54:15.298654Z",
     "iopub.status.idle": "2022-04-15T22:54:15.305318Z",
     "shell.execute_reply": "2022-04-15T22:54:15.304729Z"
    }
   },
   "outputs": [
    {
     "data": {
      "text/latex": [
       "$\\displaystyle l_{1}\\mathbf{\\hat{a}_z} + l_{2}\\mathbf{\\hat{b}_z} -  l_{4}\\mathbf{\\hat{c}_y} + l_{3}\\mathbf{\\hat{c}_z}$"
      ],
      "text/plain": [
       "l₁ a_z + l₂ b_z + -l₄ c_y + l₃ c_z"
      ]
     },
     "execution_count": 40,
     "metadata": {},
     "output_type": "execute_result"
    }
   ],
   "source": [
    "R_P1_P4 = R_P1_P2 + R_P2_P3 + R_P3_P4\n",
    "R_P1_P4"
   ]
  },
  {
   "cell_type": "code",
   "execution_count": 41,
   "id": "0c5a34ed",
   "metadata": {
    "execution": {
     "iopub.execute_input": "2022-04-15T22:54:15.307954Z",
     "iopub.status.busy": "2022-04-15T22:54:15.307557Z",
     "iopub.status.idle": "2022-04-15T22:54:15.401011Z",
     "shell.execute_reply": "2022-04-15T22:54:15.400399Z"
    }
   },
   "outputs": [
    {
     "data": {
      "text/latex": [
       "$\\displaystyle (l_{1} \\sin{\\left(q_{1} \\right)} \\sin{\\left(q_{2} \\right)} + l_{2} \\left(\\sin{\\left(q_{1} \\right)} \\sin{\\left(q_{2} \\right)} \\cos{\\left(q_{3} \\right)} + \\sin{\\left(q_{1} \\right)} \\sin{\\left(q_{3} \\right)} \\cos{\\left(q_{2} \\right)}\\right) + l_{3} \\left(- \\left(\\sin{\\left(q_{1} \\right)} \\sin{\\left(q_{2} \\right)} \\sin{\\left(q_{3} \\right)} - \\sin{\\left(q_{1} \\right)} \\cos{\\left(q_{2} \\right)} \\cos{\\left(q_{3} \\right)}\\right) \\sin{\\left(q_{3} \\right)} + \\left(\\sin{\\left(q_{1} \\right)} \\sin{\\left(q_{2} \\right)} \\cos{\\left(q_{3} \\right)} + \\sin{\\left(q_{1} \\right)} \\sin{\\left(q_{3} \\right)} \\cos{\\left(q_{2} \\right)}\\right) \\cos{\\left(q_{3} \\right)}\\right) - l_{4} \\left(\\left(\\sin{\\left(q_{1} \\right)} \\sin{\\left(q_{2} \\right)} \\sin{\\left(q_{3} \\right)} - \\sin{\\left(q_{1} \\right)} \\cos{\\left(q_{2} \\right)} \\cos{\\left(q_{3} \\right)}\\right) \\cos{\\left(q_{3} \\right)} \\cos{\\left(q_{4} \\right)} + \\left(\\sin{\\left(q_{1} \\right)} \\sin{\\left(q_{2} \\right)} \\cos{\\left(q_{3} \\right)} + \\sin{\\left(q_{1} \\right)} \\sin{\\left(q_{3} \\right)} \\cos{\\left(q_{2} \\right)}\\right) \\sin{\\left(q_{3} \\right)} \\cos{\\left(q_{4} \\right)} - \\sin{\\left(q_{4} \\right)} \\cos{\\left(q_{1} \\right)}\\right))\\mathbf{\\hat{n}_x} + (- l_{1} \\sin{\\left(q_{2} \\right)} \\cos{\\left(q_{1} \\right)} + l_{2} \\left(- \\sin{\\left(q_{2} \\right)} \\cos{\\left(q_{1} \\right)} \\cos{\\left(q_{3} \\right)} - \\sin{\\left(q_{3} \\right)} \\cos{\\left(q_{1} \\right)} \\cos{\\left(q_{2} \\right)}\\right) + l_{3} \\left(- \\left(- \\sin{\\left(q_{2} \\right)} \\sin{\\left(q_{3} \\right)} \\cos{\\left(q_{1} \\right)} + \\cos{\\left(q_{1} \\right)} \\cos{\\left(q_{2} \\right)} \\cos{\\left(q_{3} \\right)}\\right) \\sin{\\left(q_{3} \\right)} + \\left(- \\sin{\\left(q_{2} \\right)} \\cos{\\left(q_{1} \\right)} \\cos{\\left(q_{3} \\right)} - \\sin{\\left(q_{3} \\right)} \\cos{\\left(q_{1} \\right)} \\cos{\\left(q_{2} \\right)}\\right) \\cos{\\left(q_{3} \\right)}\\right) - l_{4} \\left(\\left(- \\sin{\\left(q_{2} \\right)} \\sin{\\left(q_{3} \\right)} \\cos{\\left(q_{1} \\right)} + \\cos{\\left(q_{1} \\right)} \\cos{\\left(q_{2} \\right)} \\cos{\\left(q_{3} \\right)}\\right) \\cos{\\left(q_{3} \\right)} \\cos{\\left(q_{4} \\right)} + \\left(- \\sin{\\left(q_{2} \\right)} \\cos{\\left(q_{1} \\right)} \\cos{\\left(q_{3} \\right)} - \\sin{\\left(q_{3} \\right)} \\cos{\\left(q_{1} \\right)} \\cos{\\left(q_{2} \\right)}\\right) \\sin{\\left(q_{3} \\right)} \\cos{\\left(q_{4} \\right)} - \\sin{\\left(q_{1} \\right)} \\sin{\\left(q_{4} \\right)}\\right))\\mathbf{\\hat{n}_y} + (l_{1} \\cos{\\left(q_{2} \\right)} + l_{2} \\left(- \\sin{\\left(q_{2} \\right)} \\sin{\\left(q_{3} \\right)} + \\cos{\\left(q_{2} \\right)} \\cos{\\left(q_{3} \\right)}\\right) + l_{3} \\left(\\left(- \\sin{\\left(q_{2} \\right)} \\sin{\\left(q_{3} \\right)} + \\cos{\\left(q_{2} \\right)} \\cos{\\left(q_{3} \\right)}\\right) \\cos{\\left(q_{3} \\right)} - \\left(\\sin{\\left(q_{2} \\right)} \\cos{\\left(q_{3} \\right)} + \\sin{\\left(q_{3} \\right)} \\cos{\\left(q_{2} \\right)}\\right) \\sin{\\left(q_{3} \\right)}\\right) - l_{4} \\left(\\left(- \\sin{\\left(q_{2} \\right)} \\sin{\\left(q_{3} \\right)} + \\cos{\\left(q_{2} \\right)} \\cos{\\left(q_{3} \\right)}\\right) \\sin{\\left(q_{3} \\right)} \\cos{\\left(q_{4} \\right)} + \\left(\\sin{\\left(q_{2} \\right)} \\cos{\\left(q_{3} \\right)} + \\sin{\\left(q_{3} \\right)} \\cos{\\left(q_{2} \\right)}\\right) \\cos{\\left(q_{3} \\right)} \\cos{\\left(q_{4} \\right)}\\right))\\mathbf{\\hat{n}_z}$"
      ],
      "text/plain": [
       "(l₁⋅sin(q₁)⋅sin(q₂) + l₂⋅(sin(q₁)⋅sin(q₂)⋅cos(q₃) + sin(q₁)⋅sin(q₃)⋅cos(q₂)) +\n",
       " l₃⋅(-(sin(q₁)⋅sin(q₂)⋅sin(q₃) - sin(q₁)⋅cos(q₂)⋅cos(q₃))⋅sin(q₃) + (sin(q₁)⋅s\n",
       "in(q₂)⋅cos(q₃) + sin(q₁)⋅sin(q₃)⋅cos(q₂))⋅cos(q₃)) - l₄⋅((sin(q₁)⋅sin(q₂)⋅sin(\n",
       "q₃) - sin(q₁)⋅cos(q₂)⋅cos(q₃))⋅cos(q₃)⋅cos(q₄) + (sin(q₁)⋅sin(q₂)⋅cos(q₃) + si\n",
       "n(q₁)⋅sin(q₃)⋅cos(q₂))⋅sin(q₃)⋅cos(q₄) - sin(q₄)⋅cos(q₁))) n_x + (-l₁⋅sin(q₂)⋅\n",
       "cos(q₁) + l₂⋅(-sin(q₂)⋅cos(q₁)⋅cos(q₃) - sin(q₃)⋅cos(q₁)⋅cos(q₂)) + l₃⋅(-(-sin\n",
       "(q₂)⋅sin(q₃)⋅cos(q₁) + cos(q₁)⋅cos(q₂)⋅cos(q₃))⋅sin(q₃) + (-sin(q₂)⋅cos(q₁)⋅co\n",
       "s(q₃) - sin(q₃)⋅cos(q₁)⋅cos(q₂))⋅cos(q₃)) - l₄⋅((-sin(q₂)⋅sin(q₃)⋅cos(q₁) + co\n",
       "s(q₁)⋅cos(q₂)⋅cos(q₃))⋅cos(q₃)⋅cos(q₄) + (-sin(q₂)⋅cos(q₁)⋅cos(q₃) - sin(q₃)⋅c\n",
       "os(q₁)⋅cos(q₂))⋅sin(q₃)⋅cos(q₄) - sin(q₁)⋅sin(q₄))) n_y + (l₁⋅cos(q₂) + l₂⋅(-s\n",
       "in(q₂)⋅sin(q₃) + cos(q₂)⋅cos(q₃)) + l₃⋅((-sin(q₂)⋅sin(q₃) + cos(q₂)⋅cos(q₃))⋅c\n",
       "os(q₃) - (sin(q₂)⋅cos(q₃) + sin(q₃)⋅cos(q₂))⋅sin(q₃)) - l₄⋅((-sin(q₂)⋅sin(q₃)\n",
       "+ cos(q₂)⋅cos(q₃))⋅sin(q₃)⋅cos(q₄) + (sin(q₂)⋅cos(q₃) + sin(q₃)⋅cos(q₂))⋅cos(q\n",
       "₃)⋅cos(q₄))) n_z"
      ]
     },
     "execution_count": 41,
     "metadata": {},
     "output_type": "execute_result"
    }
   ],
   "source": [
    "R_P1_P4.express(N)"
   ]
  },
  {
   "cell_type": "code",
   "execution_count": 42,
   "id": "d0eb9bd6",
   "metadata": {
    "execution": {
     "iopub.execute_input": "2022-04-15T22:54:15.404388Z",
     "iopub.status.busy": "2022-04-15T22:54:15.403945Z",
     "iopub.status.idle": "2022-04-15T22:54:15.412264Z",
     "shell.execute_reply": "2022-04-15T22:54:15.411790Z"
    }
   },
   "outputs": [
    {
     "data": {
      "text/latex": [
       "$\\displaystyle l_{1} \\sin{\\left(q_{1} \\right)} \\sin{\\left(q_{2} \\right)}\\mathbf{\\hat{n}_x} -  l_{1} \\sin{\\left(q_{2} \\right)} \\cos{\\left(q_{1} \\right)}\\mathbf{\\hat{n}_y} + l_{1} \\cos{\\left(q_{2} \\right)}\\mathbf{\\hat{n}_z}$"
      ],
      "text/plain": [
       "l₁⋅sin(q₁)⋅sin(q₂) n_x + -l₁⋅sin(q₂)⋅cos(q₁) n_y + l₁⋅cos(q₂) n_z"
      ]
     },
     "execution_count": 42,
     "metadata": {},
     "output_type": "execute_result"
    }
   ],
   "source": [
    "R_P1_P2.express(N)"
   ]
  },
  {
   "cell_type": "code",
   "execution_count": 43,
   "id": "8807779a",
   "metadata": {
    "execution": {
     "iopub.execute_input": "2022-04-15T22:54:15.414982Z",
     "iopub.status.busy": "2022-04-15T22:54:15.414591Z",
     "iopub.status.idle": "2022-04-15T22:54:15.421654Z",
     "shell.execute_reply": "2022-04-15T22:54:15.421196Z"
    }
   },
   "outputs": [
    {
     "data": {
      "text/latex": [
       "$\\displaystyle \\left\\{l_{1}, q_{1}, q_{2}\\right\\}$"
      ],
      "text/plain": [
       "{l₁, q₁, q₂}"
      ]
     },
     "execution_count": 43,
     "metadata": {},
     "output_type": "execute_result"
    }
   ],
   "source": [
    "R_P1_P2.free_symbols(N)"
   ]
  },
  {
   "cell_type": "code",
   "execution_count": 44,
   "id": "a2d94fa2",
   "metadata": {
    "execution": {
     "iopub.execute_input": "2022-04-15T22:54:15.424307Z",
     "iopub.status.busy": "2022-04-15T22:54:15.423926Z",
     "iopub.status.idle": "2022-04-15T22:54:15.430681Z",
     "shell.execute_reply": "2022-04-15T22:54:15.430228Z"
    }
   },
   "outputs": [
    {
     "data": {
      "text/latex": [
       "$\\displaystyle \\left\\{l_{1}\\right\\}$"
      ],
      "text/plain": [
       "{l₁}"
      ]
     },
     "execution_count": 44,
     "metadata": {},
     "output_type": "execute_result"
    }
   ],
   "source": [
    "R_P1_P2.free_symbols(A)"
   ]
  },
  {
   "cell_type": "code",
   "execution_count": 45,
   "id": "9a606b97",
   "metadata": {
    "execution": {
     "iopub.execute_input": "2022-04-15T22:54:15.433241Z",
     "iopub.status.busy": "2022-04-15T22:54:15.432818Z",
     "iopub.status.idle": "2022-04-15T22:54:15.441826Z",
     "shell.execute_reply": "2022-04-15T22:54:15.441368Z"
    }
   },
   "outputs": [
    {
     "data": {
      "text/latex": [
       "$\\displaystyle \\left\\{l_{1}, l_{2}, l_{3}, l_{4}, q_{1}, q_{2}, q_{3}, q_{4}\\right\\}$"
      ],
      "text/plain": [
       "{l₁, l₂, l₃, l₄, q₁, q₂, q₃, q₄}"
      ]
     },
     "execution_count": 45,
     "metadata": {},
     "output_type": "execute_result"
    }
   ],
   "source": [
    "R_P1_P4.free_symbols(N)"
   ]
  }
 ],
 "metadata": {
  "kernelspec": {
   "display_name": "Python 3 (ipykernel)",
   "language": "python",
   "name": "python3"
  },
  "language_info": {
   "codemirror_mode": {
    "name": "ipython",
    "version": 3
   },
   "file_extension": ".py",
   "mimetype": "text/x-python",
   "name": "python",
   "nbconvert_exporter": "python",
   "pygments_lexer": "ipython3",
   "version": "3.9.12"
  }
 },
 "nbformat": 4,
 "nbformat_minor": 5
}