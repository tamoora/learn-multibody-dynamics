{
 "cells": [
  {
   "cell_type": "code",
   "execution_count": 1,
   "id": "8e762868",
   "metadata": {
    "execution": {
     "iopub.execute_input": "2022-04-15T21:51:43.685543Z",
     "iopub.status.busy": "2022-04-15T21:51:43.684966Z",
     "iopub.status.idle": "2022-04-15T21:51:44.298536Z",
     "shell.execute_reply": "2022-04-15T21:51:44.297713Z"
    }
   },
   "outputs": [],
   "source": [
    "import sympy as sm\n",
    "import sympy.physics.mechanics as me\n",
    "sm.init_printing(use_latex='mathjax')"
   ]
  },
  {
   "cell_type": "code",
   "execution_count": 2,
   "id": "baff4dd1",
   "metadata": {
    "execution": {
     "iopub.execute_input": "2022-04-15T21:51:44.303403Z",
     "iopub.status.busy": "2022-04-15T21:51:44.303198Z",
     "iopub.status.idle": "2022-04-15T21:51:44.307300Z",
     "shell.execute_reply": "2022-04-15T21:51:44.306672Z"
    }
   },
   "outputs": [],
   "source": [
    "N = me.ReferenceFrame('N')"
   ]
  },
  {
   "cell_type": "code",
   "execution_count": 3,
   "id": "2b1d611b",
   "metadata": {
    "execution": {
     "iopub.execute_input": "2022-04-15T21:51:44.310201Z",
     "iopub.status.busy": "2022-04-15T21:51:44.309932Z",
     "iopub.status.idle": "2022-04-15T21:51:44.313547Z",
     "shell.execute_reply": "2022-04-15T21:51:44.312942Z"
    }
   },
   "outputs": [],
   "source": [
    "a, b, c, d, e, f = sm.symbols('a, b, c, d, e, f')"
   ]
  },
  {
   "cell_type": "code",
   "execution_count": 4,
   "id": "0c816277",
   "metadata": {
    "execution": {
     "iopub.execute_input": "2022-04-15T21:51:44.316452Z",
     "iopub.status.busy": "2022-04-15T21:51:44.316047Z",
     "iopub.status.idle": "2022-04-15T21:51:44.323541Z",
     "shell.execute_reply": "2022-04-15T21:51:44.322946Z"
    }
   },
   "outputs": [
    {
     "data": {
      "text/latex": [
       "$\\displaystyle a\\mathbf{\\hat{n}_x}$"
      ],
      "text/plain": [
       "a n_x"
      ]
     },
     "execution_count": 4,
     "metadata": {},
     "output_type": "execute_result"
    }
   ],
   "source": [
    "v = a*N.x\n",
    "v"
   ]
  },
  {
   "cell_type": "code",
   "execution_count": 5,
   "id": "778f51a0",
   "metadata": {
    "execution": {
     "iopub.execute_input": "2022-04-15T21:51:44.327503Z",
     "iopub.status.busy": "2022-04-15T21:51:44.327088Z",
     "iopub.status.idle": "2022-04-15T21:51:44.334281Z",
     "shell.execute_reply": "2022-04-15T21:51:44.333647Z"
    }
   },
   "outputs": [
    {
     "data": {
      "text/latex": [
       "$\\displaystyle \\left[\\begin{matrix}a\\\\0\\\\0\\end{matrix}\\right]$"
      ],
      "text/plain": [
       "⎡a⎤\n",
       "⎢ ⎥\n",
       "⎢0⎥\n",
       "⎢ ⎥\n",
       "⎣0⎦"
      ]
     },
     "execution_count": 5,
     "metadata": {},
     "output_type": "execute_result"
    }
   ],
   "source": [
    "v.to_matrix(N)"
   ]
  },
  {
   "cell_type": "code",
   "execution_count": 6,
   "id": "e4573efc",
   "metadata": {
    "execution": {
     "iopub.execute_input": "2022-04-15T21:51:44.337920Z",
     "iopub.status.busy": "2022-04-15T21:51:44.337519Z",
     "iopub.status.idle": "2022-04-15T21:51:44.343712Z",
     "shell.execute_reply": "2022-04-15T21:51:44.343110Z"
    }
   },
   "outputs": [
    {
     "data": {
      "text/latex": [
       "$\\displaystyle a\\mathbf{\\hat{n}_x} + b\\mathbf{\\hat{n}_y} + c\\mathbf{\\hat{n}_z}$"
      ],
      "text/plain": [
       "a n_x + b n_y + c n_z"
      ]
     },
     "execution_count": 6,
     "metadata": {},
     "output_type": "execute_result"
    }
   ],
   "source": [
    "w = a*N.x + b*N.y + c*N.z\n",
    "w"
   ]
  },
  {
   "cell_type": "code",
   "execution_count": 7,
   "id": "85f78ab8",
   "metadata": {
    "execution": {
     "iopub.execute_input": "2022-04-15T21:51:44.347353Z",
     "iopub.status.busy": "2022-04-15T21:51:44.346858Z",
     "iopub.status.idle": "2022-04-15T21:51:44.353906Z",
     "shell.execute_reply": "2022-04-15T21:51:44.353297Z"
    }
   },
   "outputs": [
    {
     "data": {
      "text/latex": [
       "$\\displaystyle \\left[\\begin{matrix}a\\\\b\\\\c\\end{matrix}\\right]$"
      ],
      "text/plain": [
       "⎡a⎤\n",
       "⎢ ⎥\n",
       "⎢b⎥\n",
       "⎢ ⎥\n",
       "⎣c⎦"
      ]
     },
     "execution_count": 7,
     "metadata": {},
     "output_type": "execute_result"
    }
   ],
   "source": [
    "w.to_matrix(N)"
   ]
  },
  {
   "cell_type": "code",
   "execution_count": 8,
   "id": "bea8ead8",
   "metadata": {
    "execution": {
     "iopub.execute_input": "2022-04-15T21:51:44.356901Z",
     "iopub.status.busy": "2022-04-15T21:51:44.356418Z",
     "iopub.status.idle": "2022-04-15T21:51:44.362497Z",
     "shell.execute_reply": "2022-04-15T21:51:44.361900Z"
    }
   },
   "outputs": [
    {
     "data": {
      "text/latex": [
       "$\\displaystyle d\\mathbf{\\hat{n}_x} + e\\mathbf{\\hat{n}_y} + f\\mathbf{\\hat{n}_z}$"
      ],
      "text/plain": [
       "d n_x + e n_y + f n_z"
      ]
     },
     "execution_count": 8,
     "metadata": {},
     "output_type": "execute_result"
    }
   ],
   "source": [
    "x = d*N.x + e*N.y + f*N.z\n",
    "x"
   ]
  },
  {
   "cell_type": "code",
   "execution_count": 9,
   "id": "15a852cf",
   "metadata": {
    "execution": {
     "iopub.execute_input": "2022-04-15T21:51:44.365559Z",
     "iopub.status.busy": "2022-04-15T21:51:44.365071Z",
     "iopub.status.idle": "2022-04-15T21:51:44.371983Z",
     "shell.execute_reply": "2022-04-15T21:51:44.371372Z"
    }
   },
   "outputs": [
    {
     "data": {
      "text/latex": [
       "$\\displaystyle (a + d)\\mathbf{\\hat{n}_x} + (b + e)\\mathbf{\\hat{n}_y} + (c + f)\\mathbf{\\hat{n}_z}$"
      ],
      "text/plain": [
       "(a + d) n_x + (b + e) n_y + (c + f) n_z"
      ]
     },
     "execution_count": 9,
     "metadata": {},
     "output_type": "execute_result"
    }
   ],
   "source": [
    "w + x"
   ]
  },
  {
   "cell_type": "code",
   "execution_count": 10,
   "id": "e75e0c72",
   "metadata": {
    "execution": {
     "iopub.execute_input": "2022-04-15T21:51:44.375575Z",
     "iopub.status.busy": "2022-04-15T21:51:44.375084Z",
     "iopub.status.idle": "2022-04-15T21:51:44.381481Z",
     "shell.execute_reply": "2022-04-15T21:51:44.380878Z"
    }
   },
   "outputs": [
    {
     "data": {
      "text/latex": [
       "$\\displaystyle 2 a\\mathbf{\\hat{n}_x} + 2 b\\mathbf{\\hat{n}_y} + 2 c\\mathbf{\\hat{n}_z}$"
      ],
      "text/plain": [
       "2⋅a n_x + 2⋅b n_y + 2⋅c n_z"
      ]
     },
     "execution_count": 10,
     "metadata": {},
     "output_type": "execute_result"
    }
   ],
   "source": [
    "y = 2*w\n",
    "y"
   ]
  },
  {
   "cell_type": "code",
   "execution_count": 11,
   "id": "3b0b37c3",
   "metadata": {
    "execution": {
     "iopub.execute_input": "2022-04-15T21:51:44.385065Z",
     "iopub.status.busy": "2022-04-15T21:51:44.384564Z",
     "iopub.status.idle": "2022-04-15T21:51:44.390448Z",
     "shell.execute_reply": "2022-04-15T21:51:44.389816Z"
    }
   },
   "outputs": [
    {
     "data": {
      "text/latex": [
       "$\\displaystyle -  a\\mathbf{\\hat{n}_x} -  b\\mathbf{\\hat{n}_y} -  c\\mathbf{\\hat{n}_z}$"
      ],
      "text/plain": [
       "-a n_x + -b n_y + -c n_z"
      ]
     },
     "execution_count": 11,
     "metadata": {},
     "output_type": "execute_result"
    }
   ],
   "source": [
    "z = -w\n",
    "z"
   ]
  },
  {
   "cell_type": "code",
   "execution_count": 12,
   "id": "95d9d7c4",
   "metadata": {
    "execution": {
     "iopub.execute_input": "2022-04-15T21:51:44.393878Z",
     "iopub.status.busy": "2022-04-15T21:51:44.393384Z",
     "iopub.status.idle": "2022-04-15T21:51:44.397208Z",
     "shell.execute_reply": "2022-04-15T21:51:44.396753Z"
    }
   },
   "outputs": [],
   "source": [
    "N = me.ReferenceFrame('N')\n",
    "l, theta = sm.symbols('l, theta')"
   ]
  },
  {
   "cell_type": "code",
   "execution_count": 13,
   "id": "19ab7c80",
   "metadata": {
    "execution": {
     "iopub.execute_input": "2022-04-15T21:51:44.400136Z",
     "iopub.status.busy": "2022-04-15T21:51:44.399623Z",
     "iopub.status.idle": "2022-04-15T21:51:44.414231Z",
     "shell.execute_reply": "2022-04-15T21:51:44.413658Z"
    }
   },
   "outputs": [
    {
     "data": {
      "text/latex": [
       "$\\displaystyle \\frac{\\sqrt{2} l}{2}\\mathbf{\\hat{n}_x} + \\frac{\\sqrt{2} l}{2}\\mathbf{\\hat{n}_y}$"
      ],
      "text/plain": [
       "√2⋅l       √2⋅l\n",
       "──── n_x + ──── n_y\n",
       " 2          2"
      ]
     },
     "execution_count": 13,
     "metadata": {},
     "output_type": "execute_result"
    }
   ],
   "source": [
    "v1 = l*sm.cos(sm.pi/4)*N.x + l*sm.sin(sm.pi/4)*N.y\n",
    "v1"
   ]
  },
  {
   "cell_type": "code",
   "execution_count": 14,
   "id": "f59a39ed",
   "metadata": {
    "execution": {
     "iopub.execute_input": "2022-04-15T21:51:44.417179Z",
     "iopub.status.busy": "2022-04-15T21:51:44.416863Z",
     "iopub.status.idle": "2022-04-15T21:51:44.423740Z",
     "shell.execute_reply": "2022-04-15T21:51:44.423212Z"
    }
   },
   "outputs": [
    {
     "data": {
      "text/latex": [
       "$\\displaystyle - 10\\mathbf{\\hat{n}_y}$"
      ],
      "text/plain": [
       "-10 n_y"
      ]
     },
     "execution_count": 14,
     "metadata": {},
     "output_type": "execute_result"
    }
   ],
   "source": [
    "v2 = -10*N.y\n",
    "v2"
   ]
  },
  {
   "cell_type": "code",
   "execution_count": 15,
   "id": "b4d06ee5",
   "metadata": {
    "execution": {
     "iopub.execute_input": "2022-04-15T21:51:44.426730Z",
     "iopub.status.busy": "2022-04-15T21:51:44.426306Z",
     "iopub.status.idle": "2022-04-15T21:51:44.436656Z",
     "shell.execute_reply": "2022-04-15T21:51:44.436137Z"
    }
   },
   "outputs": [
    {
     "data": {
      "text/latex": [
       "$\\displaystyle -  l \\sin{\\left(\\theta \\right)}\\mathbf{\\hat{n}_x} + l \\cos{\\left(\\theta \\right)}\\mathbf{\\hat{n}_y}$"
      ],
      "text/plain": [
       "-l⋅sin(θ) n_x + l⋅cos(θ) n_y"
      ]
     },
     "execution_count": 15,
     "metadata": {},
     "output_type": "execute_result"
    }
   ],
   "source": [
    "v3 = -l*sm.sin(theta)*N.x + l*sm.cos(theta)*N.y\n",
    "v3"
   ]
  },
  {
   "cell_type": "code",
   "execution_count": 16,
   "id": "d4670538",
   "metadata": {
    "execution": {
     "iopub.execute_input": "2022-04-15T21:51:44.439412Z",
     "iopub.status.busy": "2022-04-15T21:51:44.438897Z",
     "iopub.status.idle": "2022-04-15T21:51:44.452101Z",
     "shell.execute_reply": "2022-04-15T21:51:44.451134Z"
    }
   },
   "outputs": [
    {
     "data": {
      "text/latex": [
       "$\\displaystyle (5 l \\sin{\\left(\\theta \\right)} + \\frac{\\sqrt{2} l}{2})\\mathbf{\\hat{n}_x} + (- 5 l \\cos{\\left(\\theta \\right)} + \\frac{\\sqrt{2} l}{2} - 10)\\mathbf{\\hat{n}_y}$"
      ],
      "text/plain": [
       "⎛             √2⋅l⎞       ⎛              √2⋅l     ⎞\n",
       "⎜5⋅l⋅sin(θ) + ────⎟ n_x + ⎜-5⋅l⋅cos(θ) + ──── - 10⎟ n_y\n",
       "⎝              2  ⎠       ⎝               2       ⎠"
      ]
     },
     "execution_count": 16,
     "metadata": {},
     "output_type": "execute_result"
    }
   ],
   "source": [
    "v1 + v2 - 5*v3"
   ]
  },
  {
   "cell_type": "code",
   "execution_count": 17,
   "id": "4ca52276",
   "metadata": {
    "execution": {
     "iopub.execute_input": "2022-04-15T21:51:44.455225Z",
     "iopub.status.busy": "2022-04-15T21:51:44.454713Z",
     "iopub.status.idle": "2022-04-15T21:51:44.461471Z",
     "shell.execute_reply": "2022-04-15T21:51:44.460929Z"
    }
   },
   "outputs": [],
   "source": [
    "N = me.ReferenceFrame('N')\n",
    "w = a*N.x + b*N.y + c*N.z\n",
    "x = d*N.x + e*N.y + f*N.z"
   ]
  },
  {
   "cell_type": "code",
   "execution_count": 18,
   "id": "0264ae42",
   "metadata": {
    "execution": {
     "iopub.execute_input": "2022-04-15T21:51:44.464457Z",
     "iopub.status.busy": "2022-04-15T21:51:44.464153Z",
     "iopub.status.idle": "2022-04-15T21:51:44.473640Z",
     "shell.execute_reply": "2022-04-15T21:51:44.473111Z"
    }
   },
   "outputs": [
    {
     "data": {
      "text/latex": [
       "$\\displaystyle a d + b e + c f$"
      ],
      "text/plain": [
       "a⋅d + b⋅e + c⋅f"
      ]
     },
     "execution_count": 18,
     "metadata": {},
     "output_type": "execute_result"
    }
   ],
   "source": [
    "me.dot(w, x)"
   ]
  },
  {
   "cell_type": "code",
   "execution_count": 19,
   "id": "a211fae2",
   "metadata": {
    "execution": {
     "iopub.execute_input": "2022-04-15T21:51:44.476395Z",
     "iopub.status.busy": "2022-04-15T21:51:44.475913Z",
     "iopub.status.idle": "2022-04-15T21:51:44.485155Z",
     "shell.execute_reply": "2022-04-15T21:51:44.483980Z"
    }
   },
   "outputs": [
    {
     "data": {
      "text/latex": [
       "$\\displaystyle a d + b e + c f$"
      ],
      "text/plain": [
       "a⋅d + b⋅e + c⋅f"
      ]
     },
     "execution_count": 19,
     "metadata": {},
     "output_type": "execute_result"
    }
   ],
   "source": [
    "w.dot(x)"
   ]
  },
  {
   "cell_type": "code",
   "execution_count": 20,
   "id": "bfed912a",
   "metadata": {
    "execution": {
     "iopub.execute_input": "2022-04-15T21:51:44.487959Z",
     "iopub.status.busy": "2022-04-15T21:51:44.487471Z",
     "iopub.status.idle": "2022-04-15T21:51:44.506627Z",
     "shell.execute_reply": "2022-04-15T21:51:44.506033Z"
    }
   },
   "outputs": [
    {
     "data": {
      "text/latex": [
       "$\\displaystyle \\frac{a}{\\sqrt{a^{2} + b^{2} + c^{2}}}\\mathbf{\\hat{n}_x} + \\frac{b}{\\sqrt{a^{2} + b^{2} + c^{2}}}\\mathbf{\\hat{n}_y} + \\frac{c}{\\sqrt{a^{2} + b^{2} + c^{2}}}\\mathbf{\\hat{n}_z}$"
      ],
      "text/plain": [
       "        a                       b                       c\n",
       "───────────────── n_x + ───────────────── n_y + ───────────────── n_z\n",
       "   ______________          ______________          ______________\n",
       "  ╱  2    2    2          ╱  2    2    2          ╱  2    2    2\n",
       "╲╱  a  + b  + c         ╲╱  a  + b  + c         ╲╱  a  + b  + c"
      ]
     },
     "execution_count": 20,
     "metadata": {},
     "output_type": "execute_result"
    }
   ],
   "source": [
    "w.normalize()"
   ]
  },
  {
   "cell_type": "code",
   "execution_count": 21,
   "id": "dcdfd4bd",
   "metadata": {
    "execution": {
     "iopub.execute_input": "2022-04-15T21:51:44.509686Z",
     "iopub.status.busy": "2022-04-15T21:51:44.509371Z",
     "iopub.status.idle": "2022-04-15T21:51:44.521533Z",
     "shell.execute_reply": "2022-04-15T21:51:44.520978Z"
    }
   },
   "outputs": [
    {
     "data": {
      "text/latex": [
       "$\\displaystyle \\frac{a}{\\sqrt{a^{2} + b^{2} + c^{2}}}\\mathbf{\\hat{n}_x} + \\frac{b}{\\sqrt{a^{2} + b^{2} + c^{2}}}\\mathbf{\\hat{n}_y} + \\frac{c}{\\sqrt{a^{2} + b^{2} + c^{2}}}\\mathbf{\\hat{n}_z}$"
      ],
      "text/plain": [
       "        a                       b                       c\n",
       "───────────────── n_x + ───────────────── n_y + ───────────────── n_z\n",
       "   ______________          ______________          ______________\n",
       "  ╱  2    2    2          ╱  2    2    2          ╱  2    2    2\n",
       "╲╱  a  + b  + c         ╲╱  a  + b  + c         ╲╱  a  + b  + c"
      ]
     },
     "execution_count": 21,
     "metadata": {},
     "output_type": "execute_result"
    }
   ],
   "source": [
    "def normalize(vector):\n",
    "    return vector/sm.sqrt(me.dot(vector, vector))\n",
    "\n",
    "normalize(w)"
   ]
  },
  {
   "cell_type": "code",
   "execution_count": 22,
   "id": "1bd41492",
   "metadata": {
    "execution": {
     "iopub.execute_input": "2022-04-15T21:51:44.525696Z",
     "iopub.status.busy": "2022-04-15T21:51:44.524235Z",
     "iopub.status.idle": "2022-04-15T21:51:44.532854Z",
     "shell.execute_reply": "2022-04-15T21:51:44.532315Z"
    }
   },
   "outputs": [
    {
     "data": {
      "text/latex": [
       "$\\displaystyle \\sqrt{a^{2} + b^{2} + c^{2}}$"
      ],
      "text/plain": [
       "   ______________\n",
       "  ╱  2    2    2 \n",
       "╲╱  a  + b  + c  "
      ]
     },
     "execution_count": 22,
     "metadata": {},
     "output_type": "execute_result"
    }
   ],
   "source": [
    "w.magnitude()"
   ]
  },
  {
   "cell_type": "code",
   "execution_count": 23,
   "id": "ede10c1d",
   "metadata": {
    "execution": {
     "iopub.execute_input": "2022-04-15T21:51:44.535763Z",
     "iopub.status.busy": "2022-04-15T21:51:44.535272Z",
     "iopub.status.idle": "2022-04-15T21:51:44.545741Z",
     "shell.execute_reply": "2022-04-15T21:51:44.545129Z"
    }
   },
   "outputs": [
    {
     "data": {
      "text/latex": [
       "$\\displaystyle \\frac{a}{\\sqrt{a^{2} + b^{2} + c^{2}}}\\mathbf{\\hat{n}_x} + \\frac{b}{\\sqrt{a^{2} + b^{2} + c^{2}}}\\mathbf{\\hat{n}_y} + \\frac{c}{\\sqrt{a^{2} + b^{2} + c^{2}}}\\mathbf{\\hat{n}_z}$"
      ],
      "text/plain": [
       "        a                       b                       c\n",
       "───────────────── n_x + ───────────────── n_y + ───────────────── n_z\n",
       "   ______________          ______________          ______________\n",
       "  ╱  2    2    2          ╱  2    2    2          ╱  2    2    2\n",
       "╲╱  a  + b  + c         ╲╱  a  + b  + c         ╲╱  a  + b  + c"
      ]
     },
     "execution_count": 23,
     "metadata": {},
     "output_type": "execute_result"
    }
   ],
   "source": [
    "w/w.magnitude()"
   ]
  },
  {
   "cell_type": "code",
   "execution_count": 24,
   "id": "4ae1af4d",
   "metadata": {
    "execution": {
     "iopub.execute_input": "2022-04-15T21:51:44.548747Z",
     "iopub.status.busy": "2022-04-15T21:51:44.548471Z",
     "iopub.status.idle": "2022-04-15T21:51:44.555604Z",
     "shell.execute_reply": "2022-04-15T21:51:44.555037Z"
    }
   },
   "outputs": [],
   "source": [
    "N = me.ReferenceFrame('N')\n",
    "v1 = a*N.x + b*N.y + a*N.z\n",
    "v2 = b*N.x + a*N.y + b*N.z"
   ]
  },
  {
   "cell_type": "code",
   "execution_count": 25,
   "id": "be018b17",
   "metadata": {
    "execution": {
     "iopub.execute_input": "2022-04-15T21:51:44.558637Z",
     "iopub.status.busy": "2022-04-15T21:51:44.558306Z",
     "iopub.status.idle": "2022-04-15T21:51:44.583988Z",
     "shell.execute_reply": "2022-04-15T21:51:44.583454Z"
    }
   },
   "outputs": [
    {
     "data": {
      "text/latex": [
       "$\\displaystyle \\operatorname{acos}{\\left(\\frac{3 a b}{\\sqrt{a^{2} + 2 b^{2}} \\sqrt{2 a^{2} + b^{2}}} \\right)}$"
      ],
      "text/plain": [
       "    ⎛            3⋅a⋅b            ⎞\n",
       "acos⎜─────────────────────────────⎟\n",
       "    ⎜   ___________    ___________⎟\n",
       "    ⎜  ╱  2      2    ╱    2    2 ⎟\n",
       "    ⎝╲╱  a  + 2⋅b  ⋅╲╱  2⋅a  + b  ⎠"
      ]
     },
     "execution_count": 25,
     "metadata": {},
     "output_type": "execute_result"
    }
   ],
   "source": [
    "sm.acos(v1.dot(v2) / (v1.magnitude()*v2.magnitude()))"
   ]
  },
  {
   "cell_type": "code",
   "execution_count": 26,
   "id": "641e1d88",
   "metadata": {
    "execution": {
     "iopub.execute_input": "2022-04-15T21:51:44.587156Z",
     "iopub.status.busy": "2022-04-15T21:51:44.586657Z",
     "iopub.status.idle": "2022-04-15T21:51:44.595208Z",
     "shell.execute_reply": "2022-04-15T21:51:44.594591Z"
    }
   },
   "outputs": [
    {
     "data": {
      "text/latex": [
       "$\\displaystyle a\\mathbf{\\hat{n}_x} + b\\mathbf{\\hat{n}_y} + c\\mathbf{\\hat{n}_z}$"
      ],
      "text/plain": [
       "a n_x + b n_y + c n_z"
      ]
     },
     "execution_count": 26,
     "metadata": {},
     "output_type": "execute_result"
    }
   ],
   "source": [
    "N = me.ReferenceFrame('N')\n",
    "w = a*N.x + b*N.y + c*N.z\n",
    "w"
   ]
  },
  {
   "cell_type": "code",
   "execution_count": 27,
   "id": "957bb587",
   "metadata": {
    "execution": {
     "iopub.execute_input": "2022-04-15T21:51:44.598190Z",
     "iopub.status.busy": "2022-04-15T21:51:44.597714Z",
     "iopub.status.idle": "2022-04-15T21:51:44.605917Z",
     "shell.execute_reply": "2022-04-15T21:51:44.605378Z"
    }
   },
   "outputs": [
    {
     "data": {
      "text/latex": [
       "$\\displaystyle d\\mathbf{\\hat{n}_x} + e\\mathbf{\\hat{n}_y} + f\\mathbf{\\hat{n}_z}$"
      ],
      "text/plain": [
       "d n_x + e n_y + f n_z"
      ]
     },
     "execution_count": 27,
     "metadata": {},
     "output_type": "execute_result"
    }
   ],
   "source": [
    "x = d*N.x + e*N.y + f*N.z\n",
    "x"
   ]
  },
  {
   "cell_type": "code",
   "execution_count": 28,
   "id": "4aa5fbb8",
   "metadata": {
    "execution": {
     "iopub.execute_input": "2022-04-15T21:51:44.608859Z",
     "iopub.status.busy": "2022-04-15T21:51:44.608406Z",
     "iopub.status.idle": "2022-04-15T21:51:44.622814Z",
     "shell.execute_reply": "2022-04-15T21:51:44.622181Z"
    }
   },
   "outputs": [
    {
     "data": {
      "text/latex": [
       "$\\displaystyle (b f - c e)\\mathbf{\\hat{n}_x} + (- a f + c d)\\mathbf{\\hat{n}_y} + (a e - b d)\\mathbf{\\hat{n}_z}$"
      ],
      "text/plain": [
       "(b⋅f - c⋅e) n_x + (-a⋅f + c⋅d) n_y + (a⋅e - b⋅d) n_z"
      ]
     },
     "execution_count": 28,
     "metadata": {},
     "output_type": "execute_result"
    }
   ],
   "source": [
    "me.cross(w, x)"
   ]
  },
  {
   "cell_type": "code",
   "execution_count": 29,
   "id": "408b88e0",
   "metadata": {
    "execution": {
     "iopub.execute_input": "2022-04-15T21:51:44.625690Z",
     "iopub.status.busy": "2022-04-15T21:51:44.625391Z",
     "iopub.status.idle": "2022-04-15T21:51:44.638179Z",
     "shell.execute_reply": "2022-04-15T21:51:44.637655Z"
    }
   },
   "outputs": [
    {
     "data": {
      "text/latex": [
       "$\\displaystyle (b f - c e)\\mathbf{\\hat{n}_x} + (- a f + c d)\\mathbf{\\hat{n}_y} + (a e - b d)\\mathbf{\\hat{n}_z}$"
      ],
      "text/plain": [
       "(b⋅f - c⋅e) n_x + (-a⋅f + c⋅d) n_y + (a⋅e - b⋅d) n_z"
      ]
     },
     "execution_count": 29,
     "metadata": {},
     "output_type": "execute_result"
    }
   ],
   "source": [
    "w.cross(x)"
   ]
  },
  {
   "cell_type": "code",
   "execution_count": 30,
   "id": "5aa14cc1",
   "metadata": {
    "execution": {
     "iopub.execute_input": "2022-04-15T21:51:44.641875Z",
     "iopub.status.busy": "2022-04-15T21:51:44.640695Z",
     "iopub.status.idle": "2022-04-15T21:51:44.655496Z",
     "shell.execute_reply": "2022-04-15T21:51:44.654634Z"
    }
   },
   "outputs": [
    {
     "data": {
      "text/latex": [
       "$\\displaystyle \\sqrt{36077}$"
      ],
      "text/plain": [
       "√36077"
      ]
     },
     "execution_count": 30,
     "metadata": {},
     "output_type": "execute_result"
    }
   ],
   "source": [
    "N = me.ReferenceFrame('N')\n",
    "\n",
    "p1 = 23*N.x - 12* N.y\n",
    "p2 = 16*N.x + 2*N.y - 4*N.z\n",
    "p3 = N.x + 14*N.z\n",
    "\n",
    "me.cross(p2 - p1, p3 - p1).magnitude() / 2"
   ]
  },
  {
   "cell_type": "code",
   "execution_count": 31,
   "id": "c6706468",
   "metadata": {
    "execution": {
     "iopub.execute_input": "2022-04-15T21:51:44.658717Z",
     "iopub.status.busy": "2022-04-15T21:51:44.658243Z",
     "iopub.status.idle": "2022-04-15T21:51:44.667694Z",
     "shell.execute_reply": "2022-04-15T21:51:44.667167Z"
    }
   },
   "outputs": [
    {
     "data": {
      "text/latex": [
       "$\\displaystyle a\\mathbf{\\hat{a}_x} + b\\mathbf{\\hat{n}_y}$"
      ],
      "text/plain": [
       "a a_x + b n_y"
      ]
     },
     "execution_count": 31,
     "metadata": {},
     "output_type": "execute_result"
    }
   ],
   "source": [
    "N = me.ReferenceFrame('N')\n",
    "A = me.ReferenceFrame('A')\n",
    "a, b, theta = sm.symbols('a, b, theta')\n",
    "\n",
    "v = a*A.x + b*N.y\n",
    "v"
   ]
  },
  {
   "cell_type": "code",
   "execution_count": 32,
   "id": "d5600964",
   "metadata": {
    "execution": {
     "iopub.execute_input": "2022-04-15T21:51:44.670846Z",
     "iopub.status.busy": "2022-04-15T21:51:44.670549Z",
     "iopub.status.idle": "2022-04-15T21:51:44.678574Z",
     "shell.execute_reply": "2022-04-15T21:51:44.677492Z"
    }
   },
   "outputs": [
    {
     "data": {
      "text/latex": [
       "$\\displaystyle 2 a\\mathbf{\\hat{a}_x} + 2 b\\mathbf{\\hat{n}_y}$"
      ],
      "text/plain": [
       "2⋅a a_x + 2⋅b n_y"
      ]
     },
     "execution_count": 32,
     "metadata": {},
     "output_type": "execute_result"
    }
   ],
   "source": [
    "v + v"
   ]
  },
  {
   "cell_type": "code",
   "execution_count": 33,
   "id": "f44df2aa",
   "metadata": {
    "execution": {
     "iopub.execute_input": "2022-04-15T21:51:44.682304Z",
     "iopub.status.busy": "2022-04-15T21:51:44.681132Z",
     "iopub.status.idle": "2022-04-15T21:51:44.695782Z",
     "shell.execute_reply": "2022-04-15T21:51:44.695244Z"
    }
   },
   "outputs": [
    {
     "data": {
      "text/latex": [
       "$\\displaystyle a \\cos{\\left(\\theta \\right)}\\mathbf{\\hat{n}_x} + (a \\sin{\\left(\\theta \\right)} + b)\\mathbf{\\hat{n}_y}$"
      ],
      "text/plain": [
       "a⋅cos(θ) n_x + (a⋅sin(θ) + b) n_y"
      ]
     },
     "execution_count": 33,
     "metadata": {},
     "output_type": "execute_result"
    }
   ],
   "source": [
    "A.orient_axis(N, theta, N.z)\n",
    "\n",
    "v.express(N)"
   ]
  },
  {
   "cell_type": "code",
   "execution_count": 34,
   "id": "d1e33ea0",
   "metadata": {
    "execution": {
     "iopub.execute_input": "2022-04-15T21:51:44.698725Z",
     "iopub.status.busy": "2022-04-15T21:51:44.698424Z",
     "iopub.status.idle": "2022-04-15T21:51:44.707725Z",
     "shell.execute_reply": "2022-04-15T21:51:44.707175Z"
    }
   },
   "outputs": [
    {
     "data": {
      "text/latex": [
       "$\\displaystyle (a + b \\sin{\\left(\\theta \\right)})\\mathbf{\\hat{a}_x} + b \\cos{\\left(\\theta \\right)}\\mathbf{\\hat{a}_y}$"
      ],
      "text/plain": [
       "(a + b⋅sin(θ)) a_x + b⋅cos(θ) a_y"
      ]
     },
     "execution_count": 34,
     "metadata": {},
     "output_type": "execute_result"
    }
   ],
   "source": [
    "v.express(A)"
   ]
  },
  {
   "cell_type": "code",
   "execution_count": 35,
   "id": "228ca161",
   "metadata": {
    "execution": {
     "iopub.execute_input": "2022-04-15T21:51:44.710664Z",
     "iopub.status.busy": "2022-04-15T21:51:44.710328Z",
     "iopub.status.idle": "2022-04-15T21:51:44.717885Z",
     "shell.execute_reply": "2022-04-15T21:51:44.717322Z"
    }
   },
   "outputs": [],
   "source": [
    "q1, q2, q3, q4 = sm.symbols('q1, q2, q3, q4')\n",
    "l1, l2, l3, l4 = sm.symbols('l1, l2, l3, l4')\n",
    "N = me.ReferenceFrame('N')\n",
    "A = me.ReferenceFrame('A')\n",
    "B = me.ReferenceFrame('B')\n",
    "C = me.ReferenceFrame('C')"
   ]
  },
  {
   "cell_type": "code",
   "execution_count": 36,
   "id": "a407c79e",
   "metadata": {
    "execution": {
     "iopub.execute_input": "2022-04-15T21:51:44.720920Z",
     "iopub.status.busy": "2022-04-15T21:51:44.720428Z",
     "iopub.status.idle": "2022-04-15T21:51:44.748602Z",
     "shell.execute_reply": "2022-04-15T21:51:44.747982Z"
    }
   },
   "outputs": [],
   "source": [
    "A.orient_body_fixed(N, (q1, q2, 0), 'ZXZ')"
   ]
  },
  {
   "cell_type": "code",
   "execution_count": 37,
   "id": "3931365f",
   "metadata": {
    "execution": {
     "iopub.execute_input": "2022-04-15T21:51:44.751645Z",
     "iopub.status.busy": "2022-04-15T21:51:44.751333Z",
     "iopub.status.idle": "2022-04-15T21:51:44.759845Z",
     "shell.execute_reply": "2022-04-15T21:51:44.758533Z"
    }
   },
   "outputs": [],
   "source": [
    "B.orient_axis(A, q3, A.x)"
   ]
  },
  {
   "cell_type": "code",
   "execution_count": 38,
   "id": "8a2c78cd",
   "metadata": {
    "execution": {
     "iopub.execute_input": "2022-04-15T21:51:44.763105Z",
     "iopub.status.busy": "2022-04-15T21:51:44.762642Z",
     "iopub.status.idle": "2022-04-15T21:51:44.793951Z",
     "shell.execute_reply": "2022-04-15T21:51:44.793364Z"
    }
   },
   "outputs": [],
   "source": [
    "C.orient_body_fixed(B, (q3, q4, 0), 'XZX')"
   ]
  },
  {
   "cell_type": "code",
   "execution_count": 39,
   "id": "0af957a8",
   "metadata": {
    "execution": {
     "iopub.execute_input": "2022-04-15T21:51:44.796867Z",
     "iopub.status.busy": "2022-04-15T21:51:44.796547Z",
     "iopub.status.idle": "2022-04-15T21:51:44.802250Z",
     "shell.execute_reply": "2022-04-15T21:51:44.801717Z"
    }
   },
   "outputs": [],
   "source": [
    "R_P1_P2 = l1*A.z\n",
    "R_P2_P3 = l2*B.z\n",
    "R_P3_P4 = l3*C.z - l4*C.y"
   ]
  },
  {
   "cell_type": "code",
   "execution_count": 40,
   "id": "1a70286e",
   "metadata": {
    "execution": {
     "iopub.execute_input": "2022-04-15T21:51:44.805228Z",
     "iopub.status.busy": "2022-04-15T21:51:44.804938Z",
     "iopub.status.idle": "2022-04-15T21:51:44.812938Z",
     "shell.execute_reply": "2022-04-15T21:51:44.812382Z"
    }
   },
   "outputs": [
    {
     "data": {
      "text/latex": [
       "$\\displaystyle l_{1}\\mathbf{\\hat{a}_z} + l_{2}\\mathbf{\\hat{b}_z} -  l_{4}\\mathbf{\\hat{c}_y} + l_{3}\\mathbf{\\hat{c}_z}$"
      ],
      "text/plain": [
       "l₁ a_z + l₂ b_z + -l₄ c_y + l₃ c_z"
      ]
     },
     "execution_count": 40,
     "metadata": {},
     "output_type": "execute_result"
    }
   ],
   "source": [
    "R_P1_P4 = R_P1_P2 + R_P2_P3 + R_P3_P4\n",
    "R_P1_P4"
   ]
  },
  {
   "cell_type": "code",
   "execution_count": 41,
   "id": "9bc37a1f",
   "metadata": {
    "execution": {
     "iopub.execute_input": "2022-04-15T21:51:44.815754Z",
     "iopub.status.busy": "2022-04-15T21:51:44.815566Z",
     "iopub.status.idle": "2022-04-15T21:51:44.925169Z",
     "shell.execute_reply": "2022-04-15T21:51:44.924216Z"
    }
   },
   "outputs": [
    {
     "data": {
      "text/latex": [
       "$\\displaystyle (l_{1} \\sin{\\left(q_{1} \\right)} \\sin{\\left(q_{2} \\right)} + l_{2} \\left(\\sin{\\left(q_{1} \\right)} \\sin{\\left(q_{2} \\right)} \\cos{\\left(q_{3} \\right)} + \\sin{\\left(q_{1} \\right)} \\sin{\\left(q_{3} \\right)} \\cos{\\left(q_{2} \\right)}\\right) + l_{3} \\left(- \\left(\\sin{\\left(q_{1} \\right)} \\sin{\\left(q_{2} \\right)} \\sin{\\left(q_{3} \\right)} - \\sin{\\left(q_{1} \\right)} \\cos{\\left(q_{2} \\right)} \\cos{\\left(q_{3} \\right)}\\right) \\sin{\\left(q_{3} \\right)} + \\left(\\sin{\\left(q_{1} \\right)} \\sin{\\left(q_{2} \\right)} \\cos{\\left(q_{3} \\right)} + \\sin{\\left(q_{1} \\right)} \\sin{\\left(q_{3} \\right)} \\cos{\\left(q_{2} \\right)}\\right) \\cos{\\left(q_{3} \\right)}\\right) - l_{4} \\left(\\left(\\sin{\\left(q_{1} \\right)} \\sin{\\left(q_{2} \\right)} \\sin{\\left(q_{3} \\right)} - \\sin{\\left(q_{1} \\right)} \\cos{\\left(q_{2} \\right)} \\cos{\\left(q_{3} \\right)}\\right) \\cos{\\left(q_{3} \\right)} \\cos{\\left(q_{4} \\right)} + \\left(\\sin{\\left(q_{1} \\right)} \\sin{\\left(q_{2} \\right)} \\cos{\\left(q_{3} \\right)} + \\sin{\\left(q_{1} \\right)} \\sin{\\left(q_{3} \\right)} \\cos{\\left(q_{2} \\right)}\\right) \\sin{\\left(q_{3} \\right)} \\cos{\\left(q_{4} \\right)} - \\sin{\\left(q_{4} \\right)} \\cos{\\left(q_{1} \\right)}\\right))\\mathbf{\\hat{n}_x} + (- l_{1} \\sin{\\left(q_{2} \\right)} \\cos{\\left(q_{1} \\right)} + l_{2} \\left(- \\sin{\\left(q_{2} \\right)} \\cos{\\left(q_{1} \\right)} \\cos{\\left(q_{3} \\right)} - \\sin{\\left(q_{3} \\right)} \\cos{\\left(q_{1} \\right)} \\cos{\\left(q_{2} \\right)}\\right) + l_{3} \\left(- \\left(- \\sin{\\left(q_{2} \\right)} \\sin{\\left(q_{3} \\right)} \\cos{\\left(q_{1} \\right)} + \\cos{\\left(q_{1} \\right)} \\cos{\\left(q_{2} \\right)} \\cos{\\left(q_{3} \\right)}\\right) \\sin{\\left(q_{3} \\right)} + \\left(- \\sin{\\left(q_{2} \\right)} \\cos{\\left(q_{1} \\right)} \\cos{\\left(q_{3} \\right)} - \\sin{\\left(q_{3} \\right)} \\cos{\\left(q_{1} \\right)} \\cos{\\left(q_{2} \\right)}\\right) \\cos{\\left(q_{3} \\right)}\\right) - l_{4} \\left(\\left(- \\sin{\\left(q_{2} \\right)} \\sin{\\left(q_{3} \\right)} \\cos{\\left(q_{1} \\right)} + \\cos{\\left(q_{1} \\right)} \\cos{\\left(q_{2} \\right)} \\cos{\\left(q_{3} \\right)}\\right) \\cos{\\left(q_{3} \\right)} \\cos{\\left(q_{4} \\right)} + \\left(- \\sin{\\left(q_{2} \\right)} \\cos{\\left(q_{1} \\right)} \\cos{\\left(q_{3} \\right)} - \\sin{\\left(q_{3} \\right)} \\cos{\\left(q_{1} \\right)} \\cos{\\left(q_{2} \\right)}\\right) \\sin{\\left(q_{3} \\right)} \\cos{\\left(q_{4} \\right)} - \\sin{\\left(q_{1} \\right)} \\sin{\\left(q_{4} \\right)}\\right))\\mathbf{\\hat{n}_y} + (l_{1} \\cos{\\left(q_{2} \\right)} + l_{2} \\left(- \\sin{\\left(q_{2} \\right)} \\sin{\\left(q_{3} \\right)} + \\cos{\\left(q_{2} \\right)} \\cos{\\left(q_{3} \\right)}\\right) + l_{3} \\left(\\left(- \\sin{\\left(q_{2} \\right)} \\sin{\\left(q_{3} \\right)} + \\cos{\\left(q_{2} \\right)} \\cos{\\left(q_{3} \\right)}\\right) \\cos{\\left(q_{3} \\right)} - \\left(\\sin{\\left(q_{2} \\right)} \\cos{\\left(q_{3} \\right)} + \\sin{\\left(q_{3} \\right)} \\cos{\\left(q_{2} \\right)}\\right) \\sin{\\left(q_{3} \\right)}\\right) - l_{4} \\left(\\left(- \\sin{\\left(q_{2} \\right)} \\sin{\\left(q_{3} \\right)} + \\cos{\\left(q_{2} \\right)} \\cos{\\left(q_{3} \\right)}\\right) \\sin{\\left(q_{3} \\right)} \\cos{\\left(q_{4} \\right)} + \\left(\\sin{\\left(q_{2} \\right)} \\cos{\\left(q_{3} \\right)} + \\sin{\\left(q_{3} \\right)} \\cos{\\left(q_{2} \\right)}\\right) \\cos{\\left(q_{3} \\right)} \\cos{\\left(q_{4} \\right)}\\right))\\mathbf{\\hat{n}_z}$"
      ],
      "text/plain": [
       "(l₁⋅sin(q₁)⋅sin(q₂) + l₂⋅(sin(q₁)⋅sin(q₂)⋅cos(q₃) + sin(q₁)⋅sin(q₃)⋅cos(q₂)) +\n",
       " l₃⋅(-(sin(q₁)⋅sin(q₂)⋅sin(q₃) - sin(q₁)⋅cos(q₂)⋅cos(q₃))⋅sin(q₃) + (sin(q₁)⋅s\n",
       "in(q₂)⋅cos(q₃) + sin(q₁)⋅sin(q₃)⋅cos(q₂))⋅cos(q₃)) - l₄⋅((sin(q₁)⋅sin(q₂)⋅sin(\n",
       "q₃) - sin(q₁)⋅cos(q₂)⋅cos(q₃))⋅cos(q₃)⋅cos(q₄) + (sin(q₁)⋅sin(q₂)⋅cos(q₃) + si\n",
       "n(q₁)⋅sin(q₃)⋅cos(q₂))⋅sin(q₃)⋅cos(q₄) - sin(q₄)⋅cos(q₁))) n_x + (-l₁⋅sin(q₂)⋅\n",
       "cos(q₁) + l₂⋅(-sin(q₂)⋅cos(q₁)⋅cos(q₃) - sin(q₃)⋅cos(q₁)⋅cos(q₂)) + l₃⋅(-(-sin\n",
       "(q₂)⋅sin(q₃)⋅cos(q₁) + cos(q₁)⋅cos(q₂)⋅cos(q₃))⋅sin(q₃) + (-sin(q₂)⋅cos(q₁)⋅co\n",
       "s(q₃) - sin(q₃)⋅cos(q₁)⋅cos(q₂))⋅cos(q₃)) - l₄⋅((-sin(q₂)⋅sin(q₃)⋅cos(q₁) + co\n",
       "s(q₁)⋅cos(q₂)⋅cos(q₃))⋅cos(q₃)⋅cos(q₄) + (-sin(q₂)⋅cos(q₁)⋅cos(q₃) - sin(q₃)⋅c\n",
       "os(q₁)⋅cos(q₂))⋅sin(q₃)⋅cos(q₄) - sin(q₁)⋅sin(q₄))) n_y + (l₁⋅cos(q₂) + l₂⋅(-s\n",
       "in(q₂)⋅sin(q₃) + cos(q₂)⋅cos(q₃)) + l₃⋅((-sin(q₂)⋅sin(q₃) + cos(q₂)⋅cos(q₃))⋅c\n",
       "os(q₃) - (sin(q₂)⋅cos(q₃) + sin(q₃)⋅cos(q₂))⋅sin(q₃)) - l₄⋅((-sin(q₂)⋅sin(q₃)\n",
       "+ cos(q₂)⋅cos(q₃))⋅sin(q₃)⋅cos(q₄) + (sin(q₂)⋅cos(q₃) + sin(q₃)⋅cos(q₂))⋅cos(q\n",
       "₃)⋅cos(q₄))) n_z"
      ]
     },
     "execution_count": 41,
     "metadata": {},
     "output_type": "execute_result"
    }
   ],
   "source": [
    "R_P1_P4.express(N)"
   ]
  },
  {
   "cell_type": "code",
   "execution_count": 42,
   "id": "32fc5f75",
   "metadata": {
    "execution": {
     "iopub.execute_input": "2022-04-15T21:51:44.928786Z",
     "iopub.status.busy": "2022-04-15T21:51:44.928406Z",
     "iopub.status.idle": "2022-04-15T21:51:44.938296Z",
     "shell.execute_reply": "2022-04-15T21:51:44.937725Z"
    }
   },
   "outputs": [
    {
     "data": {
      "text/latex": [
       "$\\displaystyle l_{1} \\sin{\\left(q_{1} \\right)} \\sin{\\left(q_{2} \\right)}\\mathbf{\\hat{n}_x} -  l_{1} \\sin{\\left(q_{2} \\right)} \\cos{\\left(q_{1} \\right)}\\mathbf{\\hat{n}_y} + l_{1} \\cos{\\left(q_{2} \\right)}\\mathbf{\\hat{n}_z}$"
      ],
      "text/plain": [
       "l₁⋅sin(q₁)⋅sin(q₂) n_x + -l₁⋅sin(q₂)⋅cos(q₁) n_y + l₁⋅cos(q₂) n_z"
      ]
     },
     "execution_count": 42,
     "metadata": {},
     "output_type": "execute_result"
    }
   ],
   "source": [
    "R_P1_P2.express(N)"
   ]
  },
  {
   "cell_type": "code",
   "execution_count": 43,
   "id": "9b90ee13",
   "metadata": {
    "execution": {
     "iopub.execute_input": "2022-04-15T21:51:44.941188Z",
     "iopub.status.busy": "2022-04-15T21:51:44.940896Z",
     "iopub.status.idle": "2022-04-15T21:51:44.948821Z",
     "shell.execute_reply": "2022-04-15T21:51:44.948287Z"
    }
   },
   "outputs": [
    {
     "data": {
      "text/latex": [
       "$\\displaystyle \\left\\{l_{1}, q_{1}, q_{2}\\right\\}$"
      ],
      "text/plain": [
       "{l₁, q₁, q₂}"
      ]
     },
     "execution_count": 43,
     "metadata": {},
     "output_type": "execute_result"
    }
   ],
   "source": [
    "R_P1_P2.free_symbols(N)"
   ]
  },
  {
   "cell_type": "code",
   "execution_count": 44,
   "id": "3fa9cfaf",
   "metadata": {
    "execution": {
     "iopub.execute_input": "2022-04-15T21:51:44.951799Z",
     "iopub.status.busy": "2022-04-15T21:51:44.951311Z",
     "iopub.status.idle": "2022-04-15T21:51:44.959465Z",
     "shell.execute_reply": "2022-04-15T21:51:44.958910Z"
    }
   },
   "outputs": [
    {
     "data": {
      "text/latex": [
       "$\\displaystyle \\left\\{l_{1}\\right\\}$"
      ],
      "text/plain": [
       "{l₁}"
      ]
     },
     "execution_count": 44,
     "metadata": {},
     "output_type": "execute_result"
    }
   ],
   "source": [
    "R_P1_P2.free_symbols(A)"
   ]
  },
  {
   "cell_type": "code",
   "execution_count": 45,
   "id": "d763fb41",
   "metadata": {
    "execution": {
     "iopub.execute_input": "2022-04-15T21:51:44.962411Z",
     "iopub.status.busy": "2022-04-15T21:51:44.961852Z",
     "iopub.status.idle": "2022-04-15T21:51:44.971773Z",
     "shell.execute_reply": "2022-04-15T21:51:44.971230Z"
    }
   },
   "outputs": [
    {
     "data": {
      "text/latex": [
       "$\\displaystyle \\left\\{l_{1}, l_{2}, l_{3}, l_{4}, q_{1}, q_{2}, q_{3}, q_{4}\\right\\}$"
      ],
      "text/plain": [
       "{l₁, l₂, l₃, l₄, q₁, q₂, q₃, q₄}"
      ]
     },
     "execution_count": 45,
     "metadata": {},
     "output_type": "execute_result"
    }
   ],
   "source": [
    "R_P1_P4.free_symbols(N)"
   ]
  }
 ],
 "metadata": {
  "kernelspec": {
   "display_name": "Python 3 (ipykernel)",
   "language": "python",
   "name": "python3"
  },
  "language_info": {
   "codemirror_mode": {
    "name": "ipython",
    "version": 3
   },
   "file_extension": ".py",
   "mimetype": "text/x-python",
   "name": "python",
   "nbconvert_exporter": "python",
   "pygments_lexer": "ipython3",
   "version": "3.9.12"
  }
 },
 "nbformat": 4,
 "nbformat_minor": 5
}