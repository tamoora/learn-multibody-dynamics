{
 "cells": [
  {
   "cell_type": "code",
   "execution_count": 1,
   "id": "efaada8e",
   "metadata": {
    "execution": {
     "iopub.execute_input": "2022-04-15T21:51:05.233971Z",
     "iopub.status.busy": "2022-04-15T21:51:05.233709Z",
     "iopub.status.idle": "2022-04-15T21:51:05.250172Z",
     "shell.execute_reply": "2022-04-15T21:51:05.249555Z"
    }
   },
   "outputs": [
    {
     "data": {
      "application/json": {
       "cell": {
        "!": "OSMagics",
        "HTML": "Other",
        "SVG": "Other",
        "bash": "Other",
        "capture": "ExecutionMagics",
        "debug": "ExecutionMagics",
        "file": "Other",
        "html": "DisplayMagics",
        "javascript": "DisplayMagics",
        "js": "DisplayMagics",
        "latex": "DisplayMagics",
        "markdown": "DisplayMagics",
        "perl": "Other",
        "prun": "ExecutionMagics",
        "pypy": "Other",
        "python": "Other",
        "python2": "Other",
        "python3": "Other",
        "ruby": "Other",
        "script": "ScriptMagics",
        "sh": "Other",
        "svg": "DisplayMagics",
        "sx": "OSMagics",
        "system": "OSMagics",
        "time": "ExecutionMagics",
        "timeit": "ExecutionMagics",
        "writefile": "OSMagics"
       },
       "line": {
        "alias": "OSMagics",
        "alias_magic": "BasicMagics",
        "autoawait": "AsyncMagics",
        "autocall": "AutoMagics",
        "automagic": "AutoMagics",
        "autosave": "KernelMagics",
        "bookmark": "OSMagics",
        "cat": "Other",
        "cd": "OSMagics",
        "clear": "KernelMagics",
        "colors": "BasicMagics",
        "conda": "PackagingMagics",
        "config": "ConfigMagics",
        "connect_info": "KernelMagics",
        "cp": "Other",
        "debug": "ExecutionMagics",
        "dhist": "OSMagics",
        "dirs": "OSMagics",
        "doctest_mode": "BasicMagics",
        "ed": "Other",
        "edit": "KernelMagics",
        "env": "OSMagics",
        "gui": "BasicMagics",
        "hist": "Other",
        "history": "HistoryMagics",
        "killbgscripts": "ScriptMagics",
        "ldir": "Other",
        "less": "KernelMagics",
        "lf": "Other",
        "lk": "Other",
        "ll": "Other",
        "load": "CodeMagics",
        "load_ext": "ExtensionMagics",
        "loadpy": "CodeMagics",
        "logoff": "LoggingMagics",
        "logon": "LoggingMagics",
        "logstart": "LoggingMagics",
        "logstate": "LoggingMagics",
        "logstop": "LoggingMagics",
        "ls": "Other",
        "lsmagic": "BasicMagics",
        "lx": "Other",
        "macro": "ExecutionMagics",
        "magic": "BasicMagics",
        "man": "KernelMagics",
        "matplotlib": "PylabMagics",
        "mkdir": "Other",
        "more": "KernelMagics",
        "mv": "Other",
        "notebook": "BasicMagics",
        "page": "BasicMagics",
        "pastebin": "CodeMagics",
        "pdb": "ExecutionMagics",
        "pdef": "NamespaceMagics",
        "pdoc": "NamespaceMagics",
        "pfile": "NamespaceMagics",
        "pinfo": "NamespaceMagics",
        "pinfo2": "NamespaceMagics",
        "pip": "PackagingMagics",
        "popd": "OSMagics",
        "pprint": "BasicMagics",
        "precision": "BasicMagics",
        "prun": "ExecutionMagics",
        "psearch": "NamespaceMagics",
        "psource": "NamespaceMagics",
        "pushd": "OSMagics",
        "pwd": "OSMagics",
        "pycat": "OSMagics",
        "pylab": "PylabMagics",
        "qtconsole": "KernelMagics",
        "quickref": "BasicMagics",
        "recall": "HistoryMagics",
        "rehashx": "OSMagics",
        "reload_ext": "ExtensionMagics",
        "rep": "Other",
        "rerun": "HistoryMagics",
        "reset": "NamespaceMagics",
        "reset_selective": "NamespaceMagics",
        "rm": "Other",
        "rmdir": "Other",
        "run": "ExecutionMagics",
        "save": "CodeMagics",
        "sc": "OSMagics",
        "set_env": "OSMagics",
        "store": "StoreMagics",
        "sx": "OSMagics",
        "system": "OSMagics",
        "tb": "ExecutionMagics",
        "time": "ExecutionMagics",
        "timeit": "ExecutionMagics",
        "unalias": "OSMagics",
        "unload_ext": "ExtensionMagics",
        "who": "NamespaceMagics",
        "who_ls": "NamespaceMagics",
        "whos": "NamespaceMagics",
        "xdel": "NamespaceMagics",
        "xmode": "BasicMagics"
       }
      },
      "text/plain": [
       "Available line magics:\n",
       "%alias  %alias_magic  %autoawait  %autocall  %automagic  %autosave  %bookmark  %cat  %cd  %clear  %colors  %conda  %config  %connect_info  %cp  %debug  %dhist  %dirs  %doctest_mode  %ed  %edit  %env  %gui  %hist  %history  %killbgscripts  %ldir  %less  %lf  %lk  %ll  %load  %load_ext  %loadpy  %logoff  %logon  %logstart  %logstate  %logstop  %ls  %lsmagic  %lx  %macro  %magic  %man  %matplotlib  %mkdir  %more  %mv  %notebook  %page  %pastebin  %pdb  %pdef  %pdoc  %pfile  %pinfo  %pinfo2  %pip  %popd  %pprint  %precision  %prun  %psearch  %psource  %pushd  %pwd  %pycat  %pylab  %qtconsole  %quickref  %recall  %rehashx  %reload_ext  %rep  %rerun  %reset  %reset_selective  %rm  %rmdir  %run  %save  %sc  %set_env  %store  %sx  %system  %tb  %time  %timeit  %unalias  %unload_ext  %who  %who_ls  %whos  %xdel  %xmode\n",
       "\n",
       "Available cell magics:\n",
       "%%!  %%HTML  %%SVG  %%bash  %%capture  %%debug  %%file  %%html  %%javascript  %%js  %%latex  %%markdown  %%perl  %%prun  %%pypy  %%python  %%python2  %%python3  %%ruby  %%script  %%sh  %%svg  %%sx  %%system  %%time  %%timeit  %%writefile\n",
       "\n",
       "Automagic is ON, % prefix IS NOT needed for line magics."
      ]
     },
     "execution_count": 1,
     "metadata": {},
     "output_type": "execute_result"
    }
   ],
   "source": [
    "%lsmagic"
   ]
  },
  {
   "cell_type": "code",
   "execution_count": 2,
   "id": "acb45eb3",
   "metadata": {
    "execution": {
     "iopub.execute_input": "2022-04-15T21:51:05.253761Z",
     "iopub.status.busy": "2022-04-15T21:51:05.253346Z",
     "iopub.status.idle": "2022-04-15T21:51:05.257285Z",
     "shell.execute_reply": "2022-04-15T21:51:05.256689Z"
    }
   },
   "outputs": [
    {
     "name": "stdout",
     "output_type": "stream",
     "text": [
      "Variable   Type    Data/Info\n",
      "----------------------------\n",
      "a          int     5\n"
     ]
    }
   ],
   "source": [
    "a = 5\n",
    "\n",
    "%whos"
   ]
  },
  {
   "cell_type": "code",
   "execution_count": 3,
   "id": "94daa390",
   "metadata": {
    "execution": {
     "iopub.execute_input": "2022-04-15T21:51:05.261529Z",
     "iopub.status.busy": "2022-04-15T21:51:05.261060Z",
     "iopub.status.idle": "2022-04-15T21:51:05.264513Z",
     "shell.execute_reply": "2022-04-15T21:51:05.263782Z"
    }
   },
   "outputs": [],
   "source": [
    "?"
   ]
  },
  {
   "cell_type": "code",
   "execution_count": 4,
   "id": "83ae5ecd",
   "metadata": {
    "execution": {
     "iopub.execute_input": "2022-04-15T21:51:05.267740Z",
     "iopub.status.busy": "2022-04-15T21:51:05.267205Z",
     "iopub.status.idle": "2022-04-15T21:51:05.272152Z",
     "shell.execute_reply": "2022-04-15T21:51:05.271415Z"
    }
   },
   "outputs": [],
   "source": [
    "%quickref"
   ]
  },
  {
   "cell_type": "code",
   "execution_count": 5,
   "id": "7f415842",
   "metadata": {
    "execution": {
     "iopub.execute_input": "2022-04-15T21:51:05.275277Z",
     "iopub.status.busy": "2022-04-15T21:51:05.274810Z",
     "iopub.status.idle": "2022-04-15T21:51:05.328987Z",
     "shell.execute_reply": "2022-04-15T21:51:05.328388Z"
    }
   },
   "outputs": [],
   "source": [
    "round?"
   ]
  },
  {
   "cell_type": "code",
   "execution_count": 6,
   "id": "6cd469cc",
   "metadata": {
    "execution": {
     "iopub.execute_input": "2022-04-15T21:51:05.332342Z",
     "iopub.status.busy": "2022-04-15T21:51:05.331917Z",
     "iopub.status.idle": "2022-04-15T21:51:05.337470Z",
     "shell.execute_reply": "2022-04-15T21:51:05.336856Z"
    }
   },
   "outputs": [
    {
     "data": {
      "text/plain": [
       "(int, float, float, str, str)"
      ]
     },
     "execution_count": 6,
     "metadata": {},
     "output_type": "execute_result"
    }
   ],
   "source": [
    "a = 5\n",
    "b = 5.0\n",
    "c = float(5)\n",
    "d = 'dee'\n",
    "e = 'e'\n",
    "\n",
    "type(a), type(b), type(c), type(d), type(e)"
   ]
  },
  {
   "cell_type": "code",
   "execution_count": 7,
   "id": "bfa4c32e",
   "metadata": {
    "execution": {
     "iopub.execute_input": "2022-04-15T21:51:05.341145Z",
     "iopub.status.busy": "2022-04-15T21:51:05.340678Z",
     "iopub.status.idle": "2022-04-15T21:51:05.345256Z",
     "shell.execute_reply": "2022-04-15T21:51:05.344631Z"
    }
   },
   "outputs": [],
   "source": [
    "empty_list = []\n",
    "\n",
    "string_list = ['lions', 'tigers', 'bears', 'sharks', 'hamsters']\n",
    "\n",
    "int_list = [0, 1, 2, 3, 4]\n",
    "\n",
    "int_list2 = list(range(5,10))\n",
    "\n",
    "list_from_variables = [a,b,c,d,e]\n",
    "\n",
    "list_of_lists = [empty_list,\n",
    "                 string_list,\n",
    "                 list_from_variables,\n",
    "                 int_list,\n",
    "                 int_list2]"
   ]
  },
  {
   "cell_type": "code",
   "execution_count": 8,
   "id": "6f4cdcb3",
   "metadata": {
    "execution": {
     "iopub.execute_input": "2022-04-15T21:51:05.348360Z",
     "iopub.status.busy": "2022-04-15T21:51:05.347878Z",
     "iopub.status.idle": "2022-04-15T21:51:05.352126Z",
     "shell.execute_reply": "2022-04-15T21:51:05.351521Z"
    }
   },
   "outputs": [
    {
     "data": {
      "text/plain": [
       "[]"
      ]
     },
     "execution_count": 8,
     "metadata": {},
     "output_type": "execute_result"
    }
   ],
   "source": [
    "empty_list"
   ]
  },
  {
   "cell_type": "code",
   "execution_count": 9,
   "id": "fe08e790",
   "metadata": {
    "execution": {
     "iopub.execute_input": "2022-04-15T21:51:05.355044Z",
     "iopub.status.busy": "2022-04-15T21:51:05.354737Z",
     "iopub.status.idle": "2022-04-15T21:51:05.359082Z",
     "shell.execute_reply": "2022-04-15T21:51:05.358470Z"
    }
   },
   "outputs": [
    {
     "data": {
      "text/plain": [
       "['lions', 'tigers', 'bears', 'sharks', 'hamsters']"
      ]
     },
     "execution_count": 9,
     "metadata": {},
     "output_type": "execute_result"
    }
   ],
   "source": [
    "string_list"
   ]
  },
  {
   "cell_type": "code",
   "execution_count": 10,
   "id": "0a8babc1",
   "metadata": {
    "execution": {
     "iopub.execute_input": "2022-04-15T21:51:05.362537Z",
     "iopub.status.busy": "2022-04-15T21:51:05.362071Z",
     "iopub.status.idle": "2022-04-15T21:51:05.366391Z",
     "shell.execute_reply": "2022-04-15T21:51:05.365763Z"
    }
   },
   "outputs": [
    {
     "data": {
      "text/plain": [
       "[0, 1, 2, 3, 4]"
      ]
     },
     "execution_count": 10,
     "metadata": {},
     "output_type": "execute_result"
    }
   ],
   "source": [
    "int_list"
   ]
  },
  {
   "cell_type": "code",
   "execution_count": 11,
   "id": "33696c90",
   "metadata": {
    "execution": {
     "iopub.execute_input": "2022-04-15T21:51:05.370067Z",
     "iopub.status.busy": "2022-04-15T21:51:05.369534Z",
     "iopub.status.idle": "2022-04-15T21:51:05.373686Z",
     "shell.execute_reply": "2022-04-15T21:51:05.373107Z"
    }
   },
   "outputs": [
    {
     "data": {
      "text/plain": [
       "[5, 6, 7, 8, 9]"
      ]
     },
     "execution_count": 11,
     "metadata": {},
     "output_type": "execute_result"
    }
   ],
   "source": [
    "int_list2"
   ]
  },
  {
   "cell_type": "code",
   "execution_count": 12,
   "id": "2afa8d39",
   "metadata": {
    "execution": {
     "iopub.execute_input": "2022-04-15T21:51:05.376304Z",
     "iopub.status.busy": "2022-04-15T21:51:05.375992Z",
     "iopub.status.idle": "2022-04-15T21:51:05.380365Z",
     "shell.execute_reply": "2022-04-15T21:51:05.379763Z"
    }
   },
   "outputs": [
    {
     "data": {
      "text/plain": [
       "[5, 5.0, 5.0, 'dee', 'e']"
      ]
     },
     "execution_count": 12,
     "metadata": {},
     "output_type": "execute_result"
    }
   ],
   "source": [
    "list_from_variables"
   ]
  },
  {
   "cell_type": "code",
   "execution_count": 13,
   "id": "9683d793",
   "metadata": {
    "execution": {
     "iopub.execute_input": "2022-04-15T21:51:05.383823Z",
     "iopub.status.busy": "2022-04-15T21:51:05.383361Z",
     "iopub.status.idle": "2022-04-15T21:51:05.387978Z",
     "shell.execute_reply": "2022-04-15T21:51:05.387393Z"
    }
   },
   "outputs": [
    {
     "data": {
      "text/plain": [
       "[[],\n",
       " ['lions', 'tigers', 'bears', 'sharks', 'hamsters'],\n",
       " [5, 5.0, 5.0, 'dee', 'e'],\n",
       " [0, 1, 2, 3, 4],\n",
       " [5, 6, 7, 8, 9]]"
      ]
     },
     "execution_count": 13,
     "metadata": {},
     "output_type": "execute_result"
    }
   ],
   "source": [
    "list_of_lists"
   ]
  },
  {
   "cell_type": "code",
   "execution_count": 14,
   "id": "6a67e033",
   "metadata": {
    "execution": {
     "iopub.execute_input": "2022-04-15T21:51:05.391436Z",
     "iopub.status.busy": "2022-04-15T21:51:05.390946Z",
     "iopub.status.idle": "2022-04-15T21:51:05.395349Z",
     "shell.execute_reply": "2022-04-15T21:51:05.394515Z"
    }
   },
   "outputs": [
    {
     "data": {
      "text/plain": [
       "'lions'"
      ]
     },
     "execution_count": 14,
     "metadata": {},
     "output_type": "execute_result"
    }
   ],
   "source": [
    "string_list[0]"
   ]
  },
  {
   "cell_type": "code",
   "execution_count": 15,
   "id": "6b620ea0",
   "metadata": {
    "execution": {
     "iopub.execute_input": "2022-04-15T21:51:05.398594Z",
     "iopub.status.busy": "2022-04-15T21:51:05.398119Z",
     "iopub.status.idle": "2022-04-15T21:51:05.402482Z",
     "shell.execute_reply": "2022-04-15T21:51:05.401873Z"
    }
   },
   "outputs": [
    {
     "data": {
      "text/plain": [
       "['tigers', 'bears', 'sharks']"
      ]
     },
     "execution_count": 15,
     "metadata": {},
     "output_type": "execute_result"
    }
   ],
   "source": [
    "string_list[1:4]"
   ]
  },
  {
   "cell_type": "code",
   "execution_count": 16,
   "id": "8c277fd2",
   "metadata": {
    "execution": {
     "iopub.execute_input": "2022-04-15T21:51:05.405729Z",
     "iopub.status.busy": "2022-04-15T21:51:05.405422Z",
     "iopub.status.idle": "2022-04-15T21:51:05.409564Z",
     "shell.execute_reply": "2022-04-15T21:51:05.409117Z"
    }
   },
   "outputs": [
    {
     "data": {
      "text/plain": [
       "[0, 2, 4]"
      ]
     },
     "execution_count": 16,
     "metadata": {},
     "output_type": "execute_result"
    }
   ],
   "source": [
    "int_list[::2]"
   ]
  },
  {
   "cell_type": "code",
   "execution_count": 17,
   "id": "9670c091",
   "metadata": {
    "execution": {
     "iopub.execute_input": "2022-04-15T21:51:05.412224Z",
     "iopub.status.busy": "2022-04-15T21:51:05.411827Z",
     "iopub.status.idle": "2022-04-15T21:51:05.417058Z",
     "shell.execute_reply": "2022-04-15T21:51:05.416447Z"
    }
   },
   "outputs": [
    {
     "data": {
      "text/plain": [
       "'hamsters'"
      ]
     },
     "execution_count": 17,
     "metadata": {},
     "output_type": "execute_result"
    }
   ],
   "source": [
    "list_of_lists[1][4]"
   ]
  },
  {
   "cell_type": "code",
   "execution_count": 18,
   "id": "5d9bd495",
   "metadata": {
    "execution": {
     "iopub.execute_input": "2022-04-15T21:51:05.419942Z",
     "iopub.status.busy": "2022-04-15T21:51:05.419464Z",
     "iopub.status.idle": "2022-04-15T21:51:05.422981Z",
     "shell.execute_reply": "2022-04-15T21:51:05.422373Z"
    }
   },
   "outputs": [],
   "source": [
    "int_list[2] = 222\n",
    "\n",
    "int_list.append(5)\n",
    "\n",
    "string_list.remove('lions')\n",
    "\n",
    "list_from_variables.extend(int_list)"
   ]
  },
  {
   "cell_type": "code",
   "execution_count": 19,
   "id": "db594abe",
   "metadata": {
    "execution": {
     "iopub.execute_input": "2022-04-15T21:51:05.425781Z",
     "iopub.status.busy": "2022-04-15T21:51:05.425388Z",
     "iopub.status.idle": "2022-04-15T21:51:05.429519Z",
     "shell.execute_reply": "2022-04-15T21:51:05.428925Z"
    }
   },
   "outputs": [
    {
     "data": {
      "text/plain": [
       "[0, 1, 222, 3, 4, 5]"
      ]
     },
     "execution_count": 19,
     "metadata": {},
     "output_type": "execute_result"
    }
   ],
   "source": [
    "int_list"
   ]
  },
  {
   "cell_type": "code",
   "execution_count": 20,
   "id": "8a315ef6",
   "metadata": {
    "execution": {
     "iopub.execute_input": "2022-04-15T21:51:05.432765Z",
     "iopub.status.busy": "2022-04-15T21:51:05.432461Z",
     "iopub.status.idle": "2022-04-15T21:51:05.436571Z",
     "shell.execute_reply": "2022-04-15T21:51:05.435964Z"
    }
   },
   "outputs": [
    {
     "data": {
      "text/plain": [
       "['tigers', 'bears', 'sharks', 'hamsters']"
      ]
     },
     "execution_count": 20,
     "metadata": {},
     "output_type": "execute_result"
    }
   ],
   "source": [
    "string_list"
   ]
  },
  {
   "cell_type": "code",
   "execution_count": 21,
   "id": "c70c2746",
   "metadata": {
    "execution": {
     "iopub.execute_input": "2022-04-15T21:51:05.439799Z",
     "iopub.status.busy": "2022-04-15T21:51:05.439496Z",
     "iopub.status.idle": "2022-04-15T21:51:05.443768Z",
     "shell.execute_reply": "2022-04-15T21:51:05.443156Z"
    }
   },
   "outputs": [
    {
     "data": {
      "text/plain": [
       "[5, 5.0, 5.0, 'dee', 'e', 0, 1, 222, 3, 4, 5]"
      ]
     },
     "execution_count": 21,
     "metadata": {},
     "output_type": "execute_result"
    }
   ],
   "source": [
    "list_from_variables"
   ]
  },
  {
   "cell_type": "code",
   "execution_count": 22,
   "id": "5cac2339",
   "metadata": {
    "execution": {
     "iopub.execute_input": "2022-04-15T21:51:05.447014Z",
     "iopub.status.busy": "2022-04-15T21:51:05.446701Z",
     "iopub.status.idle": "2022-04-15T21:51:05.451104Z",
     "shell.execute_reply": "2022-04-15T21:51:05.450487Z"
    }
   },
   "outputs": [
    {
     "data": {
      "text/plain": [
       "(32, 'tall', 'likes hats')"
      ]
     },
     "execution_count": 22,
     "metadata": {},
     "output_type": "execute_result"
    }
   ],
   "source": [
    "joe_blow = (32, 'tall', 'likes hats')\n",
    "joe_blow"
   ]
  },
  {
   "cell_type": "code",
   "execution_count": 23,
   "id": "2ccc8300",
   "metadata": {
    "execution": {
     "iopub.execute_input": "2022-04-15T21:51:05.454461Z",
     "iopub.status.busy": "2022-04-15T21:51:05.454069Z",
     "iopub.status.idle": "2022-04-15T21:51:05.458170Z",
     "shell.execute_reply": "2022-04-15T21:51:05.457545Z"
    }
   },
   "outputs": [
    {
     "data": {
      "text/plain": [
       "'tall'"
      ]
     },
     "execution_count": 23,
     "metadata": {},
     "output_type": "execute_result"
    }
   ],
   "source": [
    "joe_blow[1]"
   ]
  },
  {
   "cell_type": "code",
   "execution_count": 24,
   "id": "3dc7bf7b",
   "metadata": {
    "execution": {
     "iopub.execute_input": "2022-04-15T21:51:05.461609Z",
     "iopub.status.busy": "2022-04-15T21:51:05.461107Z",
     "iopub.status.idle": "2022-04-15T21:51:05.987241Z",
     "shell.execute_reply": "2022-04-15T21:51:05.986574Z"
    }
   },
   "outputs": [
    {
     "ename": "AttributeError",
     "evalue": "'tuple' object has no attribute 'append'",
     "output_type": "error",
     "traceback": [
      "\u001b[0;31m---------------------------------------------------------------------------\u001b[0m",
      "\u001b[0;31mAttributeError\u001b[0m                            Traceback (most recent call last)",
      "Input \u001b[0;32mIn [24]\u001b[0m, in \u001b[0;36m<cell line: 1>\u001b[0;34m()\u001b[0m\n\u001b[0;32m----> 1\u001b[0m \u001b[43mjoe_blow\u001b[49m\u001b[38;5;241;43m.\u001b[39;49m\u001b[43mappend\u001b[49m(\u001b[38;5;124m'\u001b[39m\u001b[38;5;124mmarried\u001b[39m\u001b[38;5;124m'\u001b[39m)\n",
      "\u001b[0;31mAttributeError\u001b[0m: 'tuple' object has no attribute 'append'"
     ]
    }
   ],
   "source": [
    "joe_blow.append('married')"
   ]
  },
  {
   "cell_type": "code",
   "execution_count": 25,
   "id": "416ead07",
   "metadata": {
    "execution": {
     "iopub.execute_input": "2022-04-15T21:51:05.990698Z",
     "iopub.status.busy": "2022-04-15T21:51:05.990199Z",
     "iopub.status.idle": "2022-04-15T21:51:06.006761Z",
     "shell.execute_reply": "2022-04-15T21:51:06.006215Z"
    }
   },
   "outputs": [
    {
     "ename": "TypeError",
     "evalue": "'tuple' object does not support item assignment",
     "output_type": "error",
     "traceback": [
      "\u001b[0;31m---------------------------------------------------------------------------\u001b[0m",
      "\u001b[0;31mTypeError\u001b[0m                                 Traceback (most recent call last)",
      "Input \u001b[0;32mIn [25]\u001b[0m, in \u001b[0;36m<cell line: 1>\u001b[0;34m()\u001b[0m\n\u001b[0;32m----> 1\u001b[0m joe_blow[\u001b[38;5;241m2\u001b[39m] \u001b[38;5;241m=\u001b[39m \u001b[38;5;124m'\u001b[39m\u001b[38;5;124mnot really a fan of hats\u001b[39m\u001b[38;5;124m'\u001b[39m\n",
      "\u001b[0;31mTypeError\u001b[0m: 'tuple' object does not support item assignment"
     ]
    }
   ],
   "source": [
    "joe_blow[2] = 'not really a fan of hats'"
   ]
  },
  {
   "cell_type": "code",
   "execution_count": 26,
   "id": "137a02d8",
   "metadata": {
    "execution": {
     "iopub.execute_input": "2022-04-15T21:51:06.009859Z",
     "iopub.status.busy": "2022-04-15T21:51:06.009522Z",
     "iopub.status.idle": "2022-04-15T21:51:06.016117Z",
     "shell.execute_reply": "2022-04-15T21:51:06.015586Z"
    }
   },
   "outputs": [
    {
     "data": {
      "text/plain": [
       "'elephant'"
      ]
     },
     "execution_count": 26,
     "metadata": {},
     "output_type": "execute_result"
    }
   ],
   "source": [
    "pets = ('elephant', 'cow', 'rock')\n",
    "\n",
    "pet1, pet2, pet3 = pets\n",
    "\n",
    "pet1"
   ]
  },
  {
   "cell_type": "code",
   "execution_count": 27,
   "id": "1e6b9fda",
   "metadata": {
    "execution": {
     "iopub.execute_input": "2022-04-15T21:51:06.019044Z",
     "iopub.status.busy": "2022-04-15T21:51:06.018747Z",
     "iopub.status.idle": "2022-04-15T21:51:06.024719Z",
     "shell.execute_reply": "2022-04-15T21:51:06.024182Z"
    }
   },
   "outputs": [
    {
     "data": {
      "text/plain": [
       "('elephant',)"
      ]
     },
     "execution_count": 27,
     "metadata": {},
     "output_type": "execute_result"
    }
   ],
   "source": [
    "tuple_with_one_item = pet1,\n",
    "\n",
    "tuple_with_one_item"
   ]
  },
  {
   "cell_type": "code",
   "execution_count": 28,
   "id": "9903010a",
   "metadata": {
    "execution": {
     "iopub.execute_input": "2022-04-15T21:51:06.027320Z",
     "iopub.status.busy": "2022-04-15T21:51:06.027010Z",
     "iopub.status.idle": "2022-04-15T21:51:06.032875Z",
     "shell.execute_reply": "2022-04-15T21:51:06.032270Z"
    }
   },
   "outputs": [
    {
     "data": {
      "text/plain": [
       "{'key1': 'value1', 'key2': 'value2', 'key3': 'value3'}"
      ]
     },
     "execution_count": 28,
     "metadata": {},
     "output_type": "execute_result"
    }
   ],
   "source": [
    "dictionary0 = {'key1': 'value1', 'key2': 'value2', 'key3': 'value3'}\n",
    "dictionary0"
   ]
  },
  {
   "cell_type": "code",
   "execution_count": 29,
   "id": "80611a78",
   "metadata": {
    "execution": {
     "iopub.execute_input": "2022-04-15T21:51:06.035684Z",
     "iopub.status.busy": "2022-04-15T21:51:06.035205Z",
     "iopub.status.idle": "2022-04-15T21:51:06.039890Z",
     "shell.execute_reply": "2022-04-15T21:51:06.039253Z"
    }
   },
   "outputs": [
    {
     "data": {
      "text/plain": [
       "{1: 'value1', 2: 'value2', 3: 'value3'}"
      ]
     },
     "execution_count": 29,
     "metadata": {},
     "output_type": "execute_result"
    }
   ],
   "source": [
    "dictionary1 = {1: 'value1', 2: 'value2', 3: 'value3'}\n",
    "dictionary1"
   ]
  },
  {
   "cell_type": "code",
   "execution_count": 30,
   "id": "9341adaf",
   "metadata": {
    "execution": {
     "iopub.execute_input": "2022-04-15T21:51:06.043380Z",
     "iopub.status.busy": "2022-04-15T21:51:06.042907Z",
     "iopub.status.idle": "2022-04-15T21:51:06.047418Z",
     "shell.execute_reply": "2022-04-15T21:51:06.046826Z"
    }
   },
   "outputs": [
    {
     "data": {
      "text/plain": [
       "[1, 2, 3]"
      ]
     },
     "execution_count": 30,
     "metadata": {},
     "output_type": "execute_result"
    }
   ],
   "source": [
    "list(dictionary1.keys())"
   ]
  },
  {
   "cell_type": "code",
   "execution_count": 31,
   "id": "85cd78d1",
   "metadata": {
    "execution": {
     "iopub.execute_input": "2022-04-15T21:51:06.050975Z",
     "iopub.status.busy": "2022-04-15T21:51:06.050499Z",
     "iopub.status.idle": "2022-04-15T21:51:06.054854Z",
     "shell.execute_reply": "2022-04-15T21:51:06.054274Z"
    }
   },
   "outputs": [
    {
     "data": {
      "text/plain": [
       "['value1', 'value2', 'value3']"
      ]
     },
     "execution_count": 31,
     "metadata": {},
     "output_type": "execute_result"
    }
   ],
   "source": [
    "list(dictionary1.values())"
   ]
  },
  {
   "cell_type": "code",
   "execution_count": 32,
   "id": "b0f225a1",
   "metadata": {
    "execution": {
     "iopub.execute_input": "2022-04-15T21:51:06.058182Z",
     "iopub.status.busy": "2022-04-15T21:51:06.057928Z",
     "iopub.status.idle": "2022-04-15T21:51:06.062745Z",
     "shell.execute_reply": "2022-04-15T21:51:06.062153Z"
    }
   },
   "outputs": [
    {
     "data": {
      "text/plain": [
       "50"
      ]
     },
     "execution_count": 32,
     "metadata": {},
     "output_type": "execute_result"
    }
   ],
   "source": [
    "cylinder = {'mass': 50, 'base': 10, 'height': 100}\n",
    "cylinder['mass']"
   ]
  },
  {
   "cell_type": "code",
   "execution_count": 33,
   "id": "2ab1ff6d",
   "metadata": {
    "execution": {
     "iopub.execute_input": "2022-04-15T21:51:06.066573Z",
     "iopub.status.busy": "2022-04-15T21:51:06.065773Z",
     "iopub.status.idle": "2022-04-15T21:51:06.071175Z",
     "shell.execute_reply": "2022-04-15T21:51:06.070558Z"
    }
   },
   "outputs": [
    {
     "data": {
      "text/plain": [
       "{'mass01': 10, 'inertia01': 1, 'mass02': 50, 'inertia02': 5}"
      ]
     },
     "execution_count": 33,
     "metadata": {},
     "output_type": "execute_result"
    }
   ],
   "source": [
    "keys = ['mass01', 'inertia01', 'mass02', 'inertia02']\n",
    "values = [10, 1, 50, 5]\n",
    "dict(zip(keys, values))"
   ]
  },
  {
   "cell_type": "code",
   "execution_count": 34,
   "id": "1581d6f5",
   "metadata": {
    "execution": {
     "iopub.execute_input": "2022-04-15T21:51:06.073937Z",
     "iopub.status.busy": "2022-04-15T21:51:06.073603Z",
     "iopub.status.idle": "2022-04-15T21:51:06.080371Z",
     "shell.execute_reply": "2022-04-15T21:51:06.079805Z"
    }
   },
   "outputs": [
    {
     "data": {
      "text/plain": [
       "100"
      ]
     },
     "execution_count": 34,
     "metadata": {},
     "output_type": "execute_result"
    }
   ],
   "source": [
    "def abs_value(A):\n",
    "    if A < 0:\n",
    "        A = -A\n",
    "    return A\n",
    "\n",
    "abs_value(-100)"
   ]
  },
  {
   "cell_type": "code",
   "execution_count": 35,
   "id": "dd13c628",
   "metadata": {
    "execution": {
     "iopub.execute_input": "2022-04-15T21:51:06.083419Z",
     "iopub.status.busy": "2022-04-15T21:51:06.082943Z",
     "iopub.status.idle": "2022-04-15T21:51:06.089165Z",
     "shell.execute_reply": "2022-04-15T21:51:06.088642Z"
    }
   },
   "outputs": [
    {
     "data": {
      "text/plain": [
       "123"
      ]
     },
     "execution_count": 35,
     "metadata": {},
     "output_type": "execute_result"
    }
   ],
   "source": [
    "abs_value(123)"
   ]
  },
  {
   "cell_type": "code",
   "execution_count": 36,
   "id": "04602690",
   "metadata": {
    "execution": {
     "iopub.execute_input": "2022-04-15T21:51:06.092213Z",
     "iopub.status.busy": "2022-04-15T21:51:06.091732Z",
     "iopub.status.idle": "2022-04-15T21:51:06.096402Z",
     "shell.execute_reply": "2022-04-15T21:51:06.095872Z"
    }
   },
   "outputs": [],
   "source": [
    "def long_div(dividend, divisor):\n",
    "    quotient = dividend // divisor  # // : floor division\n",
    "    remainder = dividend % divisor  # % : modulo\n",
    "    return quotient, remainder"
   ]
  },
  {
   "cell_type": "code",
   "execution_count": 37,
   "id": "cd256f92",
   "metadata": {
    "execution": {
     "iopub.execute_input": "2022-04-15T21:51:06.099505Z",
     "iopub.status.busy": "2022-04-15T21:51:06.098999Z",
     "iopub.status.idle": "2022-04-15T21:51:06.105912Z",
     "shell.execute_reply": "2022-04-15T21:51:06.105367Z"
    }
   },
   "outputs": [
    {
     "data": {
      "text/plain": [
       "(17, 5)"
      ]
     },
     "execution_count": 37,
     "metadata": {},
     "output_type": "execute_result"
    }
   ],
   "source": [
    "a = 430\n",
    "b = 25\n",
    "\n",
    "quo, rem = long_div(a, b)\n",
    "\n",
    "quo, rem"
   ]
  },
  {
   "cell_type": "code",
   "execution_count": 38,
   "id": "69ea95a3",
   "metadata": {
    "execution": {
     "iopub.execute_input": "2022-04-15T21:51:06.108777Z",
     "iopub.status.busy": "2022-04-15T21:51:06.108452Z",
     "iopub.status.idle": "2022-04-15T21:51:06.111992Z",
     "shell.execute_reply": "2022-04-15T21:51:06.111522Z"
    }
   },
   "outputs": [
    {
     "name": "stdout",
     "output_type": "stream",
     "text": [
      "430 divided 25 is 17 remainder 5\n"
     ]
    }
   ],
   "source": [
    "msg = '{} divided {} is {} remainder {}'.format(a, b, quo, rem)\n",
    "print(msg)"
   ]
  },
  {
   "cell_type": "code",
   "execution_count": 39,
   "id": "aec32ebb",
   "metadata": {
    "execution": {
     "iopub.execute_input": "2022-04-15T21:51:06.114906Z",
     "iopub.status.busy": "2022-04-15T21:51:06.114395Z",
     "iopub.status.idle": "2022-04-15T21:51:06.119354Z",
     "shell.execute_reply": "2022-04-15T21:51:06.118798Z"
    }
   },
   "outputs": [
    {
     "name": "stdout",
     "output_type": "stream",
     "text": [
      "3.9.12 (main, Mar 24 2022, 17:53:18) \n",
      "[GCC 9.4.0]\n"
     ]
    }
   ],
   "source": [
    "import sys\n",
    "\n",
    "print(sys.version)"
   ]
  },
  {
   "cell_type": "code",
   "execution_count": 40,
   "id": "1cf488b6",
   "metadata": {
    "execution": {
     "iopub.execute_input": "2022-04-15T21:51:06.122307Z",
     "iopub.status.busy": "2022-04-15T21:51:06.121865Z",
     "iopub.status.idle": "2022-04-15T21:51:06.127137Z",
     "shell.execute_reply": "2022-04-15T21:51:06.126552Z"
    }
   },
   "outputs": [
    {
     "name": "stdout",
     "output_type": "stream",
     "text": [
      "3.9.12 (main, Mar 24 2022, 17:53:18) \n",
      "[GCC 9.4.0]\n"
     ]
    }
   ],
   "source": [
    "from sys import version\n",
    "\n",
    "print(version)"
   ]
  },
  {
   "cell_type": "code",
   "execution_count": 41,
   "id": "f0969384",
   "metadata": {
    "execution": {
     "iopub.execute_input": "2022-04-15T21:51:06.130027Z",
     "iopub.status.busy": "2022-04-15T21:51:06.129541Z",
     "iopub.status.idle": "2022-04-15T21:51:07.321279Z",
     "shell.execute_reply": "2022-04-15T21:51:07.320565Z"
    }
   },
   "outputs": [],
   "source": [
    "import sympy as sm\n",
    "import numpy as np\n",
    "import scipy as sp\n",
    "import matplotlib.pyplot as plt"
   ]
  },
  {
   "cell_type": "code",
   "execution_count": 42,
   "id": "d471b622",
   "metadata": {
    "execution": {
     "iopub.execute_input": "2022-04-15T21:51:07.325758Z",
     "iopub.status.busy": "2022-04-15T21:51:07.325274Z",
     "iopub.status.idle": "2022-04-15T21:51:07.331441Z",
     "shell.execute_reply": "2022-04-15T21:51:07.330914Z"
    }
   },
   "outputs": [
    {
     "data": {
      "text/latex": [
       "$\\displaystyle 0.843853958732492$"
      ],
      "text/plain": [
       "0.843853958732492"
      ]
     },
     "execution_count": 42,
     "metadata": {},
     "output_type": "execute_result"
    }
   ],
   "source": [
    "sm.cos(12.0)"
   ]
  },
  {
   "cell_type": "code",
   "execution_count": 43,
   "id": "efeb12f4",
   "metadata": {
    "execution": {
     "iopub.execute_input": "2022-04-15T21:51:07.335690Z",
     "iopub.status.busy": "2022-04-15T21:51:07.335275Z",
     "iopub.status.idle": "2022-04-15T21:51:07.340858Z",
     "shell.execute_reply": "2022-04-15T21:51:07.340005Z"
    }
   },
   "outputs": [
    {
     "data": {
      "text/plain": [
       "0.8438539587324921"
      ]
     },
     "execution_count": 43,
     "metadata": {},
     "output_type": "execute_result"
    }
   ],
   "source": [
    "np.cos(12.0)"
   ]
  },
  {
   "cell_type": "code",
   "execution_count": 44,
   "id": "7ee7c485",
   "metadata": {
    "execution": {
     "iopub.execute_input": "2022-04-15T21:51:07.344202Z",
     "iopub.status.busy": "2022-04-15T21:51:07.343361Z",
     "iopub.status.idle": "2022-04-15T21:51:07.350741Z",
     "shell.execute_reply": "2022-04-15T21:51:07.350016Z"
    }
   },
   "outputs": [
    {
     "name": "stderr",
     "output_type": "stream",
     "text": [
      "/tmp/ipykernel_2442/3139199006.py:1: DeprecationWarning: scipy.cos is deprecated and will be removed in SciPy 2.0.0, use numpy.cos instead\n",
      "  sp.cos(12.0)\n"
     ]
    },
    {
     "data": {
      "text/plain": [
       "0.8438539587324921"
      ]
     },
     "execution_count": 44,
     "metadata": {},
     "output_type": "execute_result"
    }
   ],
   "source": [
    "sp.cos(12.0)"
   ]
  }
 ],
 "metadata": {
  "kernelspec": {
   "display_name": "Python 3 (ipykernel)",
   "language": "python",
   "name": "python3"
  },
  "language_info": {
   "codemirror_mode": {
    "name": "ipython",
    "version": 3
   },
   "file_extension": ".py",
   "mimetype": "text/x-python",
   "name": "python",
   "nbconvert_exporter": "python",
   "pygments_lexer": "ipython3",
   "version": "3.9.12"
  }
 },
 "nbformat": 4,
 "nbformat_minor": 5
}