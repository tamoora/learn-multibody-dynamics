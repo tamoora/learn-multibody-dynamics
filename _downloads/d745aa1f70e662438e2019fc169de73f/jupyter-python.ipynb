{
 "cells": [
  {
   "cell_type": "code",
   "execution_count": 1,
   "id": "d16f19ab",
   "metadata": {
    "execution": {
     "iopub.execute_input": "2022-04-15T22:53:40.716968Z",
     "iopub.status.busy": "2022-04-15T22:53:40.716746Z",
     "iopub.status.idle": "2022-04-15T22:53:40.731198Z",
     "shell.execute_reply": "2022-04-15T22:53:40.730659Z"
    }
   },
   "outputs": [
    {
     "data": {
      "application/json": {
       "cell": {
        "!": "OSMagics",
        "HTML": "Other",
        "SVG": "Other",
        "bash": "Other",
        "capture": "ExecutionMagics",
        "debug": "ExecutionMagics",
        "file": "Other",
        "html": "DisplayMagics",
        "javascript": "DisplayMagics",
        "js": "DisplayMagics",
        "latex": "DisplayMagics",
        "markdown": "DisplayMagics",
        "perl": "Other",
        "prun": "ExecutionMagics",
        "pypy": "Other",
        "python": "Other",
        "python2": "Other",
        "python3": "Other",
        "ruby": "Other",
        "script": "ScriptMagics",
        "sh": "Other",
        "svg": "DisplayMagics",
        "sx": "OSMagics",
        "system": "OSMagics",
        "time": "ExecutionMagics",
        "timeit": "ExecutionMagics",
        "writefile": "OSMagics"
       },
       "line": {
        "alias": "OSMagics",
        "alias_magic": "BasicMagics",
        "autoawait": "AsyncMagics",
        "autocall": "AutoMagics",
        "automagic": "AutoMagics",
        "autosave": "KernelMagics",
        "bookmark": "OSMagics",
        "cat": "Other",
        "cd": "OSMagics",
        "clear": "KernelMagics",
        "colors": "BasicMagics",
        "conda": "PackagingMagics",
        "config": "ConfigMagics",
        "connect_info": "KernelMagics",
        "cp": "Other",
        "debug": "ExecutionMagics",
        "dhist": "OSMagics",
        "dirs": "OSMagics",
        "doctest_mode": "BasicMagics",
        "ed": "Other",
        "edit": "KernelMagics",
        "env": "OSMagics",
        "gui": "BasicMagics",
        "hist": "Other",
        "history": "HistoryMagics",
        "killbgscripts": "ScriptMagics",
        "ldir": "Other",
        "less": "KernelMagics",
        "lf": "Other",
        "lk": "Other",
        "ll": "Other",
        "load": "CodeMagics",
        "load_ext": "ExtensionMagics",
        "loadpy": "CodeMagics",
        "logoff": "LoggingMagics",
        "logon": "LoggingMagics",
        "logstart": "LoggingMagics",
        "logstate": "LoggingMagics",
        "logstop": "LoggingMagics",
        "ls": "Other",
        "lsmagic": "BasicMagics",
        "lx": "Other",
        "macro": "ExecutionMagics",
        "magic": "BasicMagics",
        "man": "KernelMagics",
        "matplotlib": "PylabMagics",
        "mkdir": "Other",
        "more": "KernelMagics",
        "mv": "Other",
        "notebook": "BasicMagics",
        "page": "BasicMagics",
        "pastebin": "CodeMagics",
        "pdb": "ExecutionMagics",
        "pdef": "NamespaceMagics",
        "pdoc": "NamespaceMagics",
        "pfile": "NamespaceMagics",
        "pinfo": "NamespaceMagics",
        "pinfo2": "NamespaceMagics",
        "pip": "PackagingMagics",
        "popd": "OSMagics",
        "pprint": "BasicMagics",
        "precision": "BasicMagics",
        "prun": "ExecutionMagics",
        "psearch": "NamespaceMagics",
        "psource": "NamespaceMagics",
        "pushd": "OSMagics",
        "pwd": "OSMagics",
        "pycat": "OSMagics",
        "pylab": "PylabMagics",
        "qtconsole": "KernelMagics",
        "quickref": "BasicMagics",
        "recall": "HistoryMagics",
        "rehashx": "OSMagics",
        "reload_ext": "ExtensionMagics",
        "rep": "Other",
        "rerun": "HistoryMagics",
        "reset": "NamespaceMagics",
        "reset_selective": "NamespaceMagics",
        "rm": "Other",
        "rmdir": "Other",
        "run": "ExecutionMagics",
        "save": "CodeMagics",
        "sc": "OSMagics",
        "set_env": "OSMagics",
        "store": "StoreMagics",
        "sx": "OSMagics",
        "system": "OSMagics",
        "tb": "ExecutionMagics",
        "time": "ExecutionMagics",
        "timeit": "ExecutionMagics",
        "unalias": "OSMagics",
        "unload_ext": "ExtensionMagics",
        "who": "NamespaceMagics",
        "who_ls": "NamespaceMagics",
        "whos": "NamespaceMagics",
        "xdel": "NamespaceMagics",
        "xmode": "BasicMagics"
       }
      },
      "text/plain": [
       "Available line magics:\n",
       "%alias  %alias_magic  %autoawait  %autocall  %automagic  %autosave  %bookmark  %cat  %cd  %clear  %colors  %conda  %config  %connect_info  %cp  %debug  %dhist  %dirs  %doctest_mode  %ed  %edit  %env  %gui  %hist  %history  %killbgscripts  %ldir  %less  %lf  %lk  %ll  %load  %load_ext  %loadpy  %logoff  %logon  %logstart  %logstate  %logstop  %ls  %lsmagic  %lx  %macro  %magic  %man  %matplotlib  %mkdir  %more  %mv  %notebook  %page  %pastebin  %pdb  %pdef  %pdoc  %pfile  %pinfo  %pinfo2  %pip  %popd  %pprint  %precision  %prun  %psearch  %psource  %pushd  %pwd  %pycat  %pylab  %qtconsole  %quickref  %recall  %rehashx  %reload_ext  %rep  %rerun  %reset  %reset_selective  %rm  %rmdir  %run  %save  %sc  %set_env  %store  %sx  %system  %tb  %time  %timeit  %unalias  %unload_ext  %who  %who_ls  %whos  %xdel  %xmode\n",
       "\n",
       "Available cell magics:\n",
       "%%!  %%HTML  %%SVG  %%bash  %%capture  %%debug  %%file  %%html  %%javascript  %%js  %%latex  %%markdown  %%perl  %%prun  %%pypy  %%python  %%python2  %%python3  %%ruby  %%script  %%sh  %%svg  %%sx  %%system  %%time  %%timeit  %%writefile\n",
       "\n",
       "Automagic is ON, % prefix IS NOT needed for line magics."
      ]
     },
     "execution_count": 1,
     "metadata": {},
     "output_type": "execute_result"
    }
   ],
   "source": [
    "%lsmagic"
   ]
  },
  {
   "cell_type": "code",
   "execution_count": 2,
   "id": "9a3c01bd",
   "metadata": {
    "execution": {
     "iopub.execute_input": "2022-04-15T22:53:40.734080Z",
     "iopub.status.busy": "2022-04-15T22:53:40.733813Z",
     "iopub.status.idle": "2022-04-15T22:53:40.738745Z",
     "shell.execute_reply": "2022-04-15T22:53:40.738268Z"
    }
   },
   "outputs": [
    {
     "name": "stdout",
     "output_type": "stream",
     "text": [
      "Variable   Type    Data/Info\n",
      "----------------------------\n",
      "a          int     5\n"
     ]
    }
   ],
   "source": [
    "a = 5\n",
    "\n",
    "%whos"
   ]
  },
  {
   "cell_type": "code",
   "execution_count": 3,
   "id": "57bec1f6",
   "metadata": {
    "execution": {
     "iopub.execute_input": "2022-04-15T22:53:40.741332Z",
     "iopub.status.busy": "2022-04-15T22:53:40.740923Z",
     "iopub.status.idle": "2022-04-15T22:53:40.743943Z",
     "shell.execute_reply": "2022-04-15T22:53:40.743283Z"
    }
   },
   "outputs": [],
   "source": [
    "?"
   ]
  },
  {
   "cell_type": "code",
   "execution_count": 4,
   "id": "6cadc503",
   "metadata": {
    "execution": {
     "iopub.execute_input": "2022-04-15T22:53:40.746621Z",
     "iopub.status.busy": "2022-04-15T22:53:40.746216Z",
     "iopub.status.idle": "2022-04-15T22:53:40.750510Z",
     "shell.execute_reply": "2022-04-15T22:53:40.749850Z"
    }
   },
   "outputs": [],
   "source": [
    "%quickref"
   ]
  },
  {
   "cell_type": "code",
   "execution_count": 5,
   "id": "bf3739d4",
   "metadata": {
    "execution": {
     "iopub.execute_input": "2022-04-15T22:53:40.753179Z",
     "iopub.status.busy": "2022-04-15T22:53:40.752782Z",
     "iopub.status.idle": "2022-04-15T22:53:40.798038Z",
     "shell.execute_reply": "2022-04-15T22:53:40.797546Z"
    }
   },
   "outputs": [],
   "source": [
    "round?"
   ]
  },
  {
   "cell_type": "code",
   "execution_count": 6,
   "id": "8e93dd9e",
   "metadata": {
    "execution": {
     "iopub.execute_input": "2022-04-15T22:53:40.800685Z",
     "iopub.status.busy": "2022-04-15T22:53:40.800418Z",
     "iopub.status.idle": "2022-04-15T22:53:40.805275Z",
     "shell.execute_reply": "2022-04-15T22:53:40.804725Z"
    }
   },
   "outputs": [
    {
     "data": {
      "text/plain": [
       "(int, float, float, str, str)"
      ]
     },
     "execution_count": 6,
     "metadata": {},
     "output_type": "execute_result"
    }
   ],
   "source": [
    "a = 5\n",
    "b = 5.0\n",
    "c = float(5)\n",
    "d = 'dee'\n",
    "e = 'e'\n",
    "\n",
    "type(a), type(b), type(c), type(d), type(e)"
   ]
  },
  {
   "cell_type": "code",
   "execution_count": 7,
   "id": "0dc58c55",
   "metadata": {
    "execution": {
     "iopub.execute_input": "2022-04-15T22:53:40.808256Z",
     "iopub.status.busy": "2022-04-15T22:53:40.807857Z",
     "iopub.status.idle": "2022-04-15T22:53:40.811814Z",
     "shell.execute_reply": "2022-04-15T22:53:40.811261Z"
    }
   },
   "outputs": [],
   "source": [
    "empty_list = []\n",
    "\n",
    "string_list = ['lions', 'tigers', 'bears', 'sharks', 'hamsters']\n",
    "\n",
    "int_list = [0, 1, 2, 3, 4]\n",
    "\n",
    "int_list2 = list(range(5,10))\n",
    "\n",
    "list_from_variables = [a,b,c,d,e]\n",
    "\n",
    "list_of_lists = [empty_list,\n",
    "                 string_list,\n",
    "                 list_from_variables,\n",
    "                 int_list,\n",
    "                 int_list2]"
   ]
  },
  {
   "cell_type": "code",
   "execution_count": 8,
   "id": "ba4f96f5",
   "metadata": {
    "execution": {
     "iopub.execute_input": "2022-04-15T22:53:40.814388Z",
     "iopub.status.busy": "2022-04-15T22:53:40.813990Z",
     "iopub.status.idle": "2022-04-15T22:53:40.817642Z",
     "shell.execute_reply": "2022-04-15T22:53:40.817134Z"
    }
   },
   "outputs": [
    {
     "data": {
      "text/plain": [
       "[]"
      ]
     },
     "execution_count": 8,
     "metadata": {},
     "output_type": "execute_result"
    }
   ],
   "source": [
    "empty_list"
   ]
  },
  {
   "cell_type": "code",
   "execution_count": 9,
   "id": "f4989032",
   "metadata": {
    "execution": {
     "iopub.execute_input": "2022-04-15T22:53:40.820506Z",
     "iopub.status.busy": "2022-04-15T22:53:40.820108Z",
     "iopub.status.idle": "2022-04-15T22:53:40.823777Z",
     "shell.execute_reply": "2022-04-15T22:53:40.823255Z"
    }
   },
   "outputs": [
    {
     "data": {
      "text/plain": [
       "['lions', 'tigers', 'bears', 'sharks', 'hamsters']"
      ]
     },
     "execution_count": 9,
     "metadata": {},
     "output_type": "execute_result"
    }
   ],
   "source": [
    "string_list"
   ]
  },
  {
   "cell_type": "code",
   "execution_count": 10,
   "id": "d2e72895",
   "metadata": {
    "execution": {
     "iopub.execute_input": "2022-04-15T22:53:40.826642Z",
     "iopub.status.busy": "2022-04-15T22:53:40.826236Z",
     "iopub.status.idle": "2022-04-15T22:53:40.829910Z",
     "shell.execute_reply": "2022-04-15T22:53:40.829389Z"
    }
   },
   "outputs": [
    {
     "data": {
      "text/plain": [
       "[0, 1, 2, 3, 4]"
      ]
     },
     "execution_count": 10,
     "metadata": {},
     "output_type": "execute_result"
    }
   ],
   "source": [
    "int_list"
   ]
  },
  {
   "cell_type": "code",
   "execution_count": 11,
   "id": "caf1aa70",
   "metadata": {
    "execution": {
     "iopub.execute_input": "2022-04-15T22:53:40.832397Z",
     "iopub.status.busy": "2022-04-15T22:53:40.831999Z",
     "iopub.status.idle": "2022-04-15T22:53:40.835661Z",
     "shell.execute_reply": "2022-04-15T22:53:40.835108Z"
    }
   },
   "outputs": [
    {
     "data": {
      "text/plain": [
       "[5, 6, 7, 8, 9]"
      ]
     },
     "execution_count": 11,
     "metadata": {},
     "output_type": "execute_result"
    }
   ],
   "source": [
    "int_list2"
   ]
  },
  {
   "cell_type": "code",
   "execution_count": 12,
   "id": "11d7c0fb",
   "metadata": {
    "execution": {
     "iopub.execute_input": "2022-04-15T22:53:40.838383Z",
     "iopub.status.busy": "2022-04-15T22:53:40.838051Z",
     "iopub.status.idle": "2022-04-15T22:53:40.841706Z",
     "shell.execute_reply": "2022-04-15T22:53:40.841173Z"
    }
   },
   "outputs": [
    {
     "data": {
      "text/plain": [
       "[5, 5.0, 5.0, 'dee', 'e']"
      ]
     },
     "execution_count": 12,
     "metadata": {},
     "output_type": "execute_result"
    }
   ],
   "source": [
    "list_from_variables"
   ]
  },
  {
   "cell_type": "code",
   "execution_count": 13,
   "id": "1bac340c",
   "metadata": {
    "execution": {
     "iopub.execute_input": "2022-04-15T22:53:40.844391Z",
     "iopub.status.busy": "2022-04-15T22:53:40.844140Z",
     "iopub.status.idle": "2022-04-15T22:53:40.848148Z",
     "shell.execute_reply": "2022-04-15T22:53:40.847611Z"
    }
   },
   "outputs": [
    {
     "data": {
      "text/plain": [
       "[[],\n",
       " ['lions', 'tigers', 'bears', 'sharks', 'hamsters'],\n",
       " [5, 5.0, 5.0, 'dee', 'e'],\n",
       " [0, 1, 2, 3, 4],\n",
       " [5, 6, 7, 8, 9]]"
      ]
     },
     "execution_count": 13,
     "metadata": {},
     "output_type": "execute_result"
    }
   ],
   "source": [
    "list_of_lists"
   ]
  },
  {
   "cell_type": "code",
   "execution_count": 14,
   "id": "4b872188",
   "metadata": {
    "execution": {
     "iopub.execute_input": "2022-04-15T22:53:40.850945Z",
     "iopub.status.busy": "2022-04-15T22:53:40.850798Z",
     "iopub.status.idle": "2022-04-15T22:53:40.854240Z",
     "shell.execute_reply": "2022-04-15T22:53:40.853732Z"
    }
   },
   "outputs": [
    {
     "data": {
      "text/plain": [
       "'lions'"
      ]
     },
     "execution_count": 14,
     "metadata": {},
     "output_type": "execute_result"
    }
   ],
   "source": [
    "string_list[0]"
   ]
  },
  {
   "cell_type": "code",
   "execution_count": 15,
   "id": "231a9b24",
   "metadata": {
    "execution": {
     "iopub.execute_input": "2022-04-15T22:53:40.857122Z",
     "iopub.status.busy": "2022-04-15T22:53:40.856717Z",
     "iopub.status.idle": "2022-04-15T22:53:40.860422Z",
     "shell.execute_reply": "2022-04-15T22:53:40.859911Z"
    }
   },
   "outputs": [
    {
     "data": {
      "text/plain": [
       "['tigers', 'bears', 'sharks']"
      ]
     },
     "execution_count": 15,
     "metadata": {},
     "output_type": "execute_result"
    }
   ],
   "source": [
    "string_list[1:4]"
   ]
  },
  {
   "cell_type": "code",
   "execution_count": 16,
   "id": "07a6f25b",
   "metadata": {
    "execution": {
     "iopub.execute_input": "2022-04-15T22:53:40.863298Z",
     "iopub.status.busy": "2022-04-15T22:53:40.862901Z",
     "iopub.status.idle": "2022-04-15T22:53:40.866635Z",
     "shell.execute_reply": "2022-04-15T22:53:40.866115Z"
    }
   },
   "outputs": [
    {
     "data": {
      "text/plain": [
       "[0, 2, 4]"
      ]
     },
     "execution_count": 16,
     "metadata": {},
     "output_type": "execute_result"
    }
   ],
   "source": [
    "int_list[::2]"
   ]
  },
  {
   "cell_type": "code",
   "execution_count": 17,
   "id": "bde1733d",
   "metadata": {
    "execution": {
     "iopub.execute_input": "2022-04-15T22:53:40.869471Z",
     "iopub.status.busy": "2022-04-15T22:53:40.869076Z",
     "iopub.status.idle": "2022-04-15T22:53:40.872758Z",
     "shell.execute_reply": "2022-04-15T22:53:40.872242Z"
    }
   },
   "outputs": [
    {
     "data": {
      "text/plain": [
       "'hamsters'"
      ]
     },
     "execution_count": 17,
     "metadata": {},
     "output_type": "execute_result"
    }
   ],
   "source": [
    "list_of_lists[1][4]"
   ]
  },
  {
   "cell_type": "code",
   "execution_count": 18,
   "id": "82665332",
   "metadata": {
    "execution": {
     "iopub.execute_input": "2022-04-15T22:53:40.875563Z",
     "iopub.status.busy": "2022-04-15T22:53:40.875162Z",
     "iopub.status.idle": "2022-04-15T22:53:40.878268Z",
     "shell.execute_reply": "2022-04-15T22:53:40.877738Z"
    }
   },
   "outputs": [],
   "source": [
    "int_list[2] = 222\n",
    "\n",
    "int_list.append(5)\n",
    "\n",
    "string_list.remove('lions')\n",
    "\n",
    "list_from_variables.extend(int_list)"
   ]
  },
  {
   "cell_type": "code",
   "execution_count": 19,
   "id": "d6d94c62",
   "metadata": {
    "execution": {
     "iopub.execute_input": "2022-04-15T22:53:40.880484Z",
     "iopub.status.busy": "2022-04-15T22:53:40.880232Z",
     "iopub.status.idle": "2022-04-15T22:53:40.883892Z",
     "shell.execute_reply": "2022-04-15T22:53:40.883363Z"
    }
   },
   "outputs": [
    {
     "data": {
      "text/plain": [
       "[0, 1, 222, 3, 4, 5]"
      ]
     },
     "execution_count": 19,
     "metadata": {},
     "output_type": "execute_result"
    }
   ],
   "source": [
    "int_list"
   ]
  },
  {
   "cell_type": "code",
   "execution_count": 20,
   "id": "3fea1633",
   "metadata": {
    "execution": {
     "iopub.execute_input": "2022-04-15T22:53:40.886675Z",
     "iopub.status.busy": "2022-04-15T22:53:40.886343Z",
     "iopub.status.idle": "2022-04-15T22:53:40.889925Z",
     "shell.execute_reply": "2022-04-15T22:53:40.889420Z"
    }
   },
   "outputs": [
    {
     "data": {
      "text/plain": [
       "['tigers', 'bears', 'sharks', 'hamsters']"
      ]
     },
     "execution_count": 20,
     "metadata": {},
     "output_type": "execute_result"
    }
   ],
   "source": [
    "string_list"
   ]
  },
  {
   "cell_type": "code",
   "execution_count": 21,
   "id": "d00468e4",
   "metadata": {
    "execution": {
     "iopub.execute_input": "2022-04-15T22:53:40.894376Z",
     "iopub.status.busy": "2022-04-15T22:53:40.893974Z",
     "iopub.status.idle": "2022-04-15T22:53:40.897616Z",
     "shell.execute_reply": "2022-04-15T22:53:40.897232Z"
    }
   },
   "outputs": [
    {
     "data": {
      "text/plain": [
       "[5, 5.0, 5.0, 'dee', 'e', 0, 1, 222, 3, 4, 5]"
      ]
     },
     "execution_count": 21,
     "metadata": {},
     "output_type": "execute_result"
    }
   ],
   "source": [
    "list_from_variables"
   ]
  },
  {
   "cell_type": "code",
   "execution_count": 22,
   "id": "f636a527",
   "metadata": {
    "execution": {
     "iopub.execute_input": "2022-04-15T22:53:40.900057Z",
     "iopub.status.busy": "2022-04-15T22:53:40.899666Z",
     "iopub.status.idle": "2022-04-15T22:53:40.903464Z",
     "shell.execute_reply": "2022-04-15T22:53:40.902938Z"
    }
   },
   "outputs": [
    {
     "data": {
      "text/plain": [
       "(32, 'tall', 'likes hats')"
      ]
     },
     "execution_count": 22,
     "metadata": {},
     "output_type": "execute_result"
    }
   ],
   "source": [
    "joe_blow = (32, 'tall', 'likes hats')\n",
    "joe_blow"
   ]
  },
  {
   "cell_type": "code",
   "execution_count": 23,
   "id": "176d8fe3",
   "metadata": {
    "execution": {
     "iopub.execute_input": "2022-04-15T22:53:40.906200Z",
     "iopub.status.busy": "2022-04-15T22:53:40.905867Z",
     "iopub.status.idle": "2022-04-15T22:53:40.909459Z",
     "shell.execute_reply": "2022-04-15T22:53:40.908940Z"
    }
   },
   "outputs": [
    {
     "data": {
      "text/plain": [
       "'tall'"
      ]
     },
     "execution_count": 23,
     "metadata": {},
     "output_type": "execute_result"
    }
   ],
   "source": [
    "joe_blow[1]"
   ]
  },
  {
   "cell_type": "code",
   "execution_count": 24,
   "id": "cf64c4dc",
   "metadata": {
    "execution": {
     "iopub.execute_input": "2022-04-15T22:53:40.911873Z",
     "iopub.status.busy": "2022-04-15T22:53:40.911528Z",
     "iopub.status.idle": "2022-04-15T22:53:41.355888Z",
     "shell.execute_reply": "2022-04-15T22:53:41.355226Z"
    }
   },
   "outputs": [
    {
     "ename": "AttributeError",
     "evalue": "'tuple' object has no attribute 'append'",
     "output_type": "error",
     "traceback": [
      "\u001b[0;31m---------------------------------------------------------------------------\u001b[0m",
      "\u001b[0;31mAttributeError\u001b[0m                            Traceback (most recent call last)",
      "Input \u001b[0;32mIn [24]\u001b[0m, in \u001b[0;36m<cell line: 1>\u001b[0;34m()\u001b[0m\n\u001b[0;32m----> 1\u001b[0m \u001b[43mjoe_blow\u001b[49m\u001b[38;5;241;43m.\u001b[39;49m\u001b[43mappend\u001b[49m(\u001b[38;5;124m'\u001b[39m\u001b[38;5;124mmarried\u001b[39m\u001b[38;5;124m'\u001b[39m)\n",
      "\u001b[0;31mAttributeError\u001b[0m: 'tuple' object has no attribute 'append'"
     ]
    }
   ],
   "source": [
    "joe_blow.append('married')"
   ]
  },
  {
   "cell_type": "code",
   "execution_count": 25,
   "id": "fd6c2383",
   "metadata": {
    "execution": {
     "iopub.execute_input": "2022-04-15T22:53:41.358824Z",
     "iopub.status.busy": "2022-04-15T22:53:41.358533Z",
     "iopub.status.idle": "2022-04-15T22:53:41.371808Z",
     "shell.execute_reply": "2022-04-15T22:53:41.371275Z"
    }
   },
   "outputs": [
    {
     "ename": "TypeError",
     "evalue": "'tuple' object does not support item assignment",
     "output_type": "error",
     "traceback": [
      "\u001b[0;31m---------------------------------------------------------------------------\u001b[0m",
      "\u001b[0;31mTypeError\u001b[0m                                 Traceback (most recent call last)",
      "Input \u001b[0;32mIn [25]\u001b[0m, in \u001b[0;36m<cell line: 1>\u001b[0;34m()\u001b[0m\n\u001b[0;32m----> 1\u001b[0m joe_blow[\u001b[38;5;241m2\u001b[39m] \u001b[38;5;241m=\u001b[39m \u001b[38;5;124m'\u001b[39m\u001b[38;5;124mnot really a fan of hats\u001b[39m\u001b[38;5;124m'\u001b[39m\n",
      "\u001b[0;31mTypeError\u001b[0m: 'tuple' object does not support item assignment"
     ]
    }
   ],
   "source": [
    "joe_blow[2] = 'not really a fan of hats'"
   ]
  },
  {
   "cell_type": "code",
   "execution_count": 26,
   "id": "ab6e6115",
   "metadata": {
    "execution": {
     "iopub.execute_input": "2022-04-15T22:53:41.374279Z",
     "iopub.status.busy": "2022-04-15T22:53:41.373854Z",
     "iopub.status.idle": "2022-04-15T22:53:41.378030Z",
     "shell.execute_reply": "2022-04-15T22:53:41.377516Z"
    }
   },
   "outputs": [
    {
     "data": {
      "text/plain": [
       "'elephant'"
      ]
     },
     "execution_count": 26,
     "metadata": {},
     "output_type": "execute_result"
    }
   ],
   "source": [
    "pets = ('elephant', 'cow', 'rock')\n",
    "\n",
    "pet1, pet2, pet3 = pets\n",
    "\n",
    "pet1"
   ]
  },
  {
   "cell_type": "code",
   "execution_count": 27,
   "id": "65863fcf",
   "metadata": {
    "execution": {
     "iopub.execute_input": "2022-04-15T22:53:41.380923Z",
     "iopub.status.busy": "2022-04-15T22:53:41.380523Z",
     "iopub.status.idle": "2022-04-15T22:53:41.384242Z",
     "shell.execute_reply": "2022-04-15T22:53:41.383715Z"
    }
   },
   "outputs": [
    {
     "data": {
      "text/plain": [
       "('elephant',)"
      ]
     },
     "execution_count": 27,
     "metadata": {},
     "output_type": "execute_result"
    }
   ],
   "source": [
    "tuple_with_one_item = pet1,\n",
    "\n",
    "tuple_with_one_item"
   ]
  },
  {
   "cell_type": "code",
   "execution_count": 28,
   "id": "a572e78b",
   "metadata": {
    "execution": {
     "iopub.execute_input": "2022-04-15T22:53:41.387116Z",
     "iopub.status.busy": "2022-04-15T22:53:41.386725Z",
     "iopub.status.idle": "2022-04-15T22:53:41.390804Z",
     "shell.execute_reply": "2022-04-15T22:53:41.390287Z"
    }
   },
   "outputs": [
    {
     "data": {
      "text/plain": [
       "{'key1': 'value1', 'key2': 'value2', 'key3': 'value3'}"
      ]
     },
     "execution_count": 28,
     "metadata": {},
     "output_type": "execute_result"
    }
   ],
   "source": [
    "dictionary0 = {'key1': 'value1', 'key2': 'value2', 'key3': 'value3'}\n",
    "dictionary0"
   ]
  },
  {
   "cell_type": "code",
   "execution_count": 29,
   "id": "01d08e65",
   "metadata": {
    "execution": {
     "iopub.execute_input": "2022-04-15T22:53:41.393645Z",
     "iopub.status.busy": "2022-04-15T22:53:41.393249Z",
     "iopub.status.idle": "2022-04-15T22:53:41.397329Z",
     "shell.execute_reply": "2022-04-15T22:53:41.396804Z"
    }
   },
   "outputs": [
    {
     "data": {
      "text/plain": [
       "{1: 'value1', 2: 'value2', 3: 'value3'}"
      ]
     },
     "execution_count": 29,
     "metadata": {},
     "output_type": "execute_result"
    }
   ],
   "source": [
    "dictionary1 = {1: 'value1', 2: 'value2', 3: 'value3'}\n",
    "dictionary1"
   ]
  },
  {
   "cell_type": "code",
   "execution_count": 30,
   "id": "0be4cbe3",
   "metadata": {
    "execution": {
     "iopub.execute_input": "2022-04-15T22:53:41.400181Z",
     "iopub.status.busy": "2022-04-15T22:53:41.399783Z",
     "iopub.status.idle": "2022-04-15T22:53:41.403682Z",
     "shell.execute_reply": "2022-04-15T22:53:41.403152Z"
    }
   },
   "outputs": [
    {
     "data": {
      "text/plain": [
       "[1, 2, 3]"
      ]
     },
     "execution_count": 30,
     "metadata": {},
     "output_type": "execute_result"
    }
   ],
   "source": [
    "list(dictionary1.keys())"
   ]
  },
  {
   "cell_type": "code",
   "execution_count": 31,
   "id": "e6376991",
   "metadata": {
    "execution": {
     "iopub.execute_input": "2022-04-15T22:53:41.406505Z",
     "iopub.status.busy": "2022-04-15T22:53:41.406109Z",
     "iopub.status.idle": "2022-04-15T22:53:41.409960Z",
     "shell.execute_reply": "2022-04-15T22:53:41.409465Z"
    }
   },
   "outputs": [
    {
     "data": {
      "text/plain": [
       "['value1', 'value2', 'value3']"
      ]
     },
     "execution_count": 31,
     "metadata": {},
     "output_type": "execute_result"
    }
   ],
   "source": [
    "list(dictionary1.values())"
   ]
  },
  {
   "cell_type": "code",
   "execution_count": 32,
   "id": "22fc8b22",
   "metadata": {
    "execution": {
     "iopub.execute_input": "2022-04-15T22:53:41.412800Z",
     "iopub.status.busy": "2022-04-15T22:53:41.412403Z",
     "iopub.status.idle": "2022-04-15T22:53:41.416409Z",
     "shell.execute_reply": "2022-04-15T22:53:41.415891Z"
    }
   },
   "outputs": [
    {
     "data": {
      "text/plain": [
       "50"
      ]
     },
     "execution_count": 32,
     "metadata": {},
     "output_type": "execute_result"
    }
   ],
   "source": [
    "cylinder = {'mass': 50, 'base': 10, 'height': 100}\n",
    "cylinder['mass']"
   ]
  },
  {
   "cell_type": "code",
   "execution_count": 33,
   "id": "55285103",
   "metadata": {
    "execution": {
     "iopub.execute_input": "2022-04-15T22:53:41.419305Z",
     "iopub.status.busy": "2022-04-15T22:53:41.418909Z",
     "iopub.status.idle": "2022-04-15T22:53:41.423279Z",
     "shell.execute_reply": "2022-04-15T22:53:41.422776Z"
    }
   },
   "outputs": [
    {
     "data": {
      "text/plain": [
       "{'mass01': 10, 'inertia01': 1, 'mass02': 50, 'inertia02': 5}"
      ]
     },
     "execution_count": 33,
     "metadata": {},
     "output_type": "execute_result"
    }
   ],
   "source": [
    "keys = ['mass01', 'inertia01', 'mass02', 'inertia02']\n",
    "values = [10, 1, 50, 5]\n",
    "dict(zip(keys, values))"
   ]
  },
  {
   "cell_type": "code",
   "execution_count": 34,
   "id": "ed1a0ab9",
   "metadata": {
    "execution": {
     "iopub.execute_input": "2022-04-15T22:53:41.426132Z",
     "iopub.status.busy": "2022-04-15T22:53:41.425723Z",
     "iopub.status.idle": "2022-04-15T22:53:41.429815Z",
     "shell.execute_reply": "2022-04-15T22:53:41.429304Z"
    }
   },
   "outputs": [
    {
     "data": {
      "text/plain": [
       "100"
      ]
     },
     "execution_count": 34,
     "metadata": {},
     "output_type": "execute_result"
    }
   ],
   "source": [
    "def abs_value(A):\n",
    "    if A < 0:\n",
    "        A = -A\n",
    "    return A\n",
    "\n",
    "abs_value(-100)"
   ]
  },
  {
   "cell_type": "code",
   "execution_count": 35,
   "id": "457f788f",
   "metadata": {
    "execution": {
     "iopub.execute_input": "2022-04-15T22:53:41.432695Z",
     "iopub.status.busy": "2022-04-15T22:53:41.432298Z",
     "iopub.status.idle": "2022-04-15T22:53:41.435914Z",
     "shell.execute_reply": "2022-04-15T22:53:41.435386Z"
    }
   },
   "outputs": [
    {
     "data": {
      "text/plain": [
       "123"
      ]
     },
     "execution_count": 35,
     "metadata": {},
     "output_type": "execute_result"
    }
   ],
   "source": [
    "abs_value(123)"
   ]
  },
  {
   "cell_type": "code",
   "execution_count": 36,
   "id": "bb764a2d",
   "metadata": {
    "execution": {
     "iopub.execute_input": "2022-04-15T22:53:41.438713Z",
     "iopub.status.busy": "2022-04-15T22:53:41.438318Z",
     "iopub.status.idle": "2022-04-15T22:53:41.441358Z",
     "shell.execute_reply": "2022-04-15T22:53:41.440854Z"
    }
   },
   "outputs": [],
   "source": [
    "def long_div(dividend, divisor):\n",
    "    quotient = dividend // divisor  # // : floor division\n",
    "    remainder = dividend % divisor  # % : modulo\n",
    "    return quotient, remainder"
   ]
  },
  {
   "cell_type": "code",
   "execution_count": 37,
   "id": "01402acb",
   "metadata": {
    "execution": {
     "iopub.execute_input": "2022-04-15T22:53:41.443879Z",
     "iopub.status.busy": "2022-04-15T22:53:41.443413Z",
     "iopub.status.idle": "2022-04-15T22:53:41.449380Z",
     "shell.execute_reply": "2022-04-15T22:53:41.448632Z"
    }
   },
   "outputs": [
    {
     "data": {
      "text/plain": [
       "(17, 5)"
      ]
     },
     "execution_count": 37,
     "metadata": {},
     "output_type": "execute_result"
    }
   ],
   "source": [
    "a = 430\n",
    "b = 25\n",
    "\n",
    "quo, rem = long_div(a, b)\n",
    "\n",
    "quo, rem"
   ]
  },
  {
   "cell_type": "code",
   "execution_count": 38,
   "id": "bdbf3c62",
   "metadata": {
    "execution": {
     "iopub.execute_input": "2022-04-15T22:53:41.451793Z",
     "iopub.status.busy": "2022-04-15T22:53:41.451531Z",
     "iopub.status.idle": "2022-04-15T22:53:41.455927Z",
     "shell.execute_reply": "2022-04-15T22:53:41.455428Z"
    }
   },
   "outputs": [
    {
     "name": "stdout",
     "output_type": "stream",
     "text": [
      "430 divided 25 is 17 remainder 5\n"
     ]
    }
   ],
   "source": [
    "msg = '{} divided {} is {} remainder {}'.format(a, b, quo, rem)\n",
    "print(msg)"
   ]
  },
  {
   "cell_type": "code",
   "execution_count": 39,
   "id": "1e207d12",
   "metadata": {
    "execution": {
     "iopub.execute_input": "2022-04-15T22:53:41.458459Z",
     "iopub.status.busy": "2022-04-15T22:53:41.458072Z",
     "iopub.status.idle": "2022-04-15T22:53:41.462223Z",
     "shell.execute_reply": "2022-04-15T22:53:41.461756Z"
    }
   },
   "outputs": [
    {
     "name": "stdout",
     "output_type": "stream",
     "text": [
      "3.9.12 (main, Mar 24 2022, 17:53:18) \n",
      "[GCC 9.4.0]\n"
     ]
    }
   ],
   "source": [
    "import sys\n",
    "\n",
    "print(sys.version)"
   ]
  },
  {
   "cell_type": "code",
   "execution_count": 40,
   "id": "0112b498",
   "metadata": {
    "execution": {
     "iopub.execute_input": "2022-04-15T22:53:41.464566Z",
     "iopub.status.busy": "2022-04-15T22:53:41.464324Z",
     "iopub.status.idle": "2022-04-15T22:53:41.468617Z",
     "shell.execute_reply": "2022-04-15T22:53:41.468150Z"
    }
   },
   "outputs": [
    {
     "name": "stdout",
     "output_type": "stream",
     "text": [
      "3.9.12 (main, Mar 24 2022, 17:53:18) \n",
      "[GCC 9.4.0]\n"
     ]
    }
   ],
   "source": [
    "from sys import version\n",
    "\n",
    "print(version)"
   ]
  },
  {
   "cell_type": "code",
   "execution_count": 41,
   "id": "55af03b4",
   "metadata": {
    "execution": {
     "iopub.execute_input": "2022-04-15T22:53:41.471036Z",
     "iopub.status.busy": "2022-04-15T22:53:41.470795Z",
     "iopub.status.idle": "2022-04-15T22:53:42.492416Z",
     "shell.execute_reply": "2022-04-15T22:53:42.491870Z"
    }
   },
   "outputs": [],
   "source": [
    "import sympy as sm\n",
    "import numpy as np\n",
    "import scipy as sp\n",
    "import matplotlib.pyplot as plt"
   ]
  },
  {
   "cell_type": "code",
   "execution_count": 42,
   "id": "8b6ac7d2",
   "metadata": {
    "execution": {
     "iopub.execute_input": "2022-04-15T22:53:42.496622Z",
     "iopub.status.busy": "2022-04-15T22:53:42.495402Z",
     "iopub.status.idle": "2022-04-15T22:53:42.502923Z",
     "shell.execute_reply": "2022-04-15T22:53:42.502445Z"
    }
   },
   "outputs": [
    {
     "data": {
      "text/latex": [
       "$\\displaystyle 0.843853958732492$"
      ],
      "text/plain": [
       "0.843853958732492"
      ]
     },
     "execution_count": 42,
     "metadata": {},
     "output_type": "execute_result"
    }
   ],
   "source": [
    "sm.cos(12.0)"
   ]
  },
  {
   "cell_type": "code",
   "execution_count": 43,
   "id": "3b36b3e7",
   "metadata": {
    "execution": {
     "iopub.execute_input": "2022-04-15T22:53:42.505820Z",
     "iopub.status.busy": "2022-04-15T22:53:42.505422Z",
     "iopub.status.idle": "2022-04-15T22:53:42.511250Z",
     "shell.execute_reply": "2022-04-15T22:53:42.510777Z"
    }
   },
   "outputs": [
    {
     "data": {
      "text/plain": [
       "0.8438539587324921"
      ]
     },
     "execution_count": 43,
     "metadata": {},
     "output_type": "execute_result"
    }
   ],
   "source": [
    "np.cos(12.0)"
   ]
  },
  {
   "cell_type": "code",
   "execution_count": 44,
   "id": "ec5c211f",
   "metadata": {
    "execution": {
     "iopub.execute_input": "2022-04-15T22:53:42.514507Z",
     "iopub.status.busy": "2022-04-15T22:53:42.513517Z",
     "iopub.status.idle": "2022-04-15T22:53:42.520298Z",
     "shell.execute_reply": "2022-04-15T22:53:42.519826Z"
    }
   },
   "outputs": [
    {
     "name": "stderr",
     "output_type": "stream",
     "text": [
      "/tmp/ipykernel_2495/3139199006.py:1: DeprecationWarning: scipy.cos is deprecated and will be removed in SciPy 2.0.0, use numpy.cos instead\n",
      "  sp.cos(12.0)\n"
     ]
    },
    {
     "data": {
      "text/plain": [
       "0.8438539587324921"
      ]
     },
     "execution_count": 44,
     "metadata": {},
     "output_type": "execute_result"
    }
   ],
   "source": [
    "sp.cos(12.0)"
   ]
  }
 ],
 "metadata": {
  "kernelspec": {
   "display_name": "Python 3 (ipykernel)",
   "language": "python",
   "name": "python3"
  },
  "language_info": {
   "codemirror_mode": {
    "name": "ipython",
    "version": 3
   },
   "file_extension": ".py",
   "mimetype": "text/x-python",
   "name": "python",
   "nbconvert_exporter": "python",
   "pygments_lexer": "ipython3",
   "version": "3.9.12"
  }
 },
 "nbformat": 4,
 "nbformat_minor": 5
}