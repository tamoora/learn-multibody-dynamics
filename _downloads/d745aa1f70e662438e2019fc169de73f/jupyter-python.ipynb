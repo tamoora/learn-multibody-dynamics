{
 "cells": [
  {
   "cell_type": "code",
   "execution_count": 1,
   "id": "16073ccd",
   "metadata": {
    "execution": {
     "iopub.execute_input": "2022-03-10T20:17:41.106555Z",
     "iopub.status.busy": "2022-03-10T20:17:41.106232Z",
     "iopub.status.idle": "2022-03-10T20:17:41.121564Z",
     "shell.execute_reply": "2022-03-10T20:17:41.120873Z"
    }
   },
   "outputs": [
    {
     "data": {
      "application/json": {
       "cell": {
        "!": "OSMagics",
        "HTML": "Other",
        "SVG": "Other",
        "bash": "Other",
        "capture": "ExecutionMagics",
        "debug": "ExecutionMagics",
        "file": "Other",
        "html": "DisplayMagics",
        "javascript": "DisplayMagics",
        "js": "DisplayMagics",
        "latex": "DisplayMagics",
        "markdown": "DisplayMagics",
        "perl": "Other",
        "prun": "ExecutionMagics",
        "pypy": "Other",
        "python": "Other",
        "python2": "Other",
        "python3": "Other",
        "ruby": "Other",
        "script": "ScriptMagics",
        "sh": "Other",
        "svg": "DisplayMagics",
        "sx": "OSMagics",
        "system": "OSMagics",
        "time": "ExecutionMagics",
        "timeit": "ExecutionMagics",
        "writefile": "OSMagics"
       },
       "line": {
        "alias": "OSMagics",
        "alias_magic": "BasicMagics",
        "autoawait": "AsyncMagics",
        "autocall": "AutoMagics",
        "automagic": "AutoMagics",
        "autosave": "KernelMagics",
        "bookmark": "OSMagics",
        "cat": "Other",
        "cd": "OSMagics",
        "clear": "KernelMagics",
        "colors": "BasicMagics",
        "conda": "PackagingMagics",
        "config": "ConfigMagics",
        "connect_info": "KernelMagics",
        "cp": "Other",
        "debug": "ExecutionMagics",
        "dhist": "OSMagics",
        "dirs": "OSMagics",
        "doctest_mode": "BasicMagics",
        "ed": "Other",
        "edit": "KernelMagics",
        "env": "OSMagics",
        "gui": "BasicMagics",
        "hist": "Other",
        "history": "HistoryMagics",
        "killbgscripts": "ScriptMagics",
        "ldir": "Other",
        "less": "KernelMagics",
        "lf": "Other",
        "lk": "Other",
        "ll": "Other",
        "load": "CodeMagics",
        "load_ext": "ExtensionMagics",
        "loadpy": "CodeMagics",
        "logoff": "LoggingMagics",
        "logon": "LoggingMagics",
        "logstart": "LoggingMagics",
        "logstate": "LoggingMagics",
        "logstop": "LoggingMagics",
        "ls": "Other",
        "lsmagic": "BasicMagics",
        "lx": "Other",
        "macro": "ExecutionMagics",
        "magic": "BasicMagics",
        "man": "KernelMagics",
        "matplotlib": "PylabMagics",
        "mkdir": "Other",
        "more": "KernelMagics",
        "mv": "Other",
        "notebook": "BasicMagics",
        "page": "BasicMagics",
        "pastebin": "CodeMagics",
        "pdb": "ExecutionMagics",
        "pdef": "NamespaceMagics",
        "pdoc": "NamespaceMagics",
        "pfile": "NamespaceMagics",
        "pinfo": "NamespaceMagics",
        "pinfo2": "NamespaceMagics",
        "pip": "PackagingMagics",
        "popd": "OSMagics",
        "pprint": "BasicMagics",
        "precision": "BasicMagics",
        "prun": "ExecutionMagics",
        "psearch": "NamespaceMagics",
        "psource": "NamespaceMagics",
        "pushd": "OSMagics",
        "pwd": "OSMagics",
        "pycat": "OSMagics",
        "pylab": "PylabMagics",
        "qtconsole": "KernelMagics",
        "quickref": "BasicMagics",
        "recall": "HistoryMagics",
        "rehashx": "OSMagics",
        "reload_ext": "ExtensionMagics",
        "rep": "Other",
        "rerun": "HistoryMagics",
        "reset": "NamespaceMagics",
        "reset_selective": "NamespaceMagics",
        "rm": "Other",
        "rmdir": "Other",
        "run": "ExecutionMagics",
        "save": "CodeMagics",
        "sc": "OSMagics",
        "set_env": "OSMagics",
        "store": "StoreMagics",
        "sx": "OSMagics",
        "system": "OSMagics",
        "tb": "ExecutionMagics",
        "time": "ExecutionMagics",
        "timeit": "ExecutionMagics",
        "unalias": "OSMagics",
        "unload_ext": "ExtensionMagics",
        "who": "NamespaceMagics",
        "who_ls": "NamespaceMagics",
        "whos": "NamespaceMagics",
        "xdel": "NamespaceMagics",
        "xmode": "BasicMagics"
       }
      },
      "text/plain": [
       "Available line magics:\n",
       "%alias  %alias_magic  %autoawait  %autocall  %automagic  %autosave  %bookmark  %cat  %cd  %clear  %colors  %conda  %config  %connect_info  %cp  %debug  %dhist  %dirs  %doctest_mode  %ed  %edit  %env  %gui  %hist  %history  %killbgscripts  %ldir  %less  %lf  %lk  %ll  %load  %load_ext  %loadpy  %logoff  %logon  %logstart  %logstate  %logstop  %ls  %lsmagic  %lx  %macro  %magic  %man  %matplotlib  %mkdir  %more  %mv  %notebook  %page  %pastebin  %pdb  %pdef  %pdoc  %pfile  %pinfo  %pinfo2  %pip  %popd  %pprint  %precision  %prun  %psearch  %psource  %pushd  %pwd  %pycat  %pylab  %qtconsole  %quickref  %recall  %rehashx  %reload_ext  %rep  %rerun  %reset  %reset_selective  %rm  %rmdir  %run  %save  %sc  %set_env  %store  %sx  %system  %tb  %time  %timeit  %unalias  %unload_ext  %who  %who_ls  %whos  %xdel  %xmode\n",
       "\n",
       "Available cell magics:\n",
       "%%!  %%HTML  %%SVG  %%bash  %%capture  %%debug  %%file  %%html  %%javascript  %%js  %%latex  %%markdown  %%perl  %%prun  %%pypy  %%python  %%python2  %%python3  %%ruby  %%script  %%sh  %%svg  %%sx  %%system  %%time  %%timeit  %%writefile\n",
       "\n",
       "Automagic is ON, % prefix IS NOT needed for line magics."
      ]
     },
     "execution_count": 1,
     "metadata": {},
     "output_type": "execute_result"
    }
   ],
   "source": [
    "%lsmagic"
   ]
  },
  {
   "cell_type": "code",
   "execution_count": 2,
   "id": "f4dfe1af",
   "metadata": {
    "execution": {
     "iopub.execute_input": "2022-03-10T20:17:41.124927Z",
     "iopub.status.busy": "2022-03-10T20:17:41.124632Z",
     "iopub.status.idle": "2022-03-10T20:17:41.130796Z",
     "shell.execute_reply": "2022-03-10T20:17:41.130091Z"
    }
   },
   "outputs": [
    {
     "name": "stdout",
     "output_type": "stream",
     "text": [
      "Variable   Type    Data/Info\n",
      "----------------------------\n",
      "a          int     5\n"
     ]
    }
   ],
   "source": [
    "a = 5\n",
    "\n",
    "%whos"
   ]
  },
  {
   "cell_type": "code",
   "execution_count": 3,
   "id": "35240ca2",
   "metadata": {
    "execution": {
     "iopub.execute_input": "2022-03-10T20:17:41.133946Z",
     "iopub.status.busy": "2022-03-10T20:17:41.133669Z",
     "iopub.status.idle": "2022-03-10T20:17:41.137129Z",
     "shell.execute_reply": "2022-03-10T20:17:41.136349Z"
    }
   },
   "outputs": [],
   "source": [
    "?"
   ]
  },
  {
   "cell_type": "code",
   "execution_count": 4,
   "id": "d6e4bbea",
   "metadata": {
    "execution": {
     "iopub.execute_input": "2022-03-10T20:17:41.139825Z",
     "iopub.status.busy": "2022-03-10T20:17:41.139639Z",
     "iopub.status.idle": "2022-03-10T20:17:41.144392Z",
     "shell.execute_reply": "2022-03-10T20:17:41.143524Z"
    }
   },
   "outputs": [],
   "source": [
    "%quickref"
   ]
  },
  {
   "cell_type": "code",
   "execution_count": 5,
   "id": "dedf831a",
   "metadata": {
    "execution": {
     "iopub.execute_input": "2022-03-10T20:17:41.147541Z",
     "iopub.status.busy": "2022-03-10T20:17:41.147348Z",
     "iopub.status.idle": "2022-03-10T20:17:41.200802Z",
     "shell.execute_reply": "2022-03-10T20:17:41.199958Z"
    }
   },
   "outputs": [],
   "source": [
    "round?"
   ]
  },
  {
   "cell_type": "code",
   "execution_count": 6,
   "id": "31435ba9",
   "metadata": {
    "execution": {
     "iopub.execute_input": "2022-03-10T20:17:41.207616Z",
     "iopub.status.busy": "2022-03-10T20:17:41.207241Z",
     "iopub.status.idle": "2022-03-10T20:17:41.215824Z",
     "shell.execute_reply": "2022-03-10T20:17:41.215108Z"
    }
   },
   "outputs": [
    {
     "data": {
      "text/plain": [
       "(int, float, float, str, str)"
      ]
     },
     "execution_count": 6,
     "metadata": {},
     "output_type": "execute_result"
    }
   ],
   "source": [
    "a = 5\n",
    "b = 5.0\n",
    "c = float(5)\n",
    "d = 'dee'\n",
    "e = 'e'\n",
    "\n",
    "type(a), type(b), type(c), type(d), type(e)"
   ]
  },
  {
   "cell_type": "code",
   "execution_count": 7,
   "id": "f5a7a429",
   "metadata": {
    "execution": {
     "iopub.execute_input": "2022-03-10T20:17:41.218724Z",
     "iopub.status.busy": "2022-03-10T20:17:41.218527Z",
     "iopub.status.idle": "2022-03-10T20:17:41.224211Z",
     "shell.execute_reply": "2022-03-10T20:17:41.223548Z"
    }
   },
   "outputs": [],
   "source": [
    "empty_list = []\n",
    "\n",
    "string_list = ['lions', 'tigers', 'bears', 'sharks', 'hamsters']\n",
    "\n",
    "int_list = [0, 1, 2, 3, 4]\n",
    "\n",
    "int_list2 = list(range(5,10))\n",
    "\n",
    "list_from_variables = [a,b,c,d,e]\n",
    "\n",
    "list_of_lists = [empty_list,\n",
    "                 string_list,\n",
    "                 list_from_variables,\n",
    "                 int_list,\n",
    "                 int_list2]"
   ]
  },
  {
   "cell_type": "code",
   "execution_count": 8,
   "id": "c009cb68",
   "metadata": {
    "execution": {
     "iopub.execute_input": "2022-03-10T20:17:41.227444Z",
     "iopub.status.busy": "2022-03-10T20:17:41.227035Z",
     "iopub.status.idle": "2022-03-10T20:17:41.232910Z",
     "shell.execute_reply": "2022-03-10T20:17:41.232298Z"
    }
   },
   "outputs": [
    {
     "data": {
      "text/plain": [
       "[]"
      ]
     },
     "execution_count": 8,
     "metadata": {},
     "output_type": "execute_result"
    }
   ],
   "source": [
    "empty_list"
   ]
  },
  {
   "cell_type": "code",
   "execution_count": 9,
   "id": "2c771030",
   "metadata": {
    "execution": {
     "iopub.execute_input": "2022-03-10T20:17:41.235926Z",
     "iopub.status.busy": "2022-03-10T20:17:41.235712Z",
     "iopub.status.idle": "2022-03-10T20:17:41.240155Z",
     "shell.execute_reply": "2022-03-10T20:17:41.239458Z"
    }
   },
   "outputs": [
    {
     "data": {
      "text/plain": [
       "['lions', 'tigers', 'bears', 'sharks', 'hamsters']"
      ]
     },
     "execution_count": 9,
     "metadata": {},
     "output_type": "execute_result"
    }
   ],
   "source": [
    "string_list"
   ]
  },
  {
   "cell_type": "code",
   "execution_count": 10,
   "id": "bdf15e62",
   "metadata": {
    "execution": {
     "iopub.execute_input": "2022-03-10T20:17:41.243502Z",
     "iopub.status.busy": "2022-03-10T20:17:41.243198Z",
     "iopub.status.idle": "2022-03-10T20:17:41.248149Z",
     "shell.execute_reply": "2022-03-10T20:17:41.247444Z"
    }
   },
   "outputs": [
    {
     "data": {
      "text/plain": [
       "[0, 1, 2, 3, 4]"
      ]
     },
     "execution_count": 10,
     "metadata": {},
     "output_type": "execute_result"
    }
   ],
   "source": [
    "int_list"
   ]
  },
  {
   "cell_type": "code",
   "execution_count": 11,
   "id": "c6e38ae1",
   "metadata": {
    "execution": {
     "iopub.execute_input": "2022-03-10T20:17:41.251437Z",
     "iopub.status.busy": "2022-03-10T20:17:41.251043Z",
     "iopub.status.idle": "2022-03-10T20:17:41.255814Z",
     "shell.execute_reply": "2022-03-10T20:17:41.254946Z"
    }
   },
   "outputs": [
    {
     "data": {
      "text/plain": [
       "[5, 6, 7, 8, 9]"
      ]
     },
     "execution_count": 11,
     "metadata": {},
     "output_type": "execute_result"
    }
   ],
   "source": [
    "int_list2"
   ]
  },
  {
   "cell_type": "code",
   "execution_count": 12,
   "id": "f3308eab",
   "metadata": {
    "execution": {
     "iopub.execute_input": "2022-03-10T20:17:41.259269Z",
     "iopub.status.busy": "2022-03-10T20:17:41.258882Z",
     "iopub.status.idle": "2022-03-10T20:17:41.263131Z",
     "shell.execute_reply": "2022-03-10T20:17:41.262468Z"
    }
   },
   "outputs": [
    {
     "data": {
      "text/plain": [
       "[5, 5.0, 5.0, 'dee', 'e']"
      ]
     },
     "execution_count": 12,
     "metadata": {},
     "output_type": "execute_result"
    }
   ],
   "source": [
    "list_from_variables"
   ]
  },
  {
   "cell_type": "code",
   "execution_count": 13,
   "id": "da8c0a3d",
   "metadata": {
    "execution": {
     "iopub.execute_input": "2022-03-10T20:17:41.266562Z",
     "iopub.status.busy": "2022-03-10T20:17:41.266255Z",
     "iopub.status.idle": "2022-03-10T20:17:41.270928Z",
     "shell.execute_reply": "2022-03-10T20:17:41.270266Z"
    }
   },
   "outputs": [
    {
     "data": {
      "text/plain": [
       "[[],\n",
       " ['lions', 'tigers', 'bears', 'sharks', 'hamsters'],\n",
       " [5, 5.0, 5.0, 'dee', 'e'],\n",
       " [0, 1, 2, 3, 4],\n",
       " [5, 6, 7, 8, 9]]"
      ]
     },
     "execution_count": 13,
     "metadata": {},
     "output_type": "execute_result"
    }
   ],
   "source": [
    "list_of_lists"
   ]
  },
  {
   "cell_type": "code",
   "execution_count": 14,
   "id": "2da2a68b",
   "metadata": {
    "execution": {
     "iopub.execute_input": "2022-03-10T20:17:41.274503Z",
     "iopub.status.busy": "2022-03-10T20:17:41.274208Z",
     "iopub.status.idle": "2022-03-10T20:17:41.278623Z",
     "shell.execute_reply": "2022-03-10T20:17:41.277988Z"
    }
   },
   "outputs": [
    {
     "data": {
      "text/plain": [
       "'lions'"
      ]
     },
     "execution_count": 14,
     "metadata": {},
     "output_type": "execute_result"
    }
   ],
   "source": [
    "string_list[0]"
   ]
  },
  {
   "cell_type": "code",
   "execution_count": 15,
   "id": "ec5ddb83",
   "metadata": {
    "execution": {
     "iopub.execute_input": "2022-03-10T20:17:41.281876Z",
     "iopub.status.busy": "2022-03-10T20:17:41.281593Z",
     "iopub.status.idle": "2022-03-10T20:17:41.285823Z",
     "shell.execute_reply": "2022-03-10T20:17:41.285122Z"
    }
   },
   "outputs": [
    {
     "data": {
      "text/plain": [
       "['tigers', 'bears', 'sharks']"
      ]
     },
     "execution_count": 15,
     "metadata": {},
     "output_type": "execute_result"
    }
   ],
   "source": [
    "string_list[1:4]"
   ]
  },
  {
   "cell_type": "code",
   "execution_count": 16,
   "id": "fa1109de",
   "metadata": {
    "execution": {
     "iopub.execute_input": "2022-03-10T20:17:41.289566Z",
     "iopub.status.busy": "2022-03-10T20:17:41.289397Z",
     "iopub.status.idle": "2022-03-10T20:17:41.293409Z",
     "shell.execute_reply": "2022-03-10T20:17:41.292733Z"
    }
   },
   "outputs": [
    {
     "data": {
      "text/plain": [
       "[0, 2, 4]"
      ]
     },
     "execution_count": 16,
     "metadata": {},
     "output_type": "execute_result"
    }
   ],
   "source": [
    "int_list[::2]"
   ]
  },
  {
   "cell_type": "code",
   "execution_count": 17,
   "id": "996a3c1d",
   "metadata": {
    "execution": {
     "iopub.execute_input": "2022-03-10T20:17:41.297848Z",
     "iopub.status.busy": "2022-03-10T20:17:41.297550Z",
     "iopub.status.idle": "2022-03-10T20:17:41.308549Z",
     "shell.execute_reply": "2022-03-10T20:17:41.301105Z"
    }
   },
   "outputs": [
    {
     "data": {
      "text/plain": [
       "'hamsters'"
      ]
     },
     "execution_count": 17,
     "metadata": {},
     "output_type": "execute_result"
    }
   ],
   "source": [
    "list_of_lists[1][4]"
   ]
  },
  {
   "cell_type": "code",
   "execution_count": 18,
   "id": "e549cb9a",
   "metadata": {
    "execution": {
     "iopub.execute_input": "2022-03-10T20:17:41.311513Z",
     "iopub.status.busy": "2022-03-10T20:17:41.311064Z",
     "iopub.status.idle": "2022-03-10T20:17:41.314896Z",
     "shell.execute_reply": "2022-03-10T20:17:41.314185Z"
    }
   },
   "outputs": [],
   "source": [
    "int_list[2] = 222\n",
    "\n",
    "int_list.append(5)\n",
    "\n",
    "string_list.remove('lions')\n",
    "\n",
    "list_from_variables.extend(int_list)"
   ]
  },
  {
   "cell_type": "code",
   "execution_count": 19,
   "id": "515d774b",
   "metadata": {
    "execution": {
     "iopub.execute_input": "2022-03-10T20:17:41.318360Z",
     "iopub.status.busy": "2022-03-10T20:17:41.318162Z",
     "iopub.status.idle": "2022-03-10T20:17:41.322722Z",
     "shell.execute_reply": "2022-03-10T20:17:41.322080Z"
    }
   },
   "outputs": [
    {
     "data": {
      "text/plain": [
       "[0, 1, 222, 3, 4, 5]"
      ]
     },
     "execution_count": 19,
     "metadata": {},
     "output_type": "execute_result"
    }
   ],
   "source": [
    "int_list"
   ]
  },
  {
   "cell_type": "code",
   "execution_count": 20,
   "id": "f9d4010c",
   "metadata": {
    "execution": {
     "iopub.execute_input": "2022-03-10T20:17:41.326446Z",
     "iopub.status.busy": "2022-03-10T20:17:41.326243Z",
     "iopub.status.idle": "2022-03-10T20:17:41.330311Z",
     "shell.execute_reply": "2022-03-10T20:17:41.329711Z"
    }
   },
   "outputs": [
    {
     "data": {
      "text/plain": [
       "['tigers', 'bears', 'sharks', 'hamsters']"
      ]
     },
     "execution_count": 20,
     "metadata": {},
     "output_type": "execute_result"
    }
   ],
   "source": [
    "string_list"
   ]
  },
  {
   "cell_type": "code",
   "execution_count": 21,
   "id": "579066b4",
   "metadata": {
    "execution": {
     "iopub.execute_input": "2022-03-10T20:17:41.333271Z",
     "iopub.status.busy": "2022-03-10T20:17:41.333090Z",
     "iopub.status.idle": "2022-03-10T20:17:41.349216Z",
     "shell.execute_reply": "2022-03-10T20:17:41.348044Z"
    }
   },
   "outputs": [
    {
     "data": {
      "text/plain": [
       "[5, 5.0, 5.0, 'dee', 'e', 0, 1, 222, 3, 4, 5]"
      ]
     },
     "execution_count": 21,
     "metadata": {},
     "output_type": "execute_result"
    }
   ],
   "source": [
    "list_from_variables"
   ]
  },
  {
   "cell_type": "code",
   "execution_count": 22,
   "id": "f29dfe24",
   "metadata": {
    "execution": {
     "iopub.execute_input": "2022-03-10T20:17:41.351803Z",
     "iopub.status.busy": "2022-03-10T20:17:41.351592Z",
     "iopub.status.idle": "2022-03-10T20:17:41.358438Z",
     "shell.execute_reply": "2022-03-10T20:17:41.355298Z"
    }
   },
   "outputs": [
    {
     "data": {
      "text/plain": [
       "(32, 'tall', 'likes hats')"
      ]
     },
     "execution_count": 22,
     "metadata": {},
     "output_type": "execute_result"
    }
   ],
   "source": [
    "joe_blow = (32, 'tall', 'likes hats')\n",
    "joe_blow"
   ]
  },
  {
   "cell_type": "code",
   "execution_count": 23,
   "id": "9a1b9290",
   "metadata": {
    "execution": {
     "iopub.execute_input": "2022-03-10T20:17:41.360985Z",
     "iopub.status.busy": "2022-03-10T20:17:41.360798Z",
     "iopub.status.idle": "2022-03-10T20:17:41.365297Z",
     "shell.execute_reply": "2022-03-10T20:17:41.364690Z"
    }
   },
   "outputs": [
    {
     "data": {
      "text/plain": [
       "'tall'"
      ]
     },
     "execution_count": 23,
     "metadata": {},
     "output_type": "execute_result"
    }
   ],
   "source": [
    "joe_blow[1]"
   ]
  },
  {
   "cell_type": "code",
   "execution_count": 24,
   "id": "14f405b4",
   "metadata": {
    "execution": {
     "iopub.execute_input": "2022-03-10T20:17:41.368452Z",
     "iopub.status.busy": "2022-03-10T20:17:41.368264Z",
     "iopub.status.idle": "2022-03-10T20:17:41.872616Z",
     "shell.execute_reply": "2022-03-10T20:17:41.871822Z"
    }
   },
   "outputs": [
    {
     "ename": "AttributeError",
     "evalue": "'tuple' object has no attribute 'append'",
     "output_type": "error",
     "traceback": [
      "\u001b[0;31m---------------------------------------------------------------------------\u001b[0m",
      "\u001b[0;31mAttributeError\u001b[0m                            Traceback (most recent call last)",
      "Input \u001b[0;32mIn [24]\u001b[0m, in \u001b[0;36m<cell line: 1>\u001b[0;34m()\u001b[0m\n\u001b[0;32m----> 1\u001b[0m \u001b[43mjoe_blow\u001b[49m\u001b[38;5;241;43m.\u001b[39;49m\u001b[43mappend\u001b[49m(\u001b[38;5;124m'\u001b[39m\u001b[38;5;124mmarried\u001b[39m\u001b[38;5;124m'\u001b[39m)\n",
      "\u001b[0;31mAttributeError\u001b[0m: 'tuple' object has no attribute 'append'"
     ]
    }
   ],
   "source": [
    "joe_blow.append('married')"
   ]
  },
  {
   "cell_type": "code",
   "execution_count": 25,
   "id": "c36709d5",
   "metadata": {
    "execution": {
     "iopub.execute_input": "2022-03-10T20:17:41.875712Z",
     "iopub.status.busy": "2022-03-10T20:17:41.875370Z",
     "iopub.status.idle": "2022-03-10T20:17:41.894466Z",
     "shell.execute_reply": "2022-03-10T20:17:41.893717Z"
    }
   },
   "outputs": [
    {
     "ename": "TypeError",
     "evalue": "'tuple' object does not support item assignment",
     "output_type": "error",
     "traceback": [
      "\u001b[0;31m---------------------------------------------------------------------------\u001b[0m",
      "\u001b[0;31mTypeError\u001b[0m                                 Traceback (most recent call last)",
      "Input \u001b[0;32mIn [25]\u001b[0m, in \u001b[0;36m<cell line: 1>\u001b[0;34m()\u001b[0m\n\u001b[0;32m----> 1\u001b[0m joe_blow[\u001b[38;5;241m2\u001b[39m] \u001b[38;5;241m=\u001b[39m \u001b[38;5;124m'\u001b[39m\u001b[38;5;124mnot really a fan of hats\u001b[39m\u001b[38;5;124m'\u001b[39m\n",
      "\u001b[0;31mTypeError\u001b[0m: 'tuple' object does not support item assignment"
     ]
    }
   ],
   "source": [
    "joe_blow[2] = 'not really a fan of hats'"
   ]
  },
  {
   "cell_type": "code",
   "execution_count": 26,
   "id": "c9d707a7",
   "metadata": {
    "execution": {
     "iopub.execute_input": "2022-03-10T20:17:41.897520Z",
     "iopub.status.busy": "2022-03-10T20:17:41.897108Z",
     "iopub.status.idle": "2022-03-10T20:17:41.908757Z",
     "shell.execute_reply": "2022-03-10T20:17:41.905295Z"
    }
   },
   "outputs": [
    {
     "data": {
      "text/plain": [
       "'elephant'"
      ]
     },
     "execution_count": 26,
     "metadata": {},
     "output_type": "execute_result"
    }
   ],
   "source": [
    "pets = ('elephant', 'cow', 'rock')\n",
    "\n",
    "pet1, pet2, pet3 = pets\n",
    "\n",
    "pet1"
   ]
  },
  {
   "cell_type": "code",
   "execution_count": 27,
   "id": "ce55228b",
   "metadata": {
    "execution": {
     "iopub.execute_input": "2022-03-10T20:17:41.911747Z",
     "iopub.status.busy": "2022-03-10T20:17:41.911487Z",
     "iopub.status.idle": "2022-03-10T20:17:41.917180Z",
     "shell.execute_reply": "2022-03-10T20:17:41.916602Z"
    }
   },
   "outputs": [
    {
     "data": {
      "text/plain": [
       "('elephant',)"
      ]
     },
     "execution_count": 27,
     "metadata": {},
     "output_type": "execute_result"
    }
   ],
   "source": [
    "tuple_with_one_item = pet1,\n",
    "\n",
    "tuple_with_one_item"
   ]
  },
  {
   "cell_type": "code",
   "execution_count": 28,
   "id": "20e6c561",
   "metadata": {
    "execution": {
     "iopub.execute_input": "2022-03-10T20:17:41.921020Z",
     "iopub.status.busy": "2022-03-10T20:17:41.920492Z",
     "iopub.status.idle": "2022-03-10T20:17:41.928074Z",
     "shell.execute_reply": "2022-03-10T20:17:41.927362Z"
    }
   },
   "outputs": [
    {
     "data": {
      "text/plain": [
       "{'key1': 'value1', 'key2': 'value2', 'key3': 'value3'}"
      ]
     },
     "execution_count": 28,
     "metadata": {},
     "output_type": "execute_result"
    }
   ],
   "source": [
    "dictionary0 = {'key1': 'value1', 'key2': 'value2', 'key3': 'value3'}\n",
    "dictionary0"
   ]
  },
  {
   "cell_type": "code",
   "execution_count": 29,
   "id": "8ce28c07",
   "metadata": {
    "execution": {
     "iopub.execute_input": "2022-03-10T20:17:41.930942Z",
     "iopub.status.busy": "2022-03-10T20:17:41.930738Z",
     "iopub.status.idle": "2022-03-10T20:17:41.935365Z",
     "shell.execute_reply": "2022-03-10T20:17:41.934834Z"
    }
   },
   "outputs": [
    {
     "data": {
      "text/plain": [
       "{1: 'value1', 2: 'value2', 3: 'value3'}"
      ]
     },
     "execution_count": 29,
     "metadata": {},
     "output_type": "execute_result"
    }
   ],
   "source": [
    "dictionary1 = {1: 'value1', 2: 'value2', 3: 'value3'}\n",
    "dictionary1"
   ]
  },
  {
   "cell_type": "code",
   "execution_count": 30,
   "id": "0ebe2d6a",
   "metadata": {
    "execution": {
     "iopub.execute_input": "2022-03-10T20:17:41.938088Z",
     "iopub.status.busy": "2022-03-10T20:17:41.937863Z",
     "iopub.status.idle": "2022-03-10T20:17:41.942319Z",
     "shell.execute_reply": "2022-03-10T20:17:41.941747Z"
    }
   },
   "outputs": [
    {
     "data": {
      "text/plain": [
       "[1, 2, 3]"
      ]
     },
     "execution_count": 30,
     "metadata": {},
     "output_type": "execute_result"
    }
   ],
   "source": [
    "list(dictionary1.keys())"
   ]
  },
  {
   "cell_type": "code",
   "execution_count": 31,
   "id": "d9bb7f09",
   "metadata": {
    "execution": {
     "iopub.execute_input": "2022-03-10T20:17:41.945368Z",
     "iopub.status.busy": "2022-03-10T20:17:41.944842Z",
     "iopub.status.idle": "2022-03-10T20:17:41.951716Z",
     "shell.execute_reply": "2022-03-10T20:17:41.950871Z"
    }
   },
   "outputs": [
    {
     "data": {
      "text/plain": [
       "['value1', 'value2', 'value3']"
      ]
     },
     "execution_count": 31,
     "metadata": {},
     "output_type": "execute_result"
    }
   ],
   "source": [
    "list(dictionary1.values())"
   ]
  },
  {
   "cell_type": "code",
   "execution_count": 32,
   "id": "75edf07f",
   "metadata": {
    "execution": {
     "iopub.execute_input": "2022-03-10T20:17:41.954600Z",
     "iopub.status.busy": "2022-03-10T20:17:41.954384Z",
     "iopub.status.idle": "2022-03-10T20:17:41.958790Z",
     "shell.execute_reply": "2022-03-10T20:17:41.958295Z"
    }
   },
   "outputs": [
    {
     "data": {
      "text/plain": [
       "50"
      ]
     },
     "execution_count": 32,
     "metadata": {},
     "output_type": "execute_result"
    }
   ],
   "source": [
    "cylinder = {'mass': 50, 'base': 10, 'height': 100}\n",
    "cylinder['mass']"
   ]
  },
  {
   "cell_type": "code",
   "execution_count": 33,
   "id": "b8ede3e2",
   "metadata": {
    "execution": {
     "iopub.execute_input": "2022-03-10T20:17:41.962037Z",
     "iopub.status.busy": "2022-03-10T20:17:41.961266Z",
     "iopub.status.idle": "2022-03-10T20:17:41.966460Z",
     "shell.execute_reply": "2022-03-10T20:17:41.965827Z"
    }
   },
   "outputs": [
    {
     "data": {
      "text/plain": [
       "{'mass01': 10, 'inertia01': 1, 'mass02': 50, 'inertia02': 5}"
      ]
     },
     "execution_count": 33,
     "metadata": {},
     "output_type": "execute_result"
    }
   ],
   "source": [
    "keys = ['mass01', 'inertia01', 'mass02', 'inertia02']\n",
    "values = [10, 1, 50, 5]\n",
    "dict(zip(keys, values))"
   ]
  },
  {
   "cell_type": "code",
   "execution_count": 34,
   "id": "018aa3ee",
   "metadata": {
    "execution": {
     "iopub.execute_input": "2022-03-10T20:17:41.969339Z",
     "iopub.status.busy": "2022-03-10T20:17:41.968755Z",
     "iopub.status.idle": "2022-03-10T20:17:41.973946Z",
     "shell.execute_reply": "2022-03-10T20:17:41.973231Z"
    }
   },
   "outputs": [
    {
     "data": {
      "text/plain": [
       "100"
      ]
     },
     "execution_count": 34,
     "metadata": {},
     "output_type": "execute_result"
    }
   ],
   "source": [
    "def abs_value(A):\n",
    "    if A < 0:\n",
    "        A = -A\n",
    "    return A\n",
    "\n",
    "abs_value(-100)"
   ]
  },
  {
   "cell_type": "code",
   "execution_count": 35,
   "id": "acdfe352",
   "metadata": {
    "execution": {
     "iopub.execute_input": "2022-03-10T20:17:41.977077Z",
     "iopub.status.busy": "2022-03-10T20:17:41.976594Z",
     "iopub.status.idle": "2022-03-10T20:17:41.981115Z",
     "shell.execute_reply": "2022-03-10T20:17:41.980419Z"
    }
   },
   "outputs": [
    {
     "data": {
      "text/plain": [
       "123"
      ]
     },
     "execution_count": 35,
     "metadata": {},
     "output_type": "execute_result"
    }
   ],
   "source": [
    "abs_value(123)"
   ]
  },
  {
   "cell_type": "code",
   "execution_count": 36,
   "id": "bba8b92c",
   "metadata": {
    "execution": {
     "iopub.execute_input": "2022-03-10T20:17:41.985254Z",
     "iopub.status.busy": "2022-03-10T20:17:41.984735Z",
     "iopub.status.idle": "2022-03-10T20:17:41.988320Z",
     "shell.execute_reply": "2022-03-10T20:17:41.987646Z"
    }
   },
   "outputs": [],
   "source": [
    "def long_div(dividend, divisor):\n",
    "    quotient = dividend // divisor  # // : floor division\n",
    "    remainder = dividend % divisor  # % : modulo\n",
    "    return quotient, remainder"
   ]
  },
  {
   "cell_type": "code",
   "execution_count": 37,
   "id": "c05d7a46",
   "metadata": {
    "execution": {
     "iopub.execute_input": "2022-03-10T20:17:41.991196Z",
     "iopub.status.busy": "2022-03-10T20:17:41.990721Z",
     "iopub.status.idle": "2022-03-10T20:17:41.995782Z",
     "shell.execute_reply": "2022-03-10T20:17:41.995083Z"
    }
   },
   "outputs": [
    {
     "data": {
      "text/plain": [
       "(17, 5)"
      ]
     },
     "execution_count": 37,
     "metadata": {},
     "output_type": "execute_result"
    }
   ],
   "source": [
    "a = 430\n",
    "b = 25\n",
    "\n",
    "quo, rem = long_div(a, b)\n",
    "\n",
    "quo, rem"
   ]
  },
  {
   "cell_type": "code",
   "execution_count": 38,
   "id": "565c6409",
   "metadata": {
    "execution": {
     "iopub.execute_input": "2022-03-10T20:17:41.999364Z",
     "iopub.status.busy": "2022-03-10T20:17:41.998830Z",
     "iopub.status.idle": "2022-03-10T20:17:42.006559Z",
     "shell.execute_reply": "2022-03-10T20:17:42.005608Z"
    }
   },
   "outputs": [
    {
     "name": "stdout",
     "output_type": "stream",
     "text": [
      "430 divided 25 is 17 remainder 5\n"
     ]
    }
   ],
   "source": [
    "msg = '{} divided {} is {} remainder {}'.format(a, b, quo, rem)\n",
    "print(msg)"
   ]
  },
  {
   "cell_type": "code",
   "execution_count": 39,
   "id": "388a0fd3",
   "metadata": {
    "execution": {
     "iopub.execute_input": "2022-03-10T20:17:42.009831Z",
     "iopub.status.busy": "2022-03-10T20:17:42.009114Z",
     "iopub.status.idle": "2022-03-10T20:17:42.013323Z",
     "shell.execute_reply": "2022-03-10T20:17:42.012607Z"
    }
   },
   "outputs": [
    {
     "name": "stdout",
     "output_type": "stream",
     "text": [
      "3.9.10 (main, Feb  3 2022, 07:33:39) \n",
      "[GCC 9.3.0]\n"
     ]
    }
   ],
   "source": [
    "import sys\n",
    "\n",
    "print(sys.version)"
   ]
  },
  {
   "cell_type": "code",
   "execution_count": 40,
   "id": "d6b529d9",
   "metadata": {
    "execution": {
     "iopub.execute_input": "2022-03-10T20:17:42.016139Z",
     "iopub.status.busy": "2022-03-10T20:17:42.015700Z",
     "iopub.status.idle": "2022-03-10T20:17:42.019386Z",
     "shell.execute_reply": "2022-03-10T20:17:42.018774Z"
    }
   },
   "outputs": [
    {
     "name": "stdout",
     "output_type": "stream",
     "text": [
      "3.9.10 (main, Feb  3 2022, 07:33:39) \n",
      "[GCC 9.3.0]\n"
     ]
    }
   ],
   "source": [
    "from sys import version\n",
    "\n",
    "print(version)"
   ]
  },
  {
   "cell_type": "code",
   "execution_count": 41,
   "id": "1fe9387b",
   "metadata": {
    "execution": {
     "iopub.execute_input": "2022-03-10T20:17:42.022185Z",
     "iopub.status.busy": "2022-03-10T20:17:42.021745Z",
     "iopub.status.idle": "2022-03-10T20:17:43.237043Z",
     "shell.execute_reply": "2022-03-10T20:17:43.236237Z"
    }
   },
   "outputs": [],
   "source": [
    "import sympy as sm\n",
    "import numpy as np\n",
    "import scipy as sp\n",
    "import matplotlib.pyplot as plt"
   ]
  },
  {
   "cell_type": "code",
   "execution_count": 42,
   "id": "b3ee9e45",
   "metadata": {
    "execution": {
     "iopub.execute_input": "2022-03-10T20:17:43.240235Z",
     "iopub.status.busy": "2022-03-10T20:17:43.239983Z",
     "iopub.status.idle": "2022-03-10T20:17:43.248774Z",
     "shell.execute_reply": "2022-03-10T20:17:43.248074Z"
    }
   },
   "outputs": [
    {
     "data": {
      "text/latex": [
       "$\\displaystyle 0.843853958732492$"
      ],
      "text/plain": [
       "0.843853958732492"
      ]
     },
     "execution_count": 42,
     "metadata": {},
     "output_type": "execute_result"
    }
   ],
   "source": [
    "sm.cos(12.0)"
   ]
  },
  {
   "cell_type": "code",
   "execution_count": 43,
   "id": "7b51b9a2",
   "metadata": {
    "execution": {
     "iopub.execute_input": "2022-03-10T20:17:43.251373Z",
     "iopub.status.busy": "2022-03-10T20:17:43.251134Z",
     "iopub.status.idle": "2022-03-10T20:17:43.255984Z",
     "shell.execute_reply": "2022-03-10T20:17:43.255006Z"
    }
   },
   "outputs": [
    {
     "data": {
      "text/plain": [
       "0.8438539587324921"
      ]
     },
     "execution_count": 43,
     "metadata": {},
     "output_type": "execute_result"
    }
   ],
   "source": [
    "np.cos(12.0)"
   ]
  },
  {
   "cell_type": "code",
   "execution_count": 44,
   "id": "d12d6ca4",
   "metadata": {
    "execution": {
     "iopub.execute_input": "2022-03-10T20:17:43.259637Z",
     "iopub.status.busy": "2022-03-10T20:17:43.259441Z",
     "iopub.status.idle": "2022-03-10T20:17:43.266836Z",
     "shell.execute_reply": "2022-03-10T20:17:43.266166Z"
    }
   },
   "outputs": [
    {
     "name": "stderr",
     "output_type": "stream",
     "text": [
      "/tmp/ipykernel_2370/3139199006.py:1: DeprecationWarning: scipy.cos is deprecated and will be removed in SciPy 2.0.0, use numpy.cos instead\n",
      "  sp.cos(12.0)\n"
     ]
    },
    {
     "data": {
      "text/plain": [
       "0.8438539587324921"
      ]
     },
     "execution_count": 44,
     "metadata": {},
     "output_type": "execute_result"
    }
   ],
   "source": [
    "sp.cos(12.0)"
   ]
  }
 ],
 "metadata": {
  "kernelspec": {
   "display_name": "Python 3 (ipykernel)",
   "language": "python",
   "name": "python3"
  },
  "language_info": {
   "codemirror_mode": {
    "name": "ipython",
    "version": 3
   },
   "file_extension": ".py",
   "mimetype": "text/x-python",
   "name": "python",
   "nbconvert_exporter": "python",
   "pygments_lexer": "ipython3",
   "version": "3.9.10"
  }
 },
 "nbformat": 4,
 "nbformat_minor": 5
}