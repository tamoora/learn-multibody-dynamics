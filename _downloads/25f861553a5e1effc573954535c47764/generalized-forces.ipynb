{
 "cells": [
  {
   "cell_type": "code",
   "execution_count": 1,
   "id": "321e152e",
   "metadata": {
    "execution": {
     "iopub.execute_input": "2022-04-15T22:53:35.211506Z",
     "iopub.status.busy": "2022-04-15T22:53:35.211272Z",
     "iopub.status.idle": "2022-04-15T22:53:35.746977Z",
     "shell.execute_reply": "2022-04-15T22:53:35.746398Z"
    }
   },
   "outputs": [],
   "source": [
    "import sympy as sm\n",
    "import sympy.physics.mechanics as me\n",
    "me.init_vprinting(use_latex='mathjax')"
   ]
  },
  {
   "cell_type": "code",
   "execution_count": 2,
   "id": "4da487bf",
   "metadata": {
    "execution": {
     "iopub.execute_input": "2022-04-15T22:53:35.750130Z",
     "iopub.status.busy": "2022-04-15T22:53:35.749946Z",
     "iopub.status.idle": "2022-04-15T22:53:35.764817Z",
     "shell.execute_reply": "2022-04-15T22:53:35.764286Z"
    }
   },
   "outputs": [
    {
     "data": {
      "text/latex": [
       "$\\displaystyle u_{1}\\mathbf{\\hat{n}_x}$"
      ],
      "text/plain": [
       "u₁ n_x"
      ]
     },
     "execution_count": 2,
     "metadata": {},
     "output_type": "execute_result"
    }
   ],
   "source": [
    "L = sm.symbols('L')\n",
    "\n",
    "q1, q2, u1, u2 = me.dynamicsymbols('q1, q2, u1, u2')\n",
    "\n",
    "N = me.ReferenceFrame('N')\n",
    "R = me.ReferenceFrame('R')\n",
    "\n",
    "R.orient_axis(N, q2, N.z)\n",
    "\n",
    "N_v_A = u1*N.x\n",
    "N_v_A"
   ]
  },
  {
   "cell_type": "code",
   "execution_count": 3,
   "id": "2b577130",
   "metadata": {
    "execution": {
     "iopub.execute_input": "2022-04-15T22:53:35.767587Z",
     "iopub.status.busy": "2022-04-15T22:53:35.767313Z",
     "iopub.status.idle": "2022-04-15T22:53:35.780864Z",
     "shell.execute_reply": "2022-04-15T22:53:35.780328Z"
    }
   },
   "outputs": [
    {
     "data": {
      "text/latex": [
       "$\\displaystyle (L u_{2} \\sin{\\left(q_{2} \\right)} + u_{1})\\mathbf{\\hat{n}_x} -  L u_{2} \\cos{\\left(q_{2} \\right)}\\mathbf{\\hat{n}_y}$"
      ],
      "text/plain": [
       "(L⋅u₂⋅sin(q₂) + u₁) n_x + -L⋅u₂⋅cos(q₂) n_y"
      ]
     },
     "execution_count": 3,
     "metadata": {},
     "output_type": "execute_result"
    }
   ],
   "source": [
    "N_w_R = u2*N.z\n",
    "r_A_B = -L*R.x\n",
    "N_v_B = N_v_A + me.cross(N_w_R, r_A_B)\n",
    "\n",
    "N_v_B.express(N)"
   ]
  },
  {
   "cell_type": "code",
   "execution_count": 4,
   "id": "c3bb969d",
   "metadata": {
    "execution": {
     "iopub.execute_input": "2022-04-15T22:53:35.783452Z",
     "iopub.status.busy": "2022-04-15T22:53:35.783029Z",
     "iopub.status.idle": "2022-04-15T22:53:35.797106Z",
     "shell.execute_reply": "2022-04-15T22:53:35.796590Z"
    }
   },
   "outputs": [
    {
     "data": {
      "text/latex": [
       "$\\displaystyle \\left( \\mathbf{\\hat{n}_x}, \\  0\\right)$"
      ],
      "text/plain": [
       "(n_x, 0)"
      ]
     },
     "execution_count": 4,
     "metadata": {},
     "output_type": "execute_result"
    }
   ],
   "source": [
    "N_v_A.diff(u1, N), N_v_A.diff(u2, N)"
   ]
  },
  {
   "cell_type": "code",
   "execution_count": 5,
   "id": "2f54ea87",
   "metadata": {
    "execution": {
     "iopub.execute_input": "2022-04-15T22:53:35.799364Z",
     "iopub.status.busy": "2022-04-15T22:53:35.799094Z",
     "iopub.status.idle": "2022-04-15T22:53:35.810685Z",
     "shell.execute_reply": "2022-04-15T22:53:35.810141Z"
    }
   },
   "outputs": [
    {
     "data": {
      "text/latex": [
       "$\\displaystyle \\left( \\mathbf{\\hat{n}_x}, \\  L \\sin{\\left(q_{2} \\right)}\\mathbf{\\hat{n}_x} -  L \\cos{\\left(q_{2} \\right)}\\mathbf{\\hat{n}_y}\\right)$"
      ],
      "text/plain": [
       "(n_x, L⋅sin(q₂) n_x + -L⋅cos(q₂) n_y)"
      ]
     },
     "execution_count": 5,
     "metadata": {},
     "output_type": "execute_result"
    }
   ],
   "source": [
    "N_v_B.diff(u1, N), N_v_B.diff(u2, N).express(N)"
   ]
  },
  {
   "cell_type": "code",
   "execution_count": 6,
   "id": "d0918954",
   "metadata": {
    "execution": {
     "iopub.execute_input": "2022-04-15T22:53:35.813539Z",
     "iopub.status.busy": "2022-04-15T22:53:35.813138Z",
     "iopub.status.idle": "2022-04-15T22:53:35.819036Z",
     "shell.execute_reply": "2022-04-15T22:53:35.818526Z"
    }
   },
   "outputs": [
    {
     "data": {
      "text/latex": [
       "$\\displaystyle \\left( 0, \\  \\mathbf{\\hat{n}_z}\\right)$"
      ],
      "text/plain": [
       "(0, n_z)"
      ]
     },
     "execution_count": 6,
     "metadata": {},
     "output_type": "execute_result"
    }
   ],
   "source": [
    "N_w_R.diff(u1, N), N_w_R.diff(u2, N)"
   ]
  },
  {
   "cell_type": "code",
   "execution_count": 7,
   "id": "17a97e94",
   "metadata": {
    "execution": {
     "iopub.execute_input": "2022-04-15T22:53:35.822000Z",
     "iopub.status.busy": "2022-04-15T22:53:35.821522Z",
     "iopub.status.idle": "2022-04-15T22:53:35.847074Z",
     "shell.execute_reply": "2022-04-15T22:53:35.846437Z"
    }
   },
   "outputs": [
    {
     "data": {
      "text/latex": [
       "$\\displaystyle \\left( L \\dot{q}_{1}\\mathbf{\\hat{a}_x}, \\  L \\dot{q}_{1}\\mathbf{\\hat{a}_x} + L \\dot{q}_{2}\\mathbf{\\hat{b}_x}\\right)$"
      ],
      "text/plain": [
       "(L⋅q₁̇ a_x, L⋅q₁̇ a_x + L⋅q₂̇ b_x)"
      ]
     },
     "execution_count": 7,
     "metadata": {},
     "output_type": "execute_result"
    }
   ],
   "source": [
    "q1, q2, u1, u2 = me.dynamicsymbols('q1, q2, u1, u2')\n",
    "\n",
    "L = sm.symbols('L')\n",
    "\n",
    "N = me.ReferenceFrame('N')\n",
    "A = me.ReferenceFrame('A')\n",
    "B = me.ReferenceFrame('B')\n",
    "\n",
    "A.orient_axis(N, q1, N.z)\n",
    "B.orient_axis(N, q2, N.z)\n",
    "\n",
    "O = me.Point('O')\n",
    "P1 = me.Point('P1')\n",
    "P2 = me.Point('P2')\n",
    "\n",
    "O.set_vel(N, 0)\n",
    "\n",
    "P1.set_pos(O, -L*A.y)\n",
    "P2.set_pos(P1, -L*B.y)\n",
    "\n",
    "P1.v2pt_theory(O, N, A)\n",
    "P2.v2pt_theory(P1, N, B)\n",
    "\n",
    "P1.vel(N), P2.vel(N)"
   ]
  },
  {
   "cell_type": "code",
   "execution_count": 8,
   "id": "0569d8a2",
   "metadata": {
    "execution": {
     "iopub.execute_input": "2022-04-15T22:53:35.849947Z",
     "iopub.status.busy": "2022-04-15T22:53:35.849496Z",
     "iopub.status.idle": "2022-04-15T22:53:35.859246Z",
     "shell.execute_reply": "2022-04-15T22:53:35.858771Z"
    }
   },
   "outputs": [
    {
     "data": {
      "text/latex": [
       "$\\displaystyle \\left( L u_{1}\\mathbf{\\hat{a}_x}, \\  L u_{1}\\mathbf{\\hat{a}_x} + L u_{2}\\mathbf{\\hat{b}_x}\\right)$"
      ],
      "text/plain": [
       "(L⋅u₁ a_x, L⋅u₁ a_x + L⋅u₂ b_x)"
      ]
     },
     "execution_count": 8,
     "metadata": {},
     "output_type": "execute_result"
    }
   ],
   "source": [
    "repl = {q1.diff(): u1, q2.diff(): u2}\n",
    "\n",
    "N_v_P1 = P1.vel(N).xreplace(repl)\n",
    "N_v_P2 = P2.vel(N).xreplace(repl)\n",
    "\n",
    "N_v_P1, N_v_P2"
   ]
  },
  {
   "cell_type": "code",
   "execution_count": 9,
   "id": "817e7b19",
   "metadata": {
    "execution": {
     "iopub.execute_input": "2022-04-15T22:53:35.862048Z",
     "iopub.status.busy": "2022-04-15T22:53:35.861642Z",
     "iopub.status.idle": "2022-04-15T22:53:35.872715Z",
     "shell.execute_reply": "2022-04-15T22:53:35.872236Z"
    }
   },
   "outputs": [
    {
     "data": {
      "text/latex": [
       "$\\displaystyle -  g m_{1}\\mathbf{\\hat{n}_y} + T_{1}\\mathbf{\\hat{a}_y} -  T_{2}\\mathbf{\\hat{b}_y}$"
      ],
      "text/plain": [
       "-g⋅m₁ n_y + T₁ a_y + -T₂ b_y"
      ]
     },
     "execution_count": 9,
     "metadata": {},
     "output_type": "execute_result"
    }
   ],
   "source": [
    "T1, T2 = me.dynamicsymbols('T1, T2')\n",
    "m1, m2, g = sm.symbols('m1, m2, g')\n",
    "\n",
    "R1 = -m1*g*N.y + T1*A.y - T2*B.y\n",
    "R1"
   ]
  },
  {
   "cell_type": "code",
   "execution_count": 10,
   "id": "2ef3558f",
   "metadata": {
    "execution": {
     "iopub.execute_input": "2022-04-15T22:53:35.875493Z",
     "iopub.status.busy": "2022-04-15T22:53:35.875053Z",
     "iopub.status.idle": "2022-04-15T22:53:35.881266Z",
     "shell.execute_reply": "2022-04-15T22:53:35.880864Z"
    }
   },
   "outputs": [
    {
     "data": {
      "text/latex": [
       "$\\displaystyle -  g m_{2}\\mathbf{\\hat{n}_y} + T_{2}\\mathbf{\\hat{b}_y}$"
      ],
      "text/plain": [
       "-g⋅m₂ n_y + T₂ b_y"
      ]
     },
     "execution_count": 10,
     "metadata": {},
     "output_type": "execute_result"
    }
   ],
   "source": [
    "R2 = -m2*g*N.y + T2*B.y\n",
    "R2"
   ]
  },
  {
   "cell_type": "code",
   "execution_count": 11,
   "id": "fdeb63aa",
   "metadata": {
    "execution": {
     "iopub.execute_input": "2022-04-15T22:53:35.883985Z",
     "iopub.status.busy": "2022-04-15T22:53:35.883491Z",
     "iopub.status.idle": "2022-04-15T22:53:35.899529Z",
     "shell.execute_reply": "2022-04-15T22:53:35.899028Z"
    }
   },
   "outputs": [
    {
     "data": {
      "text/latex": [
       "$\\displaystyle \\left( L\\mathbf{\\hat{a}_x}, \\  0, \\  L\\mathbf{\\hat{a}_x}, \\  L\\mathbf{\\hat{b}_x}\\right)$"
      ],
      "text/plain": [
       "(L a_x, 0, L a_x, L b_x)"
      ]
     },
     "execution_count": 11,
     "metadata": {},
     "output_type": "execute_result"
    }
   ],
   "source": [
    "v_P1_1 = N_v_P1.diff(u1, N)\n",
    "v_P1_2 = N_v_P1.diff(u2, N)\n",
    "v_P2_1 = N_v_P2.diff(u1, N)\n",
    "v_P2_2 = N_v_P2.diff(u2, N)\n",
    "v_P1_1, v_P1_2, v_P2_1, v_P2_2"
   ]
  },
  {
   "cell_type": "code",
   "execution_count": 12,
   "id": "1c2d451b",
   "metadata": {
    "execution": {
     "iopub.execute_input": "2022-04-15T22:53:35.902251Z",
     "iopub.status.busy": "2022-04-15T22:53:35.901843Z",
     "iopub.status.idle": "2022-04-15T22:53:35.922837Z",
     "shell.execute_reply": "2022-04-15T22:53:35.922365Z"
    }
   },
   "outputs": [
    {
     "data": {
      "text/latex": [
       "$\\displaystyle - L g m_{1} \\sin{\\left(q_{1} \\right)} - L g m_{2} \\sin{\\left(q_{1} \\right)}$"
      ],
      "text/plain": [
       "-L⋅g⋅m₁⋅sin(q₁) - L⋅g⋅m₂⋅sin(q₁)"
      ]
     },
     "execution_count": 12,
     "metadata": {},
     "output_type": "execute_result"
    }
   ],
   "source": [
    "F1 = me.dot(v_P1_1, R1) + me.dot(v_P2_1, R2)\n",
    "F1"
   ]
  },
  {
   "cell_type": "code",
   "execution_count": 13,
   "id": "54f4c7ef",
   "metadata": {
    "execution": {
     "iopub.execute_input": "2022-04-15T22:53:35.925149Z",
     "iopub.status.busy": "2022-04-15T22:53:35.924984Z",
     "iopub.status.idle": "2022-04-15T22:53:35.933181Z",
     "shell.execute_reply": "2022-04-15T22:53:35.932713Z"
    }
   },
   "outputs": [
    {
     "data": {
      "text/latex": [
       "$\\displaystyle - L g m_{2} \\sin{\\left(q_{2} \\right)}$"
      ],
      "text/plain": [
       "-L⋅g⋅m₂⋅sin(q₂)"
      ]
     },
     "execution_count": 13,
     "metadata": {},
     "output_type": "execute_result"
    }
   ],
   "source": [
    "F2 = me.dot(v_P1_2, R1) + me.dot(v_P2_2, R2)\n",
    "F2"
   ]
  },
  {
   "cell_type": "code",
   "execution_count": 14,
   "id": "a6945334",
   "metadata": {
    "execution": {
     "iopub.execute_input": "2022-04-15T22:53:35.935599Z",
     "iopub.status.busy": "2022-04-15T22:53:35.935191Z",
     "iopub.status.idle": "2022-04-15T22:53:35.959768Z",
     "shell.execute_reply": "2022-04-15T22:53:35.959228Z"
    }
   },
   "outputs": [
    {
     "data": {
      "text/latex": [
       "$\\displaystyle \\left( \\frac{L u_{1}}{2}\\mathbf{\\hat{a}_y}, \\  L u_{1}\\mathbf{\\hat{a}_y}, \\  u_{1}\\mathbf{\\hat{n}_z}, \\  u_{2}\\mathbf{\\hat{a}_x} + u_{1}\\mathbf{\\hat{n}_z}\\right)$"
      ],
      "text/plain": [
       "⎛  L⋅u₁  , L⋅u₁ a_y, u₁ n_z, u₂ a_x + u₁ n_z⎞\n",
       "⎜──── a_y                                   ⎟\n",
       "⎝    2                                      ⎠"
      ]
     },
     "execution_count": 14,
     "metadata": {},
     "output_type": "execute_result"
    }
   ],
   "source": [
    "m, g, k, L = sm.symbols('m, g, k, L')\n",
    "q1, q2, u1, u2 = me.dynamicsymbols('q1, q2, u1, u2')\n",
    "\n",
    "N = me.ReferenceFrame('N')\n",
    "A = me.ReferenceFrame('A')\n",
    "B = me.ReferenceFrame('B')\n",
    "\n",
    "A.orient_axis(N, q1, N.z)\n",
    "B.orient_axis(A, q2, A.x)\n",
    "\n",
    "A.set_ang_vel(N, u1*N.z)\n",
    "B.set_ang_vel(A, u2*A.x)\n",
    "\n",
    "O = me.Point('O')\n",
    "Ao = me.Point('A_O')\n",
    "Bo = me.Point('B_O')\n",
    "\n",
    "Ao.set_pos(O, L/2*A.x)\n",
    "Bo.set_pos(O, L*A.x)\n",
    "\n",
    "O.set_vel(N, 0)\n",
    "Ao.v2pt_theory(O, N, A)\n",
    "Bo.v2pt_theory(O, N, A)\n",
    "\n",
    "Ao.vel(N), Bo.vel(N), A.ang_vel_in(N), B.ang_vel_in(N)"
   ]
  },
  {
   "cell_type": "code",
   "execution_count": 15,
   "id": "792d45b9",
   "metadata": {
    "execution": {
     "iopub.execute_input": "2022-04-15T22:53:35.962546Z",
     "iopub.status.busy": "2022-04-15T22:53:35.962140Z",
     "iopub.status.idle": "2022-04-15T22:53:35.975587Z",
     "shell.execute_reply": "2022-04-15T22:53:35.975118Z"
    }
   },
   "outputs": [
    {
     "data": {
      "text/latex": [
       "$\\displaystyle \\left( \\frac{L}{2}\\mathbf{\\hat{a}_y}, \\  0, \\  L\\mathbf{\\hat{a}_y}, \\  0\\right)$"
      ],
      "text/plain": [
       "⎛  L  , 0, L a_y, 0⎞\n",
       "⎜─ a_y             ⎟\n",
       "⎝  2               ⎠"
      ]
     },
     "execution_count": 15,
     "metadata": {},
     "output_type": "execute_result"
    }
   ],
   "source": [
    "v_Ao_1 = Ao.vel(N).diff(u1, N)\n",
    "v_Ao_2 = Ao.vel(N).diff(u2, N)\n",
    "v_Bo_1 = Bo.vel(N).diff(u1, N)\n",
    "v_Bo_2 = Bo.vel(N).diff(u2, N)\n",
    "\n",
    "v_Ao_1, v_Ao_2, v_Bo_1, v_Bo_2"
   ]
  },
  {
   "cell_type": "code",
   "execution_count": 16,
   "id": "636d2160",
   "metadata": {
    "execution": {
     "iopub.execute_input": "2022-04-15T22:53:35.978382Z",
     "iopub.status.busy": "2022-04-15T22:53:35.977973Z",
     "iopub.status.idle": "2022-04-15T22:53:35.990958Z",
     "shell.execute_reply": "2022-04-15T22:53:35.990480Z"
    }
   },
   "outputs": [
    {
     "data": {
      "text/latex": [
       "$\\displaystyle \\left( \\mathbf{\\hat{n}_z}, \\  0, \\  \\mathbf{\\hat{n}_z}, \\  \\mathbf{\\hat{a}_x}\\right)$"
      ],
      "text/plain": [
       "(n_z, 0, n_z, a_x)"
      ]
     },
     "execution_count": 16,
     "metadata": {},
     "output_type": "execute_result"
    }
   ],
   "source": [
    "w_A_1 = A.ang_vel_in(N).diff(u1, N)\n",
    "w_A_2 = A.ang_vel_in(N).diff(u2, N)\n",
    "w_B_1 = B.ang_vel_in(N).diff(u1, N)\n",
    "w_B_2 = B.ang_vel_in(N).diff(u2, N)\n",
    "\n",
    "w_A_1, w_A_2, w_B_1, w_B_2"
   ]
  },
  {
   "cell_type": "code",
   "execution_count": 17,
   "id": "8ce5452e",
   "metadata": {
    "execution": {
     "iopub.execute_input": "2022-04-15T22:53:35.993416Z",
     "iopub.status.busy": "2022-04-15T22:53:35.993006Z",
     "iopub.status.idle": "2022-04-15T22:53:35.999950Z",
     "shell.execute_reply": "2022-04-15T22:53:35.999418Z"
    }
   },
   "outputs": [
    {
     "data": {
      "text/latex": [
       "$\\displaystyle \\left( g m\\mathbf{\\hat{n}_x}, \\  g m\\mathbf{\\hat{n}_x}\\right)$"
      ],
      "text/plain": [
       "(g⋅m n_x, g⋅m n_x)"
      ]
     },
     "execution_count": 17,
     "metadata": {},
     "output_type": "execute_result"
    }
   ],
   "source": [
    "R_Ao = m*g*N.x\n",
    "R_Bo = m*g*N.x\n",
    "\n",
    "R_Ao, R_Bo"
   ]
  },
  {
   "cell_type": "code",
   "execution_count": 18,
   "id": "b282ae03",
   "metadata": {
    "execution": {
     "iopub.execute_input": "2022-04-15T22:53:36.002286Z",
     "iopub.status.busy": "2022-04-15T22:53:36.002134Z",
     "iopub.status.idle": "2022-04-15T22:53:36.010861Z",
     "shell.execute_reply": "2022-04-15T22:53:36.010399Z"
    }
   },
   "outputs": [
    {
     "data": {
      "text/latex": [
       "$\\displaystyle \\left( k q_{1}\\mathbf{\\hat{n}_z} -  k q_{2}\\mathbf{\\hat{a}_x}, \\  k q_{2}\\mathbf{\\hat{a}_x}\\right)$"
      ],
      "text/plain": [
       "(k⋅q₁ n_z + -k⋅q₂ a_x, k⋅q₂ a_x)"
      ]
     },
     "execution_count": 18,
     "metadata": {},
     "output_type": "execute_result"
    }
   ],
   "source": [
    "T_A = k*q1*N.z - k*q2*A.x\n",
    "T_B = k*q2*A.x\n",
    "\n",
    "T_A, T_B"
   ]
  },
  {
   "cell_type": "code",
   "execution_count": 19,
   "id": "5cd793ad",
   "metadata": {
    "execution": {
     "iopub.execute_input": "2022-04-15T22:53:36.013259Z",
     "iopub.status.busy": "2022-04-15T22:53:36.012851Z",
     "iopub.status.idle": "2022-04-15T22:53:36.027573Z",
     "shell.execute_reply": "2022-04-15T22:53:36.027127Z"
    }
   },
   "outputs": [
    {
     "data": {
      "text/latex": [
       "$\\displaystyle \\left( - \\frac{L g m \\sin{\\left(q_{1} \\right)}}{2} + k q_{1}, \\  - L g m \\sin{\\left(q_{1} \\right)}, \\  0, \\  k q_{2}\\right)$"
      ],
      "text/plain": [
       "⎛  L⋅g⋅m⋅sin(q₁)                                ⎞\n",
       "⎜- ───────────── + k⋅q₁, -L⋅g⋅m⋅sin(q₁), 0, k⋅q₂⎟\n",
       "⎝        2                                      ⎠"
      ]
     },
     "execution_count": 19,
     "metadata": {},
     "output_type": "execute_result"
    }
   ],
   "source": [
    "F1_A = v_Ao_1.dot(R_Ao) + w_A_1.dot(T_A)\n",
    "F1_B = v_Bo_1.dot(R_Bo) + w_B_1.dot(T_B)\n",
    "F2_A = v_Ao_2.dot(R_Ao) + w_A_2.dot(T_A)\n",
    "F2_B = v_Bo_2.dot(R_Bo) + w_B_2.dot(T_B)\n",
    "\n",
    "F1_A, F1_B, F2_A, F2_B"
   ]
  },
  {
   "cell_type": "code",
   "execution_count": 20,
   "id": "e97ff762",
   "metadata": {
    "execution": {
     "iopub.execute_input": "2022-04-15T22:53:36.029939Z",
     "iopub.status.busy": "2022-04-15T22:53:36.029550Z",
     "iopub.status.idle": "2022-04-15T22:53:36.036657Z",
     "shell.execute_reply": "2022-04-15T22:53:36.036149Z"
    }
   },
   "outputs": [
    {
     "data": {
      "text/latex": [
       "$\\displaystyle \\left[\\begin{matrix}- \\frac{3 L g m \\sin{\\left(q_{1} \\right)}}{2} + k q_{1}\\\\k q_{2}\\end{matrix}\\right]$"
      ],
      "text/plain": [
       "⎡  3⋅L⋅g⋅m⋅sin(q₁)       ⎤\n",
       "⎢- ─────────────── + k⋅q₁⎥\n",
       "⎢         2              ⎥\n",
       "⎢                        ⎥\n",
       "⎣          k⋅q₂          ⎦"
      ]
     },
     "execution_count": 20,
     "metadata": {},
     "output_type": "execute_result"
    }
   ],
   "source": [
    "F1 = F1_A + F1_B\n",
    "F2 = F2_A + F2_B\n",
    "\n",
    "Fr = sm.Matrix([F1, F2])\n",
    "Fr"
   ]
  },
  {
   "cell_type": "code",
   "execution_count": 21,
   "id": "43f4f469",
   "metadata": {
    "execution": {
     "iopub.execute_input": "2022-04-15T22:53:36.039697Z",
     "iopub.status.busy": "2022-04-15T22:53:36.039281Z",
     "iopub.status.idle": "2022-04-15T22:53:36.071151Z",
     "shell.execute_reply": "2022-04-15T22:53:36.070640Z"
    }
   },
   "outputs": [],
   "source": [
    "m, g, k, L = sm.symbols('m, g, k, L')\n",
    "q1, q2, u1, u2 = me.dynamicsymbols('q1, q2, u1, u2')\n",
    "\n",
    "N = me.ReferenceFrame('N')\n",
    "A = me.ReferenceFrame('A')\n",
    "B = me.ReferenceFrame('B')\n",
    "\n",
    "A.orient_axis(N, q1, N.z)\n",
    "B.orient_axis(A, q2, A.x)\n",
    "\n",
    "A.set_ang_vel(N, u1*N.z)\n",
    "B.set_ang_vel(A, u2*A.x)\n",
    "\n",
    "O = me.Point('O')\n",
    "Ao = me.Point('A_O')\n",
    "Bo = me.Point('B_O')\n",
    "\n",
    "Ao.set_pos(O, L/2*A.x)\n",
    "Bo.set_pos(O, L*A.x)\n",
    "\n",
    "O.set_vel(N, 0)\n",
    "Ao.v2pt_theory(O, N, A)\n",
    "Bo.v2pt_theory(O, N, A)\n",
    "\n",
    "v_Ao_1 = Ao.vel(N).diff(u1, N)\n",
    "v_Ao_2 = Ao.vel(N).diff(u2, N)\n",
    "v_Bo_1 = Bo.vel(N).diff(u1, N)\n",
    "v_Bo_2 = Bo.vel(N).diff(u2, N)\n",
    "\n",
    "w_A_1 = A.ang_vel_in(N).diff(u1, N)\n",
    "w_A_2 = A.ang_vel_in(N).diff(u2, N)\n",
    "w_B_1 = B.ang_vel_in(N).diff(u1, N)\n",
    "w_B_2 = B.ang_vel_in(N).diff(u2, N)"
   ]
  },
  {
   "cell_type": "code",
   "execution_count": 22,
   "id": "991ee5f7",
   "metadata": {
    "execution": {
     "iopub.execute_input": "2022-04-15T22:53:36.073717Z",
     "iopub.status.busy": "2022-04-15T22:53:36.073428Z",
     "iopub.status.idle": "2022-04-15T22:53:36.088880Z",
     "shell.execute_reply": "2022-04-15T22:53:36.088347Z"
    }
   },
   "outputs": [
    {
     "data": {
      "text/latex": [
       "$\\displaystyle \\left( \\dot{u}_{1}\\mathbf{\\hat{n}_z}, \\  \\dot{u}_{2}\\mathbf{\\hat{a}_x} + u_{1} u_{2}\\mathbf{\\hat{a}_y} + \\dot{u}_{1}\\mathbf{\\hat{n}_z}\\right)$"
      ],
      "text/plain": [
       "(u₁̇ n_z, u₂̇ a_x + u₁⋅u₂ a_y + u₁̇ n_z)"
      ]
     },
     "execution_count": 22,
     "metadata": {},
     "output_type": "execute_result"
    }
   ],
   "source": [
    "A.ang_acc_in(N), B.ang_acc_in(N)"
   ]
  },
  {
   "cell_type": "code",
   "execution_count": 23,
   "id": "1ceda787",
   "metadata": {
    "execution": {
     "iopub.execute_input": "2022-04-15T22:53:36.091896Z",
     "iopub.status.busy": "2022-04-15T22:53:36.091466Z",
     "iopub.status.idle": "2022-04-15T22:53:36.111397Z",
     "shell.execute_reply": "2022-04-15T22:53:36.110933Z"
    }
   },
   "outputs": [
    {
     "data": {
      "text/latex": [
       "$\\displaystyle \\left( -  \\frac{L u_{1}^{2}}{2}\\mathbf{\\hat{a}_x} + \\frac{L \\dot{u}_{1}}{2}\\mathbf{\\hat{a}_y}, \\  -  L u_{1}^{2}\\mathbf{\\hat{a}_x} + L \\dot{u}_{1}\\mathbf{\\hat{a}_y}\\right)$"
      ],
      "text/plain": [
       "⎛             2        ,              2       ⎞\n",
       "⎜ -L⋅u₁         L⋅u₁̇    -L⋅u₁  a_x + L⋅u₁̇ a_y⎟\n",
       "⎜─────── a_x + ──── a_y                       ⎟\n",
       "⎝      2           2                          ⎠"
      ]
     },
     "execution_count": 23,
     "metadata": {},
     "output_type": "execute_result"
    }
   ],
   "source": [
    "Ao.acc(N), Bo.acc(N)"
   ]
  },
  {
   "cell_type": "code",
   "execution_count": 24,
   "id": "9e73b2df",
   "metadata": {
    "execution": {
     "iopub.execute_input": "2022-04-15T22:53:36.114034Z",
     "iopub.status.busy": "2022-04-15T22:53:36.113755Z",
     "iopub.status.idle": "2022-04-15T22:53:36.119645Z",
     "shell.execute_reply": "2022-04-15T22:53:36.119165Z"
    }
   },
   "outputs": [],
   "source": [
    "I = m*L**2/12\n",
    "\n",
    "I_A_Ao = I*me.outer(A.y, A.y) + I*me.outer(A.z, A.z)\n",
    "I_B_Bo = I*me.outer(B.x, B.x) + I*me.outer(B.z, B.z)"
   ]
  },
  {
   "cell_type": "code",
   "execution_count": 25,
   "id": "7cee1bcf",
   "metadata": {
    "execution": {
     "iopub.execute_input": "2022-04-15T22:53:36.122256Z",
     "iopub.status.busy": "2022-04-15T22:53:36.121903Z",
     "iopub.status.idle": "2022-04-15T22:53:36.140173Z",
     "shell.execute_reply": "2022-04-15T22:53:36.139662Z"
    }
   },
   "outputs": [
    {
     "data": {
      "text/latex": [
       "$\\displaystyle \\left( \\frac{L m u_{1}^{2}}{2}\\mathbf{\\hat{a}_x} -  \\frac{L m \\dot{u}_{1}}{2}\\mathbf{\\hat{a}_y}, \\  L m u_{1}^{2}\\mathbf{\\hat{a}_x} -  L m \\dot{u}_{1}\\mathbf{\\hat{a}_y}\\right)$"
      ],
      "text/plain": [
       "⎛               2          ,                2         ⎞\n",
       "⎜  L⋅m⋅u₁        -L⋅m⋅u₁̇    L⋅m⋅u₁  a_x + -L⋅m⋅u₁̇ a_y⎟\n",
       "⎜─────── a_x + ──────── a_y                           ⎟\n",
       "⎝       2             2                               ⎠"
      ]
     },
     "execution_count": 25,
     "metadata": {},
     "output_type": "execute_result"
    }
   ],
   "source": [
    "Rs_Ao = -m*Ao.acc(N)\n",
    "Rs_Bo = -m*Bo.acc(N)\n",
    "\n",
    "Rs_Ao, Rs_Bo"
   ]
  },
  {
   "cell_type": "code",
   "execution_count": 26,
   "id": "ba22cd07",
   "metadata": {
    "execution": {
     "iopub.execute_input": "2022-04-15T22:53:36.143046Z",
     "iopub.status.busy": "2022-04-15T22:53:36.142613Z",
     "iopub.status.idle": "2022-04-15T22:53:36.195949Z",
     "shell.execute_reply": "2022-04-15T22:53:36.195411Z"
    }
   },
   "outputs": [
    {
     "data": {
      "text/latex": [
       "$\\displaystyle \\left( -  \\frac{L^{2} m \\dot{u}_{1}}{12}\\mathbf{\\hat{a}_z}, \\  (- \\frac{L^{2} m u_{1}^{2} \\sin{\\left(q_{2} \\right)} \\cos{\\left(q_{2} \\right)}}{12} - \\frac{L^{2} m \\dot{u}_{2}}{12})\\mathbf{\\hat{b}_x} + (- \\frac{L^{2} m \\left(- u_{1} u_{2} \\sin{\\left(q_{2} \\right)} + \\cos{\\left(q_{2} \\right)} \\dot{u}_{1}\\right)}{12} + \\frac{L^{2} m u_{1} u_{2} \\sin{\\left(q_{2} \\right)}}{12})\\mathbf{\\hat{b}_z}\\right)$"
      ],
      "text/plain": [
       "⎛       2     ,               ⎛   2     2                    2     ⎞       ⎛  \n",
       "⎜  -L ⋅m⋅u₁̇    ⎜  L ⋅m⋅u₁ ⋅sin(q₂)⋅cos(q₂)   L ⋅m⋅u₂̇⎟       ⎜  L ⋅m⋅(-u₁⋅u₂⋅\n",
       "⎜───────── a_z  ⎜- ──────────────────────── - ───────⎟ b_x + ⎜- ──────────────\n",
       "⎜        12           ⎝             12                 12  ⎠       ⎝          \n",
       "⎜                                                                             \n",
       "⎜                                                 2                ⎞          \n",
       "⎜                                        )⋅u₁̇)   L ⋅m⋅u₁⋅u₂⋅sin(q₂)⎟         \n",
       "⎜                                       ──── + ──────────────────⎟ b_z        \n",
       "⎝                                                        12        ⎠          \n",
       "\n",
       " 2              ⎞\n",
       "sin(q₂) + cos(q₂⎟\n",
       "────────────────⎟\n",
       "        12      ⎟\n",
       "                ⎟\n",
       "                ⎟\n",
       "                ⎟\n",
       "                ⎟\n",
       "                ⎠"
      ]
     },
     "execution_count": 26,
     "metadata": {},
     "output_type": "execute_result"
    }
   ],
   "source": [
    "Ts_A = -(A.ang_acc_in(N).dot(I_A_Ao) + me.cross(A.ang_vel_in(N), I_A_Ao).dot(A.ang_vel_in(N)))\n",
    "Ts_B = -(B.ang_acc_in(N).dot(I_B_Bo) + me.cross(B.ang_vel_in(N), I_B_Bo).dot(B.ang_vel_in(N)))\n",
    "\n",
    "Ts_A, Ts_B"
   ]
  },
  {
   "cell_type": "code",
   "execution_count": 27,
   "id": "6a01c54d",
   "metadata": {
    "execution": {
     "iopub.execute_input": "2022-04-15T22:53:36.198822Z",
     "iopub.status.busy": "2022-04-15T22:53:36.198379Z",
     "iopub.status.idle": "2022-04-15T22:53:36.228892Z",
     "shell.execute_reply": "2022-04-15T22:53:36.228378Z"
    }
   },
   "outputs": [
    {
     "data": {
      "text/latex": [
       "$\\displaystyle \\left[\\begin{matrix}- \\frac{4 L^{2} m \\dot{u}_{1}}{3} + \\left(- \\frac{L^{2} m \\left(- u_{1} u_{2} \\sin{\\left(q_{2} \\right)} + \\cos{\\left(q_{2} \\right)} \\dot{u}_{1}\\right)}{12} + \\frac{L^{2} m u_{1} u_{2} \\sin{\\left(q_{2} \\right)}}{12}\\right) \\cos{\\left(q_{2} \\right)}\\\\- \\frac{L^{2} m u_{1}^{2} \\sin{\\left(q_{2} \\right)} \\cos{\\left(q_{2} \\right)}}{12} - \\frac{L^{2} m \\dot{u}_{2}}{12}\\end{matrix}\\right]$"
      ],
      "text/plain": [
       "⎡     2        ⎛   2                                    2                ⎞    \n",
       "⎢  4⋅L ⋅m⋅u₁̇   ⎜  L ⋅m⋅(-u₁⋅u₂⋅sin(q₂) + cos(q₂)⋅u₁̇)   L ⋅m⋅u₁⋅u₂⋅sin(q₂)⎟  \n",
       "⎢- ───────── + ⎜- ────────────────────────────────── + ──────────────────⎟⋅cos\n",
       "⎢      3       ⎝                  12                           12        ⎠    \n",
       "⎢                                                                             \n",
       "⎢                         2     2                    2                        \n",
       "⎢                        L ⋅m⋅u₁ ⋅sin(q₂)⋅cos(q₂)   L ⋅m⋅u₂̇                  \n",
       "⎢                      - ──────────────────────── - ───────                   \n",
       "⎣                                   12                 12                     \n",
       "\n",
       "    ⎤\n",
       "      ⎥\n",
       "(q₂)⎥\n",
       "    ⎥\n",
       "    ⎥\n",
       "    ⎥\n",
       "     ⎥\n",
       "    ⎥\n",
       "    ⎦"
      ]
     },
     "execution_count": 27,
     "metadata": {},
     "output_type": "execute_result"
    }
   ],
   "source": [
    "F1s_A = v_Ao_1.dot(Rs_Ao) + w_A_1.dot(Ts_A)\n",
    "F1s_B = v_Bo_1.dot(Rs_Bo) + w_B_1.dot(Ts_B)\n",
    "F2s_A = v_Ao_2.dot(Rs_Ao) + w_A_2.dot(Ts_A)\n",
    "F2s_B = v_Bo_2.dot(Rs_Bo) + w_B_2.dot(Ts_B)\n",
    "\n",
    "F1s = F1s_A + F1s_B\n",
    "F2s = F2s_A + F2s_B\n",
    "\n",
    "Frs = sm.Matrix([F1s, F2s])\n",
    "Frs"
   ]
  }
 ],
 "metadata": {
  "kernelspec": {
   "display_name": "Python 3 (ipykernel)",
   "language": "python",
   "name": "python3"
  },
  "language_info": {
   "codemirror_mode": {
    "name": "ipython",
    "version": 3
   },
   "file_extension": ".py",
   "mimetype": "text/x-python",
   "name": "python",
   "nbconvert_exporter": "python",
   "pygments_lexer": "ipython3",
   "version": "3.9.12"
  }
 },
 "nbformat": 4,
 "nbformat_minor": 5
}