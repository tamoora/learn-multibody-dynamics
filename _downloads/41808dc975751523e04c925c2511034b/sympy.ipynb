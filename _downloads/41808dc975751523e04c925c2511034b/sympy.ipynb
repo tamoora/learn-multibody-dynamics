{
 "cells": [
  {
   "cell_type": "code",
   "execution_count": 1,
   "id": "822d78ea",
   "metadata": {
    "execution": {
     "iopub.execute_input": "2022-04-15T22:54:07.660849Z",
     "iopub.status.busy": "2022-04-15T22:54:07.660455Z",
     "iopub.status.idle": "2022-04-15T22:54:07.978414Z",
     "shell.execute_reply": "2022-04-15T22:54:07.977773Z"
    }
   },
   "outputs": [],
   "source": [
    "import sympy as sm"
   ]
  },
  {
   "cell_type": "code",
   "execution_count": 2,
   "id": "90aa3383",
   "metadata": {
    "execution": {
     "iopub.execute_input": "2022-04-15T22:54:07.981664Z",
     "iopub.status.busy": "2022-04-15T22:54:07.981337Z",
     "iopub.status.idle": "2022-04-15T22:54:07.988745Z",
     "shell.execute_reply": "2022-04-15T22:54:07.988210Z"
    }
   },
   "outputs": [],
   "source": [
    "sm.init_printing(use_latex='mathjax')"
   ]
  },
  {
   "cell_type": "code",
   "execution_count": 3,
   "id": "3e99a9d8",
   "metadata": {
    "execution": {
     "iopub.execute_input": "2022-04-15T22:54:07.991109Z",
     "iopub.status.busy": "2022-04-15T22:54:07.990831Z",
     "iopub.status.idle": "2022-04-15T22:54:07.996764Z",
     "shell.execute_reply": "2022-04-15T22:54:07.996396Z"
    }
   },
   "outputs": [
    {
     "data": {
      "text/latex": [
       "$\\displaystyle a$"
      ],
      "text/plain": [
       "a"
      ]
     },
     "execution_count": 3,
     "metadata": {},
     "output_type": "execute_result"
    }
   ],
   "source": [
    "a = sm.symbols('a')\n",
    "a"
   ]
  },
  {
   "cell_type": "code",
   "execution_count": 4,
   "id": "cdd483cb",
   "metadata": {
    "execution": {
     "iopub.execute_input": "2022-04-15T22:54:07.999001Z",
     "iopub.status.busy": "2022-04-15T22:54:07.998740Z",
     "iopub.status.idle": "2022-04-15T22:54:08.002183Z",
     "shell.execute_reply": "2022-04-15T22:54:08.001802Z"
    }
   },
   "outputs": [
    {
     "data": {
      "text/plain": [
       "sympy.core.symbol.Symbol"
      ]
     },
     "execution_count": 4,
     "metadata": {},
     "output_type": "execute_result"
    }
   ],
   "source": [
    "type(a)"
   ]
  },
  {
   "cell_type": "code",
   "execution_count": 5,
   "id": "f225ad1b",
   "metadata": {
    "execution": {
     "iopub.execute_input": "2022-04-15T22:54:08.004512Z",
     "iopub.status.busy": "2022-04-15T22:54:08.004253Z",
     "iopub.status.idle": "2022-04-15T22:54:08.008339Z",
     "shell.execute_reply": "2022-04-15T22:54:08.007974Z"
    }
   },
   "outputs": [
    {
     "data": {
      "text/latex": [
       "$\\displaystyle \\left( b, \\  t, \\  \\omega\\right)$"
      ],
      "text/plain": [
       "(b, t, ω)"
      ]
     },
     "execution_count": 5,
     "metadata": {},
     "output_type": "execute_result"
    }
   ],
   "source": [
    "b, t, omega = sm.symbols('b, t, omega')\n",
    "b, t, omega"
   ]
  },
  {
   "cell_type": "code",
   "execution_count": 6,
   "id": "90c092c1",
   "metadata": {
    "execution": {
     "iopub.execute_input": "2022-04-15T22:54:08.010456Z",
     "iopub.status.busy": "2022-04-15T22:54:08.010198Z",
     "iopub.status.idle": "2022-04-15T22:54:08.013966Z",
     "shell.execute_reply": "2022-04-15T22:54:08.013601Z"
    }
   },
   "outputs": [
    {
     "data": {
      "text/latex": [
       "$\\displaystyle \\left( \\alpha_{1}, \\  \\omega_{2}\\right)$"
      ],
      "text/plain": [
       "(α₁, ω₂)"
      ]
     },
     "execution_count": 6,
     "metadata": {},
     "output_type": "execute_result"
    }
   ],
   "source": [
    "pivot_angle, w2 = sm.symbols('alpha1, omega2')\n",
    "pivot_angle, w2"
   ]
  },
  {
   "cell_type": "code",
   "execution_count": 7,
   "id": "67eadb90",
   "metadata": {
    "execution": {
     "iopub.execute_input": "2022-04-15T22:54:08.016073Z",
     "iopub.status.busy": "2022-04-15T22:54:08.015812Z",
     "iopub.status.idle": "2022-04-15T22:54:08.019878Z",
     "shell.execute_reply": "2022-04-15T22:54:08.019375Z"
    }
   },
   "outputs": [
    {
     "data": {
      "text/plain": [
       "f"
      ]
     },
     "execution_count": 7,
     "metadata": {},
     "output_type": "execute_result"
    }
   ],
   "source": [
    "f = sm.Function('f')\n",
    "f"
   ]
  },
  {
   "cell_type": "code",
   "execution_count": 8,
   "id": "e876a405",
   "metadata": {
    "execution": {
     "iopub.execute_input": "2022-04-15T22:54:08.022207Z",
     "iopub.status.busy": "2022-04-15T22:54:08.021870Z",
     "iopub.status.idle": "2022-04-15T22:54:08.025518Z",
     "shell.execute_reply": "2022-04-15T22:54:08.025007Z"
    }
   },
   "outputs": [
    {
     "data": {
      "text/plain": [
       "sympy.core.function.UndefinedFunction"
      ]
     },
     "execution_count": 8,
     "metadata": {},
     "output_type": "execute_result"
    }
   ],
   "source": [
    "type(f)"
   ]
  },
  {
   "cell_type": "code",
   "execution_count": 9,
   "id": "54ed3b0c",
   "metadata": {
    "execution": {
     "iopub.execute_input": "2022-04-15T22:54:08.028236Z",
     "iopub.status.busy": "2022-04-15T22:54:08.027897Z",
     "iopub.status.idle": "2022-04-15T22:54:08.032080Z",
     "shell.execute_reply": "2022-04-15T22:54:08.031548Z"
    }
   },
   "outputs": [
    {
     "data": {
      "text/latex": [
       "$\\displaystyle f{\\left(t \\right)}$"
      ],
      "text/plain": [
       "f(t)"
      ]
     },
     "execution_count": 9,
     "metadata": {},
     "output_type": "execute_result"
    }
   ],
   "source": [
    "f(t)"
   ]
  },
  {
   "cell_type": "code",
   "execution_count": 10,
   "id": "a8b81b83",
   "metadata": {
    "execution": {
     "iopub.execute_input": "2022-04-15T22:54:08.034707Z",
     "iopub.status.busy": "2022-04-15T22:54:08.034449Z",
     "iopub.status.idle": "2022-04-15T22:54:08.038287Z",
     "shell.execute_reply": "2022-04-15T22:54:08.037782Z"
    }
   },
   "outputs": [
    {
     "data": {
      "text/plain": [
       "f"
      ]
     },
     "execution_count": 10,
     "metadata": {},
     "output_type": "execute_result"
    }
   ],
   "source": [
    "type(f(t))"
   ]
  },
  {
   "cell_type": "code",
   "execution_count": 11,
   "id": "e37a48cf",
   "metadata": {
    "execution": {
     "iopub.execute_input": "2022-04-15T22:54:08.041191Z",
     "iopub.status.busy": "2022-04-15T22:54:08.040794Z",
     "iopub.status.idle": "2022-04-15T22:54:08.047004Z",
     "shell.execute_reply": "2022-04-15T22:54:08.046526Z"
    }
   },
   "outputs": [
    {
     "data": {
      "text/latex": [
       "$\\displaystyle f{\\left(a,b,\\omega,t \\right)}$"
      ],
      "text/plain": [
       "f(a, b, ω, t)"
      ]
     },
     "execution_count": 11,
     "metadata": {},
     "output_type": "execute_result"
    }
   ],
   "source": [
    "f(a, b, omega, t)"
   ]
  },
  {
   "cell_type": "code",
   "execution_count": 12,
   "id": "f1b15942",
   "metadata": {
    "execution": {
     "iopub.execute_input": "2022-04-15T22:54:08.049610Z",
     "iopub.status.busy": "2022-04-15T22:54:08.049225Z",
     "iopub.status.idle": "2022-04-15T22:54:08.262738Z",
     "shell.execute_reply": "2022-04-15T22:54:08.262148Z"
    }
   },
   "outputs": [
    {
     "data": {
      "text/latex": [
       "$\\displaystyle a + \\frac{b}{\\omega^{2}}$"
      ],
      "text/plain": [
       "    b \n",
       "a + ──\n",
       "     2\n",
       "    ω "
      ]
     },
     "execution_count": 12,
     "metadata": {},
     "output_type": "execute_result"
    }
   ],
   "source": [
    "expr1 = a + b/omega**2\n",
    "expr1"
   ]
  },
  {
   "cell_type": "code",
   "execution_count": 13,
   "id": "afdbdcb2",
   "metadata": {
    "execution": {
     "iopub.execute_input": "2022-04-15T22:54:08.265656Z",
     "iopub.status.busy": "2022-04-15T22:54:08.265369Z",
     "iopub.status.idle": "2022-04-15T22:54:08.269405Z",
     "shell.execute_reply": "2022-04-15T22:54:08.268909Z"
    }
   },
   "outputs": [
    {
     "data": {
      "text/plain": [
       "sympy.core.add.Add"
      ]
     },
     "execution_count": 13,
     "metadata": {},
     "output_type": "execute_result"
    }
   ],
   "source": [
    "type(expr1)"
   ]
  },
  {
   "cell_type": "code",
   "execution_count": 14,
   "id": "434ff4c4",
   "metadata": {
    "execution": {
     "iopub.execute_input": "2022-04-15T22:54:08.272323Z",
     "iopub.status.busy": "2022-04-15T22:54:08.271921Z",
     "iopub.status.idle": "2022-04-15T22:54:08.276087Z",
     "shell.execute_reply": "2022-04-15T22:54:08.275548Z"
    }
   },
   "outputs": [
    {
     "data": {
      "text/plain": [
       "\"Add(Symbol('a'), Mul(Symbol('b'), Pow(Symbol('omega'), Integer(-2))))\""
      ]
     },
     "execution_count": 14,
     "metadata": {},
     "output_type": "execute_result"
    }
   ],
   "source": [
    "sm.srepr(expr1)"
   ]
  },
  {
   "cell_type": "code",
   "execution_count": 15,
   "id": "a82e0e21",
   "metadata": {
    "execution": {
     "iopub.execute_input": "2022-04-15T22:54:08.278932Z",
     "iopub.status.busy": "2022-04-15T22:54:08.278531Z",
     "iopub.status.idle": "2022-04-15T22:54:08.284046Z",
     "shell.execute_reply": "2022-04-15T22:54:08.283505Z"
    }
   },
   "outputs": [
    {
     "data": {
      "text/latex": [
       "$\\displaystyle a \\omega + f{\\left(t \\right)}$"
      ],
      "text/plain": [
       "a⋅ω + f(t)"
      ]
     },
     "execution_count": 15,
     "metadata": {},
     "output_type": "execute_result"
    }
   ],
   "source": [
    "expr2 = f(t) + a*omega\n",
    "expr2"
   ]
  },
  {
   "cell_type": "code",
   "execution_count": 16,
   "id": "26efe58f",
   "metadata": {
    "execution": {
     "iopub.execute_input": "2022-04-15T22:54:08.286960Z",
     "iopub.status.busy": "2022-04-15T22:54:08.286548Z",
     "iopub.status.idle": "2022-04-15T22:54:08.293890Z",
     "shell.execute_reply": "2022-04-15T22:54:08.293391Z"
    }
   },
   "outputs": [
    {
     "data": {
      "text/latex": [
       "$\\displaystyle a \\sin{\\left(\\omega \\right)} + \\frac{\\left|{f{\\left(t \\right)}}\\right|}{\\sqrt{b}}$"
      ],
      "text/plain": [
       "           │f(t)│\n",
       "a⋅sin(ω) + ──────\n",
       "             √b  "
      ]
     },
     "execution_count": 16,
     "metadata": {},
     "output_type": "execute_result"
    }
   ],
   "source": [
    "expr3 = a*sm.sin(omega) + sm.Abs(f(t))/sm.sqrt(b)\n",
    "expr3"
   ]
  },
  {
   "cell_type": "code",
   "execution_count": 17,
   "id": "888d3ea1",
   "metadata": {
    "execution": {
     "iopub.execute_input": "2022-04-15T22:54:08.296775Z",
     "iopub.status.busy": "2022-04-15T22:54:08.296375Z",
     "iopub.status.idle": "2022-04-15T22:54:08.303079Z",
     "shell.execute_reply": "2022-04-15T22:54:08.302581Z"
    }
   },
   "outputs": [
    {
     "data": {
      "text/latex": [
       "$\\displaystyle 5 \\sin{\\left(12 \\right)} + 105.986768359379$"
      ],
      "text/plain": [
       "5⋅sin(12) + 105.986768359379"
      ]
     },
     "execution_count": 17,
     "metadata": {},
     "output_type": "execute_result"
    }
   ],
   "source": [
    "expr4 = 5*sm.sin(12) + sm.Abs(-1001)/sm.sqrt(89.2)\n",
    "expr4"
   ]
  },
  {
   "cell_type": "code",
   "execution_count": 18,
   "id": "28d16ddf",
   "metadata": {
    "execution": {
     "iopub.execute_input": "2022-04-15T22:54:08.305805Z",
     "iopub.status.busy": "2022-04-15T22:54:08.305545Z",
     "iopub.status.idle": "2022-04-15T22:54:08.310196Z",
     "shell.execute_reply": "2022-04-15T22:54:08.309688Z"
    }
   },
   "outputs": [
    {
     "data": {
      "text/latex": [
       "$\\displaystyle 0.5 a$"
      ],
      "text/plain": [
       "0.5⋅a"
      ]
     },
     "execution_count": 18,
     "metadata": {},
     "output_type": "execute_result"
    }
   ],
   "source": [
    "1/2*a"
   ]
  },
  {
   "cell_type": "code",
   "execution_count": 19,
   "id": "59ae55db",
   "metadata": {
    "execution": {
     "iopub.execute_input": "2022-04-15T22:54:08.313066Z",
     "iopub.status.busy": "2022-04-15T22:54:08.312657Z",
     "iopub.status.idle": "2022-04-15T22:54:08.316979Z",
     "shell.execute_reply": "2022-04-15T22:54:08.316462Z"
    }
   },
   "outputs": [
    {
     "data": {
      "text/latex": [
       "$\\displaystyle \\frac{a}{2}$"
      ],
      "text/plain": [
       "a\n",
       "─\n",
       "2"
      ]
     },
     "execution_count": 19,
     "metadata": {},
     "output_type": "execute_result"
    }
   ],
   "source": [
    "sm.S(1)/2*a"
   ]
  },
  {
   "cell_type": "code",
   "execution_count": 20,
   "id": "58661d18",
   "metadata": {
    "execution": {
     "iopub.execute_input": "2022-04-15T22:54:08.319920Z",
     "iopub.status.busy": "2022-04-15T22:54:08.319483Z",
     "iopub.status.idle": "2022-04-15T22:54:08.328755Z",
     "shell.execute_reply": "2022-04-15T22:54:08.328292Z"
    }
   },
   "outputs": [
    {
     "data": {
      "text/latex": [
       "$\\displaystyle t \\sin{\\left(\\omega f{\\left(t \\right)} \\right)} + \\frac{f{\\left(t \\right)}}{\\sqrt{t}}$"
      ],
      "text/plain": [
       "                f(t)\n",
       "t⋅sin(ω⋅f(t)) + ────\n",
       "                 √t "
      ]
     },
     "execution_count": 20,
     "metadata": {},
     "output_type": "execute_result"
    }
   ],
   "source": [
    "expr5 = t*sm.sin(omega*f(t)) + f(t)/sm.sqrt(t)\n",
    "expr5"
   ]
  },
  {
   "cell_type": "code",
   "execution_count": 21,
   "id": "f8b525c3",
   "metadata": {
    "execution": {
     "iopub.execute_input": "2022-04-15T22:54:08.331218Z",
     "iopub.status.busy": "2022-04-15T22:54:08.330972Z",
     "iopub.status.idle": "2022-04-15T22:54:08.336619Z",
     "shell.execute_reply": "2022-04-15T22:54:08.336158Z"
    }
   },
   "outputs": [
    {
     "data": {
      "text/plain": [
       "\"Add(Mul(Symbol('a'), sin(Symbol('omega'))), Mul(Pow(Symbol('b'), Rational(-1, 2)), Abs(Function('f')(Symbol('t')))))\""
      ]
     },
     "execution_count": 21,
     "metadata": {},
     "output_type": "execute_result"
    }
   ],
   "source": [
    "sm.srepr(expr3)"
   ]
  },
  {
   "cell_type": "code",
   "execution_count": 22,
   "id": "796fa149",
   "metadata": {
    "execution": {
     "iopub.execute_input": "2022-04-15T22:54:08.339027Z",
     "iopub.status.busy": "2022-04-15T22:54:08.338784Z",
     "iopub.status.idle": "2022-04-15T22:54:08.344595Z",
     "shell.execute_reply": "2022-04-15T22:54:08.344160Z"
    }
   },
   "outputs": [
    {
     "data": {
      "text/plain": [
       "'a*sin(omega) + Abs(f(t))/sqrt(b)'"
      ]
     },
     "execution_count": 22,
     "metadata": {},
     "output_type": "execute_result"
    }
   ],
   "source": [
    "repr(expr3)"
   ]
  },
  {
   "cell_type": "code",
   "execution_count": 23,
   "id": "33652225",
   "metadata": {
    "execution": {
     "iopub.execute_input": "2022-04-15T22:54:08.346800Z",
     "iopub.status.busy": "2022-04-15T22:54:08.346650Z",
     "iopub.status.idle": "2022-04-15T22:54:08.351859Z",
     "shell.execute_reply": "2022-04-15T22:54:08.351375Z"
    }
   },
   "outputs": [
    {
     "name": "stdout",
     "output_type": "stream",
     "text": [
      "a*sin(omega) + Abs(f(t))/sqrt(b)\n"
     ]
    }
   ],
   "source": [
    "print(expr3)"
   ]
  },
  {
   "cell_type": "code",
   "execution_count": 24,
   "id": "5ecd1c11",
   "metadata": {
    "execution": {
     "iopub.execute_input": "2022-04-15T22:54:08.354107Z",
     "iopub.status.busy": "2022-04-15T22:54:08.353950Z",
     "iopub.status.idle": "2022-04-15T22:54:08.359000Z",
     "shell.execute_reply": "2022-04-15T22:54:08.358530Z"
    }
   },
   "outputs": [
    {
     "name": "stdout",
     "output_type": "stream",
     "text": [
      "           │f(t)│\n",
      "a⋅sin(ω) + ──────\n",
      "             √b  \n"
     ]
    }
   ],
   "source": [
    "sm.pprint(expr3)"
   ]
  },
  {
   "cell_type": "code",
   "execution_count": 25,
   "id": "ff78dafc",
   "metadata": {
    "execution": {
     "iopub.execute_input": "2022-04-15T22:54:08.361478Z",
     "iopub.status.busy": "2022-04-15T22:54:08.361228Z",
     "iopub.status.idle": "2022-04-15T22:54:08.367090Z",
     "shell.execute_reply": "2022-04-15T22:54:08.366623Z"
    }
   },
   "outputs": [
    {
     "data": {
      "text/plain": [
       "'a \\\\sin{\\\\left(\\\\omega \\\\right)} + \\\\frac{\\\\left|{f{\\\\left(t \\\\right)}}\\\\right|}{\\\\sqrt{b}}'"
      ]
     },
     "execution_count": 25,
     "metadata": {},
     "output_type": "execute_result"
    }
   ],
   "source": [
    "sm.latex(expr3)"
   ]
  },
  {
   "cell_type": "code",
   "execution_count": 26,
   "id": "945a905a",
   "metadata": {
    "execution": {
     "iopub.execute_input": "2022-04-15T22:54:08.369667Z",
     "iopub.status.busy": "2022-04-15T22:54:08.369340Z",
     "iopub.status.idle": "2022-04-15T22:54:08.374330Z",
     "shell.execute_reply": "2022-04-15T22:54:08.373839Z"
    }
   },
   "outputs": [
    {
     "name": "stdout",
     "output_type": "stream",
     "text": [
      "a \\sin{\\left(\\omega \\right)} + \\frac{\\left|{f{\\left(t \\right)}}\\right|}{\\sqrt{b}}\n"
     ]
    }
   ],
   "source": [
    "print(sm.latex(expr3))"
   ]
  },
  {
   "cell_type": "code",
   "execution_count": 27,
   "id": "8e10cc7f",
   "metadata": {
    "execution": {
     "iopub.execute_input": "2022-04-15T22:54:08.376504Z",
     "iopub.status.busy": "2022-04-15T22:54:08.376351Z",
     "iopub.status.idle": "2022-04-15T22:54:08.383023Z",
     "shell.execute_reply": "2022-04-15T22:54:08.382539Z"
    }
   },
   "outputs": [
    {
     "data": {
      "text/latex": [
       "$\\displaystyle \\frac{d}{d t} f{\\left(t \\right)}$"
      ],
      "text/plain": [
       "d       \n",
       "──(f(t))\n",
       "dt      "
      ]
     },
     "execution_count": 27,
     "metadata": {},
     "output_type": "execute_result"
    }
   ],
   "source": [
    "sm.diff(f(t), t)"
   ]
  },
  {
   "cell_type": "code",
   "execution_count": 28,
   "id": "9a536bda",
   "metadata": {
    "execution": {
     "iopub.execute_input": "2022-04-15T22:54:08.385356Z",
     "iopub.status.busy": "2022-04-15T22:54:08.385097Z",
     "iopub.status.idle": "2022-04-15T22:54:08.390830Z",
     "shell.execute_reply": "2022-04-15T22:54:08.390333Z"
    }
   },
   "outputs": [
    {
     "data": {
      "text/latex": [
       "$\\displaystyle \\frac{d}{d t} f{\\left(t \\right)}$"
      ],
      "text/plain": [
       "d       \n",
       "──(f(t))\n",
       "dt      "
      ]
     },
     "execution_count": 28,
     "metadata": {},
     "output_type": "execute_result"
    }
   ],
   "source": [
    "f(t).diff(t)"
   ]
  },
  {
   "cell_type": "code",
   "execution_count": 29,
   "id": "c424fcb9",
   "metadata": {
    "execution": {
     "iopub.execute_input": "2022-04-15T22:54:08.393303Z",
     "iopub.status.busy": "2022-04-15T22:54:08.392907Z",
     "iopub.status.idle": "2022-04-15T22:54:08.397924Z",
     "shell.execute_reply": "2022-04-15T22:54:08.397400Z"
    }
   },
   "outputs": [
    {
     "data": {
      "text/latex": [
       "$\\displaystyle a \\sin{\\left(\\omega \\right)} + \\frac{\\left|{f{\\left(t \\right)}}\\right|}{\\sqrt{b}}$"
      ],
      "text/plain": [
       "           │f(t)│\n",
       "a⋅sin(ω) + ──────\n",
       "             √b  "
      ]
     },
     "execution_count": 29,
     "metadata": {},
     "output_type": "execute_result"
    }
   ],
   "source": [
    "expr3"
   ]
  },
  {
   "cell_type": "code",
   "execution_count": 30,
   "id": "3ec5d0b7",
   "metadata": {
    "execution": {
     "iopub.execute_input": "2022-04-15T22:54:08.400867Z",
     "iopub.status.busy": "2022-04-15T22:54:08.400454Z",
     "iopub.status.idle": "2022-04-15T22:54:08.410641Z",
     "shell.execute_reply": "2022-04-15T22:54:08.410091Z"
    }
   },
   "outputs": [
    {
     "data": {
      "text/latex": [
       "$\\displaystyle - \\frac{\\left|{f{\\left(t \\right)}}\\right|}{2 b^{\\frac{3}{2}}}$"
      ],
      "text/plain": [
       "-│f(t)│ \n",
       "────────\n",
       "    3/2 \n",
       " 2⋅b    "
      ]
     },
     "execution_count": 30,
     "metadata": {},
     "output_type": "execute_result"
    }
   ],
   "source": [
    "expr3.diff(b)"
   ]
  },
  {
   "cell_type": "code",
   "execution_count": 31,
   "id": "0409023d",
   "metadata": {
    "execution": {
     "iopub.execute_input": "2022-04-15T22:54:08.413129Z",
     "iopub.status.busy": "2022-04-15T22:54:08.412727Z",
     "iopub.status.idle": "2022-04-15T22:54:08.435093Z",
     "shell.execute_reply": "2022-04-15T22:54:08.434544Z"
    }
   },
   "outputs": [
    {
     "data": {
      "text/latex": [
       "$\\displaystyle - \\frac{\\left(\\operatorname{re}{\\left(f{\\left(t \\right)}\\right)} \\frac{d}{d t} \\operatorname{re}{\\left(f{\\left(t \\right)}\\right)} + \\operatorname{im}{\\left(f{\\left(t \\right)}\\right)} \\frac{d}{d t} \\operatorname{im}{\\left(f{\\left(t \\right)}\\right)}\\right) \\operatorname{sign}{\\left(f{\\left(t \\right)} \\right)}}{2 b^{\\frac{3}{2}} f{\\left(t \\right)}}$"
      ],
      "text/plain": [
       " ⎛         d                       d           ⎞            \n",
       "-⎜re(f(t))⋅──(re(f(t))) + im(f(t))⋅──(im(f(t)))⎟⋅sign(f(t)) \n",
       " ⎝         dt                      dt          ⎠            \n",
       "────────────────────────────────────────────────────────────\n",
       "                           3/2                              \n",
       "                        2⋅b   ⋅f(t)                         "
      ]
     },
     "execution_count": 31,
     "metadata": {},
     "output_type": "execute_result"
    }
   ],
   "source": [
    "expr3.diff(b, t)"
   ]
  },
  {
   "cell_type": "code",
   "execution_count": 32,
   "id": "78decf70",
   "metadata": {
    "execution": {
     "iopub.execute_input": "2022-04-15T22:54:08.437749Z",
     "iopub.status.busy": "2022-04-15T22:54:08.437349Z",
     "iopub.status.idle": "2022-04-15T22:54:08.455954Z",
     "shell.execute_reply": "2022-04-15T22:54:08.455420Z"
    }
   },
   "outputs": [
    {
     "data": {
      "text/latex": [
       "$\\displaystyle \\frac{\\left(\\operatorname{re}{\\left(h{\\left(t \\right)}\\right)} \\frac{d}{d t} \\operatorname{re}{\\left(h{\\left(t \\right)}\\right)} + \\operatorname{im}{\\left(h{\\left(t \\right)}\\right)} \\frac{d}{d t} \\operatorname{im}{\\left(h{\\left(t \\right)}\\right)}\\right) \\operatorname{sign}{\\left(h{\\left(t \\right)} \\right)}}{h{\\left(t \\right)}}$"
      ],
      "text/plain": [
       "⎛         d                       d           ⎞           \n",
       "⎜re(h(t))⋅──(re(h(t))) + im(h(t))⋅──(im(h(t)))⎟⋅sign(h(t))\n",
       "⎝         dt                      dt          ⎠           \n",
       "──────────────────────────────────────────────────────────\n",
       "                           h(t)                           "
      ]
     },
     "execution_count": 32,
     "metadata": {},
     "output_type": "execute_result"
    }
   ],
   "source": [
    "h = sm.Function('h')\n",
    "sm.Abs(h(t)).diff(t)"
   ]
  },
  {
   "cell_type": "code",
   "execution_count": 33,
   "id": "614649ee",
   "metadata": {
    "execution": {
     "iopub.execute_input": "2022-04-15T22:54:08.458611Z",
     "iopub.status.busy": "2022-04-15T22:54:08.458209Z",
     "iopub.status.idle": "2022-04-15T22:54:08.465898Z",
     "shell.execute_reply": "2022-04-15T22:54:08.465374Z"
    }
   },
   "outputs": [
    {
     "data": {
      "text/latex": [
       "$\\displaystyle \\operatorname{sign}{\\left(h{\\left(t \\right)} \\right)} \\frac{d}{d t} h{\\left(t \\right)}$"
      ],
      "text/plain": [
       "           d       \n",
       "sign(h(t))⋅──(h(t))\n",
       "           dt      "
      ]
     },
     "execution_count": 33,
     "metadata": {},
     "output_type": "execute_result"
    }
   ],
   "source": [
    "h = sm.Function('h', real=True)\n",
    "sm.Abs(h(t)).diff(t)"
   ]
  },
  {
   "cell_type": "code",
   "execution_count": 34,
   "id": "cea10704",
   "metadata": {
    "execution": {
     "iopub.execute_input": "2022-04-15T22:54:08.468797Z",
     "iopub.status.busy": "2022-04-15T22:54:08.468390Z",
     "iopub.status.idle": "2022-04-15T22:54:08.474236Z",
     "shell.execute_reply": "2022-04-15T22:54:08.473722Z"
    }
   },
   "outputs": [
    {
     "data": {
      "text/latex": [
       "$\\displaystyle \\frac{d}{d t} h{\\left(t \\right)}$"
      ],
      "text/plain": [
       "d       \n",
       "──(h(t))\n",
       "dt      "
      ]
     },
     "execution_count": 34,
     "metadata": {},
     "output_type": "execute_result"
    }
   ],
   "source": [
    "h = sm.Function('h', real=True, positive=True)\n",
    "sm.Abs(h(t)).diff(t)"
   ]
  },
  {
   "cell_type": "code",
   "execution_count": 35,
   "id": "3070414d",
   "metadata": {
    "execution": {
     "iopub.execute_input": "2022-04-15T22:54:08.477124Z",
     "iopub.status.busy": "2022-04-15T22:54:08.476714Z",
     "iopub.status.idle": "2022-04-15T22:54:08.482167Z",
     "shell.execute_reply": "2022-04-15T22:54:08.481643Z"
    }
   },
   "outputs": [
    {
     "data": {
      "text/latex": [
       "$\\displaystyle t \\sin{\\left(\\omega f{\\left(t \\right)} \\right)} + \\frac{f{\\left(t \\right)}}{\\sqrt{t}}$"
      ],
      "text/plain": [
       "                f(t)\n",
       "t⋅sin(ω⋅f(t)) + ────\n",
       "                 √t "
      ]
     },
     "execution_count": 35,
     "metadata": {},
     "output_type": "execute_result"
    }
   ],
   "source": [
    "expr5"
   ]
  },
  {
   "cell_type": "code",
   "execution_count": 36,
   "id": "12f65357",
   "metadata": {
    "execution": {
     "iopub.execute_input": "2022-04-15T22:54:08.485146Z",
     "iopub.status.busy": "2022-04-15T22:54:08.484740Z",
     "iopub.status.idle": "2022-04-15T22:54:08.503723Z",
     "shell.execute_reply": "2022-04-15T22:54:08.503175Z"
    }
   },
   "outputs": [
    {
     "data": {
      "text/latex": [
       "$\\displaystyle \\omega t \\cos{\\left(\\omega f{\\left(t \\right)} \\right)} \\frac{d}{d t} f{\\left(t \\right)} + \\sin{\\left(\\omega f{\\left(t \\right)} \\right)} + \\frac{\\frac{d}{d t} f{\\left(t \\right)}}{\\sqrt{t}} - \\frac{f{\\left(t \\right)}}{2 t^{\\frac{3}{2}}}$"
      ],
      "text/plain": [
       "                                         d                \n",
       "                                         ──(f(t))         \n",
       "                d                        dt          f(t) \n",
       "ω⋅t⋅cos(ω⋅f(t))⋅──(f(t)) + sin(ω⋅f(t)) + ──────── - ──────\n",
       "                dt                          √t         3/2\n",
       "                                                    2⋅t   "
      ]
     },
     "execution_count": 36,
     "metadata": {},
     "output_type": "execute_result"
    }
   ],
   "source": [
    "expr5.diff(t)"
   ]
  },
  {
   "cell_type": "code",
   "execution_count": 37,
   "id": "e45dad2c",
   "metadata": {
    "execution": {
     "iopub.execute_input": "2022-04-15T22:54:08.505822Z",
     "iopub.status.busy": "2022-04-15T22:54:08.505672Z",
     "iopub.status.idle": "2022-04-15T22:54:08.508715Z",
     "shell.execute_reply": "2022-04-15T22:54:08.508222Z"
    }
   },
   "outputs": [],
   "source": [
    "repl = {omega: sm.pi/4, a: 2, f(t): -12, b: 25}"
   ]
  },
  {
   "cell_type": "code",
   "execution_count": 38,
   "id": "733f64bf",
   "metadata": {
    "execution": {
     "iopub.execute_input": "2022-04-15T22:54:08.511177Z",
     "iopub.status.busy": "2022-04-15T22:54:08.510781Z",
     "iopub.status.idle": "2022-04-15T22:54:08.519784Z",
     "shell.execute_reply": "2022-04-15T22:54:08.519247Z"
    }
   },
   "outputs": [
    {
     "data": {
      "text/latex": [
       "$\\displaystyle \\sqrt{2} + \\frac{12}{5}$"
      ],
      "text/plain": [
       "√2 + 12/5"
      ]
     },
     "execution_count": 38,
     "metadata": {},
     "output_type": "execute_result"
    }
   ],
   "source": [
    "expr3.xreplace(repl)"
   ]
  },
  {
   "cell_type": "code",
   "execution_count": 39,
   "id": "52cddb25",
   "metadata": {
    "execution": {
     "iopub.execute_input": "2022-04-15T22:54:08.522631Z",
     "iopub.status.busy": "2022-04-15T22:54:08.522232Z",
     "iopub.status.idle": "2022-04-15T22:54:08.527669Z",
     "shell.execute_reply": "2022-04-15T22:54:08.527129Z"
    }
   },
   "outputs": [
    {
     "data": {
      "text/latex": [
       "$\\displaystyle 3.81421356237309504880168872421$"
      ],
      "text/plain": [
       "3.814213562373095048801688724210"
      ]
     },
     "execution_count": 39,
     "metadata": {},
     "output_type": "execute_result"
    }
   ],
   "source": [
    "expr3.evalf(n=31, subs=repl)"
   ]
  },
  {
   "cell_type": "code",
   "execution_count": 40,
   "id": "c3b0d95d",
   "metadata": {
    "execution": {
     "iopub.execute_input": "2022-04-15T22:54:08.530502Z",
     "iopub.status.busy": "2022-04-15T22:54:08.530095Z",
     "iopub.status.idle": "2022-04-15T22:54:08.534978Z",
     "shell.execute_reply": "2022-04-15T22:54:08.534464Z"
    }
   },
   "outputs": [
    {
     "data": {
      "text/plain": [
       "sympy.core.numbers.Float"
      ]
     },
     "execution_count": 40,
     "metadata": {},
     "output_type": "execute_result"
    }
   ],
   "source": [
    "type(expr3.evalf(n=31, subs=repl))"
   ]
  },
  {
   "cell_type": "code",
   "execution_count": 41,
   "id": "096b692e",
   "metadata": {
    "execution": {
     "iopub.execute_input": "2022-04-15T22:54:08.537788Z",
     "iopub.status.busy": "2022-04-15T22:54:08.537396Z",
     "iopub.status.idle": "2022-04-15T22:54:08.542956Z",
     "shell.execute_reply": "2022-04-15T22:54:08.542444Z"
    }
   },
   "outputs": [
    {
     "data": {
      "text/latex": [
       "$\\displaystyle 3.81421356237309504880168872420969807856967187537694807317667973799073247846210703885038753432764157273501384623091229702492483605585073721264412149709993583141322266592750559275579995050115278206057147010955997160597027453459686201472851741864088919860955232923048430871432145083976260362799525140799$"
      ],
      "text/plain": [
       "3.8142135623730950488016887242096980785696718753769480731766797379907324784621\n",
       "070388503875343276415727350138462309122970249248360558507372126441214970999358\n",
       "314132226659275055927557999505011527820605714701095599716059702745345968620147\n",
       "2851741864088919860955232923048430871432145083976260362799525140799"
      ]
     },
     "execution_count": 41,
     "metadata": {},
     "output_type": "execute_result"
    }
   ],
   "source": [
    "expr3.evalf(n=300, subs=repl)"
   ]
  },
  {
   "cell_type": "code",
   "execution_count": 42,
   "id": "75ab2d14",
   "metadata": {
    "execution": {
     "iopub.execute_input": "2022-04-15T22:54:08.545831Z",
     "iopub.status.busy": "2022-04-15T22:54:08.545436Z",
     "iopub.status.idle": "2022-04-15T22:54:08.550705Z",
     "shell.execute_reply": "2022-04-15T22:54:08.550187Z"
    }
   },
   "outputs": [
    {
     "data": {
      "text/latex": [
       "$\\displaystyle 3.81421356237309$"
      ],
      "text/plain": [
       "3.814213562373095"
      ]
     },
     "execution_count": 42,
     "metadata": {},
     "output_type": "execute_result"
    }
   ],
   "source": [
    "float(expr3.evalf(n=300, subs=repl))"
   ]
  },
  {
   "cell_type": "code",
   "execution_count": 43,
   "id": "d8076dda",
   "metadata": {
    "execution": {
     "iopub.execute_input": "2022-04-15T22:54:08.553537Z",
     "iopub.status.busy": "2022-04-15T22:54:08.553132Z",
     "iopub.status.idle": "2022-04-15T22:54:08.558300Z",
     "shell.execute_reply": "2022-04-15T22:54:08.557790Z"
    }
   },
   "outputs": [
    {
     "data": {
      "text/plain": [
       "float"
      ]
     },
     "execution_count": 43,
     "metadata": {},
     "output_type": "execute_result"
    }
   ],
   "source": [
    "type(float(expr3.evalf(n=300, subs=repl)))"
   ]
  },
  {
   "cell_type": "code",
   "execution_count": 44,
   "id": "90760c41",
   "metadata": {
    "execution": {
     "iopub.execute_input": "2022-04-15T22:54:08.561164Z",
     "iopub.status.busy": "2022-04-15T22:54:08.560769Z",
     "iopub.status.idle": "2022-04-15T22:54:08.707457Z",
     "shell.execute_reply": "2022-04-15T22:54:08.706973Z"
    }
   },
   "outputs": [],
   "source": [
    "eval_expr3 = sm.lambdify((omega, a, f(t), b), expr3)"
   ]
  },
  {
   "cell_type": "code",
   "execution_count": 45,
   "id": "af61afde",
   "metadata": {
    "execution": {
     "iopub.execute_input": "2022-04-15T22:54:08.710261Z",
     "iopub.status.busy": "2022-04-15T22:54:08.709954Z",
     "iopub.status.idle": "2022-04-15T22:54:08.713626Z",
     "shell.execute_reply": "2022-04-15T22:54:08.713227Z"
    }
   },
   "outputs": [
    {
     "name": "stdout",
     "output_type": "stream",
     "text": [
      "Help on function _lambdifygenerated:\n",
      "\n",
      "_lambdifygenerated(omega, a, _Dummy_23, b)\n",
      "    Created with lambdify. Signature:\n",
      "    \n",
      "    func(omega, a, f, b)\n",
      "    \n",
      "    Expression:\n",
      "    \n",
      "    a*sin(omega) + Abs(f(t))/sqrt(b)\n",
      "    \n",
      "    Source code:\n",
      "    \n",
      "    def _lambdifygenerated(omega, a, _Dummy_23, b):\n",
      "        return a*sin(omega) + abs(_Dummy_23)/sqrt(b)\n",
      "    \n",
      "    \n",
      "    Imported modules:\n",
      "\n"
     ]
    }
   ],
   "source": [
    "help(eval_expr3)"
   ]
  },
  {
   "cell_type": "code",
   "execution_count": 46,
   "id": "2fbbcaea",
   "metadata": {
    "execution": {
     "iopub.execute_input": "2022-04-15T22:54:08.715886Z",
     "iopub.status.busy": "2022-04-15T22:54:08.715525Z",
     "iopub.status.idle": "2022-04-15T22:54:08.719715Z",
     "shell.execute_reply": "2022-04-15T22:54:08.719305Z"
    }
   },
   "outputs": [
    {
     "data": {
      "text/latex": [
       "$\\displaystyle 3.81365036221073$"
      ],
      "text/plain": [
       "3.8136503622107316"
      ]
     },
     "execution_count": 46,
     "metadata": {},
     "output_type": "execute_result"
    }
   ],
   "source": [
    "eval_expr3(3.14/4, 2, -12, 25)"
   ]
  },
  {
   "cell_type": "code",
   "execution_count": 47,
   "id": "74a59152",
   "metadata": {
    "execution": {
     "iopub.execute_input": "2022-04-15T22:54:08.721916Z",
     "iopub.status.busy": "2022-04-15T22:54:08.721573Z",
     "iopub.status.idle": "2022-04-15T22:54:08.725379Z",
     "shell.execute_reply": "2022-04-15T22:54:08.724995Z"
    }
   },
   "outputs": [
    {
     "data": {
      "text/plain": [
       "numpy.float64"
      ]
     },
     "execution_count": 47,
     "metadata": {},
     "output_type": "execute_result"
    }
   ],
   "source": [
    "type(eval_expr3(3.14/4, 2, -12, 25))"
   ]
  },
  {
   "cell_type": "code",
   "execution_count": 48,
   "id": "69c8d9b2",
   "metadata": {
    "execution": {
     "iopub.execute_input": "2022-04-15T22:54:08.727536Z",
     "iopub.status.busy": "2022-04-15T22:54:08.727199Z",
     "iopub.status.idle": "2022-04-15T22:54:08.733729Z",
     "shell.execute_reply": "2022-04-15T22:54:08.733209Z"
    }
   },
   "outputs": [
    {
     "data": {
      "text/latex": [
       "$\\displaystyle \\left[\\begin{matrix}a & 2 a\\\\\\frac{b}{\\omega} & f{\\left(t \\right)}\\end{matrix}\\right]$"
      ],
      "text/plain": [
       "⎡a  2⋅a ⎤\n",
       "⎢       ⎥\n",
       "⎢b      ⎥\n",
       "⎢─  f(t)⎥\n",
       "⎣ω      ⎦"
      ]
     },
     "execution_count": 48,
     "metadata": {},
     "output_type": "execute_result"
    }
   ],
   "source": [
    "mat1 = sm.Matrix([[a, 2*a], [b/omega, f(t)]])\n",
    "mat1"
   ]
  },
  {
   "cell_type": "code",
   "execution_count": 49,
   "id": "4a306659",
   "metadata": {
    "execution": {
     "iopub.execute_input": "2022-04-15T22:54:08.736019Z",
     "iopub.status.busy": "2022-04-15T22:54:08.735676Z",
     "iopub.status.idle": "2022-04-15T22:54:08.740506Z",
     "shell.execute_reply": "2022-04-15T22:54:08.739982Z"
    }
   },
   "outputs": [
    {
     "data": {
      "text/latex": [
       "$\\displaystyle \\left[\\begin{matrix}1 & 2\\\\3 & 4\\end{matrix}\\right]$"
      ],
      "text/plain": [
       "⎡1  2⎤\n",
       "⎢    ⎥\n",
       "⎣3  4⎦"
      ]
     },
     "execution_count": 49,
     "metadata": {},
     "output_type": "execute_result"
    }
   ],
   "source": [
    "mat2 = sm.Matrix([[1, 2], [3, 4]])\n",
    "mat2"
   ]
  },
  {
   "cell_type": "code",
   "execution_count": 50,
   "id": "658c258c",
   "metadata": {
    "execution": {
     "iopub.execute_input": "2022-04-15T22:54:08.742741Z",
     "iopub.status.busy": "2022-04-15T22:54:08.742404Z",
     "iopub.status.idle": "2022-04-15T22:54:08.746106Z",
     "shell.execute_reply": "2022-04-15T22:54:08.745623Z"
    }
   },
   "outputs": [
    {
     "data": {
      "text/latex": [
       "$\\displaystyle \\left( 2, \\  2\\right)$"
      ],
      "text/plain": [
       "(2, 2)"
      ]
     },
     "execution_count": 50,
     "metadata": {},
     "output_type": "execute_result"
    }
   ],
   "source": [
    "mat1.shape"
   ]
  },
  {
   "cell_type": "code",
   "execution_count": 51,
   "id": "fb247973",
   "metadata": {
    "execution": {
     "iopub.execute_input": "2022-04-15T22:54:08.748352Z",
     "iopub.status.busy": "2022-04-15T22:54:08.748015Z",
     "iopub.status.idle": "2022-04-15T22:54:08.752044Z",
     "shell.execute_reply": "2022-04-15T22:54:08.751550Z"
    }
   },
   "outputs": [
    {
     "data": {
      "text/latex": [
       "$\\displaystyle 2 a$"
      ],
      "text/plain": [
       "2⋅a"
      ]
     },
     "execution_count": 51,
     "metadata": {},
     "output_type": "execute_result"
    }
   ],
   "source": [
    "mat1[0, 1]"
   ]
  },
  {
   "cell_type": "code",
   "execution_count": 52,
   "id": "f3178d0a",
   "metadata": {
    "execution": {
     "iopub.execute_input": "2022-04-15T22:54:08.754286Z",
     "iopub.status.busy": "2022-04-15T22:54:08.753951Z",
     "iopub.status.idle": "2022-04-15T22:54:08.758488Z",
     "shell.execute_reply": "2022-04-15T22:54:08.758007Z"
    }
   },
   "outputs": [
    {
     "data": {
      "text/latex": [
       "$\\displaystyle \\left[\\begin{matrix}a & 2 a\\end{matrix}\\right]$"
      ],
      "text/plain": [
       "[a  2⋅a]"
      ]
     },
     "execution_count": 52,
     "metadata": {},
     "output_type": "execute_result"
    }
   ],
   "source": [
    "mat1[0, 0:2]"
   ]
  },
  {
   "cell_type": "code",
   "execution_count": 53,
   "id": "f9c8d8c9",
   "metadata": {
    "execution": {
     "iopub.execute_input": "2022-04-15T22:54:08.760761Z",
     "iopub.status.busy": "2022-04-15T22:54:08.760424Z",
     "iopub.status.idle": "2022-04-15T22:54:08.765152Z",
     "shell.execute_reply": "2022-04-15T22:54:08.764668Z"
    }
   },
   "outputs": [
    {
     "data": {
      "text/latex": [
       "$\\displaystyle \\left[\\begin{matrix}2 a\\\\f{\\left(t \\right)}\\end{matrix}\\right]$"
      ],
      "text/plain": [
       "⎡2⋅a ⎤\n",
       "⎢    ⎥\n",
       "⎣f(t)⎦"
      ]
     },
     "execution_count": 53,
     "metadata": {},
     "output_type": "execute_result"
    }
   ],
   "source": [
    "mat1[0:2, 1]"
   ]
  },
  {
   "cell_type": "code",
   "execution_count": 54,
   "id": "12957a0a",
   "metadata": {
    "execution": {
     "iopub.execute_input": "2022-04-15T22:54:08.767341Z",
     "iopub.status.busy": "2022-04-15T22:54:08.767002Z",
     "iopub.status.idle": "2022-04-15T22:54:08.774057Z",
     "shell.execute_reply": "2022-04-15T22:54:08.773578Z"
    }
   },
   "outputs": [
    {
     "data": {
      "text/latex": [
       "$\\displaystyle \\left[\\begin{matrix}a + 1 & 2 a + 2\\\\\\frac{b}{\\omega} + 3 & f{\\left(t \\right)} + 4\\end{matrix}\\right]$"
      ],
      "text/plain": [
       "⎡a + 1  2⋅a + 2 ⎤\n",
       "⎢               ⎥\n",
       "⎢b              ⎥\n",
       "⎢─ + 3  f(t) + 4⎥\n",
       "⎣ω              ⎦"
      ]
     },
     "execution_count": 54,
     "metadata": {},
     "output_type": "execute_result"
    }
   ],
   "source": [
    "mat1 + mat2"
   ]
  },
  {
   "cell_type": "code",
   "execution_count": 55,
   "id": "5e8d5341",
   "metadata": {
    "execution": {
     "iopub.execute_input": "2022-04-15T22:54:08.776261Z",
     "iopub.status.busy": "2022-04-15T22:54:08.775924Z",
     "iopub.status.idle": "2022-04-15T22:54:08.786100Z",
     "shell.execute_reply": "2022-04-15T22:54:08.785579Z"
    }
   },
   "outputs": [
    {
     "data": {
      "text/latex": [
       "$\\displaystyle \\left[\\begin{matrix}7 a & 10 a\\\\\\frac{b}{\\omega} + 3 f{\\left(t \\right)} & \\frac{2 b}{\\omega} + 4 f{\\left(t \\right)}\\end{matrix}\\right]$"
      ],
      "text/plain": [
       "⎡   7⋅a          10⋅a    ⎤\n",
       "⎢                        ⎥\n",
       "⎢b           2⋅b         ⎥\n",
       "⎢─ + 3⋅f(t)  ─── + 4⋅f(t)⎥\n",
       "⎣ω            ω          ⎦"
      ]
     },
     "execution_count": 55,
     "metadata": {},
     "output_type": "execute_result"
    }
   ],
   "source": [
    "mat1*mat2"
   ]
  },
  {
   "cell_type": "code",
   "execution_count": 56,
   "id": "955f1f7b",
   "metadata": {
    "execution": {
     "iopub.execute_input": "2022-04-15T22:54:08.788952Z",
     "iopub.status.busy": "2022-04-15T22:54:08.788550Z",
     "iopub.status.idle": "2022-04-15T22:54:08.795728Z",
     "shell.execute_reply": "2022-04-15T22:54:08.795176Z"
    }
   },
   "outputs": [
    {
     "data": {
      "text/latex": [
       "$\\displaystyle \\left[\\begin{matrix}7 a & 10 a\\\\\\frac{b}{\\omega} + 3 f{\\left(t \\right)} & \\frac{2 b}{\\omega} + 4 f{\\left(t \\right)}\\end{matrix}\\right]$"
      ],
      "text/plain": [
       "⎡   7⋅a          10⋅a    ⎤\n",
       "⎢                        ⎥\n",
       "⎢b           2⋅b         ⎥\n",
       "⎢─ + 3⋅f(t)  ─── + 4⋅f(t)⎥\n",
       "⎣ω            ω          ⎦"
      ]
     },
     "execution_count": 56,
     "metadata": {},
     "output_type": "execute_result"
    }
   ],
   "source": [
    "mat1@mat2"
   ]
  },
  {
   "cell_type": "code",
   "execution_count": 57,
   "id": "102a21e6",
   "metadata": {
    "execution": {
     "iopub.execute_input": "2022-04-15T22:54:08.798483Z",
     "iopub.status.busy": "2022-04-15T22:54:08.798144Z",
     "iopub.status.idle": "2022-04-15T22:54:08.804965Z",
     "shell.execute_reply": "2022-04-15T22:54:08.804487Z"
    }
   },
   "outputs": [
    {
     "data": {
      "text/latex": [
       "$\\displaystyle \\left[\\begin{matrix}a & 4 a\\\\\\frac{3 b}{\\omega} & 4 f{\\left(t \\right)}\\end{matrix}\\right]$"
      ],
      "text/plain": [
       "⎡ a    4⋅a  ⎤\n",
       "⎢           ⎥\n",
       "⎢3⋅b        ⎥\n",
       "⎢───  4⋅f(t)⎥\n",
       "⎣ ω         ⎦"
      ]
     },
     "execution_count": 57,
     "metadata": {},
     "output_type": "execute_result"
    }
   ],
   "source": [
    "sm.hadamard_product(mat1, mat2)"
   ]
  },
  {
   "cell_type": "code",
   "execution_count": 58,
   "id": "d569c4b1",
   "metadata": {
    "execution": {
     "iopub.execute_input": "2022-04-15T22:54:08.807229Z",
     "iopub.status.busy": "2022-04-15T22:54:08.806895Z",
     "iopub.status.idle": "2022-04-15T22:54:08.817189Z",
     "shell.execute_reply": "2022-04-15T22:54:08.816703Z"
    }
   },
   "outputs": [
    {
     "data": {
      "text/latex": [
       "$\\displaystyle \\left[\\begin{matrix}a + \\frac{b}{\\omega^{2}}\\\\a \\omega + f{\\left(t \\right)}\\\\a \\sin{\\left(\\omega \\right)} + \\frac{\\left|{f{\\left(t \\right)}}\\right|}{\\sqrt{b}}\\\\5 \\sin{\\left(12 \\right)} + 105.986768359379\\\\t \\sin{\\left(\\omega f{\\left(t \\right)} \\right)} + \\frac{f{\\left(t \\right)}}{\\sqrt{t}}\\end{matrix}\\right]$"
      ],
      "text/plain": [
       "⎡               b            ⎤\n",
       "⎢           a + ──           ⎥\n",
       "⎢                2           ⎥\n",
       "⎢               ω            ⎥\n",
       "⎢                            ⎥\n",
       "⎢         a⋅ω + f(t)         ⎥\n",
       "⎢                            ⎥\n",
       "⎢                │f(t)│      ⎥\n",
       "⎢     a⋅sin(ω) + ──────      ⎥\n",
       "⎢                  √b        ⎥\n",
       "⎢                            ⎥\n",
       "⎢5⋅sin(12) + 105.986768359379⎥\n",
       "⎢                            ⎥\n",
       "⎢                    f(t)    ⎥\n",
       "⎢    t⋅sin(ω⋅f(t)) + ────    ⎥\n",
       "⎣                     √t     ⎦"
      ]
     },
     "execution_count": 58,
     "metadata": {},
     "output_type": "execute_result"
    }
   ],
   "source": [
    "mat3 = sm.Matrix([expr1, expr2, expr3, expr4, expr5])\n",
    "mat3"
   ]
  },
  {
   "cell_type": "code",
   "execution_count": 59,
   "id": "7c6167d9",
   "metadata": {
    "execution": {
     "iopub.execute_input": "2022-04-15T22:54:08.819457Z",
     "iopub.status.busy": "2022-04-15T22:54:08.819122Z",
     "iopub.status.idle": "2022-04-15T22:54:08.834558Z",
     "shell.execute_reply": "2022-04-15T22:54:08.834038Z"
    }
   },
   "outputs": [
    {
     "data": {
      "text/latex": [
       "$\\displaystyle \\left[\\begin{matrix}1\\\\\\omega\\\\\\sin{\\left(\\omega \\right)}\\\\0\\\\0\\end{matrix}\\right]$"
      ],
      "text/plain": [
       "⎡  1   ⎤\n",
       "⎢      ⎥\n",
       "⎢  ω   ⎥\n",
       "⎢      ⎥\n",
       "⎢sin(ω)⎥\n",
       "⎢      ⎥\n",
       "⎢  0   ⎥\n",
       "⎢      ⎥\n",
       "⎣  0   ⎦"
      ]
     },
     "execution_count": 59,
     "metadata": {},
     "output_type": "execute_result"
    }
   ],
   "source": [
    "mat3.diff(a)"
   ]
  },
  {
   "cell_type": "code",
   "execution_count": 60,
   "id": "417a0440",
   "metadata": {
    "execution": {
     "iopub.execute_input": "2022-04-15T22:54:08.836870Z",
     "iopub.status.busy": "2022-04-15T22:54:08.836612Z",
     "iopub.status.idle": "2022-04-15T22:54:08.855052Z",
     "shell.execute_reply": "2022-04-15T22:54:08.854588Z"
    }
   },
   "outputs": [
    {
     "data": {
      "text/latex": [
       "$\\displaystyle \\left[\\begin{matrix}0\\\\\\frac{d}{d t} f{\\left(t \\right)}\\\\\\frac{\\left(\\operatorname{re}{\\left(f{\\left(t \\right)}\\right)} \\frac{d}{d t} \\operatorname{re}{\\left(f{\\left(t \\right)}\\right)} + \\operatorname{im}{\\left(f{\\left(t \\right)}\\right)} \\frac{d}{d t} \\operatorname{im}{\\left(f{\\left(t \\right)}\\right)}\\right) \\operatorname{sign}{\\left(f{\\left(t \\right)} \\right)}}{\\sqrt{b} f{\\left(t \\right)}}\\\\0\\\\\\omega t \\cos{\\left(\\omega f{\\left(t \\right)} \\right)} \\frac{d}{d t} f{\\left(t \\right)} + \\sin{\\left(\\omega f{\\left(t \\right)} \\right)} + \\frac{\\frac{d}{d t} f{\\left(t \\right)}}{\\sqrt{t}} - \\frac{f{\\left(t \\right)}}{2 t^{\\frac{3}{2}}}\\end{matrix}\\right]$"
      ],
      "text/plain": [
       "⎡                            0                             ⎤\n",
       "⎢                                                          ⎥\n",
       "⎢                         d                                ⎥\n",
       "⎢                         ──(f(t))                         ⎥\n",
       "⎢                         dt                               ⎥\n",
       "⎢                                                          ⎥\n",
       "⎢⎛         d                       d           ⎞           ⎥\n",
       "⎢⎜re(f(t))⋅──(re(f(t))) + im(f(t))⋅──(im(f(t)))⎟⋅sign(f(t))⎥\n",
       "⎢⎝         dt                      dt          ⎠           ⎥\n",
       "⎢──────────────────────────────────────────────────────────⎥\n",
       "⎢                         √b⋅f(t)                          ⎥\n",
       "⎢                                                          ⎥\n",
       "⎢                            0                             ⎥\n",
       "⎢                                                          ⎥\n",
       "⎢                                         d                ⎥\n",
       "⎢                                         ──(f(t))         ⎥\n",
       "⎢                d                        dt          f(t) ⎥\n",
       "⎢ω⋅t⋅cos(ω⋅f(t))⋅──(f(t)) + sin(ω⋅f(t)) + ──────── - ──────⎥\n",
       "⎢                dt                          √t         3/2⎥\n",
       "⎣                                                    2⋅t   ⎦"
      ]
     },
     "execution_count": 60,
     "metadata": {},
     "output_type": "execute_result"
    }
   ],
   "source": [
    "mat3.diff(t)"
   ]
  },
  {
   "cell_type": "code",
   "execution_count": 61,
   "id": "a8c160f1",
   "metadata": {
    "execution": {
     "iopub.execute_input": "2022-04-15T22:54:08.857534Z",
     "iopub.status.busy": "2022-04-15T22:54:08.857282Z",
     "iopub.status.idle": "2022-04-15T22:54:08.863776Z",
     "shell.execute_reply": "2022-04-15T22:54:08.863301Z"
    }
   },
   "outputs": [
    {
     "data": {
      "text/latex": [
       "$\\displaystyle \\left[\\begin{matrix}a\\\\b\\\\\\omega\\\\t\\end{matrix}\\right]$"
      ],
      "text/plain": [
       "⎡a⎤\n",
       "⎢ ⎥\n",
       "⎢b⎥\n",
       "⎢ ⎥\n",
       "⎢ω⎥\n",
       "⎢ ⎥\n",
       "⎣t⎦"
      ]
     },
     "execution_count": 61,
     "metadata": {},
     "output_type": "execute_result"
    }
   ],
   "source": [
    "mat4 = sm.Matrix([a, b, omega, t])\n",
    "mat4"
   ]
  },
  {
   "cell_type": "code",
   "execution_count": 62,
   "id": "52aef879",
   "metadata": {
    "execution": {
     "iopub.execute_input": "2022-04-15T22:54:08.866310Z",
     "iopub.status.busy": "2022-04-15T22:54:08.866063Z",
     "iopub.status.idle": "2022-04-15T22:54:08.894780Z",
     "shell.execute_reply": "2022-04-15T22:54:08.894302Z"
    }
   },
   "outputs": [
    {
     "data": {
      "text/latex": [
       "$\\displaystyle \\left[\\begin{matrix}1 & \\frac{1}{\\omega^{2}} & - \\frac{2 b}{\\omega^{3}} & 0\\\\\\omega & 0 & a & \\frac{d}{d t} f{\\left(t \\right)}\\\\\\sin{\\left(\\omega \\right)} & - \\frac{\\left|{f{\\left(t \\right)}}\\right|}{2 b^{\\frac{3}{2}}} & a \\cos{\\left(\\omega \\right)} & \\frac{\\left(\\operatorname{re}{\\left(f{\\left(t \\right)}\\right)} \\frac{d}{d t} \\operatorname{re}{\\left(f{\\left(t \\right)}\\right)} + \\operatorname{im}{\\left(f{\\left(t \\right)}\\right)} \\frac{d}{d t} \\operatorname{im}{\\left(f{\\left(t \\right)}\\right)}\\right) \\operatorname{sign}{\\left(f{\\left(t \\right)} \\right)}}{\\sqrt{b} f{\\left(t \\right)}}\\\\0 & 0 & 0 & 0\\\\0 & 0 & t f{\\left(t \\right)} \\cos{\\left(\\omega f{\\left(t \\right)} \\right)} & \\omega t \\cos{\\left(\\omega f{\\left(t \\right)} \\right)} \\frac{d}{d t} f{\\left(t \\right)} + \\sin{\\left(\\omega f{\\left(t \\right)} \\right)} + \\frac{\\frac{d}{d t} f{\\left(t \\right)}}{\\sqrt{t}} - \\frac{f{\\left(t \\right)}}{2 t^{\\frac{3}{2}}}\\end{matrix}\\right]$"
      ],
      "text/plain": [
       "⎡           1            -2⋅b                                                 \n",
       "⎢  1        ──           ─────                                     0          \n",
       "⎢            2              3                                                 \n",
       "⎢           ω              ω                                                  \n",
       "⎢                                                                             \n",
       "⎢                                                               d             \n",
       "⎢  ω        0              a                                    ──(f(t))      \n",
       "⎢                                                               dt            \n",
       "⎢                                                                             \n",
       "⎢                                      ⎛         d                       d    \n",
       "⎢                                      ⎜re(f(t))⋅──(re(f(t))) + im(f(t))⋅──(im\n",
       "⎢        -│f(t)│                       ⎝         dt                      dt   \n",
       "⎢sin(ω)  ────────       a⋅cos(ω)       ───────────────────────────────────────\n",
       "⎢            3/2                                                √b⋅f(t)       \n",
       "⎢         2⋅b                                                                 \n",
       "⎢                                                                             \n",
       "⎢  0        0              0                                       0          \n",
       "⎢                                                                             \n",
       "⎢                                                                             \n",
       "⎢                                                                             \n",
       "⎢                                                      d                      \n",
       "⎢  0        0      t⋅f(t)⋅cos(ω⋅f(t))  ω⋅t⋅cos(ω⋅f(t))⋅──(f(t)) + sin(ω⋅f(t)) \n",
       "⎢                                                      dt                     \n",
       "⎣                                                                             \n",
       "\n",
       "                   ⎤\n",
       "                   ⎥\n",
       "                   ⎥\n",
       "                   ⎥\n",
       "                   ⎥\n",
       "                   ⎥\n",
       "                   ⎥\n",
       "                   ⎥\n",
       "                   ⎥\n",
       "       ⎞           ⎥\n",
       "(f(t)))⎟⋅sign(f(t))⎥\n",
       "       ⎠           ⎥\n",
       "───────────────────⎥\n",
       "                   ⎥\n",
       "                   ⎥\n",
       "                   ⎥\n",
       "                   ⎥\n",
       "                   ⎥\n",
       "  d                ⎥\n",
       "  ──(f(t))         ⎥\n",
       "  dt          f(t) ⎥\n",
       "+ ──────── - ──────⎥\n",
       "     √t         3/2⎥\n",
       "             2⋅t   ⎦"
      ]
     },
     "execution_count": 62,
     "metadata": {},
     "output_type": "execute_result"
    }
   ],
   "source": [
    "mat3.jacobian(mat4)"
   ]
  },
  {
   "cell_type": "code",
   "execution_count": 63,
   "id": "b0ea1b0b",
   "metadata": {
    "execution": {
     "iopub.execute_input": "2022-04-15T22:54:08.897222Z",
     "iopub.status.busy": "2022-04-15T22:54:08.896816Z",
     "iopub.status.idle": "2022-04-15T22:54:08.916615Z",
     "shell.execute_reply": "2022-04-15T22:54:08.916149Z"
    }
   },
   "outputs": [
    {
     "data": {
      "text/latex": [
       "$\\displaystyle \\left[\\begin{matrix}a_{1} \\sin{\\left(f{\\left(t \\right)} \\right)} \\cos{\\left(2 f{\\left(t \\right)} \\right)} + a_{2} + \\frac{\\omega \\log{\\left(t \\right)}}{\\log{\\left(f{\\left(t \\right)} \\right)}} + 100\\\\a_{1} \\omega^{2} + a_{2} f{\\left(t \\right)} + \\omega + f^{3}{\\left(t \\right)}\\end{matrix}\\right]$"
      ],
      "text/plain": [
       "⎡                                 ω⋅log(t)      ⎤\n",
       "⎢a₁⋅sin(f(t))⋅cos(2⋅f(t)) + a₂ + ───────── + 100⎥\n",
       "⎢                                log(f(t))      ⎥\n",
       "⎢                                               ⎥\n",
       "⎢              2                  3             ⎥\n",
       "⎣          a₁⋅ω  + a₂⋅f(t) + ω + f (t)          ⎦"
      ]
     },
     "execution_count": 63,
     "metadata": {},
     "output_type": "execute_result"
    }
   ],
   "source": [
    "a1, a2 = sm.symbols('a1, a2')\n",
    "\n",
    "exprs = sm.Matrix([\n",
    "    [a1*sm.sin(f(t))*sm.cos(2*f(t)) + a2 + omega/sm.log(f(t), t) + 100],\n",
    "    [a1*omega**2 + f(t)*a2 + omega + f(t)**3],\n",
    "])\n",
    "exprs"
   ]
  },
  {
   "cell_type": "code",
   "execution_count": 64,
   "id": "d7ed6d97",
   "metadata": {
    "execution": {
     "iopub.execute_input": "2022-04-15T22:54:08.919238Z",
     "iopub.status.busy": "2022-04-15T22:54:08.918834Z",
     "iopub.status.idle": "2022-04-15T22:54:08.930200Z",
     "shell.execute_reply": "2022-04-15T22:54:08.929739Z"
    }
   },
   "outputs": [
    {
     "data": {
      "text/latex": [
       "$\\displaystyle \\left[\\begin{matrix}\\sin{\\left(f{\\left(t \\right)} \\right)} \\cos{\\left(2 f{\\left(t \\right)} \\right)} & 1\\\\\\omega^{2} & f{\\left(t \\right)}\\end{matrix}\\right]$"
      ],
      "text/plain": [
       "⎡sin(f(t))⋅cos(2⋅f(t))   1  ⎤\n",
       "⎢                           ⎥\n",
       "⎢          2                ⎥\n",
       "⎣         ω             f(t)⎦"
      ]
     },
     "execution_count": 64,
     "metadata": {},
     "output_type": "execute_result"
    }
   ],
   "source": [
    "A = exprs.jacobian([a1, a2])\n",
    "A"
   ]
  },
  {
   "cell_type": "code",
   "execution_count": 65,
   "id": "681e4298",
   "metadata": {
    "execution": {
     "iopub.execute_input": "2022-04-15T22:54:08.932775Z",
     "iopub.status.busy": "2022-04-15T22:54:08.932405Z",
     "iopub.status.idle": "2022-04-15T22:54:08.941688Z",
     "shell.execute_reply": "2022-04-15T22:54:08.941239Z"
    }
   },
   "outputs": [
    {
     "data": {
      "text/latex": [
       "$\\displaystyle \\left[\\begin{matrix}- \\frac{\\omega \\log{\\left(t \\right)}}{\\log{\\left(f{\\left(t \\right)} \\right)}} - 100\\\\- \\omega - f^{3}{\\left(t \\right)}\\end{matrix}\\right]$"
      ],
      "text/plain": [
       "⎡   ω⋅log(t)      ⎤\n",
       "⎢- ───────── - 100⎥\n",
       "⎢  log(f(t))      ⎥\n",
       "⎢                 ⎥\n",
       "⎢         3       ⎥\n",
       "⎣   -ω - f (t)    ⎦"
      ]
     },
     "execution_count": 65,
     "metadata": {},
     "output_type": "execute_result"
    }
   ],
   "source": [
    "b = -exprs.xreplace({a1: 0, a2:0})\n",
    "b"
   ]
  },
  {
   "cell_type": "code",
   "execution_count": 66,
   "id": "78ad0a28",
   "metadata": {
    "execution": {
     "iopub.execute_input": "2022-04-15T22:54:08.944232Z",
     "iopub.status.busy": "2022-04-15T22:54:08.943854Z",
     "iopub.status.idle": "2022-04-15T22:54:08.979698Z",
     "shell.execute_reply": "2022-04-15T22:54:08.979211Z"
    }
   },
   "outputs": [
    {
     "data": {
      "text/latex": [
       "$\\displaystyle \\left[\\begin{matrix}\\frac{- \\frac{\\omega \\log{\\left(t \\right)}}{\\log{\\left(f{\\left(t \\right)} \\right)}} - 100 - \\frac{- \\frac{\\omega^{2} \\left(- \\frac{\\omega \\log{\\left(t \\right)}}{\\log{\\left(f{\\left(t \\right)} \\right)}} - 100\\right)}{\\sin{\\left(f{\\left(t \\right)} \\right)} \\cos{\\left(2 f{\\left(t \\right)} \\right)}} - \\omega - f^{3}{\\left(t \\right)}}{- \\frac{\\omega^{2}}{\\sin{\\left(f{\\left(t \\right)} \\right)} \\cos{\\left(2 f{\\left(t \\right)} \\right)}} + f{\\left(t \\right)}}}{\\sin{\\left(f{\\left(t \\right)} \\right)} \\cos{\\left(2 f{\\left(t \\right)} \\right)}}\\\\\\frac{- \\frac{\\omega^{2} \\left(- \\frac{\\omega \\log{\\left(t \\right)}}{\\log{\\left(f{\\left(t \\right)} \\right)}} - 100\\right)}{\\sin{\\left(f{\\left(t \\right)} \\right)} \\cos{\\left(2 f{\\left(t \\right)} \\right)}} - \\omega - f^{3}{\\left(t \\right)}}{- \\frac{\\omega^{2}}{\\sin{\\left(f{\\left(t \\right)} \\right)} \\cos{\\left(2 f{\\left(t \\right)} \\right)}} + f{\\left(t \\right)}}\\end{matrix}\\right]$"
      ],
      "text/plain": [
       "⎡                       2 ⎛   ω⋅log(t)      ⎞            ⎤\n",
       "⎢                      ω ⋅⎜- ───────── - 100⎟            ⎥\n",
       "⎢                         ⎝  log(f(t))      ⎠        3   ⎥\n",
       "⎢                    - ────────────────────── - ω - f (t)⎥\n",
       "⎢   ω⋅log(t)           sin(f(t))⋅cos(2⋅f(t))             ⎥\n",
       "⎢- ───────── - 100 - ────────────────────────────────────⎥\n",
       "⎢  log(f(t))                         2                   ⎥\n",
       "⎢                                   ω                    ⎥\n",
       "⎢                       - ───────────────────── + f(t)   ⎥\n",
       "⎢                         sin(f(t))⋅cos(2⋅f(t))          ⎥\n",
       "⎢────────────────────────────────────────────────────────⎥\n",
       "⎢                 sin(f(t))⋅cos(2⋅f(t))                  ⎥\n",
       "⎢                                                        ⎥\n",
       "⎢             2 ⎛   ω⋅log(t)      ⎞                      ⎥\n",
       "⎢            ω ⋅⎜- ───────── - 100⎟                      ⎥\n",
       "⎢               ⎝  log(f(t))      ⎠        3             ⎥\n",
       "⎢          - ────────────────────── - ω - f (t)          ⎥\n",
       "⎢            sin(f(t))⋅cos(2⋅f(t))                       ⎥\n",
       "⎢          ────────────────────────────────────          ⎥\n",
       "⎢                          2                             ⎥\n",
       "⎢                         ω                              ⎥\n",
       "⎢             - ───────────────────── + f(t)             ⎥\n",
       "⎣               sin(f(t))⋅cos(2⋅f(t))                    ⎦"
      ]
     },
     "execution_count": 66,
     "metadata": {},
     "output_type": "execute_result"
    }
   ],
   "source": [
    "A.LUsolve(b)"
   ]
  },
  {
   "cell_type": "code",
   "execution_count": 67,
   "id": "edb266d2",
   "metadata": {
    "execution": {
     "iopub.execute_input": "2022-04-15T22:54:08.982307Z",
     "iopub.status.busy": "2022-04-15T22:54:08.981927Z",
     "iopub.status.idle": "2022-04-15T22:54:09.963245Z",
     "shell.execute_reply": "2022-04-15T22:54:09.962669Z"
    }
   },
   "outputs": [
    {
     "data": {
      "text/latex": [
       "$\\displaystyle \\left[\\begin{matrix}\\frac{- \\omega f{\\left(t \\right)} \\log{\\left(t \\right)} + \\omega \\log{\\left(f{\\left(t \\right)} \\right)} + f^{3}{\\left(t \\right)} \\log{\\left(f{\\left(t \\right)} \\right)} - 100 f{\\left(t \\right)} \\log{\\left(f{\\left(t \\right)} \\right)}}{\\left(- \\omega^{2} + f{\\left(t \\right)} \\sin{\\left(f{\\left(t \\right)} \\right)} \\cos{\\left(2 f{\\left(t \\right)} \\right)}\\right) \\log{\\left(f{\\left(t \\right)} \\right)}}\\\\\\frac{- \\omega^{2} \\left(\\omega \\log{\\left(t \\right)} + 100 \\log{\\left(f{\\left(t \\right)} \\right)}\\right) + \\left(\\omega + f^{3}{\\left(t \\right)}\\right) \\log{\\left(f{\\left(t \\right)} \\right)} \\sin{\\left(f{\\left(t \\right)} \\right)} \\cos{\\left(2 f{\\left(t \\right)} \\right)}}{\\left(\\omega^{2} - f{\\left(t \\right)} \\sin{\\left(f{\\left(t \\right)} \\right)} \\cos{\\left(2 f{\\left(t \\right)} \\right)}\\right) \\log{\\left(f{\\left(t \\right)} \\right)}}\\end{matrix}\\right]$"
      ],
      "text/plain": [
       "⎡                                     3                                       \n",
       "⎢     -ω⋅f(t)⋅log(t) + ω⋅log(f(t)) + f (t)⋅log(f(t)) - 100⋅f(t)⋅log(f(t))     \n",
       "⎢     ───────────────────────────────────────────────────────────────────     \n",
       "⎢                ⎛   2                             ⎞                          \n",
       "⎢                ⎝- ω  + f(t)⋅sin(f(t))⋅cos(2⋅f(t))⎠⋅log(f(t))                \n",
       "⎢                                                                             \n",
       "⎢   2                              ⎛     3   ⎞                                \n",
       "⎢- ω ⋅(ω⋅log(t) + 100⋅log(f(t))) + ⎝ω + f (t)⎠⋅log(f(t))⋅sin(f(t))⋅cos(2⋅f(t))\n",
       "⎢─────────────────────────────────────────────────────────────────────────────\n",
       "⎢                 ⎛ 2                             ⎞                           \n",
       "⎣                 ⎝ω  - f(t)⋅sin(f(t))⋅cos(2⋅f(t))⎠⋅log(f(t))                 \n",
       "\n",
       "⎤\n",
       "⎥\n",
       "⎥\n",
       "⎥\n",
       "⎥\n",
       "⎥\n",
       "⎥\n",
       "⎥\n",
       "⎥\n",
       "⎥\n",
       "⎦"
      ]
     },
     "execution_count": 67,
     "metadata": {},
     "output_type": "execute_result"
    }
   ],
   "source": [
    "sm.simplify(A.LUsolve(b))"
   ]
  },
  {
   "cell_type": "code",
   "execution_count": 68,
   "id": "164ebd34",
   "metadata": {
    "execution": {
     "iopub.execute_input": "2022-04-15T22:54:09.966339Z",
     "iopub.status.busy": "2022-04-15T22:54:09.965946Z",
     "iopub.status.idle": "2022-04-15T22:54:09.999413Z",
     "shell.execute_reply": "2022-04-15T22:54:09.998889Z"
    }
   },
   "outputs": [
    {
     "data": {
      "text/latex": [
       "$\\displaystyle 1$"
      ],
      "text/plain": [
       "1"
      ]
     },
     "execution_count": 68,
     "metadata": {},
     "output_type": "execute_result"
    }
   ],
   "source": [
    "sm.trigsimp(sm.cos(omega)**2 + sm.sin(omega)**2)"
   ]
  },
  {
   "cell_type": "code",
   "execution_count": 69,
   "id": "047ab224",
   "metadata": {
    "execution": {
     "iopub.execute_input": "2022-04-15T22:54:10.002531Z",
     "iopub.status.busy": "2022-04-15T22:54:10.002098Z",
     "iopub.status.idle": "2022-04-15T22:54:10.024948Z",
     "shell.execute_reply": "2022-04-15T22:54:10.024446Z"
    }
   },
   "outputs": [],
   "source": [
    "substitutions, simplified = sm.cse(A.LUsolve(b))"
   ]
  },
  {
   "cell_type": "code",
   "execution_count": 70,
   "id": "7a67d08a",
   "metadata": {
    "execution": {
     "iopub.execute_input": "2022-04-15T22:54:10.028052Z",
     "iopub.status.busy": "2022-04-15T22:54:10.027637Z",
     "iopub.status.idle": "2022-04-15T22:54:10.033907Z",
     "shell.execute_reply": "2022-04-15T22:54:10.033436Z"
    }
   },
   "outputs": [
    {
     "data": {
      "text/latex": [
       "$\\displaystyle \\left( x_{0}, \\  f{\\left(t \\right)}\\right)$"
      ],
      "text/plain": [
       "(x₀, f(t))"
      ]
     },
     "execution_count": 70,
     "metadata": {},
     "output_type": "execute_result"
    }
   ],
   "source": [
    "substitutions[0]"
   ]
  },
  {
   "cell_type": "code",
   "execution_count": 71,
   "id": "607f3cdc",
   "metadata": {
    "execution": {
     "iopub.execute_input": "2022-04-15T22:54:10.036681Z",
     "iopub.status.busy": "2022-04-15T22:54:10.036258Z",
     "iopub.status.idle": "2022-04-15T22:54:10.043462Z",
     "shell.execute_reply": "2022-04-15T22:54:10.042993Z"
    }
   },
   "outputs": [
    {
     "data": {
      "text/latex": [
       "$\\displaystyle x_{0} = f{\\left(t \\right)}$"
      ],
      "text/plain": [
       "x₀ = f(t)"
      ]
     },
     "execution_count": 71,
     "metadata": {},
     "output_type": "execute_result"
    }
   ],
   "source": [
    "sm.Eq(*substitutions[0])"
   ]
  },
  {
   "cell_type": "code",
   "execution_count": 72,
   "id": "f40faf44",
   "metadata": {
    "execution": {
     "iopub.execute_input": "2022-04-15T22:54:10.046227Z",
     "iopub.status.busy": "2022-04-15T22:54:10.045836Z",
     "iopub.status.idle": "2022-04-15T22:54:10.058243Z",
     "shell.execute_reply": "2022-04-15T22:54:10.057778Z"
    }
   },
   "outputs": [
    {
     "data": {
      "text/latex": [
       "$\\displaystyle x_{1} = \\frac{1}{\\sin{\\left(x_{0} \\right)} \\cos{\\left(2 x_{0} \\right)}}$"
      ],
      "text/plain": [
       "             1        \n",
       "x₁ = ─────────────────\n",
       "     sin(x₀)⋅cos(2⋅x₀)"
      ]
     },
     "execution_count": 72,
     "metadata": {},
     "output_type": "execute_result"
    }
   ],
   "source": [
    "sm.Eq(*substitutions[1])"
   ]
  },
  {
   "cell_type": "code",
   "execution_count": 73,
   "id": "5262f372",
   "metadata": {
    "execution": {
     "iopub.execute_input": "2022-04-15T22:54:10.061641Z",
     "iopub.status.busy": "2022-04-15T22:54:10.060548Z",
     "iopub.status.idle": "2022-04-15T22:54:10.069182Z",
     "shell.execute_reply": "2022-04-15T22:54:10.068693Z"
    }
   },
   "outputs": [
    {
     "data": {
      "text/latex": [
       "$\\displaystyle x_{2} = \\omega^{2} x_{1}$"
      ],
      "text/plain": [
       "      2   \n",
       "x₂ = ω ⋅x₁"
      ]
     },
     "execution_count": 73,
     "metadata": {},
     "output_type": "execute_result"
    }
   ],
   "source": [
    "sm.Eq(*substitutions[2])"
   ]
  },
  {
   "cell_type": "code",
   "execution_count": 74,
   "id": "8a135da6",
   "metadata": {
    "execution": {
     "iopub.execute_input": "2022-04-15T22:54:10.071818Z",
     "iopub.status.busy": "2022-04-15T22:54:10.071515Z",
     "iopub.status.idle": "2022-04-15T22:54:10.085405Z",
     "shell.execute_reply": "2022-04-15T22:54:10.084937Z"
    }
   },
   "outputs": [
    {
     "data": {
      "text/latex": [
       "$\\displaystyle x_{4} = \\frac{- \\omega - x_{0}^{3} + x_{2} x_{3}}{x_{0} - x_{2}}$"
      ],
      "text/plain": [
       "            3        \n",
       "     -ω - x₀  + x₂⋅x₃\n",
       "x₄ = ────────────────\n",
       "         x₀ - x₂     "
      ]
     },
     "execution_count": 74,
     "metadata": {},
     "output_type": "execute_result"
    }
   ],
   "source": [
    "sm.Eq(*substitutions[4])"
   ]
  },
  {
   "cell_type": "code",
   "execution_count": 75,
   "id": "c5f5205f",
   "metadata": {
    "execution": {
     "iopub.execute_input": "2022-04-15T22:54:10.088144Z",
     "iopub.status.busy": "2022-04-15T22:54:10.087725Z",
     "iopub.status.idle": "2022-04-15T22:54:10.095514Z",
     "shell.execute_reply": "2022-04-15T22:54:10.095043Z"
    }
   },
   "outputs": [
    {
     "data": {
      "text/latex": [
       "$\\displaystyle \\left[\\begin{matrix}x_{1} \\left(- x_{3} - x_{4}\\right)\\\\x_{4}\\end{matrix}\\right]$"
      ],
      "text/plain": [
       "⎡x₁⋅(-x₃ - x₄)⎤\n",
       "⎢             ⎥\n",
       "⎣     x₄      ⎦"
      ]
     },
     "execution_count": 75,
     "metadata": {},
     "output_type": "execute_result"
    }
   ],
   "source": [
    "simplified[0]"
   ]
  }
 ],
 "metadata": {
  "kernelspec": {
   "display_name": "Python 3 (ipykernel)",
   "language": "python",
   "name": "python3"
  },
  "language_info": {
   "codemirror_mode": {
    "name": "ipython",
    "version": 3
   },
   "file_extension": ".py",
   "mimetype": "text/x-python",
   "name": "python",
   "nbconvert_exporter": "python",
   "pygments_lexer": "ipython3",
   "version": "3.9.12"
  }
 },
 "nbformat": 4,
 "nbformat_minor": 5
}