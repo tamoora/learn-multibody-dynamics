{
 "cells": [
  {
   "cell_type": "code",
   "execution_count": 1,
   "id": "7c558e2f",
   "metadata": {
    "execution": {
     "iopub.execute_input": "2022-03-10T20:18:00.244217Z",
     "iopub.status.busy": "2022-03-10T20:18:00.243864Z",
     "iopub.status.idle": "2022-03-10T20:18:00.574479Z",
     "shell.execute_reply": "2022-03-10T20:18:00.573454Z"
    }
   },
   "outputs": [],
   "source": [
    "import sympy as sm"
   ]
  },
  {
   "cell_type": "code",
   "execution_count": 2,
   "id": "b5521b68",
   "metadata": {
    "execution": {
     "iopub.execute_input": "2022-03-10T20:18:00.578062Z",
     "iopub.status.busy": "2022-03-10T20:18:00.577869Z",
     "iopub.status.idle": "2022-03-10T20:18:00.585935Z",
     "shell.execute_reply": "2022-03-10T20:18:00.585311Z"
    }
   },
   "outputs": [],
   "source": [
    "sm.init_printing(use_latex='mathjax')"
   ]
  },
  {
   "cell_type": "code",
   "execution_count": 3,
   "id": "27fe9322",
   "metadata": {
    "execution": {
     "iopub.execute_input": "2022-03-10T20:18:00.588658Z",
     "iopub.status.busy": "2022-03-10T20:18:00.588466Z",
     "iopub.status.idle": "2022-03-10T20:18:00.595173Z",
     "shell.execute_reply": "2022-03-10T20:18:00.594677Z"
    }
   },
   "outputs": [
    {
     "data": {
      "text/latex": [
       "$\\displaystyle a$"
      ],
      "text/plain": [
       "a"
      ]
     },
     "execution_count": 3,
     "metadata": {},
     "output_type": "execute_result"
    }
   ],
   "source": [
    "a = sm.symbols('a')\n",
    "a"
   ]
  },
  {
   "cell_type": "code",
   "execution_count": 4,
   "id": "507e3ecb",
   "metadata": {
    "execution": {
     "iopub.execute_input": "2022-03-10T20:18:00.598516Z",
     "iopub.status.busy": "2022-03-10T20:18:00.597939Z",
     "iopub.status.idle": "2022-03-10T20:18:00.602518Z",
     "shell.execute_reply": "2022-03-10T20:18:00.601891Z"
    }
   },
   "outputs": [
    {
     "data": {
      "text/plain": [
       "sympy.core.symbol.Symbol"
      ]
     },
     "execution_count": 4,
     "metadata": {},
     "output_type": "execute_result"
    }
   ],
   "source": [
    "type(a)"
   ]
  },
  {
   "cell_type": "code",
   "execution_count": 5,
   "id": "e8306829",
   "metadata": {
    "execution": {
     "iopub.execute_input": "2022-03-10T20:18:00.605475Z",
     "iopub.status.busy": "2022-03-10T20:18:00.605290Z",
     "iopub.status.idle": "2022-03-10T20:18:00.610796Z",
     "shell.execute_reply": "2022-03-10T20:18:00.610135Z"
    }
   },
   "outputs": [
    {
     "data": {
      "text/latex": [
       "$\\displaystyle \\left( b, \\  t, \\  \\omega\\right)$"
      ],
      "text/plain": [
       "(b, t, ω)"
      ]
     },
     "execution_count": 5,
     "metadata": {},
     "output_type": "execute_result"
    }
   ],
   "source": [
    "b, t, omega = sm.symbols('b, t, omega')\n",
    "b, t, omega"
   ]
  },
  {
   "cell_type": "code",
   "execution_count": 6,
   "id": "2a246acc",
   "metadata": {
    "execution": {
     "iopub.execute_input": "2022-03-10T20:18:00.614216Z",
     "iopub.status.busy": "2022-03-10T20:18:00.614007Z",
     "iopub.status.idle": "2022-03-10T20:18:00.619173Z",
     "shell.execute_reply": "2022-03-10T20:18:00.618529Z"
    }
   },
   "outputs": [
    {
     "data": {
      "text/latex": [
       "$\\displaystyle \\left( \\alpha_{1}, \\  \\omega_{2}\\right)$"
      ],
      "text/plain": [
       "(α₁, ω₂)"
      ]
     },
     "execution_count": 6,
     "metadata": {},
     "output_type": "execute_result"
    }
   ],
   "source": [
    "pivot_angle, w2 = sm.symbols('alpha1, omega2')\n",
    "pivot_angle, w2"
   ]
  },
  {
   "cell_type": "code",
   "execution_count": 7,
   "id": "007c74e6",
   "metadata": {
    "execution": {
     "iopub.execute_input": "2022-03-10T20:18:00.622308Z",
     "iopub.status.busy": "2022-03-10T20:18:00.622122Z",
     "iopub.status.idle": "2022-03-10T20:18:00.627245Z",
     "shell.execute_reply": "2022-03-10T20:18:00.626595Z"
    }
   },
   "outputs": [
    {
     "data": {
      "text/plain": [
       "f"
      ]
     },
     "execution_count": 7,
     "metadata": {},
     "output_type": "execute_result"
    }
   ],
   "source": [
    "f = sm.Function('f')\n",
    "f"
   ]
  },
  {
   "cell_type": "code",
   "execution_count": 8,
   "id": "e152cf8c",
   "metadata": {
    "execution": {
     "iopub.execute_input": "2022-03-10T20:18:00.630628Z",
     "iopub.status.busy": "2022-03-10T20:18:00.630442Z",
     "iopub.status.idle": "2022-03-10T20:18:00.635064Z",
     "shell.execute_reply": "2022-03-10T20:18:00.634285Z"
    }
   },
   "outputs": [
    {
     "data": {
      "text/plain": [
       "sympy.core.function.UndefinedFunction"
      ]
     },
     "execution_count": 8,
     "metadata": {},
     "output_type": "execute_result"
    }
   ],
   "source": [
    "type(f)"
   ]
  },
  {
   "cell_type": "code",
   "execution_count": 9,
   "id": "6589dbb6",
   "metadata": {
    "execution": {
     "iopub.execute_input": "2022-03-10T20:18:00.638540Z",
     "iopub.status.busy": "2022-03-10T20:18:00.638246Z",
     "iopub.status.idle": "2022-03-10T20:18:00.643178Z",
     "shell.execute_reply": "2022-03-10T20:18:00.642514Z"
    }
   },
   "outputs": [
    {
     "data": {
      "text/latex": [
       "$\\displaystyle f{\\left(t \\right)}$"
      ],
      "text/plain": [
       "f(t)"
      ]
     },
     "execution_count": 9,
     "metadata": {},
     "output_type": "execute_result"
    }
   ],
   "source": [
    "f(t)"
   ]
  },
  {
   "cell_type": "code",
   "execution_count": 10,
   "id": "2283cec1",
   "metadata": {
    "execution": {
     "iopub.execute_input": "2022-03-10T20:18:00.646636Z",
     "iopub.status.busy": "2022-03-10T20:18:00.646342Z",
     "iopub.status.idle": "2022-03-10T20:18:00.650680Z",
     "shell.execute_reply": "2022-03-10T20:18:00.650064Z"
    }
   },
   "outputs": [
    {
     "data": {
      "text/plain": [
       "f"
      ]
     },
     "execution_count": 10,
     "metadata": {},
     "output_type": "execute_result"
    }
   ],
   "source": [
    "type(f(t))"
   ]
  },
  {
   "cell_type": "code",
   "execution_count": 11,
   "id": "feae027f",
   "metadata": {
    "execution": {
     "iopub.execute_input": "2022-03-10T20:18:00.653975Z",
     "iopub.status.busy": "2022-03-10T20:18:00.653684Z",
     "iopub.status.idle": "2022-03-10T20:18:00.659735Z",
     "shell.execute_reply": "2022-03-10T20:18:00.659009Z"
    }
   },
   "outputs": [
    {
     "data": {
      "text/latex": [
       "$\\displaystyle f{\\left(a,b,\\omega,t \\right)}$"
      ],
      "text/plain": [
       "f(a, b, ω, t)"
      ]
     },
     "execution_count": 11,
     "metadata": {},
     "output_type": "execute_result"
    }
   ],
   "source": [
    "f(a, b, omega, t)"
   ]
  },
  {
   "cell_type": "code",
   "execution_count": 12,
   "id": "a738786d",
   "metadata": {
    "execution": {
     "iopub.execute_input": "2022-03-10T20:18:00.663130Z",
     "iopub.status.busy": "2022-03-10T20:18:00.662805Z",
     "iopub.status.idle": "2022-03-10T20:18:00.907883Z",
     "shell.execute_reply": "2022-03-10T20:18:00.906948Z"
    }
   },
   "outputs": [
    {
     "data": {
      "text/latex": [
       "$\\displaystyle a + \\frac{b}{\\omega^{2}}$"
      ],
      "text/plain": [
       "    b \n",
       "a + ──\n",
       "     2\n",
       "    ω "
      ]
     },
     "execution_count": 12,
     "metadata": {},
     "output_type": "execute_result"
    }
   ],
   "source": [
    "expr1 = a + b/omega**2\n",
    "expr1"
   ]
  },
  {
   "cell_type": "code",
   "execution_count": 13,
   "id": "ce71e7b7",
   "metadata": {
    "execution": {
     "iopub.execute_input": "2022-03-10T20:18:00.910652Z",
     "iopub.status.busy": "2022-03-10T20:18:00.910403Z",
     "iopub.status.idle": "2022-03-10T20:18:00.915156Z",
     "shell.execute_reply": "2022-03-10T20:18:00.914442Z"
    }
   },
   "outputs": [
    {
     "data": {
      "text/plain": [
       "sympy.core.add.Add"
      ]
     },
     "execution_count": 13,
     "metadata": {},
     "output_type": "execute_result"
    }
   ],
   "source": [
    "type(expr1)"
   ]
  },
  {
   "cell_type": "code",
   "execution_count": 14,
   "id": "56298110",
   "metadata": {
    "execution": {
     "iopub.execute_input": "2022-03-10T20:18:00.918520Z",
     "iopub.status.busy": "2022-03-10T20:18:00.918330Z",
     "iopub.status.idle": "2022-03-10T20:18:00.922853Z",
     "shell.execute_reply": "2022-03-10T20:18:00.922203Z"
    }
   },
   "outputs": [
    {
     "data": {
      "text/plain": [
       "\"Add(Symbol('a'), Mul(Symbol('b'), Pow(Symbol('omega'), Integer(-2))))\""
      ]
     },
     "execution_count": 14,
     "metadata": {},
     "output_type": "execute_result"
    }
   ],
   "source": [
    "sm.srepr(expr1)"
   ]
  },
  {
   "cell_type": "code",
   "execution_count": 15,
   "id": "4a3fd749",
   "metadata": {
    "execution": {
     "iopub.execute_input": "2022-03-10T20:18:00.926068Z",
     "iopub.status.busy": "2022-03-10T20:18:00.925870Z",
     "iopub.status.idle": "2022-03-10T20:18:00.931691Z",
     "shell.execute_reply": "2022-03-10T20:18:00.931066Z"
    }
   },
   "outputs": [
    {
     "data": {
      "text/latex": [
       "$\\displaystyle a \\omega + f{\\left(t \\right)}$"
      ],
      "text/plain": [
       "a⋅ω + f(t)"
      ]
     },
     "execution_count": 15,
     "metadata": {},
     "output_type": "execute_result"
    }
   ],
   "source": [
    "expr2 = f(t) + a*omega\n",
    "expr2"
   ]
  },
  {
   "cell_type": "code",
   "execution_count": 16,
   "id": "d5ccdb15",
   "metadata": {
    "execution": {
     "iopub.execute_input": "2022-03-10T20:18:00.934089Z",
     "iopub.status.busy": "2022-03-10T20:18:00.933877Z",
     "iopub.status.idle": "2022-03-10T20:18:00.944083Z",
     "shell.execute_reply": "2022-03-10T20:18:00.943427Z"
    }
   },
   "outputs": [
    {
     "data": {
      "text/latex": [
       "$\\displaystyle a \\sin{\\left(\\omega \\right)} + \\frac{\\left|{f{\\left(t \\right)}}\\right|}{\\sqrt{b}}$"
      ],
      "text/plain": [
       "           │f(t)│\n",
       "a⋅sin(ω) + ──────\n",
       "             √b  "
      ]
     },
     "execution_count": 16,
     "metadata": {},
     "output_type": "execute_result"
    }
   ],
   "source": [
    "expr3 = a*sm.sin(omega) + sm.Abs(f(t))/sm.sqrt(b)\n",
    "expr3"
   ]
  },
  {
   "cell_type": "code",
   "execution_count": 17,
   "id": "7ff9b0cb",
   "metadata": {
    "execution": {
     "iopub.execute_input": "2022-03-10T20:18:00.946711Z",
     "iopub.status.busy": "2022-03-10T20:18:00.946501Z",
     "iopub.status.idle": "2022-03-10T20:18:00.954158Z",
     "shell.execute_reply": "2022-03-10T20:18:00.953544Z"
    }
   },
   "outputs": [
    {
     "data": {
      "text/latex": [
       "$\\displaystyle 5 \\sin{\\left(12 \\right)} + 105.986768359379$"
      ],
      "text/plain": [
       "5⋅sin(12) + 105.986768359379"
      ]
     },
     "execution_count": 17,
     "metadata": {},
     "output_type": "execute_result"
    }
   ],
   "source": [
    "expr4 = 5*sm.sin(12) + sm.Abs(-1001)/sm.sqrt(89.2)\n",
    "expr4"
   ]
  },
  {
   "cell_type": "code",
   "execution_count": 18,
   "id": "3304d006",
   "metadata": {
    "execution": {
     "iopub.execute_input": "2022-03-10T20:18:00.957709Z",
     "iopub.status.busy": "2022-03-10T20:18:00.957336Z",
     "iopub.status.idle": "2022-03-10T20:18:00.963279Z",
     "shell.execute_reply": "2022-03-10T20:18:00.962568Z"
    }
   },
   "outputs": [
    {
     "data": {
      "text/latex": [
       "$\\displaystyle 0.5 a$"
      ],
      "text/plain": [
       "0.5⋅a"
      ]
     },
     "execution_count": 18,
     "metadata": {},
     "output_type": "execute_result"
    }
   ],
   "source": [
    "1/2*a"
   ]
  },
  {
   "cell_type": "code",
   "execution_count": 19,
   "id": "f3673091",
   "metadata": {
    "execution": {
     "iopub.execute_input": "2022-03-10T20:18:00.966456Z",
     "iopub.status.busy": "2022-03-10T20:18:00.966251Z",
     "iopub.status.idle": "2022-03-10T20:18:00.971023Z",
     "shell.execute_reply": "2022-03-10T20:18:00.970463Z"
    }
   },
   "outputs": [
    {
     "data": {
      "text/latex": [
       "$\\displaystyle \\frac{a}{2}$"
      ],
      "text/plain": [
       "a\n",
       "─\n",
       "2"
      ]
     },
     "execution_count": 19,
     "metadata": {},
     "output_type": "execute_result"
    }
   ],
   "source": [
    "sm.S(1)/2*a"
   ]
  },
  {
   "cell_type": "code",
   "execution_count": 20,
   "id": "f874a838",
   "metadata": {
    "execution": {
     "iopub.execute_input": "2022-03-10T20:18:00.973936Z",
     "iopub.status.busy": "2022-03-10T20:18:00.973728Z",
     "iopub.status.idle": "2022-03-10T20:18:00.982491Z",
     "shell.execute_reply": "2022-03-10T20:18:00.981869Z"
    }
   },
   "outputs": [
    {
     "data": {
      "text/latex": [
       "$\\displaystyle t \\sin{\\left(\\omega f{\\left(t \\right)} \\right)} + \\frac{f{\\left(t \\right)}}{\\sqrt{t}}$"
      ],
      "text/plain": [
       "                f(t)\n",
       "t⋅sin(ω⋅f(t)) + ────\n",
       "                 √t "
      ]
     },
     "execution_count": 20,
     "metadata": {},
     "output_type": "execute_result"
    }
   ],
   "source": [
    "expr5 = t*sm.sin(omega*f(t)) + f(t)/sm.sqrt(t)\n",
    "expr5"
   ]
  },
  {
   "cell_type": "code",
   "execution_count": 21,
   "id": "e3ad8afb",
   "metadata": {
    "execution": {
     "iopub.execute_input": "2022-03-10T20:18:00.985207Z",
     "iopub.status.busy": "2022-03-10T20:18:00.985017Z",
     "iopub.status.idle": "2022-03-10T20:18:00.989626Z",
     "shell.execute_reply": "2022-03-10T20:18:00.989130Z"
    }
   },
   "outputs": [
    {
     "data": {
      "text/plain": [
       "\"Add(Mul(Symbol('a'), sin(Symbol('omega'))), Mul(Pow(Symbol('b'), Rational(-1, 2)), Abs(Function('f')(Symbol('t')))))\""
      ]
     },
     "execution_count": 21,
     "metadata": {},
     "output_type": "execute_result"
    }
   ],
   "source": [
    "sm.srepr(expr3)"
   ]
  },
  {
   "cell_type": "code",
   "execution_count": 22,
   "id": "3acce0e1",
   "metadata": {
    "execution": {
     "iopub.execute_input": "2022-03-10T20:18:00.992531Z",
     "iopub.status.busy": "2022-03-10T20:18:00.991954Z",
     "iopub.status.idle": "2022-03-10T20:18:00.997055Z",
     "shell.execute_reply": "2022-03-10T20:18:00.996456Z"
    }
   },
   "outputs": [
    {
     "data": {
      "text/plain": [
       "'a*sin(omega) + Abs(f(t))/sqrt(b)'"
      ]
     },
     "execution_count": 22,
     "metadata": {},
     "output_type": "execute_result"
    }
   ],
   "source": [
    "repr(expr3)"
   ]
  },
  {
   "cell_type": "code",
   "execution_count": 23,
   "id": "74a92c9e",
   "metadata": {
    "execution": {
     "iopub.execute_input": "2022-03-10T20:18:01.000525Z",
     "iopub.status.busy": "2022-03-10T20:18:01.000108Z",
     "iopub.status.idle": "2022-03-10T20:18:01.004491Z",
     "shell.execute_reply": "2022-03-10T20:18:01.003869Z"
    }
   },
   "outputs": [
    {
     "name": "stdout",
     "output_type": "stream",
     "text": [
      "a*sin(omega) + Abs(f(t))/sqrt(b)\n"
     ]
    }
   ],
   "source": [
    "print(expr3)"
   ]
  },
  {
   "cell_type": "code",
   "execution_count": 24,
   "id": "52fddfe2",
   "metadata": {
    "execution": {
     "iopub.execute_input": "2022-03-10T20:18:01.008211Z",
     "iopub.status.busy": "2022-03-10T20:18:01.007936Z",
     "iopub.status.idle": "2022-03-10T20:18:01.012692Z",
     "shell.execute_reply": "2022-03-10T20:18:01.012023Z"
    }
   },
   "outputs": [
    {
     "name": "stdout",
     "output_type": "stream",
     "text": [
      "           │f(t)│\n",
      "a⋅sin(ω) + ──────\n",
      "             √b  \n"
     ]
    }
   ],
   "source": [
    "sm.pprint(expr3)"
   ]
  },
  {
   "cell_type": "code",
   "execution_count": 25,
   "id": "912ea23c",
   "metadata": {
    "execution": {
     "iopub.execute_input": "2022-03-10T20:18:01.016524Z",
     "iopub.status.busy": "2022-03-10T20:18:01.016073Z",
     "iopub.status.idle": "2022-03-10T20:18:01.021275Z",
     "shell.execute_reply": "2022-03-10T20:18:01.020547Z"
    }
   },
   "outputs": [
    {
     "data": {
      "text/plain": [
       "'a \\\\sin{\\\\left(\\\\omega \\\\right)} + \\\\frac{\\\\left|{f{\\\\left(t \\\\right)}}\\\\right|}{\\\\sqrt{b}}'"
      ]
     },
     "execution_count": 25,
     "metadata": {},
     "output_type": "execute_result"
    }
   ],
   "source": [
    "sm.latex(expr3)"
   ]
  },
  {
   "cell_type": "code",
   "execution_count": 26,
   "id": "d684cedd",
   "metadata": {
    "execution": {
     "iopub.execute_input": "2022-03-10T20:18:01.024939Z",
     "iopub.status.busy": "2022-03-10T20:18:01.024539Z",
     "iopub.status.idle": "2022-03-10T20:18:01.028970Z",
     "shell.execute_reply": "2022-03-10T20:18:01.028105Z"
    }
   },
   "outputs": [
    {
     "name": "stdout",
     "output_type": "stream",
     "text": [
      "a \\sin{\\left(\\omega \\right)} + \\frac{\\left|{f{\\left(t \\right)}}\\right|}{\\sqrt{b}}\n"
     ]
    }
   ],
   "source": [
    "print(sm.latex(expr3))"
   ]
  },
  {
   "cell_type": "code",
   "execution_count": 27,
   "id": "9aad1a00",
   "metadata": {
    "execution": {
     "iopub.execute_input": "2022-03-10T20:18:01.033066Z",
     "iopub.status.busy": "2022-03-10T20:18:01.032651Z",
     "iopub.status.idle": "2022-03-10T20:18:01.038727Z",
     "shell.execute_reply": "2022-03-10T20:18:01.037758Z"
    }
   },
   "outputs": [
    {
     "data": {
      "text/latex": [
       "$\\displaystyle \\frac{d}{d t} f{\\left(t \\right)}$"
      ],
      "text/plain": [
       "d       \n",
       "──(f(t))\n",
       "dt      "
      ]
     },
     "execution_count": 27,
     "metadata": {},
     "output_type": "execute_result"
    }
   ],
   "source": [
    "sm.diff(f(t), t)"
   ]
  },
  {
   "cell_type": "code",
   "execution_count": 28,
   "id": "23072255",
   "metadata": {
    "execution": {
     "iopub.execute_input": "2022-03-10T20:18:01.042506Z",
     "iopub.status.busy": "2022-03-10T20:18:01.042106Z",
     "iopub.status.idle": "2022-03-10T20:18:01.047713Z",
     "shell.execute_reply": "2022-03-10T20:18:01.046957Z"
    }
   },
   "outputs": [
    {
     "data": {
      "text/latex": [
       "$\\displaystyle \\frac{d}{d t} f{\\left(t \\right)}$"
      ],
      "text/plain": [
       "d       \n",
       "──(f(t))\n",
       "dt      "
      ]
     },
     "execution_count": 28,
     "metadata": {},
     "output_type": "execute_result"
    }
   ],
   "source": [
    "f(t).diff(t)"
   ]
  },
  {
   "cell_type": "code",
   "execution_count": 29,
   "id": "a1b33684",
   "metadata": {
    "execution": {
     "iopub.execute_input": "2022-03-10T20:18:01.051531Z",
     "iopub.status.busy": "2022-03-10T20:18:01.051057Z",
     "iopub.status.idle": "2022-03-10T20:18:01.056866Z",
     "shell.execute_reply": "2022-03-10T20:18:01.056289Z"
    }
   },
   "outputs": [
    {
     "data": {
      "text/latex": [
       "$\\displaystyle a \\sin{\\left(\\omega \\right)} + \\frac{\\left|{f{\\left(t \\right)}}\\right|}{\\sqrt{b}}$"
      ],
      "text/plain": [
       "           │f(t)│\n",
       "a⋅sin(ω) + ──────\n",
       "             √b  "
      ]
     },
     "execution_count": 29,
     "metadata": {},
     "output_type": "execute_result"
    }
   ],
   "source": [
    "expr3"
   ]
  },
  {
   "cell_type": "code",
   "execution_count": 30,
   "id": "5216f46d",
   "metadata": {
    "execution": {
     "iopub.execute_input": "2022-03-10T20:18:01.060457Z",
     "iopub.status.busy": "2022-03-10T20:18:01.060174Z",
     "iopub.status.idle": "2022-03-10T20:18:01.070517Z",
     "shell.execute_reply": "2022-03-10T20:18:01.069915Z"
    }
   },
   "outputs": [
    {
     "data": {
      "text/latex": [
       "$\\displaystyle - \\frac{\\left|{f{\\left(t \\right)}}\\right|}{2 b^{\\frac{3}{2}}}$"
      ],
      "text/plain": [
       "-│f(t)│ \n",
       "────────\n",
       "    3/2 \n",
       " 2⋅b    "
      ]
     },
     "execution_count": 30,
     "metadata": {},
     "output_type": "execute_result"
    }
   ],
   "source": [
    "expr3.diff(b)"
   ]
  },
  {
   "cell_type": "code",
   "execution_count": 31,
   "id": "0997f8dd",
   "metadata": {
    "execution": {
     "iopub.execute_input": "2022-03-10T20:18:01.074052Z",
     "iopub.status.busy": "2022-03-10T20:18:01.073698Z",
     "iopub.status.idle": "2022-03-10T20:18:01.101139Z",
     "shell.execute_reply": "2022-03-10T20:18:01.100416Z"
    }
   },
   "outputs": [
    {
     "data": {
      "text/latex": [
       "$\\displaystyle - \\frac{\\left(\\operatorname{re}{\\left(f{\\left(t \\right)}\\right)} \\frac{d}{d t} \\operatorname{re}{\\left(f{\\left(t \\right)}\\right)} + \\operatorname{im}{\\left(f{\\left(t \\right)}\\right)} \\frac{d}{d t} \\operatorname{im}{\\left(f{\\left(t \\right)}\\right)}\\right) \\operatorname{sign}{\\left(f{\\left(t \\right)} \\right)}}{2 b^{\\frac{3}{2}} f{\\left(t \\right)}}$"
      ],
      "text/plain": [
       " ⎛         d                       d           ⎞            \n",
       "-⎜re(f(t))⋅──(re(f(t))) + im(f(t))⋅──(im(f(t)))⎟⋅sign(f(t)) \n",
       " ⎝         dt                      dt          ⎠            \n",
       "────────────────────────────────────────────────────────────\n",
       "                           3/2                              \n",
       "                        2⋅b   ⋅f(t)                         "
      ]
     },
     "execution_count": 31,
     "metadata": {},
     "output_type": "execute_result"
    }
   ],
   "source": [
    "expr3.diff(b, t)"
   ]
  },
  {
   "cell_type": "code",
   "execution_count": 32,
   "id": "ae4d29ed",
   "metadata": {
    "execution": {
     "iopub.execute_input": "2022-03-10T20:18:01.104164Z",
     "iopub.status.busy": "2022-03-10T20:18:01.103764Z",
     "iopub.status.idle": "2022-03-10T20:18:01.127719Z",
     "shell.execute_reply": "2022-03-10T20:18:01.127145Z"
    }
   },
   "outputs": [
    {
     "data": {
      "text/latex": [
       "$\\displaystyle \\frac{\\left(\\operatorname{re}{\\left(h{\\left(t \\right)}\\right)} \\frac{d}{d t} \\operatorname{re}{\\left(h{\\left(t \\right)}\\right)} + \\operatorname{im}{\\left(h{\\left(t \\right)}\\right)} \\frac{d}{d t} \\operatorname{im}{\\left(h{\\left(t \\right)}\\right)}\\right) \\operatorname{sign}{\\left(h{\\left(t \\right)} \\right)}}{h{\\left(t \\right)}}$"
      ],
      "text/plain": [
       "⎛         d                       d           ⎞           \n",
       "⎜re(h(t))⋅──(re(h(t))) + im(h(t))⋅──(im(h(t)))⎟⋅sign(h(t))\n",
       "⎝         dt                      dt          ⎠           \n",
       "──────────────────────────────────────────────────────────\n",
       "                           h(t)                           "
      ]
     },
     "execution_count": 32,
     "metadata": {},
     "output_type": "execute_result"
    }
   ],
   "source": [
    "h = sm.Function('h')\n",
    "sm.Abs(h(t)).diff(t)"
   ]
  },
  {
   "cell_type": "code",
   "execution_count": 33,
   "id": "e45e4fda",
   "metadata": {
    "execution": {
     "iopub.execute_input": "2022-03-10T20:18:01.130424Z",
     "iopub.status.busy": "2022-03-10T20:18:01.130100Z",
     "iopub.status.idle": "2022-03-10T20:18:01.141907Z",
     "shell.execute_reply": "2022-03-10T20:18:01.141311Z"
    }
   },
   "outputs": [
    {
     "data": {
      "text/latex": [
       "$\\displaystyle \\operatorname{sign}{\\left(h{\\left(t \\right)} \\right)} \\frac{d}{d t} h{\\left(t \\right)}$"
      ],
      "text/plain": [
       "           d       \n",
       "sign(h(t))⋅──(h(t))\n",
       "           dt      "
      ]
     },
     "execution_count": 33,
     "metadata": {},
     "output_type": "execute_result"
    }
   ],
   "source": [
    "h = sm.Function('h', real=True)\n",
    "sm.Abs(h(t)).diff(t)"
   ]
  },
  {
   "cell_type": "code",
   "execution_count": 34,
   "id": "46823220",
   "metadata": {
    "execution": {
     "iopub.execute_input": "2022-03-10T20:18:01.144796Z",
     "iopub.status.busy": "2022-03-10T20:18:01.144404Z",
     "iopub.status.idle": "2022-03-10T20:18:01.150933Z",
     "shell.execute_reply": "2022-03-10T20:18:01.150424Z"
    }
   },
   "outputs": [
    {
     "data": {
      "text/latex": [
       "$\\displaystyle \\frac{d}{d t} h{\\left(t \\right)}$"
      ],
      "text/plain": [
       "d       \n",
       "──(h(t))\n",
       "dt      "
      ]
     },
     "execution_count": 34,
     "metadata": {},
     "output_type": "execute_result"
    }
   ],
   "source": [
    "h = sm.Function('h', real=True, positive=True)\n",
    "sm.Abs(h(t)).diff(t)"
   ]
  },
  {
   "cell_type": "code",
   "execution_count": 35,
   "id": "5390cf3b",
   "metadata": {
    "execution": {
     "iopub.execute_input": "2022-03-10T20:18:01.153680Z",
     "iopub.status.busy": "2022-03-10T20:18:01.153283Z",
     "iopub.status.idle": "2022-03-10T20:18:01.159171Z",
     "shell.execute_reply": "2022-03-10T20:18:01.158497Z"
    }
   },
   "outputs": [
    {
     "data": {
      "text/latex": [
       "$\\displaystyle t \\sin{\\left(\\omega f{\\left(t \\right)} \\right)} + \\frac{f{\\left(t \\right)}}{\\sqrt{t}}$"
      ],
      "text/plain": [
       "                f(t)\n",
       "t⋅sin(ω⋅f(t)) + ────\n",
       "                 √t "
      ]
     },
     "execution_count": 35,
     "metadata": {},
     "output_type": "execute_result"
    }
   ],
   "source": [
    "expr5"
   ]
  },
  {
   "cell_type": "code",
   "execution_count": 36,
   "id": "e681c42f",
   "metadata": {
    "execution": {
     "iopub.execute_input": "2022-03-10T20:18:01.163343Z",
     "iopub.status.busy": "2022-03-10T20:18:01.162734Z",
     "iopub.status.idle": "2022-03-10T20:18:01.186250Z",
     "shell.execute_reply": "2022-03-10T20:18:01.185568Z"
    }
   },
   "outputs": [
    {
     "data": {
      "text/latex": [
       "$\\displaystyle \\omega t \\cos{\\left(\\omega f{\\left(t \\right)} \\right)} \\frac{d}{d t} f{\\left(t \\right)} + \\sin{\\left(\\omega f{\\left(t \\right)} \\right)} + \\frac{\\frac{d}{d t} f{\\left(t \\right)}}{\\sqrt{t}} - \\frac{f{\\left(t \\right)}}{2 t^{\\frac{3}{2}}}$"
      ],
      "text/plain": [
       "                                         d                \n",
       "                                         ──(f(t))         \n",
       "                d                        dt          f(t) \n",
       "ω⋅t⋅cos(ω⋅f(t))⋅──(f(t)) + sin(ω⋅f(t)) + ──────── - ──────\n",
       "                dt                          √t         3/2\n",
       "                                                    2⋅t   "
      ]
     },
     "execution_count": 36,
     "metadata": {},
     "output_type": "execute_result"
    }
   ],
   "source": [
    "expr5.diff(t)"
   ]
  },
  {
   "cell_type": "code",
   "execution_count": 37,
   "id": "889d6402",
   "metadata": {
    "execution": {
     "iopub.execute_input": "2022-03-10T20:18:01.189156Z",
     "iopub.status.busy": "2022-03-10T20:18:01.188948Z",
     "iopub.status.idle": "2022-03-10T20:18:01.193169Z",
     "shell.execute_reply": "2022-03-10T20:18:01.192345Z"
    }
   },
   "outputs": [],
   "source": [
    "repl = {omega: sm.pi/4, a: 2, f(t): -12, b: 25}"
   ]
  },
  {
   "cell_type": "code",
   "execution_count": 38,
   "id": "499a9418",
   "metadata": {
    "execution": {
     "iopub.execute_input": "2022-03-10T20:18:01.196022Z",
     "iopub.status.busy": "2022-03-10T20:18:01.195826Z",
     "iopub.status.idle": "2022-03-10T20:18:01.206846Z",
     "shell.execute_reply": "2022-03-10T20:18:01.206067Z"
    }
   },
   "outputs": [
    {
     "data": {
      "text/latex": [
       "$\\displaystyle \\sqrt{2} + \\frac{12}{5}$"
      ],
      "text/plain": [
       "√2 + 12/5"
      ]
     },
     "execution_count": 38,
     "metadata": {},
     "output_type": "execute_result"
    }
   ],
   "source": [
    "expr3.xreplace(repl)"
   ]
  },
  {
   "cell_type": "code",
   "execution_count": 39,
   "id": "7af68f48",
   "metadata": {
    "execution": {
     "iopub.execute_input": "2022-03-10T20:18:01.210123Z",
     "iopub.status.busy": "2022-03-10T20:18:01.209928Z",
     "iopub.status.idle": "2022-03-10T20:18:01.217037Z",
     "shell.execute_reply": "2022-03-10T20:18:01.216282Z"
    }
   },
   "outputs": [
    {
     "data": {
      "text/latex": [
       "$\\displaystyle 3.81421356237309504880168872421$"
      ],
      "text/plain": [
       "3.814213562373095048801688724210"
      ]
     },
     "execution_count": 39,
     "metadata": {},
     "output_type": "execute_result"
    }
   ],
   "source": [
    "expr3.evalf(n=31, subs=repl)"
   ]
  },
  {
   "cell_type": "code",
   "execution_count": 40,
   "id": "f096537c",
   "metadata": {
    "execution": {
     "iopub.execute_input": "2022-03-10T20:18:01.220510Z",
     "iopub.status.busy": "2022-03-10T20:18:01.220183Z",
     "iopub.status.idle": "2022-03-10T20:18:01.226412Z",
     "shell.execute_reply": "2022-03-10T20:18:01.225849Z"
    }
   },
   "outputs": [
    {
     "data": {
      "text/plain": [
       "sympy.core.numbers.Float"
      ]
     },
     "execution_count": 40,
     "metadata": {},
     "output_type": "execute_result"
    }
   ],
   "source": [
    "type(expr3.evalf(n=31, subs=repl))"
   ]
  },
  {
   "cell_type": "code",
   "execution_count": 41,
   "id": "f507a7d9",
   "metadata": {
    "execution": {
     "iopub.execute_input": "2022-03-10T20:18:01.229612Z",
     "iopub.status.busy": "2022-03-10T20:18:01.229260Z",
     "iopub.status.idle": "2022-03-10T20:18:01.236261Z",
     "shell.execute_reply": "2022-03-10T20:18:01.235618Z"
    }
   },
   "outputs": [
    {
     "data": {
      "text/latex": [
       "$\\displaystyle 3.81421356237309504880168872420969807856967187537694807317667973799073247846210703885038753432764157273501384623091229702492483605585073721264412149709993583141322266592750559275579995050115278206057147010955997160597027453459686201472851741864088919860955232923048430871432145083976260362799525140799$"
      ],
      "text/plain": [
       "3.8142135623730950488016887242096980785696718753769480731766797379907324784621\n",
       "070388503875343276415727350138462309122970249248360558507372126441214970999358\n",
       "314132226659275055927557999505011527820605714701095599716059702745345968620147\n",
       "2851741864088919860955232923048430871432145083976260362799525140799"
      ]
     },
     "execution_count": 41,
     "metadata": {},
     "output_type": "execute_result"
    }
   ],
   "source": [
    "expr3.evalf(n=300, subs=repl)"
   ]
  },
  {
   "cell_type": "code",
   "execution_count": 42,
   "id": "3d14c89a",
   "metadata": {
    "execution": {
     "iopub.execute_input": "2022-03-10T20:18:01.239513Z",
     "iopub.status.busy": "2022-03-10T20:18:01.239329Z",
     "iopub.status.idle": "2022-03-10T20:18:01.247171Z",
     "shell.execute_reply": "2022-03-10T20:18:01.246363Z"
    }
   },
   "outputs": [
    {
     "data": {
      "text/latex": [
       "$\\displaystyle 3.81421356237309$"
      ],
      "text/plain": [
       "3.814213562373095"
      ]
     },
     "execution_count": 42,
     "metadata": {},
     "output_type": "execute_result"
    }
   ],
   "source": [
    "float(expr3.evalf(n=300, subs=repl))"
   ]
  },
  {
   "cell_type": "code",
   "execution_count": 43,
   "id": "ef43845a",
   "metadata": {
    "execution": {
     "iopub.execute_input": "2022-03-10T20:18:01.250473Z",
     "iopub.status.busy": "2022-03-10T20:18:01.250282Z",
     "iopub.status.idle": "2022-03-10T20:18:01.256357Z",
     "shell.execute_reply": "2022-03-10T20:18:01.255815Z"
    }
   },
   "outputs": [
    {
     "data": {
      "text/plain": [
       "float"
      ]
     },
     "execution_count": 43,
     "metadata": {},
     "output_type": "execute_result"
    }
   ],
   "source": [
    "type(float(expr3.evalf(n=300, subs=repl)))"
   ]
  },
  {
   "cell_type": "code",
   "execution_count": 44,
   "id": "628ca8a1",
   "metadata": {
    "execution": {
     "iopub.execute_input": "2022-03-10T20:18:01.259037Z",
     "iopub.status.busy": "2022-03-10T20:18:01.258620Z",
     "iopub.status.idle": "2022-03-10T20:18:01.403235Z",
     "shell.execute_reply": "2022-03-10T20:18:01.402482Z"
    }
   },
   "outputs": [],
   "source": [
    "eval_expr3 = sm.lambdify((omega, a, f(t), b), expr3)"
   ]
  },
  {
   "cell_type": "code",
   "execution_count": 45,
   "id": "9926e1b5",
   "metadata": {
    "execution": {
     "iopub.execute_input": "2022-03-10T20:18:01.406588Z",
     "iopub.status.busy": "2022-03-10T20:18:01.406135Z",
     "iopub.status.idle": "2022-03-10T20:18:01.410323Z",
     "shell.execute_reply": "2022-03-10T20:18:01.409785Z"
    }
   },
   "outputs": [
    {
     "name": "stdout",
     "output_type": "stream",
     "text": [
      "Help on function _lambdifygenerated:\n",
      "\n",
      "_lambdifygenerated(omega, a, _Dummy_23, b)\n",
      "    Created with lambdify. Signature:\n",
      "    \n",
      "    func(omega, a, f, b)\n",
      "    \n",
      "    Expression:\n",
      "    \n",
      "    a*sin(omega) + Abs(f(t))/sqrt(b)\n",
      "    \n",
      "    Source code:\n",
      "    \n",
      "    def _lambdifygenerated(omega, a, _Dummy_23, b):\n",
      "        return a*sin(omega) + abs(_Dummy_23)/sqrt(b)\n",
      "    \n",
      "    \n",
      "    Imported modules:\n",
      "\n"
     ]
    }
   ],
   "source": [
    "help(eval_expr3)"
   ]
  },
  {
   "cell_type": "code",
   "execution_count": 46,
   "id": "a75280cb",
   "metadata": {
    "execution": {
     "iopub.execute_input": "2022-03-10T20:18:01.414070Z",
     "iopub.status.busy": "2022-03-10T20:18:01.412755Z",
     "iopub.status.idle": "2022-03-10T20:18:01.420056Z",
     "shell.execute_reply": "2022-03-10T20:18:01.419437Z"
    }
   },
   "outputs": [
    {
     "data": {
      "text/latex": [
       "$\\displaystyle 3.81365036221073$"
      ],
      "text/plain": [
       "3.8136503622107316"
      ]
     },
     "execution_count": 46,
     "metadata": {},
     "output_type": "execute_result"
    }
   ],
   "source": [
    "eval_expr3(3.14/4, 2, -12, 25)"
   ]
  },
  {
   "cell_type": "code",
   "execution_count": 47,
   "id": "bc878db6",
   "metadata": {
    "execution": {
     "iopub.execute_input": "2022-03-10T20:18:01.423475Z",
     "iopub.status.busy": "2022-03-10T20:18:01.423266Z",
     "iopub.status.idle": "2022-03-10T20:18:01.429799Z",
     "shell.execute_reply": "2022-03-10T20:18:01.429162Z"
    }
   },
   "outputs": [
    {
     "data": {
      "text/plain": [
       "numpy.float64"
      ]
     },
     "execution_count": 47,
     "metadata": {},
     "output_type": "execute_result"
    }
   ],
   "source": [
    "type(eval_expr3(3.14/4, 2, -12, 25))"
   ]
  },
  {
   "cell_type": "code",
   "execution_count": 48,
   "id": "6ab67695",
   "metadata": {
    "execution": {
     "iopub.execute_input": "2022-03-10T20:18:01.433483Z",
     "iopub.status.busy": "2022-03-10T20:18:01.433280Z",
     "iopub.status.idle": "2022-03-10T20:18:01.441926Z",
     "shell.execute_reply": "2022-03-10T20:18:01.441341Z"
    }
   },
   "outputs": [
    {
     "data": {
      "text/latex": [
       "$\\displaystyle \\left[\\begin{matrix}a & 2 a\\\\\\frac{b}{\\omega} & f{\\left(t \\right)}\\end{matrix}\\right]$"
      ],
      "text/plain": [
       "⎡a  2⋅a ⎤\n",
       "⎢       ⎥\n",
       "⎢b      ⎥\n",
       "⎢─  f(t)⎥\n",
       "⎣ω      ⎦"
      ]
     },
     "execution_count": 48,
     "metadata": {},
     "output_type": "execute_result"
    }
   ],
   "source": [
    "mat1 = sm.Matrix([[a, 2*a], [b/omega, f(t)]])\n",
    "mat1"
   ]
  },
  {
   "cell_type": "code",
   "execution_count": 49,
   "id": "d90536d1",
   "metadata": {
    "execution": {
     "iopub.execute_input": "2022-03-10T20:18:01.445902Z",
     "iopub.status.busy": "2022-03-10T20:18:01.445667Z",
     "iopub.status.idle": "2022-03-10T20:18:01.453929Z",
     "shell.execute_reply": "2022-03-10T20:18:01.453164Z"
    }
   },
   "outputs": [
    {
     "data": {
      "text/latex": [
       "$\\displaystyle \\left[\\begin{matrix}1 & 2\\\\3 & 4\\end{matrix}\\right]$"
      ],
      "text/plain": [
       "⎡1  2⎤\n",
       "⎢    ⎥\n",
       "⎣3  4⎦"
      ]
     },
     "execution_count": 49,
     "metadata": {},
     "output_type": "execute_result"
    }
   ],
   "source": [
    "mat2 = sm.Matrix([[1, 2], [3, 4]])\n",
    "mat2"
   ]
  },
  {
   "cell_type": "code",
   "execution_count": 50,
   "id": "0073e125",
   "metadata": {
    "execution": {
     "iopub.execute_input": "2022-03-10T20:18:01.457291Z",
     "iopub.status.busy": "2022-03-10T20:18:01.457085Z",
     "iopub.status.idle": "2022-03-10T20:18:01.464629Z",
     "shell.execute_reply": "2022-03-10T20:18:01.463798Z"
    }
   },
   "outputs": [
    {
     "data": {
      "text/latex": [
       "$\\displaystyle \\left( 2, \\  2\\right)$"
      ],
      "text/plain": [
       "(2, 2)"
      ]
     },
     "execution_count": 50,
     "metadata": {},
     "output_type": "execute_result"
    }
   ],
   "source": [
    "mat1.shape"
   ]
  },
  {
   "cell_type": "code",
   "execution_count": 51,
   "id": "95629c13",
   "metadata": {
    "execution": {
     "iopub.execute_input": "2022-03-10T20:18:01.467718Z",
     "iopub.status.busy": "2022-03-10T20:18:01.467459Z",
     "iopub.status.idle": "2022-03-10T20:18:01.474731Z",
     "shell.execute_reply": "2022-03-10T20:18:01.473889Z"
    }
   },
   "outputs": [
    {
     "data": {
      "text/latex": [
       "$\\displaystyle 2 a$"
      ],
      "text/plain": [
       "2⋅a"
      ]
     },
     "execution_count": 51,
     "metadata": {},
     "output_type": "execute_result"
    }
   ],
   "source": [
    "mat1[0, 1]"
   ]
  },
  {
   "cell_type": "code",
   "execution_count": 52,
   "id": "2e1d57c3",
   "metadata": {
    "execution": {
     "iopub.execute_input": "2022-03-10T20:18:01.477892Z",
     "iopub.status.busy": "2022-03-10T20:18:01.477694Z",
     "iopub.status.idle": "2022-03-10T20:18:01.485496Z",
     "shell.execute_reply": "2022-03-10T20:18:01.484846Z"
    }
   },
   "outputs": [
    {
     "data": {
      "text/latex": [
       "$\\displaystyle \\left[\\begin{matrix}a & 2 a\\end{matrix}\\right]$"
      ],
      "text/plain": [
       "[a  2⋅a]"
      ]
     },
     "execution_count": 52,
     "metadata": {},
     "output_type": "execute_result"
    }
   ],
   "source": [
    "mat1[0, 0:2]"
   ]
  },
  {
   "cell_type": "code",
   "execution_count": 53,
   "id": "819d56b5",
   "metadata": {
    "execution": {
     "iopub.execute_input": "2022-03-10T20:18:01.488402Z",
     "iopub.status.busy": "2022-03-10T20:18:01.488203Z",
     "iopub.status.idle": "2022-03-10T20:18:01.495942Z",
     "shell.execute_reply": "2022-03-10T20:18:01.495223Z"
    }
   },
   "outputs": [
    {
     "data": {
      "text/latex": [
       "$\\displaystyle \\left[\\begin{matrix}2 a\\\\f{\\left(t \\right)}\\end{matrix}\\right]$"
      ],
      "text/plain": [
       "⎡2⋅a ⎤\n",
       "⎢    ⎥\n",
       "⎣f(t)⎦"
      ]
     },
     "execution_count": 53,
     "metadata": {},
     "output_type": "execute_result"
    }
   ],
   "source": [
    "mat1[0:2, 1]"
   ]
  },
  {
   "cell_type": "code",
   "execution_count": 54,
   "id": "60a46ef9",
   "metadata": {
    "execution": {
     "iopub.execute_input": "2022-03-10T20:18:01.499025Z",
     "iopub.status.busy": "2022-03-10T20:18:01.498818Z",
     "iopub.status.idle": "2022-03-10T20:18:01.510082Z",
     "shell.execute_reply": "2022-03-10T20:18:01.509309Z"
    }
   },
   "outputs": [
    {
     "data": {
      "text/latex": [
       "$\\displaystyle \\left[\\begin{matrix}a + 1 & 2 a + 2\\\\\\frac{b}{\\omega} + 3 & f{\\left(t \\right)} + 4\\end{matrix}\\right]$"
      ],
      "text/plain": [
       "⎡a + 1  2⋅a + 2 ⎤\n",
       "⎢               ⎥\n",
       "⎢b              ⎥\n",
       "⎢─ + 3  f(t) + 4⎥\n",
       "⎣ω              ⎦"
      ]
     },
     "execution_count": 54,
     "metadata": {},
     "output_type": "execute_result"
    }
   ],
   "source": [
    "mat1 + mat2"
   ]
  },
  {
   "cell_type": "code",
   "execution_count": 55,
   "id": "f0f0f332",
   "metadata": {
    "execution": {
     "iopub.execute_input": "2022-03-10T20:18:01.513955Z",
     "iopub.status.busy": "2022-03-10T20:18:01.513270Z",
     "iopub.status.idle": "2022-03-10T20:18:01.566911Z",
     "shell.execute_reply": "2022-03-10T20:18:01.566334Z"
    }
   },
   "outputs": [
    {
     "data": {
      "text/latex": [
       "$\\displaystyle \\left[\\begin{matrix}7 a & 10 a\\\\\\frac{b}{\\omega} + 3 f{\\left(t \\right)} & \\frac{2 b}{\\omega} + 4 f{\\left(t \\right)}\\end{matrix}\\right]$"
      ],
      "text/plain": [
       "⎡   7⋅a          10⋅a    ⎤\n",
       "⎢                        ⎥\n",
       "⎢b           2⋅b         ⎥\n",
       "⎢─ + 3⋅f(t)  ─── + 4⋅f(t)⎥\n",
       "⎣ω            ω          ⎦"
      ]
     },
     "execution_count": 55,
     "metadata": {},
     "output_type": "execute_result"
    }
   ],
   "source": [
    "mat1*mat2"
   ]
  },
  {
   "cell_type": "code",
   "execution_count": 56,
   "id": "c8587812",
   "metadata": {
    "execution": {
     "iopub.execute_input": "2022-03-10T20:18:01.570145Z",
     "iopub.status.busy": "2022-03-10T20:18:01.569641Z",
     "iopub.status.idle": "2022-03-10T20:18:01.580401Z",
     "shell.execute_reply": "2022-03-10T20:18:01.579785Z"
    }
   },
   "outputs": [
    {
     "data": {
      "text/latex": [
       "$\\displaystyle \\left[\\begin{matrix}7 a & 10 a\\\\\\frac{b}{\\omega} + 3 f{\\left(t \\right)} & \\frac{2 b}{\\omega} + 4 f{\\left(t \\right)}\\end{matrix}\\right]$"
      ],
      "text/plain": [
       "⎡   7⋅a          10⋅a    ⎤\n",
       "⎢                        ⎥\n",
       "⎢b           2⋅b         ⎥\n",
       "⎢─ + 3⋅f(t)  ─── + 4⋅f(t)⎥\n",
       "⎣ω            ω          ⎦"
      ]
     },
     "execution_count": 56,
     "metadata": {},
     "output_type": "execute_result"
    }
   ],
   "source": [
    "mat1@mat2"
   ]
  },
  {
   "cell_type": "code",
   "execution_count": 57,
   "id": "a6b55113",
   "metadata": {
    "execution": {
     "iopub.execute_input": "2022-03-10T20:18:01.583404Z",
     "iopub.status.busy": "2022-03-10T20:18:01.582843Z",
     "iopub.status.idle": "2022-03-10T20:18:01.593793Z",
     "shell.execute_reply": "2022-03-10T20:18:01.593173Z"
    }
   },
   "outputs": [
    {
     "data": {
      "text/latex": [
       "$\\displaystyle \\left[\\begin{matrix}a & 4 a\\\\\\frac{3 b}{\\omega} & 4 f{\\left(t \\right)}\\end{matrix}\\right]$"
      ],
      "text/plain": [
       "⎡ a    4⋅a  ⎤\n",
       "⎢           ⎥\n",
       "⎢3⋅b        ⎥\n",
       "⎢───  4⋅f(t)⎥\n",
       "⎣ ω         ⎦"
      ]
     },
     "execution_count": 57,
     "metadata": {},
     "output_type": "execute_result"
    }
   ],
   "source": [
    "sm.hadamard_product(mat1, mat2)"
   ]
  },
  {
   "cell_type": "code",
   "execution_count": 58,
   "id": "dc1e6cd6",
   "metadata": {
    "execution": {
     "iopub.execute_input": "2022-03-10T20:18:01.597046Z",
     "iopub.status.busy": "2022-03-10T20:18:01.596441Z",
     "iopub.status.idle": "2022-03-10T20:18:01.609946Z",
     "shell.execute_reply": "2022-03-10T20:18:01.609341Z"
    }
   },
   "outputs": [
    {
     "data": {
      "text/latex": [
       "$\\displaystyle \\left[\\begin{matrix}a + \\frac{b}{\\omega^{2}}\\\\a \\omega + f{\\left(t \\right)}\\\\a \\sin{\\left(\\omega \\right)} + \\frac{\\left|{f{\\left(t \\right)}}\\right|}{\\sqrt{b}}\\\\5 \\sin{\\left(12 \\right)} + 105.986768359379\\\\t \\sin{\\left(\\omega f{\\left(t \\right)} \\right)} + \\frac{f{\\left(t \\right)}}{\\sqrt{t}}\\end{matrix}\\right]$"
      ],
      "text/plain": [
       "⎡               b            ⎤\n",
       "⎢           a + ──           ⎥\n",
       "⎢                2           ⎥\n",
       "⎢               ω            ⎥\n",
       "⎢                            ⎥\n",
       "⎢         a⋅ω + f(t)         ⎥\n",
       "⎢                            ⎥\n",
       "⎢                │f(t)│      ⎥\n",
       "⎢     a⋅sin(ω) + ──────      ⎥\n",
       "⎢                  √b        ⎥\n",
       "⎢                            ⎥\n",
       "⎢5⋅sin(12) + 105.986768359379⎥\n",
       "⎢                            ⎥\n",
       "⎢                    f(t)    ⎥\n",
       "⎢    t⋅sin(ω⋅f(t)) + ────    ⎥\n",
       "⎣                     √t     ⎦"
      ]
     },
     "execution_count": 58,
     "metadata": {},
     "output_type": "execute_result"
    }
   ],
   "source": [
    "mat3 = sm.Matrix([expr1, expr2, expr3, expr4, expr5])\n",
    "mat3"
   ]
  },
  {
   "cell_type": "code",
   "execution_count": 59,
   "id": "c91d43e2",
   "metadata": {
    "execution": {
     "iopub.execute_input": "2022-03-10T20:18:01.612538Z",
     "iopub.status.busy": "2022-03-10T20:18:01.612335Z",
     "iopub.status.idle": "2022-03-10T20:18:01.632378Z",
     "shell.execute_reply": "2022-03-10T20:18:01.631664Z"
    }
   },
   "outputs": [
    {
     "data": {
      "text/latex": [
       "$\\displaystyle \\left[\\begin{matrix}1\\\\\\omega\\\\\\sin{\\left(\\omega \\right)}\\\\0\\\\0\\end{matrix}\\right]$"
      ],
      "text/plain": [
       "⎡  1   ⎤\n",
       "⎢      ⎥\n",
       "⎢  ω   ⎥\n",
       "⎢      ⎥\n",
       "⎢sin(ω)⎥\n",
       "⎢      ⎥\n",
       "⎢  0   ⎥\n",
       "⎢      ⎥\n",
       "⎣  0   ⎦"
      ]
     },
     "execution_count": 59,
     "metadata": {},
     "output_type": "execute_result"
    }
   ],
   "source": [
    "mat3.diff(a)"
   ]
  },
  {
   "cell_type": "code",
   "execution_count": 60,
   "id": "4c7f9db6",
   "metadata": {
    "execution": {
     "iopub.execute_input": "2022-03-10T20:18:01.635348Z",
     "iopub.status.busy": "2022-03-10T20:18:01.635116Z",
     "iopub.status.idle": "2022-03-10T20:18:01.656647Z",
     "shell.execute_reply": "2022-03-10T20:18:01.655942Z"
    }
   },
   "outputs": [
    {
     "data": {
      "text/latex": [
       "$\\displaystyle \\left[\\begin{matrix}0\\\\\\frac{d}{d t} f{\\left(t \\right)}\\\\\\frac{\\left(\\operatorname{re}{\\left(f{\\left(t \\right)}\\right)} \\frac{d}{d t} \\operatorname{re}{\\left(f{\\left(t \\right)}\\right)} + \\operatorname{im}{\\left(f{\\left(t \\right)}\\right)} \\frac{d}{d t} \\operatorname{im}{\\left(f{\\left(t \\right)}\\right)}\\right) \\operatorname{sign}{\\left(f{\\left(t \\right)} \\right)}}{\\sqrt{b} f{\\left(t \\right)}}\\\\0\\\\\\omega t \\cos{\\left(\\omega f{\\left(t \\right)} \\right)} \\frac{d}{d t} f{\\left(t \\right)} + \\sin{\\left(\\omega f{\\left(t \\right)} \\right)} + \\frac{\\frac{d}{d t} f{\\left(t \\right)}}{\\sqrt{t}} - \\frac{f{\\left(t \\right)}}{2 t^{\\frac{3}{2}}}\\end{matrix}\\right]$"
      ],
      "text/plain": [
       "⎡                            0                             ⎤\n",
       "⎢                                                          ⎥\n",
       "⎢                         d                                ⎥\n",
       "⎢                         ──(f(t))                         ⎥\n",
       "⎢                         dt                               ⎥\n",
       "⎢                                                          ⎥\n",
       "⎢⎛         d                       d           ⎞           ⎥\n",
       "⎢⎜re(f(t))⋅──(re(f(t))) + im(f(t))⋅──(im(f(t)))⎟⋅sign(f(t))⎥\n",
       "⎢⎝         dt                      dt          ⎠           ⎥\n",
       "⎢──────────────────────────────────────────────────────────⎥\n",
       "⎢                         √b⋅f(t)                          ⎥\n",
       "⎢                                                          ⎥\n",
       "⎢                            0                             ⎥\n",
       "⎢                                                          ⎥\n",
       "⎢                                         d                ⎥\n",
       "⎢                                         ──(f(t))         ⎥\n",
       "⎢                d                        dt          f(t) ⎥\n",
       "⎢ω⋅t⋅cos(ω⋅f(t))⋅──(f(t)) + sin(ω⋅f(t)) + ──────── - ──────⎥\n",
       "⎢                dt                          √t         3/2⎥\n",
       "⎣                                                    2⋅t   ⎦"
      ]
     },
     "execution_count": 60,
     "metadata": {},
     "output_type": "execute_result"
    }
   ],
   "source": [
    "mat3.diff(t)"
   ]
  },
  {
   "cell_type": "code",
   "execution_count": 61,
   "id": "27caecd2",
   "metadata": {
    "execution": {
     "iopub.execute_input": "2022-03-10T20:18:01.659726Z",
     "iopub.status.busy": "2022-03-10T20:18:01.659507Z",
     "iopub.status.idle": "2022-03-10T20:18:01.665907Z",
     "shell.execute_reply": "2022-03-10T20:18:01.665014Z"
    }
   },
   "outputs": [
    {
     "data": {
      "text/latex": [
       "$\\displaystyle \\left[\\begin{matrix}a\\\\b\\\\\\omega\\\\t\\end{matrix}\\right]$"
      ],
      "text/plain": [
       "⎡a⎤\n",
       "⎢ ⎥\n",
       "⎢b⎥\n",
       "⎢ ⎥\n",
       "⎢ω⎥\n",
       "⎢ ⎥\n",
       "⎣t⎦"
      ]
     },
     "execution_count": 61,
     "metadata": {},
     "output_type": "execute_result"
    }
   ],
   "source": [
    "mat4 = sm.Matrix([a, b, omega, t])\n",
    "mat4"
   ]
  },
  {
   "cell_type": "code",
   "execution_count": 62,
   "id": "eb00c69d",
   "metadata": {
    "execution": {
     "iopub.execute_input": "2022-03-10T20:18:01.669223Z",
     "iopub.status.busy": "2022-03-10T20:18:01.669027Z",
     "iopub.status.idle": "2022-03-10T20:18:01.701602Z",
     "shell.execute_reply": "2022-03-10T20:18:01.700987Z"
    }
   },
   "outputs": [
    {
     "data": {
      "text/latex": [
       "$\\displaystyle \\left[\\begin{matrix}1 & \\frac{1}{\\omega^{2}} & - \\frac{2 b}{\\omega^{3}} & 0\\\\\\omega & 0 & a & \\frac{d}{d t} f{\\left(t \\right)}\\\\\\sin{\\left(\\omega \\right)} & - \\frac{\\left|{f{\\left(t \\right)}}\\right|}{2 b^{\\frac{3}{2}}} & a \\cos{\\left(\\omega \\right)} & \\frac{\\left(\\operatorname{re}{\\left(f{\\left(t \\right)}\\right)} \\frac{d}{d t} \\operatorname{re}{\\left(f{\\left(t \\right)}\\right)} + \\operatorname{im}{\\left(f{\\left(t \\right)}\\right)} \\frac{d}{d t} \\operatorname{im}{\\left(f{\\left(t \\right)}\\right)}\\right) \\operatorname{sign}{\\left(f{\\left(t \\right)} \\right)}}{\\sqrt{b} f{\\left(t \\right)}}\\\\0 & 0 & 0 & 0\\\\0 & 0 & t f{\\left(t \\right)} \\cos{\\left(\\omega f{\\left(t \\right)} \\right)} & \\omega t \\cos{\\left(\\omega f{\\left(t \\right)} \\right)} \\frac{d}{d t} f{\\left(t \\right)} + \\sin{\\left(\\omega f{\\left(t \\right)} \\right)} + \\frac{\\frac{d}{d t} f{\\left(t \\right)}}{\\sqrt{t}} - \\frac{f{\\left(t \\right)}}{2 t^{\\frac{3}{2}}}\\end{matrix}\\right]$"
      ],
      "text/plain": [
       "⎡           1            -2⋅b                                                 \n",
       "⎢  1        ──           ─────                                     0          \n",
       "⎢            2              3                                                 \n",
       "⎢           ω              ω                                                  \n",
       "⎢                                                                             \n",
       "⎢                                                               d             \n",
       "⎢  ω        0              a                                    ──(f(t))      \n",
       "⎢                                                               dt            \n",
       "⎢                                                                             \n",
       "⎢                                      ⎛         d                       d    \n",
       "⎢                                      ⎜re(f(t))⋅──(re(f(t))) + im(f(t))⋅──(im\n",
       "⎢        -│f(t)│                       ⎝         dt                      dt   \n",
       "⎢sin(ω)  ────────       a⋅cos(ω)       ───────────────────────────────────────\n",
       "⎢            3/2                                                √b⋅f(t)       \n",
       "⎢         2⋅b                                                                 \n",
       "⎢                                                                             \n",
       "⎢  0        0              0                                       0          \n",
       "⎢                                                                             \n",
       "⎢                                                                             \n",
       "⎢                                                                             \n",
       "⎢                                                      d                      \n",
       "⎢  0        0      t⋅f(t)⋅cos(ω⋅f(t))  ω⋅t⋅cos(ω⋅f(t))⋅──(f(t)) + sin(ω⋅f(t)) \n",
       "⎢                                                      dt                     \n",
       "⎣                                                                             \n",
       "\n",
       "                   ⎤\n",
       "                   ⎥\n",
       "                   ⎥\n",
       "                   ⎥\n",
       "                   ⎥\n",
       "                   ⎥\n",
       "                   ⎥\n",
       "                   ⎥\n",
       "                   ⎥\n",
       "       ⎞           ⎥\n",
       "(f(t)))⎟⋅sign(f(t))⎥\n",
       "       ⎠           ⎥\n",
       "───────────────────⎥\n",
       "                   ⎥\n",
       "                   ⎥\n",
       "                   ⎥\n",
       "                   ⎥\n",
       "                   ⎥\n",
       "  d                ⎥\n",
       "  ──(f(t))         ⎥\n",
       "  dt          f(t) ⎥\n",
       "+ ──────── - ──────⎥\n",
       "     √t         3/2⎥\n",
       "             2⋅t   ⎦"
      ]
     },
     "execution_count": 62,
     "metadata": {},
     "output_type": "execute_result"
    }
   ],
   "source": [
    "mat3.jacobian(mat4)"
   ]
  },
  {
   "cell_type": "code",
   "execution_count": 63,
   "id": "2dfed1a5",
   "metadata": {
    "execution": {
     "iopub.execute_input": "2022-03-10T20:18:01.704578Z",
     "iopub.status.busy": "2022-03-10T20:18:01.704212Z",
     "iopub.status.idle": "2022-03-10T20:18:01.727460Z",
     "shell.execute_reply": "2022-03-10T20:18:01.726767Z"
    }
   },
   "outputs": [
    {
     "data": {
      "text/latex": [
       "$\\displaystyle \\left[\\begin{matrix}a_{1} \\sin{\\left(f{\\left(t \\right)} \\right)} \\cos{\\left(2 f{\\left(t \\right)} \\right)} + a_{2} + \\frac{\\omega \\log{\\left(t \\right)}}{\\log{\\left(f{\\left(t \\right)} \\right)}} + 100\\\\a_{1} \\omega^{2} + a_{2} f{\\left(t \\right)} + \\omega + f^{3}{\\left(t \\right)}\\end{matrix}\\right]$"
      ],
      "text/plain": [
       "⎡                                 ω⋅log(t)      ⎤\n",
       "⎢a₁⋅sin(f(t))⋅cos(2⋅f(t)) + a₂ + ───────── + 100⎥\n",
       "⎢                                log(f(t))      ⎥\n",
       "⎢                                               ⎥\n",
       "⎢              2                  3             ⎥\n",
       "⎣          a₁⋅ω  + a₂⋅f(t) + ω + f (t)          ⎦"
      ]
     },
     "execution_count": 63,
     "metadata": {},
     "output_type": "execute_result"
    }
   ],
   "source": [
    "a1, a2 = sm.symbols('a1, a2')\n",
    "\n",
    "exprs = sm.Matrix([\n",
    "    [a1*sm.sin(f(t))*sm.cos(2*f(t)) + a2 + omega/sm.log(f(t), t) + 100],\n",
    "    [a1*omega**2 + f(t)*a2 + omega + f(t)**3],\n",
    "])\n",
    "exprs"
   ]
  },
  {
   "cell_type": "code",
   "execution_count": 64,
   "id": "6b20283e",
   "metadata": {
    "execution": {
     "iopub.execute_input": "2022-03-10T20:18:01.730223Z",
     "iopub.status.busy": "2022-03-10T20:18:01.730038Z",
     "iopub.status.idle": "2022-03-10T20:18:01.742395Z",
     "shell.execute_reply": "2022-03-10T20:18:01.741827Z"
    }
   },
   "outputs": [
    {
     "data": {
      "text/latex": [
       "$\\displaystyle \\left[\\begin{matrix}\\sin{\\left(f{\\left(t \\right)} \\right)} \\cos{\\left(2 f{\\left(t \\right)} \\right)} & 1\\\\\\omega^{2} & f{\\left(t \\right)}\\end{matrix}\\right]$"
      ],
      "text/plain": [
       "⎡sin(f(t))⋅cos(2⋅f(t))   1  ⎤\n",
       "⎢                           ⎥\n",
       "⎢          2                ⎥\n",
       "⎣         ω             f(t)⎦"
      ]
     },
     "execution_count": 64,
     "metadata": {},
     "output_type": "execute_result"
    }
   ],
   "source": [
    "A = exprs.jacobian([a1, a2])\n",
    "A"
   ]
  },
  {
   "cell_type": "code",
   "execution_count": 65,
   "id": "3207f097",
   "metadata": {
    "execution": {
     "iopub.execute_input": "2022-03-10T20:18:01.745227Z",
     "iopub.status.busy": "2022-03-10T20:18:01.744746Z",
     "iopub.status.idle": "2022-03-10T20:18:01.755812Z",
     "shell.execute_reply": "2022-03-10T20:18:01.755137Z"
    }
   },
   "outputs": [
    {
     "data": {
      "text/latex": [
       "$\\displaystyle \\left[\\begin{matrix}- \\frac{\\omega \\log{\\left(t \\right)}}{\\log{\\left(f{\\left(t \\right)} \\right)}} - 100\\\\- \\omega - f^{3}{\\left(t \\right)}\\end{matrix}\\right]$"
      ],
      "text/plain": [
       "⎡   ω⋅log(t)      ⎤\n",
       "⎢- ───────── - 100⎥\n",
       "⎢  log(f(t))      ⎥\n",
       "⎢                 ⎥\n",
       "⎢         3       ⎥\n",
       "⎣   -ω - f (t)    ⎦"
      ]
     },
     "execution_count": 65,
     "metadata": {},
     "output_type": "execute_result"
    }
   ],
   "source": [
    "b = -exprs.xreplace({a1: 0, a2:0})\n",
    "b"
   ]
  },
  {
   "cell_type": "code",
   "execution_count": 66,
   "id": "078aa194",
   "metadata": {
    "execution": {
     "iopub.execute_input": "2022-03-10T20:18:01.758702Z",
     "iopub.status.busy": "2022-03-10T20:18:01.758496Z",
     "iopub.status.idle": "2022-03-10T20:18:01.800194Z",
     "shell.execute_reply": "2022-03-10T20:18:01.799574Z"
    }
   },
   "outputs": [
    {
     "data": {
      "text/latex": [
       "$\\displaystyle \\left[\\begin{matrix}\\frac{- \\frac{\\omega \\log{\\left(t \\right)}}{\\log{\\left(f{\\left(t \\right)} \\right)}} - 100 - \\frac{- \\frac{\\omega^{2} \\left(- \\frac{\\omega \\log{\\left(t \\right)}}{\\log{\\left(f{\\left(t \\right)} \\right)}} - 100\\right)}{\\sin{\\left(f{\\left(t \\right)} \\right)} \\cos{\\left(2 f{\\left(t \\right)} \\right)}} - \\omega - f^{3}{\\left(t \\right)}}{- \\frac{\\omega^{2}}{\\sin{\\left(f{\\left(t \\right)} \\right)} \\cos{\\left(2 f{\\left(t \\right)} \\right)}} + f{\\left(t \\right)}}}{\\sin{\\left(f{\\left(t \\right)} \\right)} \\cos{\\left(2 f{\\left(t \\right)} \\right)}}\\\\\\frac{- \\frac{\\omega^{2} \\left(- \\frac{\\omega \\log{\\left(t \\right)}}{\\log{\\left(f{\\left(t \\right)} \\right)}} - 100\\right)}{\\sin{\\left(f{\\left(t \\right)} \\right)} \\cos{\\left(2 f{\\left(t \\right)} \\right)}} - \\omega - f^{3}{\\left(t \\right)}}{- \\frac{\\omega^{2}}{\\sin{\\left(f{\\left(t \\right)} \\right)} \\cos{\\left(2 f{\\left(t \\right)} \\right)}} + f{\\left(t \\right)}}\\end{matrix}\\right]$"
      ],
      "text/plain": [
       "⎡                       2 ⎛   ω⋅log(t)      ⎞            ⎤\n",
       "⎢                      ω ⋅⎜- ───────── - 100⎟            ⎥\n",
       "⎢                         ⎝  log(f(t))      ⎠        3   ⎥\n",
       "⎢                    - ────────────────────── - ω - f (t)⎥\n",
       "⎢   ω⋅log(t)           sin(f(t))⋅cos(2⋅f(t))             ⎥\n",
       "⎢- ───────── - 100 - ────────────────────────────────────⎥\n",
       "⎢  log(f(t))                         2                   ⎥\n",
       "⎢                                   ω                    ⎥\n",
       "⎢                       - ───────────────────── + f(t)   ⎥\n",
       "⎢                         sin(f(t))⋅cos(2⋅f(t))          ⎥\n",
       "⎢────────────────────────────────────────────────────────⎥\n",
       "⎢                 sin(f(t))⋅cos(2⋅f(t))                  ⎥\n",
       "⎢                                                        ⎥\n",
       "⎢             2 ⎛   ω⋅log(t)      ⎞                      ⎥\n",
       "⎢            ω ⋅⎜- ───────── - 100⎟                      ⎥\n",
       "⎢               ⎝  log(f(t))      ⎠        3             ⎥\n",
       "⎢          - ────────────────────── - ω - f (t)          ⎥\n",
       "⎢            sin(f(t))⋅cos(2⋅f(t))                       ⎥\n",
       "⎢          ────────────────────────────────────          ⎥\n",
       "⎢                          2                             ⎥\n",
       "⎢                         ω                              ⎥\n",
       "⎢             - ───────────────────── + f(t)             ⎥\n",
       "⎣               sin(f(t))⋅cos(2⋅f(t))                    ⎦"
      ]
     },
     "execution_count": 66,
     "metadata": {},
     "output_type": "execute_result"
    }
   ],
   "source": [
    "A.LUsolve(b)"
   ]
  },
  {
   "cell_type": "code",
   "execution_count": 67,
   "id": "45aee93a",
   "metadata": {
    "execution": {
     "iopub.execute_input": "2022-03-10T20:18:01.803169Z",
     "iopub.status.busy": "2022-03-10T20:18:01.802708Z",
     "iopub.status.idle": "2022-03-10T20:18:02.933823Z",
     "shell.execute_reply": "2022-03-10T20:18:02.933093Z"
    }
   },
   "outputs": [
    {
     "data": {
      "text/latex": [
       "$\\displaystyle \\left[\\begin{matrix}\\frac{- \\omega f{\\left(t \\right)} \\log{\\left(t \\right)} + \\omega \\log{\\left(f{\\left(t \\right)} \\right)} + f^{3}{\\left(t \\right)} \\log{\\left(f{\\left(t \\right)} \\right)} - 100 f{\\left(t \\right)} \\log{\\left(f{\\left(t \\right)} \\right)}}{\\left(- \\omega^{2} + f{\\left(t \\right)} \\sin{\\left(f{\\left(t \\right)} \\right)} \\cos{\\left(2 f{\\left(t \\right)} \\right)}\\right) \\log{\\left(f{\\left(t \\right)} \\right)}}\\\\\\frac{- \\omega^{2} \\left(\\omega \\log{\\left(t \\right)} + 100 \\log{\\left(f{\\left(t \\right)} \\right)}\\right) + \\left(\\omega + f^{3}{\\left(t \\right)}\\right) \\log{\\left(f{\\left(t \\right)} \\right)} \\sin{\\left(f{\\left(t \\right)} \\right)} \\cos{\\left(2 f{\\left(t \\right)} \\right)}}{\\left(\\omega^{2} - f{\\left(t \\right)} \\sin{\\left(f{\\left(t \\right)} \\right)} \\cos{\\left(2 f{\\left(t \\right)} \\right)}\\right) \\log{\\left(f{\\left(t \\right)} \\right)}}\\end{matrix}\\right]$"
      ],
      "text/plain": [
       "⎡                                     3                                       \n",
       "⎢     -ω⋅f(t)⋅log(t) + ω⋅log(f(t)) + f (t)⋅log(f(t)) - 100⋅f(t)⋅log(f(t))     \n",
       "⎢     ───────────────────────────────────────────────────────────────────     \n",
       "⎢                ⎛   2                             ⎞                          \n",
       "⎢                ⎝- ω  + f(t)⋅sin(f(t))⋅cos(2⋅f(t))⎠⋅log(f(t))                \n",
       "⎢                                                                             \n",
       "⎢   2                              ⎛     3   ⎞                                \n",
       "⎢- ω ⋅(ω⋅log(t) + 100⋅log(f(t))) + ⎝ω + f (t)⎠⋅log(f(t))⋅sin(f(t))⋅cos(2⋅f(t))\n",
       "⎢─────────────────────────────────────────────────────────────────────────────\n",
       "⎢                 ⎛ 2                             ⎞                           \n",
       "⎣                 ⎝ω  - f(t)⋅sin(f(t))⋅cos(2⋅f(t))⎠⋅log(f(t))                 \n",
       "\n",
       "⎤\n",
       "⎥\n",
       "⎥\n",
       "⎥\n",
       "⎥\n",
       "⎥\n",
       "⎥\n",
       "⎥\n",
       "⎥\n",
       "⎥\n",
       "⎦"
      ]
     },
     "execution_count": 67,
     "metadata": {},
     "output_type": "execute_result"
    }
   ],
   "source": [
    "sm.simplify(A.LUsolve(b))"
   ]
  },
  {
   "cell_type": "code",
   "execution_count": 68,
   "id": "b68006d9",
   "metadata": {
    "execution": {
     "iopub.execute_input": "2022-03-10T20:18:02.936763Z",
     "iopub.status.busy": "2022-03-10T20:18:02.936564Z",
     "iopub.status.idle": "2022-03-10T20:18:02.974000Z",
     "shell.execute_reply": "2022-03-10T20:18:02.973204Z"
    }
   },
   "outputs": [
    {
     "data": {
      "text/latex": [
       "$\\displaystyle 1$"
      ],
      "text/plain": [
       "1"
      ]
     },
     "execution_count": 68,
     "metadata": {},
     "output_type": "execute_result"
    }
   ],
   "source": [
    "sm.trigsimp(sm.cos(omega)**2 + sm.sin(omega)**2)"
   ]
  },
  {
   "cell_type": "code",
   "execution_count": 69,
   "id": "b89bb0fa",
   "metadata": {
    "execution": {
     "iopub.execute_input": "2022-03-10T20:18:02.977338Z",
     "iopub.status.busy": "2022-03-10T20:18:02.976776Z",
     "iopub.status.idle": "2022-03-10T20:18:03.002226Z",
     "shell.execute_reply": "2022-03-10T20:18:03.001555Z"
    }
   },
   "outputs": [],
   "source": [
    "substitutions, simplified = sm.cse(A.LUsolve(b))"
   ]
  },
  {
   "cell_type": "code",
   "execution_count": 70,
   "id": "26b718b5",
   "metadata": {
    "execution": {
     "iopub.execute_input": "2022-03-10T20:18:03.004972Z",
     "iopub.status.busy": "2022-03-10T20:18:03.004707Z",
     "iopub.status.idle": "2022-03-10T20:18:03.010001Z",
     "shell.execute_reply": "2022-03-10T20:18:03.009304Z"
    }
   },
   "outputs": [
    {
     "data": {
      "text/latex": [
       "$\\displaystyle \\left( x_{0}, \\  f{\\left(t \\right)}\\right)$"
      ],
      "text/plain": [
       "(x₀, f(t))"
      ]
     },
     "execution_count": 70,
     "metadata": {},
     "output_type": "execute_result"
    }
   ],
   "source": [
    "substitutions[0]"
   ]
  },
  {
   "cell_type": "code",
   "execution_count": 71,
   "id": "df28eb53",
   "metadata": {
    "execution": {
     "iopub.execute_input": "2022-03-10T20:18:03.013808Z",
     "iopub.status.busy": "2022-03-10T20:18:03.013623Z",
     "iopub.status.idle": "2022-03-10T20:18:03.019425Z",
     "shell.execute_reply": "2022-03-10T20:18:03.018556Z"
    }
   },
   "outputs": [
    {
     "data": {
      "text/latex": [
       "$\\displaystyle x_{0} = f{\\left(t \\right)}$"
      ],
      "text/plain": [
       "x₀ = f(t)"
      ]
     },
     "execution_count": 71,
     "metadata": {},
     "output_type": "execute_result"
    }
   ],
   "source": [
    "sm.Eq(*substitutions[0])"
   ]
  },
  {
   "cell_type": "code",
   "execution_count": 72,
   "id": "d6f550a3",
   "metadata": {
    "execution": {
     "iopub.execute_input": "2022-03-10T20:18:03.023339Z",
     "iopub.status.busy": "2022-03-10T20:18:03.022351Z",
     "iopub.status.idle": "2022-03-10T20:18:03.035097Z",
     "shell.execute_reply": "2022-03-10T20:18:03.034396Z"
    }
   },
   "outputs": [
    {
     "data": {
      "text/latex": [
       "$\\displaystyle x_{1} = \\frac{1}{\\sin{\\left(x_{0} \\right)} \\cos{\\left(2 x_{0} \\right)}}$"
      ],
      "text/plain": [
       "             1        \n",
       "x₁ = ─────────────────\n",
       "     sin(x₀)⋅cos(2⋅x₀)"
      ]
     },
     "execution_count": 72,
     "metadata": {},
     "output_type": "execute_result"
    }
   ],
   "source": [
    "sm.Eq(*substitutions[1])"
   ]
  },
  {
   "cell_type": "code",
   "execution_count": 73,
   "id": "e0e476ef",
   "metadata": {
    "execution": {
     "iopub.execute_input": "2022-03-10T20:18:03.037902Z",
     "iopub.status.busy": "2022-03-10T20:18:03.037684Z",
     "iopub.status.idle": "2022-03-10T20:18:03.045252Z",
     "shell.execute_reply": "2022-03-10T20:18:03.044550Z"
    }
   },
   "outputs": [
    {
     "data": {
      "text/latex": [
       "$\\displaystyle x_{2} = \\omega^{2} x_{1}$"
      ],
      "text/plain": [
       "      2   \n",
       "x₂ = ω ⋅x₁"
      ]
     },
     "execution_count": 73,
     "metadata": {},
     "output_type": "execute_result"
    }
   ],
   "source": [
    "sm.Eq(*substitutions[2])"
   ]
  },
  {
   "cell_type": "code",
   "execution_count": 74,
   "id": "81eb59b6",
   "metadata": {
    "execution": {
     "iopub.execute_input": "2022-03-10T20:18:03.048779Z",
     "iopub.status.busy": "2022-03-10T20:18:03.048552Z",
     "iopub.status.idle": "2022-03-10T20:18:03.063242Z",
     "shell.execute_reply": "2022-03-10T20:18:03.062409Z"
    }
   },
   "outputs": [
    {
     "data": {
      "text/latex": [
       "$\\displaystyle x_{4} = \\frac{- \\omega - x_{0}^{3} + x_{2} x_{3}}{x_{0} - x_{2}}$"
      ],
      "text/plain": [
       "            3        \n",
       "     -ω - x₀  + x₂⋅x₃\n",
       "x₄ = ────────────────\n",
       "         x₀ - x₂     "
      ]
     },
     "execution_count": 74,
     "metadata": {},
     "output_type": "execute_result"
    }
   ],
   "source": [
    "sm.Eq(*substitutions[4])"
   ]
  },
  {
   "cell_type": "code",
   "execution_count": 75,
   "id": "88007fcb",
   "metadata": {
    "execution": {
     "iopub.execute_input": "2022-03-10T20:18:03.066241Z",
     "iopub.status.busy": "2022-03-10T20:18:03.066028Z",
     "iopub.status.idle": "2022-03-10T20:18:03.073036Z",
     "shell.execute_reply": "2022-03-10T20:18:03.072375Z"
    }
   },
   "outputs": [
    {
     "data": {
      "text/latex": [
       "$\\displaystyle \\left[\\begin{matrix}x_{1} \\left(- x_{3} - x_{4}\\right)\\\\x_{4}\\end{matrix}\\right]$"
      ],
      "text/plain": [
       "⎡x₁⋅(-x₃ - x₄)⎤\n",
       "⎢             ⎥\n",
       "⎣     x₄      ⎦"
      ]
     },
     "execution_count": 75,
     "metadata": {},
     "output_type": "execute_result"
    }
   ],
   "source": [
    "simplified[0]"
   ]
  }
 ],
 "metadata": {
  "kernelspec": {
   "display_name": "Python 3 (ipykernel)",
   "language": "python",
   "name": "python3"
  },
  "language_info": {
   "codemirror_mode": {
    "name": "ipython",
    "version": 3
   },
   "file_extension": ".py",
   "mimetype": "text/x-python",
   "name": "python",
   "nbconvert_exporter": "python",
   "pygments_lexer": "ipython3",
   "version": "3.9.10"
  }
 },
 "nbformat": 4,
 "nbformat_minor": 5
}