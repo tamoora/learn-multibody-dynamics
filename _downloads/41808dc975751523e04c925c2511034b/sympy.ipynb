{
 "cells": [
  {
   "cell_type": "code",
   "execution_count": 1,
   "id": "725f7888",
   "metadata": {
    "execution": {
     "iopub.execute_input": "2022-04-15T21:51:36.086329Z",
     "iopub.status.busy": "2022-04-15T21:51:36.085930Z",
     "iopub.status.idle": "2022-04-15T21:51:36.469120Z",
     "shell.execute_reply": "2022-04-15T21:51:36.468335Z"
    }
   },
   "outputs": [],
   "source": [
    "import sympy as sm"
   ]
  },
  {
   "cell_type": "code",
   "execution_count": 2,
   "id": "ac0d7713",
   "metadata": {
    "execution": {
     "iopub.execute_input": "2022-04-15T21:51:36.473671Z",
     "iopub.status.busy": "2022-04-15T21:51:36.473318Z",
     "iopub.status.idle": "2022-04-15T21:51:36.481938Z",
     "shell.execute_reply": "2022-04-15T21:51:36.481351Z"
    }
   },
   "outputs": [],
   "source": [
    "sm.init_printing(use_latex='mathjax')"
   ]
  },
  {
   "cell_type": "code",
   "execution_count": 3,
   "id": "fd1c4f50",
   "metadata": {
    "execution": {
     "iopub.execute_input": "2022-04-15T21:51:36.485378Z",
     "iopub.status.busy": "2022-04-15T21:51:36.484895Z",
     "iopub.status.idle": "2022-04-15T21:51:36.498184Z",
     "shell.execute_reply": "2022-04-15T21:51:36.494581Z"
    }
   },
   "outputs": [
    {
     "data": {
      "text/latex": [
       "$\\displaystyle a$"
      ],
      "text/plain": [
       "a"
      ]
     },
     "execution_count": 3,
     "metadata": {},
     "output_type": "execute_result"
    }
   ],
   "source": [
    "a = sm.symbols('a')\n",
    "a"
   ]
  },
  {
   "cell_type": "code",
   "execution_count": 4,
   "id": "2f4d8a5c",
   "metadata": {
    "execution": {
     "iopub.execute_input": "2022-04-15T21:51:36.501303Z",
     "iopub.status.busy": "2022-04-15T21:51:36.500874Z",
     "iopub.status.idle": "2022-04-15T21:51:36.507389Z",
     "shell.execute_reply": "2022-04-15T21:51:36.506829Z"
    }
   },
   "outputs": [
    {
     "data": {
      "text/plain": [
       "sympy.core.symbol.Symbol"
      ]
     },
     "execution_count": 4,
     "metadata": {},
     "output_type": "execute_result"
    }
   ],
   "source": [
    "type(a)"
   ]
  },
  {
   "cell_type": "code",
   "execution_count": 5,
   "id": "ccb8649b",
   "metadata": {
    "execution": {
     "iopub.execute_input": "2022-04-15T21:51:36.510307Z",
     "iopub.status.busy": "2022-04-15T21:51:36.510038Z",
     "iopub.status.idle": "2022-04-15T21:51:36.517268Z",
     "shell.execute_reply": "2022-04-15T21:51:36.516726Z"
    }
   },
   "outputs": [
    {
     "data": {
      "text/latex": [
       "$\\displaystyle \\left( b, \\  t, \\  \\omega\\right)$"
      ],
      "text/plain": [
       "(b, t, ω)"
      ]
     },
     "execution_count": 5,
     "metadata": {},
     "output_type": "execute_result"
    }
   ],
   "source": [
    "b, t, omega = sm.symbols('b, t, omega')\n",
    "b, t, omega"
   ]
  },
  {
   "cell_type": "code",
   "execution_count": 6,
   "id": "f4f8782f",
   "metadata": {
    "execution": {
     "iopub.execute_input": "2022-04-15T21:51:36.520224Z",
     "iopub.status.busy": "2022-04-15T21:51:36.519903Z",
     "iopub.status.idle": "2022-04-15T21:51:36.526893Z",
     "shell.execute_reply": "2022-04-15T21:51:36.526327Z"
    }
   },
   "outputs": [
    {
     "data": {
      "text/latex": [
       "$\\displaystyle \\left( \\alpha_{1}, \\  \\omega_{2}\\right)$"
      ],
      "text/plain": [
       "(α₁, ω₂)"
      ]
     },
     "execution_count": 6,
     "metadata": {},
     "output_type": "execute_result"
    }
   ],
   "source": [
    "pivot_angle, w2 = sm.symbols('alpha1, omega2')\n",
    "pivot_angle, w2"
   ]
  },
  {
   "cell_type": "code",
   "execution_count": 7,
   "id": "0a47e49b",
   "metadata": {
    "execution": {
     "iopub.execute_input": "2022-04-15T21:51:36.529719Z",
     "iopub.status.busy": "2022-04-15T21:51:36.529230Z",
     "iopub.status.idle": "2022-04-15T21:51:36.536397Z",
     "shell.execute_reply": "2022-04-15T21:51:36.535869Z"
    }
   },
   "outputs": [
    {
     "data": {
      "text/plain": [
       "f"
      ]
     },
     "execution_count": 7,
     "metadata": {},
     "output_type": "execute_result"
    }
   ],
   "source": [
    "f = sm.Function('f')\n",
    "f"
   ]
  },
  {
   "cell_type": "code",
   "execution_count": 8,
   "id": "75c150e5",
   "metadata": {
    "execution": {
     "iopub.execute_input": "2022-04-15T21:51:36.539173Z",
     "iopub.status.busy": "2022-04-15T21:51:36.538721Z",
     "iopub.status.idle": "2022-04-15T21:51:36.543751Z",
     "shell.execute_reply": "2022-04-15T21:51:36.543153Z"
    }
   },
   "outputs": [
    {
     "data": {
      "text/plain": [
       "sympy.core.function.UndefinedFunction"
      ]
     },
     "execution_count": 8,
     "metadata": {},
     "output_type": "execute_result"
    }
   ],
   "source": [
    "type(f)"
   ]
  },
  {
   "cell_type": "code",
   "execution_count": 9,
   "id": "735dc1d4",
   "metadata": {
    "execution": {
     "iopub.execute_input": "2022-04-15T21:51:36.546865Z",
     "iopub.status.busy": "2022-04-15T21:51:36.546547Z",
     "iopub.status.idle": "2022-04-15T21:51:36.553809Z",
     "shell.execute_reply": "2022-04-15T21:51:36.553256Z"
    }
   },
   "outputs": [
    {
     "data": {
      "text/latex": [
       "$\\displaystyle f{\\left(t \\right)}$"
      ],
      "text/plain": [
       "f(t)"
      ]
     },
     "execution_count": 9,
     "metadata": {},
     "output_type": "execute_result"
    }
   ],
   "source": [
    "f(t)"
   ]
  },
  {
   "cell_type": "code",
   "execution_count": 10,
   "id": "0b9cf836",
   "metadata": {
    "execution": {
     "iopub.execute_input": "2022-04-15T21:51:36.556932Z",
     "iopub.status.busy": "2022-04-15T21:51:36.556441Z",
     "iopub.status.idle": "2022-04-15T21:51:36.562700Z",
     "shell.execute_reply": "2022-04-15T21:51:36.562162Z"
    }
   },
   "outputs": [
    {
     "data": {
      "text/plain": [
       "f"
      ]
     },
     "execution_count": 10,
     "metadata": {},
     "output_type": "execute_result"
    }
   ],
   "source": [
    "type(f(t))"
   ]
  },
  {
   "cell_type": "code",
   "execution_count": 11,
   "id": "b41722e8",
   "metadata": {
    "execution": {
     "iopub.execute_input": "2022-04-15T21:51:36.565701Z",
     "iopub.status.busy": "2022-04-15T21:51:36.565189Z",
     "iopub.status.idle": "2022-04-15T21:51:36.572486Z",
     "shell.execute_reply": "2022-04-15T21:51:36.571948Z"
    }
   },
   "outputs": [
    {
     "data": {
      "text/latex": [
       "$\\displaystyle f{\\left(a,b,\\omega,t \\right)}$"
      ],
      "text/plain": [
       "f(a, b, ω, t)"
      ]
     },
     "execution_count": 11,
     "metadata": {},
     "output_type": "execute_result"
    }
   ],
   "source": [
    "f(a, b, omega, t)"
   ]
  },
  {
   "cell_type": "code",
   "execution_count": 12,
   "id": "2de80bda",
   "metadata": {
    "execution": {
     "iopub.execute_input": "2022-04-15T21:51:36.575100Z",
     "iopub.status.busy": "2022-04-15T21:51:36.574916Z",
     "iopub.status.idle": "2022-04-15T21:51:36.818084Z",
     "shell.execute_reply": "2022-04-15T21:51:36.817553Z"
    }
   },
   "outputs": [
    {
     "data": {
      "text/latex": [
       "$\\displaystyle a + \\frac{b}{\\omega^{2}}$"
      ],
      "text/plain": [
       "    b \n",
       "a + ──\n",
       "     2\n",
       "    ω "
      ]
     },
     "execution_count": 12,
     "metadata": {},
     "output_type": "execute_result"
    }
   ],
   "source": [
    "expr1 = a + b/omega**2\n",
    "expr1"
   ]
  },
  {
   "cell_type": "code",
   "execution_count": 13,
   "id": "d08125b9",
   "metadata": {
    "execution": {
     "iopub.execute_input": "2022-04-15T21:51:36.821743Z",
     "iopub.status.busy": "2022-04-15T21:51:36.821218Z",
     "iopub.status.idle": "2022-04-15T21:51:36.828077Z",
     "shell.execute_reply": "2022-04-15T21:51:36.827512Z"
    }
   },
   "outputs": [
    {
     "data": {
      "text/plain": [
       "sympy.core.add.Add"
      ]
     },
     "execution_count": 13,
     "metadata": {},
     "output_type": "execute_result"
    }
   ],
   "source": [
    "type(expr1)"
   ]
  },
  {
   "cell_type": "code",
   "execution_count": 14,
   "id": "66000440",
   "metadata": {
    "execution": {
     "iopub.execute_input": "2022-04-15T21:51:36.831383Z",
     "iopub.status.busy": "2022-04-15T21:51:36.830870Z",
     "iopub.status.idle": "2022-04-15T21:51:36.835609Z",
     "shell.execute_reply": "2022-04-15T21:51:36.835173Z"
    }
   },
   "outputs": [
    {
     "data": {
      "text/plain": [
       "\"Add(Symbol('a'), Mul(Symbol('b'), Pow(Symbol('omega'), Integer(-2))))\""
      ]
     },
     "execution_count": 14,
     "metadata": {},
     "output_type": "execute_result"
    }
   ],
   "source": [
    "sm.srepr(expr1)"
   ]
  },
  {
   "cell_type": "code",
   "execution_count": 15,
   "id": "8ddfb043",
   "metadata": {
    "execution": {
     "iopub.execute_input": "2022-04-15T21:51:36.838424Z",
     "iopub.status.busy": "2022-04-15T21:51:36.838015Z",
     "iopub.status.idle": "2022-04-15T21:51:36.844365Z",
     "shell.execute_reply": "2022-04-15T21:51:36.843747Z"
    }
   },
   "outputs": [
    {
     "data": {
      "text/latex": [
       "$\\displaystyle a \\omega + f{\\left(t \\right)}$"
      ],
      "text/plain": [
       "a⋅ω + f(t)"
      ]
     },
     "execution_count": 15,
     "metadata": {},
     "output_type": "execute_result"
    }
   ],
   "source": [
    "expr2 = f(t) + a*omega\n",
    "expr2"
   ]
  },
  {
   "cell_type": "code",
   "execution_count": 16,
   "id": "7c5f29b9",
   "metadata": {
    "execution": {
     "iopub.execute_input": "2022-04-15T21:51:36.847820Z",
     "iopub.status.busy": "2022-04-15T21:51:36.847491Z",
     "iopub.status.idle": "2022-04-15T21:51:36.856086Z",
     "shell.execute_reply": "2022-04-15T21:51:36.855489Z"
    }
   },
   "outputs": [
    {
     "data": {
      "text/latex": [
       "$\\displaystyle a \\sin{\\left(\\omega \\right)} + \\frac{\\left|{f{\\left(t \\right)}}\\right|}{\\sqrt{b}}$"
      ],
      "text/plain": [
       "           │f(t)│\n",
       "a⋅sin(ω) + ──────\n",
       "             √b  "
      ]
     },
     "execution_count": 16,
     "metadata": {},
     "output_type": "execute_result"
    }
   ],
   "source": [
    "expr3 = a*sm.sin(omega) + sm.Abs(f(t))/sm.sqrt(b)\n",
    "expr3"
   ]
  },
  {
   "cell_type": "code",
   "execution_count": 17,
   "id": "baddbfd6",
   "metadata": {
    "execution": {
     "iopub.execute_input": "2022-04-15T21:51:36.859468Z",
     "iopub.status.busy": "2022-04-15T21:51:36.859146Z",
     "iopub.status.idle": "2022-04-15T21:51:36.866608Z",
     "shell.execute_reply": "2022-04-15T21:51:36.866172Z"
    }
   },
   "outputs": [
    {
     "data": {
      "text/latex": [
       "$\\displaystyle 5 \\sin{\\left(12 \\right)} + 105.986768359379$"
      ],
      "text/plain": [
       "5⋅sin(12) + 105.986768359379"
      ]
     },
     "execution_count": 17,
     "metadata": {},
     "output_type": "execute_result"
    }
   ],
   "source": [
    "expr4 = 5*sm.sin(12) + sm.Abs(-1001)/sm.sqrt(89.2)\n",
    "expr4"
   ]
  },
  {
   "cell_type": "code",
   "execution_count": 18,
   "id": "87f3fb54",
   "metadata": {
    "execution": {
     "iopub.execute_input": "2022-04-15T21:51:36.869375Z",
     "iopub.status.busy": "2022-04-15T21:51:36.868968Z",
     "iopub.status.idle": "2022-04-15T21:51:36.874378Z",
     "shell.execute_reply": "2022-04-15T21:51:36.873747Z"
    }
   },
   "outputs": [
    {
     "data": {
      "text/latex": [
       "$\\displaystyle 0.5 a$"
      ],
      "text/plain": [
       "0.5⋅a"
      ]
     },
     "execution_count": 18,
     "metadata": {},
     "output_type": "execute_result"
    }
   ],
   "source": [
    "1/2*a"
   ]
  },
  {
   "cell_type": "code",
   "execution_count": 19,
   "id": "0d885fa7",
   "metadata": {
    "execution": {
     "iopub.execute_input": "2022-04-15T21:51:36.877974Z",
     "iopub.status.busy": "2022-04-15T21:51:36.877477Z",
     "iopub.status.idle": "2022-04-15T21:51:36.882508Z",
     "shell.execute_reply": "2022-04-15T21:51:36.881878Z"
    }
   },
   "outputs": [
    {
     "data": {
      "text/latex": [
       "$\\displaystyle \\frac{a}{2}$"
      ],
      "text/plain": [
       "a\n",
       "─\n",
       "2"
      ]
     },
     "execution_count": 19,
     "metadata": {},
     "output_type": "execute_result"
    }
   ],
   "source": [
    "sm.S(1)/2*a"
   ]
  },
  {
   "cell_type": "code",
   "execution_count": 20,
   "id": "28037401",
   "metadata": {
    "execution": {
     "iopub.execute_input": "2022-04-15T21:51:36.886231Z",
     "iopub.status.busy": "2022-04-15T21:51:36.885728Z",
     "iopub.status.idle": "2022-04-15T21:51:36.895844Z",
     "shell.execute_reply": "2022-04-15T21:51:36.895346Z"
    }
   },
   "outputs": [
    {
     "data": {
      "text/latex": [
       "$\\displaystyle t \\sin{\\left(\\omega f{\\left(t \\right)} \\right)} + \\frac{f{\\left(t \\right)}}{\\sqrt{t}}$"
      ],
      "text/plain": [
       "                f(t)\n",
       "t⋅sin(ω⋅f(t)) + ────\n",
       "                 √t "
      ]
     },
     "execution_count": 20,
     "metadata": {},
     "output_type": "execute_result"
    }
   ],
   "source": [
    "expr5 = t*sm.sin(omega*f(t)) + f(t)/sm.sqrt(t)\n",
    "expr5"
   ]
  },
  {
   "cell_type": "code",
   "execution_count": 21,
   "id": "a7261042",
   "metadata": {
    "execution": {
     "iopub.execute_input": "2022-04-15T21:51:36.898950Z",
     "iopub.status.busy": "2022-04-15T21:51:36.898340Z",
     "iopub.status.idle": "2022-04-15T21:51:36.903154Z",
     "shell.execute_reply": "2022-04-15T21:51:36.902584Z"
    }
   },
   "outputs": [
    {
     "data": {
      "text/plain": [
       "\"Add(Mul(Symbol('a'), sin(Symbol('omega'))), Mul(Pow(Symbol('b'), Rational(-1, 2)), Abs(Function('f')(Symbol('t')))))\""
      ]
     },
     "execution_count": 21,
     "metadata": {},
     "output_type": "execute_result"
    }
   ],
   "source": [
    "sm.srepr(expr3)"
   ]
  },
  {
   "cell_type": "code",
   "execution_count": 22,
   "id": "f8cb44e6",
   "metadata": {
    "execution": {
     "iopub.execute_input": "2022-04-15T21:51:36.905902Z",
     "iopub.status.busy": "2022-04-15T21:51:36.905371Z",
     "iopub.status.idle": "2022-04-15T21:51:36.910123Z",
     "shell.execute_reply": "2022-04-15T21:51:36.909515Z"
    }
   },
   "outputs": [
    {
     "data": {
      "text/plain": [
       "'a*sin(omega) + Abs(f(t))/sqrt(b)'"
      ]
     },
     "execution_count": 22,
     "metadata": {},
     "output_type": "execute_result"
    }
   ],
   "source": [
    "repr(expr3)"
   ]
  },
  {
   "cell_type": "code",
   "execution_count": 23,
   "id": "8c76ce50",
   "metadata": {
    "execution": {
     "iopub.execute_input": "2022-04-15T21:51:36.912792Z",
     "iopub.status.busy": "2022-04-15T21:51:36.912384Z",
     "iopub.status.idle": "2022-04-15T21:51:36.916425Z",
     "shell.execute_reply": "2022-04-15T21:51:36.915957Z"
    }
   },
   "outputs": [
    {
     "name": "stdout",
     "output_type": "stream",
     "text": [
      "a*sin(omega) + Abs(f(t))/sqrt(b)\n"
     ]
    }
   ],
   "source": [
    "print(expr3)"
   ]
  },
  {
   "cell_type": "code",
   "execution_count": 24,
   "id": "b7bddfb0",
   "metadata": {
    "execution": {
     "iopub.execute_input": "2022-04-15T21:51:36.919348Z",
     "iopub.status.busy": "2022-04-15T21:51:36.918940Z",
     "iopub.status.idle": "2022-04-15T21:51:36.923288Z",
     "shell.execute_reply": "2022-04-15T21:51:36.922817Z"
    }
   },
   "outputs": [
    {
     "name": "stdout",
     "output_type": "stream",
     "text": [
      "           │f(t)│\n",
      "a⋅sin(ω) + ──────\n",
      "             √b  \n"
     ]
    }
   ],
   "source": [
    "sm.pprint(expr3)"
   ]
  },
  {
   "cell_type": "code",
   "execution_count": 25,
   "id": "867efc48",
   "metadata": {
    "execution": {
     "iopub.execute_input": "2022-04-15T21:51:36.925921Z",
     "iopub.status.busy": "2022-04-15T21:51:36.925485Z",
     "iopub.status.idle": "2022-04-15T21:51:36.930349Z",
     "shell.execute_reply": "2022-04-15T21:51:36.929877Z"
    }
   },
   "outputs": [
    {
     "data": {
      "text/plain": [
       "'a \\\\sin{\\\\left(\\\\omega \\\\right)} + \\\\frac{\\\\left|{f{\\\\left(t \\\\right)}}\\\\right|}{\\\\sqrt{b}}'"
      ]
     },
     "execution_count": 25,
     "metadata": {},
     "output_type": "execute_result"
    }
   ],
   "source": [
    "sm.latex(expr3)"
   ]
  },
  {
   "cell_type": "code",
   "execution_count": 26,
   "id": "82a28d85",
   "metadata": {
    "execution": {
     "iopub.execute_input": "2022-04-15T21:51:36.933147Z",
     "iopub.status.busy": "2022-04-15T21:51:36.932625Z",
     "iopub.status.idle": "2022-04-15T21:51:36.936722Z",
     "shell.execute_reply": "2022-04-15T21:51:36.936274Z"
    }
   },
   "outputs": [
    {
     "name": "stdout",
     "output_type": "stream",
     "text": [
      "a \\sin{\\left(\\omega \\right)} + \\frac{\\left|{f{\\left(t \\right)}}\\right|}{\\sqrt{b}}\n"
     ]
    }
   ],
   "source": [
    "print(sm.latex(expr3))"
   ]
  },
  {
   "cell_type": "code",
   "execution_count": 27,
   "id": "80a2a4cd",
   "metadata": {
    "execution": {
     "iopub.execute_input": "2022-04-15T21:51:36.939319Z",
     "iopub.status.busy": "2022-04-15T21:51:36.938915Z",
     "iopub.status.idle": "2022-04-15T21:51:36.944702Z",
     "shell.execute_reply": "2022-04-15T21:51:36.944233Z"
    }
   },
   "outputs": [
    {
     "data": {
      "text/latex": [
       "$\\displaystyle \\frac{d}{d t} f{\\left(t \\right)}$"
      ],
      "text/plain": [
       "d       \n",
       "──(f(t))\n",
       "dt      "
      ]
     },
     "execution_count": 27,
     "metadata": {},
     "output_type": "execute_result"
    }
   ],
   "source": [
    "sm.diff(f(t), t)"
   ]
  },
  {
   "cell_type": "code",
   "execution_count": 28,
   "id": "1037e717",
   "metadata": {
    "execution": {
     "iopub.execute_input": "2022-04-15T21:51:36.947356Z",
     "iopub.status.busy": "2022-04-15T21:51:36.946951Z",
     "iopub.status.idle": "2022-04-15T21:51:36.952168Z",
     "shell.execute_reply": "2022-04-15T21:51:36.951710Z"
    }
   },
   "outputs": [
    {
     "data": {
      "text/latex": [
       "$\\displaystyle \\frac{d}{d t} f{\\left(t \\right)}$"
      ],
      "text/plain": [
       "d       \n",
       "──(f(t))\n",
       "dt      "
      ]
     },
     "execution_count": 28,
     "metadata": {},
     "output_type": "execute_result"
    }
   ],
   "source": [
    "f(t).diff(t)"
   ]
  },
  {
   "cell_type": "code",
   "execution_count": 29,
   "id": "22a65267",
   "metadata": {
    "execution": {
     "iopub.execute_input": "2022-04-15T21:51:36.954910Z",
     "iopub.status.busy": "2022-04-15T21:51:36.954316Z",
     "iopub.status.idle": "2022-04-15T21:51:36.959850Z",
     "shell.execute_reply": "2022-04-15T21:51:36.959398Z"
    }
   },
   "outputs": [
    {
     "data": {
      "text/latex": [
       "$\\displaystyle a \\sin{\\left(\\omega \\right)} + \\frac{\\left|{f{\\left(t \\right)}}\\right|}{\\sqrt{b}}$"
      ],
      "text/plain": [
       "           │f(t)│\n",
       "a⋅sin(ω) + ──────\n",
       "             √b  "
      ]
     },
     "execution_count": 29,
     "metadata": {},
     "output_type": "execute_result"
    }
   ],
   "source": [
    "expr3"
   ]
  },
  {
   "cell_type": "code",
   "execution_count": 30,
   "id": "0400eb29",
   "metadata": {
    "execution": {
     "iopub.execute_input": "2022-04-15T21:51:36.962712Z",
     "iopub.status.busy": "2022-04-15T21:51:36.962301Z",
     "iopub.status.idle": "2022-04-15T21:51:36.973681Z",
     "shell.execute_reply": "2022-04-15T21:51:36.973071Z"
    }
   },
   "outputs": [
    {
     "data": {
      "text/latex": [
       "$\\displaystyle - \\frac{\\left|{f{\\left(t \\right)}}\\right|}{2 b^{\\frac{3}{2}}}$"
      ],
      "text/plain": [
       "-│f(t)│ \n",
       "────────\n",
       "    3/2 \n",
       " 2⋅b    "
      ]
     },
     "execution_count": 30,
     "metadata": {},
     "output_type": "execute_result"
    }
   ],
   "source": [
    "expr3.diff(b)"
   ]
  },
  {
   "cell_type": "code",
   "execution_count": 31,
   "id": "1989fd11",
   "metadata": {
    "execution": {
     "iopub.execute_input": "2022-04-15T21:51:36.977085Z",
     "iopub.status.busy": "2022-04-15T21:51:36.976609Z",
     "iopub.status.idle": "2022-04-15T21:51:37.002499Z",
     "shell.execute_reply": "2022-04-15T21:51:37.001855Z"
    }
   },
   "outputs": [
    {
     "data": {
      "text/latex": [
       "$\\displaystyle - \\frac{\\left(\\operatorname{re}{\\left(f{\\left(t \\right)}\\right)} \\frac{d}{d t} \\operatorname{re}{\\left(f{\\left(t \\right)}\\right)} + \\operatorname{im}{\\left(f{\\left(t \\right)}\\right)} \\frac{d}{d t} \\operatorname{im}{\\left(f{\\left(t \\right)}\\right)}\\right) \\operatorname{sign}{\\left(f{\\left(t \\right)} \\right)}}{2 b^{\\frac{3}{2}} f{\\left(t \\right)}}$"
      ],
      "text/plain": [
       " ⎛         d                       d           ⎞            \n",
       "-⎜re(f(t))⋅──(re(f(t))) + im(f(t))⋅──(im(f(t)))⎟⋅sign(f(t)) \n",
       " ⎝         dt                      dt          ⎠            \n",
       "────────────────────────────────────────────────────────────\n",
       "                           3/2                              \n",
       "                        2⋅b   ⋅f(t)                         "
      ]
     },
     "execution_count": 31,
     "metadata": {},
     "output_type": "execute_result"
    }
   ],
   "source": [
    "expr3.diff(b, t)"
   ]
  },
  {
   "cell_type": "code",
   "execution_count": 32,
   "id": "7f2253dd",
   "metadata": {
    "execution": {
     "iopub.execute_input": "2022-04-15T21:51:37.005267Z",
     "iopub.status.busy": "2022-04-15T21:51:37.004786Z",
     "iopub.status.idle": "2022-04-15T21:51:37.026667Z",
     "shell.execute_reply": "2022-04-15T21:51:37.026020Z"
    }
   },
   "outputs": [
    {
     "data": {
      "text/latex": [
       "$\\displaystyle \\frac{\\left(\\operatorname{re}{\\left(h{\\left(t \\right)}\\right)} \\frac{d}{d t} \\operatorname{re}{\\left(h{\\left(t \\right)}\\right)} + \\operatorname{im}{\\left(h{\\left(t \\right)}\\right)} \\frac{d}{d t} \\operatorname{im}{\\left(h{\\left(t \\right)}\\right)}\\right) \\operatorname{sign}{\\left(h{\\left(t \\right)} \\right)}}{h{\\left(t \\right)}}$"
      ],
      "text/plain": [
       "⎛         d                       d           ⎞           \n",
       "⎜re(h(t))⋅──(re(h(t))) + im(h(t))⋅──(im(h(t)))⎟⋅sign(h(t))\n",
       "⎝         dt                      dt          ⎠           \n",
       "──────────────────────────────────────────────────────────\n",
       "                           h(t)                           "
      ]
     },
     "execution_count": 32,
     "metadata": {},
     "output_type": "execute_result"
    }
   ],
   "source": [
    "h = sm.Function('h')\n",
    "sm.Abs(h(t)).diff(t)"
   ]
  },
  {
   "cell_type": "code",
   "execution_count": 33,
   "id": "cfdf271c",
   "metadata": {
    "execution": {
     "iopub.execute_input": "2022-04-15T21:51:37.029503Z",
     "iopub.status.busy": "2022-04-15T21:51:37.029012Z",
     "iopub.status.idle": "2022-04-15T21:51:37.038026Z",
     "shell.execute_reply": "2022-04-15T21:51:37.037387Z"
    }
   },
   "outputs": [
    {
     "data": {
      "text/latex": [
       "$\\displaystyle \\operatorname{sign}{\\left(h{\\left(t \\right)} \\right)} \\frac{d}{d t} h{\\left(t \\right)}$"
      ],
      "text/plain": [
       "           d       \n",
       "sign(h(t))⋅──(h(t))\n",
       "           dt      "
      ]
     },
     "execution_count": 33,
     "metadata": {},
     "output_type": "execute_result"
    }
   ],
   "source": [
    "h = sm.Function('h', real=True)\n",
    "sm.Abs(h(t)).diff(t)"
   ]
  },
  {
   "cell_type": "code",
   "execution_count": 34,
   "id": "fa21aa22",
   "metadata": {
    "execution": {
     "iopub.execute_input": "2022-04-15T21:51:37.041455Z",
     "iopub.status.busy": "2022-04-15T21:51:37.040970Z",
     "iopub.status.idle": "2022-04-15T21:51:37.047726Z",
     "shell.execute_reply": "2022-04-15T21:51:37.047121Z"
    }
   },
   "outputs": [
    {
     "data": {
      "text/latex": [
       "$\\displaystyle \\frac{d}{d t} h{\\left(t \\right)}$"
      ],
      "text/plain": [
       "d       \n",
       "──(h(t))\n",
       "dt      "
      ]
     },
     "execution_count": 34,
     "metadata": {},
     "output_type": "execute_result"
    }
   ],
   "source": [
    "h = sm.Function('h', real=True, positive=True)\n",
    "sm.Abs(h(t)).diff(t)"
   ]
  },
  {
   "cell_type": "code",
   "execution_count": 35,
   "id": "c0d94c58",
   "metadata": {
    "execution": {
     "iopub.execute_input": "2022-04-15T21:51:37.051245Z",
     "iopub.status.busy": "2022-04-15T21:51:37.050767Z",
     "iopub.status.idle": "2022-04-15T21:51:37.057047Z",
     "shell.execute_reply": "2022-04-15T21:51:37.056443Z"
    }
   },
   "outputs": [
    {
     "data": {
      "text/latex": [
       "$\\displaystyle t \\sin{\\left(\\omega f{\\left(t \\right)} \\right)} + \\frac{f{\\left(t \\right)}}{\\sqrt{t}}$"
      ],
      "text/plain": [
       "                f(t)\n",
       "t⋅sin(ω⋅f(t)) + ────\n",
       "                 √t "
      ]
     },
     "execution_count": 35,
     "metadata": {},
     "output_type": "execute_result"
    }
   ],
   "source": [
    "expr5"
   ]
  },
  {
   "cell_type": "code",
   "execution_count": 36,
   "id": "35e2fc37",
   "metadata": {
    "execution": {
     "iopub.execute_input": "2022-04-15T21:51:37.060496Z",
     "iopub.status.busy": "2022-04-15T21:51:37.060012Z",
     "iopub.status.idle": "2022-04-15T21:51:37.081943Z",
     "shell.execute_reply": "2022-04-15T21:51:37.081275Z"
    }
   },
   "outputs": [
    {
     "data": {
      "text/latex": [
       "$\\displaystyle \\omega t \\cos{\\left(\\omega f{\\left(t \\right)} \\right)} \\frac{d}{d t} f{\\left(t \\right)} + \\sin{\\left(\\omega f{\\left(t \\right)} \\right)} + \\frac{\\frac{d}{d t} f{\\left(t \\right)}}{\\sqrt{t}} - \\frac{f{\\left(t \\right)}}{2 t^{\\frac{3}{2}}}$"
      ],
      "text/plain": [
       "                                         d                \n",
       "                                         ──(f(t))         \n",
       "                d                        dt          f(t) \n",
       "ω⋅t⋅cos(ω⋅f(t))⋅──(f(t)) + sin(ω⋅f(t)) + ──────── - ──────\n",
       "                dt                          √t         3/2\n",
       "                                                    2⋅t   "
      ]
     },
     "execution_count": 36,
     "metadata": {},
     "output_type": "execute_result"
    }
   ],
   "source": [
    "expr5.diff(t)"
   ]
  },
  {
   "cell_type": "code",
   "execution_count": 37,
   "id": "bf43c4bd",
   "metadata": {
    "execution": {
     "iopub.execute_input": "2022-04-15T21:51:37.084975Z",
     "iopub.status.busy": "2022-04-15T21:51:37.084490Z",
     "iopub.status.idle": "2022-04-15T21:51:37.088952Z",
     "shell.execute_reply": "2022-04-15T21:51:37.088316Z"
    }
   },
   "outputs": [],
   "source": [
    "repl = {omega: sm.pi/4, a: 2, f(t): -12, b: 25}"
   ]
  },
  {
   "cell_type": "code",
   "execution_count": 38,
   "id": "2eebdc92",
   "metadata": {
    "execution": {
     "iopub.execute_input": "2022-04-15T21:51:37.093953Z",
     "iopub.status.busy": "2022-04-15T21:51:37.091561Z",
     "iopub.status.idle": "2022-04-15T21:51:37.104058Z",
     "shell.execute_reply": "2022-04-15T21:51:37.103428Z"
    }
   },
   "outputs": [
    {
     "data": {
      "text/latex": [
       "$\\displaystyle \\sqrt{2} + \\frac{12}{5}$"
      ],
      "text/plain": [
       "√2 + 12/5"
      ]
     },
     "execution_count": 38,
     "metadata": {},
     "output_type": "execute_result"
    }
   ],
   "source": [
    "expr3.xreplace(repl)"
   ]
  },
  {
   "cell_type": "code",
   "execution_count": 39,
   "id": "3fec37b5",
   "metadata": {
    "execution": {
     "iopub.execute_input": "2022-04-15T21:51:37.106936Z",
     "iopub.status.busy": "2022-04-15T21:51:37.106452Z",
     "iopub.status.idle": "2022-04-15T21:51:37.112838Z",
     "shell.execute_reply": "2022-04-15T21:51:37.112192Z"
    }
   },
   "outputs": [
    {
     "data": {
      "text/latex": [
       "$\\displaystyle 3.81421356237309504880168872421$"
      ],
      "text/plain": [
       "3.814213562373095048801688724210"
      ]
     },
     "execution_count": 39,
     "metadata": {},
     "output_type": "execute_result"
    }
   ],
   "source": [
    "expr3.evalf(n=31, subs=repl)"
   ]
  },
  {
   "cell_type": "code",
   "execution_count": 40,
   "id": "440444d4",
   "metadata": {
    "execution": {
     "iopub.execute_input": "2022-04-15T21:51:37.116400Z",
     "iopub.status.busy": "2022-04-15T21:51:37.115929Z",
     "iopub.status.idle": "2022-04-15T21:51:37.121640Z",
     "shell.execute_reply": "2022-04-15T21:51:37.121021Z"
    }
   },
   "outputs": [
    {
     "data": {
      "text/plain": [
       "sympy.core.numbers.Float"
      ]
     },
     "execution_count": 40,
     "metadata": {},
     "output_type": "execute_result"
    }
   ],
   "source": [
    "type(expr3.evalf(n=31, subs=repl))"
   ]
  },
  {
   "cell_type": "code",
   "execution_count": 41,
   "id": "adaaa24b",
   "metadata": {
    "execution": {
     "iopub.execute_input": "2022-04-15T21:51:37.125196Z",
     "iopub.status.busy": "2022-04-15T21:51:37.124718Z",
     "iopub.status.idle": "2022-04-15T21:51:37.131319Z",
     "shell.execute_reply": "2022-04-15T21:51:37.130692Z"
    }
   },
   "outputs": [
    {
     "data": {
      "text/latex": [
       "$\\displaystyle 3.81421356237309504880168872420969807856967187537694807317667973799073247846210703885038753432764157273501384623091229702492483605585073721264412149709993583141322266592750559275579995050115278206057147010955997160597027453459686201472851741864088919860955232923048430871432145083976260362799525140799$"
      ],
      "text/plain": [
       "3.8142135623730950488016887242096980785696718753769480731766797379907324784621\n",
       "070388503875343276415727350138462309122970249248360558507372126441214970999358\n",
       "314132226659275055927557999505011527820605714701095599716059702745345968620147\n",
       "2851741864088919860955232923048430871432145083976260362799525140799"
      ]
     },
     "execution_count": 41,
     "metadata": {},
     "output_type": "execute_result"
    }
   ],
   "source": [
    "expr3.evalf(n=300, subs=repl)"
   ]
  },
  {
   "cell_type": "code",
   "execution_count": 42,
   "id": "5fb2cee7",
   "metadata": {
    "execution": {
     "iopub.execute_input": "2022-04-15T21:51:37.134746Z",
     "iopub.status.busy": "2022-04-15T21:51:37.134333Z",
     "iopub.status.idle": "2022-04-15T21:51:37.140368Z",
     "shell.execute_reply": "2022-04-15T21:51:37.139770Z"
    }
   },
   "outputs": [
    {
     "data": {
      "text/latex": [
       "$\\displaystyle 3.81421356237309$"
      ],
      "text/plain": [
       "3.814213562373095"
      ]
     },
     "execution_count": 42,
     "metadata": {},
     "output_type": "execute_result"
    }
   ],
   "source": [
    "float(expr3.evalf(n=300, subs=repl))"
   ]
  },
  {
   "cell_type": "code",
   "execution_count": 43,
   "id": "e7b3e6c7",
   "metadata": {
    "execution": {
     "iopub.execute_input": "2022-04-15T21:51:37.143816Z",
     "iopub.status.busy": "2022-04-15T21:51:37.143326Z",
     "iopub.status.idle": "2022-04-15T21:51:37.149288Z",
     "shell.execute_reply": "2022-04-15T21:51:37.148682Z"
    }
   },
   "outputs": [
    {
     "data": {
      "text/plain": [
       "float"
      ]
     },
     "execution_count": 43,
     "metadata": {},
     "output_type": "execute_result"
    }
   ],
   "source": [
    "type(float(expr3.evalf(n=300, subs=repl)))"
   ]
  },
  {
   "cell_type": "code",
   "execution_count": 44,
   "id": "fe66a9db",
   "metadata": {
    "execution": {
     "iopub.execute_input": "2022-04-15T21:51:37.152690Z",
     "iopub.status.busy": "2022-04-15T21:51:37.152213Z",
     "iopub.status.idle": "2022-04-15T21:51:37.352797Z",
     "shell.execute_reply": "2022-04-15T21:51:37.352246Z"
    }
   },
   "outputs": [],
   "source": [
    "eval_expr3 = sm.lambdify((omega, a, f(t), b), expr3)"
   ]
  },
  {
   "cell_type": "code",
   "execution_count": 45,
   "id": "05eaeb24",
   "metadata": {
    "execution": {
     "iopub.execute_input": "2022-04-15T21:51:37.357146Z",
     "iopub.status.busy": "2022-04-15T21:51:37.356069Z",
     "iopub.status.idle": "2022-04-15T21:51:37.362256Z",
     "shell.execute_reply": "2022-04-15T21:51:37.361764Z"
    }
   },
   "outputs": [
    {
     "name": "stdout",
     "output_type": "stream",
     "text": [
      "Help on function _lambdifygenerated:\n",
      "\n",
      "_lambdifygenerated(omega, a, _Dummy_23, b)\n",
      "    Created with lambdify. Signature:\n",
      "    \n",
      "    func(omega, a, f, b)\n",
      "    \n",
      "    Expression:\n",
      "    \n",
      "    a*sin(omega) + Abs(f(t))/sqrt(b)\n",
      "    \n",
      "    Source code:\n",
      "    \n",
      "    def _lambdifygenerated(omega, a, _Dummy_23, b):\n",
      "        return a*sin(omega) + abs(_Dummy_23)/sqrt(b)\n",
      "    \n",
      "    \n",
      "    Imported modules:\n",
      "\n"
     ]
    }
   ],
   "source": [
    "help(eval_expr3)"
   ]
  },
  {
   "cell_type": "code",
   "execution_count": 46,
   "id": "74cbb6df",
   "metadata": {
    "execution": {
     "iopub.execute_input": "2022-04-15T21:51:37.366094Z",
     "iopub.status.busy": "2022-04-15T21:51:37.365054Z",
     "iopub.status.idle": "2022-04-15T21:51:37.372300Z",
     "shell.execute_reply": "2022-04-15T21:51:37.371774Z"
    }
   },
   "outputs": [
    {
     "data": {
      "text/latex": [
       "$\\displaystyle 3.81365036221073$"
      ],
      "text/plain": [
       "3.8136503622107316"
      ]
     },
     "execution_count": 46,
     "metadata": {},
     "output_type": "execute_result"
    }
   ],
   "source": [
    "eval_expr3(3.14/4, 2, -12, 25)"
   ]
  },
  {
   "cell_type": "code",
   "execution_count": 47,
   "id": "cc72a61f",
   "metadata": {
    "execution": {
     "iopub.execute_input": "2022-04-15T21:51:37.375080Z",
     "iopub.status.busy": "2022-04-15T21:51:37.374688Z",
     "iopub.status.idle": "2022-04-15T21:51:37.380374Z",
     "shell.execute_reply": "2022-04-15T21:51:37.379758Z"
    }
   },
   "outputs": [
    {
     "data": {
      "text/plain": [
       "numpy.float64"
      ]
     },
     "execution_count": 47,
     "metadata": {},
     "output_type": "execute_result"
    }
   ],
   "source": [
    "type(eval_expr3(3.14/4, 2, -12, 25))"
   ]
  },
  {
   "cell_type": "code",
   "execution_count": 48,
   "id": "6ad5a1f6",
   "metadata": {
    "execution": {
     "iopub.execute_input": "2022-04-15T21:51:37.383266Z",
     "iopub.status.busy": "2022-04-15T21:51:37.382786Z",
     "iopub.status.idle": "2022-04-15T21:51:37.389918Z",
     "shell.execute_reply": "2022-04-15T21:51:37.389267Z"
    }
   },
   "outputs": [
    {
     "data": {
      "text/latex": [
       "$\\displaystyle \\left[\\begin{matrix}a & 2 a\\\\\\frac{b}{\\omega} & f{\\left(t \\right)}\\end{matrix}\\right]$"
      ],
      "text/plain": [
       "⎡a  2⋅a ⎤\n",
       "⎢       ⎥\n",
       "⎢b      ⎥\n",
       "⎢─  f(t)⎥\n",
       "⎣ω      ⎦"
      ]
     },
     "execution_count": 48,
     "metadata": {},
     "output_type": "execute_result"
    }
   ],
   "source": [
    "mat1 = sm.Matrix([[a, 2*a], [b/omega, f(t)]])\n",
    "mat1"
   ]
  },
  {
   "cell_type": "code",
   "execution_count": 49,
   "id": "891e51a4",
   "metadata": {
    "execution": {
     "iopub.execute_input": "2022-04-15T21:51:37.393379Z",
     "iopub.status.busy": "2022-04-15T21:51:37.392898Z",
     "iopub.status.idle": "2022-04-15T21:51:37.398587Z",
     "shell.execute_reply": "2022-04-15T21:51:37.397971Z"
    }
   },
   "outputs": [
    {
     "data": {
      "text/latex": [
       "$\\displaystyle \\left[\\begin{matrix}1 & 2\\\\3 & 4\\end{matrix}\\right]$"
      ],
      "text/plain": [
       "⎡1  2⎤\n",
       "⎢    ⎥\n",
       "⎣3  4⎦"
      ]
     },
     "execution_count": 49,
     "metadata": {},
     "output_type": "execute_result"
    }
   ],
   "source": [
    "mat2 = sm.Matrix([[1, 2], [3, 4]])\n",
    "mat2"
   ]
  },
  {
   "cell_type": "code",
   "execution_count": 50,
   "id": "ca115e2a",
   "metadata": {
    "execution": {
     "iopub.execute_input": "2022-04-15T21:51:37.401979Z",
     "iopub.status.busy": "2022-04-15T21:51:37.401554Z",
     "iopub.status.idle": "2022-04-15T21:51:37.406035Z",
     "shell.execute_reply": "2022-04-15T21:51:37.405390Z"
    }
   },
   "outputs": [
    {
     "data": {
      "text/latex": [
       "$\\displaystyle \\left( 2, \\  2\\right)$"
      ],
      "text/plain": [
       "(2, 2)"
      ]
     },
     "execution_count": 50,
     "metadata": {},
     "output_type": "execute_result"
    }
   ],
   "source": [
    "mat1.shape"
   ]
  },
  {
   "cell_type": "code",
   "execution_count": 51,
   "id": "80cea556",
   "metadata": {
    "execution": {
     "iopub.execute_input": "2022-04-15T21:51:37.409461Z",
     "iopub.status.busy": "2022-04-15T21:51:37.408977Z",
     "iopub.status.idle": "2022-04-15T21:51:37.413943Z",
     "shell.execute_reply": "2022-04-15T21:51:37.413281Z"
    }
   },
   "outputs": [
    {
     "data": {
      "text/latex": [
       "$\\displaystyle 2 a$"
      ],
      "text/plain": [
       "2⋅a"
      ]
     },
     "execution_count": 51,
     "metadata": {},
     "output_type": "execute_result"
    }
   ],
   "source": [
    "mat1[0, 1]"
   ]
  },
  {
   "cell_type": "code",
   "execution_count": 52,
   "id": "755dee0a",
   "metadata": {
    "execution": {
     "iopub.execute_input": "2022-04-15T21:51:37.417361Z",
     "iopub.status.busy": "2022-04-15T21:51:37.417039Z",
     "iopub.status.idle": "2022-04-15T21:51:37.422545Z",
     "shell.execute_reply": "2022-04-15T21:51:37.421900Z"
    }
   },
   "outputs": [
    {
     "data": {
      "text/latex": [
       "$\\displaystyle \\left[\\begin{matrix}a & 2 a\\end{matrix}\\right]$"
      ],
      "text/plain": [
       "[a  2⋅a]"
      ]
     },
     "execution_count": 52,
     "metadata": {},
     "output_type": "execute_result"
    }
   ],
   "source": [
    "mat1[0, 0:2]"
   ]
  },
  {
   "cell_type": "code",
   "execution_count": 53,
   "id": "e146b176",
   "metadata": {
    "execution": {
     "iopub.execute_input": "2022-04-15T21:51:37.426058Z",
     "iopub.status.busy": "2022-04-15T21:51:37.425558Z",
     "iopub.status.idle": "2022-04-15T21:51:37.431237Z",
     "shell.execute_reply": "2022-04-15T21:51:37.430597Z"
    }
   },
   "outputs": [
    {
     "data": {
      "text/latex": [
       "$\\displaystyle \\left[\\begin{matrix}2 a\\\\f{\\left(t \\right)}\\end{matrix}\\right]$"
      ],
      "text/plain": [
       "⎡2⋅a ⎤\n",
       "⎢    ⎥\n",
       "⎣f(t)⎦"
      ]
     },
     "execution_count": 53,
     "metadata": {},
     "output_type": "execute_result"
    }
   ],
   "source": [
    "mat1[0:2, 1]"
   ]
  },
  {
   "cell_type": "code",
   "execution_count": 54,
   "id": "3c07e01d",
   "metadata": {
    "execution": {
     "iopub.execute_input": "2022-04-15T21:51:37.434648Z",
     "iopub.status.busy": "2022-04-15T21:51:37.434163Z",
     "iopub.status.idle": "2022-04-15T21:51:37.442767Z",
     "shell.execute_reply": "2022-04-15T21:51:37.442141Z"
    }
   },
   "outputs": [
    {
     "data": {
      "text/latex": [
       "$\\displaystyle \\left[\\begin{matrix}a + 1 & 2 a + 2\\\\\\frac{b}{\\omega} + 3 & f{\\left(t \\right)} + 4\\end{matrix}\\right]$"
      ],
      "text/plain": [
       "⎡a + 1  2⋅a + 2 ⎤\n",
       "⎢               ⎥\n",
       "⎢b              ⎥\n",
       "⎢─ + 3  f(t) + 4⎥\n",
       "⎣ω              ⎦"
      ]
     },
     "execution_count": 54,
     "metadata": {},
     "output_type": "execute_result"
    }
   ],
   "source": [
    "mat1 + mat2"
   ]
  },
  {
   "cell_type": "code",
   "execution_count": 55,
   "id": "35cb55aa",
   "metadata": {
    "execution": {
     "iopub.execute_input": "2022-04-15T21:51:37.446077Z",
     "iopub.status.busy": "2022-04-15T21:51:37.445540Z",
     "iopub.status.idle": "2022-04-15T21:51:37.457474Z",
     "shell.execute_reply": "2022-04-15T21:51:37.456869Z"
    }
   },
   "outputs": [
    {
     "data": {
      "text/latex": [
       "$\\displaystyle \\left[\\begin{matrix}7 a & 10 a\\\\\\frac{b}{\\omega} + 3 f{\\left(t \\right)} & \\frac{2 b}{\\omega} + 4 f{\\left(t \\right)}\\end{matrix}\\right]$"
      ],
      "text/plain": [
       "⎡   7⋅a          10⋅a    ⎤\n",
       "⎢                        ⎥\n",
       "⎢b           2⋅b         ⎥\n",
       "⎢─ + 3⋅f(t)  ─── + 4⋅f(t)⎥\n",
       "⎣ω            ω          ⎦"
      ]
     },
     "execution_count": 55,
     "metadata": {},
     "output_type": "execute_result"
    }
   ],
   "source": [
    "mat1*mat2"
   ]
  },
  {
   "cell_type": "code",
   "execution_count": 56,
   "id": "c88a2fd6",
   "metadata": {
    "execution": {
     "iopub.execute_input": "2022-04-15T21:51:37.460294Z",
     "iopub.status.busy": "2022-04-15T21:51:37.459885Z",
     "iopub.status.idle": "2022-04-15T21:51:37.468242Z",
     "shell.execute_reply": "2022-04-15T21:51:37.467609Z"
    }
   },
   "outputs": [
    {
     "data": {
      "text/latex": [
       "$\\displaystyle \\left[\\begin{matrix}7 a & 10 a\\\\\\frac{b}{\\omega} + 3 f{\\left(t \\right)} & \\frac{2 b}{\\omega} + 4 f{\\left(t \\right)}\\end{matrix}\\right]$"
      ],
      "text/plain": [
       "⎡   7⋅a          10⋅a    ⎤\n",
       "⎢                        ⎥\n",
       "⎢b           2⋅b         ⎥\n",
       "⎢─ + 3⋅f(t)  ─── + 4⋅f(t)⎥\n",
       "⎣ω            ω          ⎦"
      ]
     },
     "execution_count": 56,
     "metadata": {},
     "output_type": "execute_result"
    }
   ],
   "source": [
    "mat1@mat2"
   ]
  },
  {
   "cell_type": "code",
   "execution_count": 57,
   "id": "4cffa0c2",
   "metadata": {
    "execution": {
     "iopub.execute_input": "2022-04-15T21:51:37.471725Z",
     "iopub.status.busy": "2022-04-15T21:51:37.471244Z",
     "iopub.status.idle": "2022-04-15T21:51:37.479442Z",
     "shell.execute_reply": "2022-04-15T21:51:37.478773Z"
    }
   },
   "outputs": [
    {
     "data": {
      "text/latex": [
       "$\\displaystyle \\left[\\begin{matrix}a & 4 a\\\\\\frac{3 b}{\\omega} & 4 f{\\left(t \\right)}\\end{matrix}\\right]$"
      ],
      "text/plain": [
       "⎡ a    4⋅a  ⎤\n",
       "⎢           ⎥\n",
       "⎢3⋅b        ⎥\n",
       "⎢───  4⋅f(t)⎥\n",
       "⎣ ω         ⎦"
      ]
     },
     "execution_count": 57,
     "metadata": {},
     "output_type": "execute_result"
    }
   ],
   "source": [
    "sm.hadamard_product(mat1, mat2)"
   ]
  },
  {
   "cell_type": "code",
   "execution_count": 58,
   "id": "ff80e14d",
   "metadata": {
    "execution": {
     "iopub.execute_input": "2022-04-15T21:51:37.482866Z",
     "iopub.status.busy": "2022-04-15T21:51:37.482376Z",
     "iopub.status.idle": "2022-04-15T21:51:37.494362Z",
     "shell.execute_reply": "2022-04-15T21:51:37.493703Z"
    }
   },
   "outputs": [
    {
     "data": {
      "text/latex": [
       "$\\displaystyle \\left[\\begin{matrix}a + \\frac{b}{\\omega^{2}}\\\\a \\omega + f{\\left(t \\right)}\\\\a \\sin{\\left(\\omega \\right)} + \\frac{\\left|{f{\\left(t \\right)}}\\right|}{\\sqrt{b}}\\\\5 \\sin{\\left(12 \\right)} + 105.986768359379\\\\t \\sin{\\left(\\omega f{\\left(t \\right)} \\right)} + \\frac{f{\\left(t \\right)}}{\\sqrt{t}}\\end{matrix}\\right]$"
      ],
      "text/plain": [
       "⎡               b            ⎤\n",
       "⎢           a + ──           ⎥\n",
       "⎢                2           ⎥\n",
       "⎢               ω            ⎥\n",
       "⎢                            ⎥\n",
       "⎢         a⋅ω + f(t)         ⎥\n",
       "⎢                            ⎥\n",
       "⎢                │f(t)│      ⎥\n",
       "⎢     a⋅sin(ω) + ──────      ⎥\n",
       "⎢                  √b        ⎥\n",
       "⎢                            ⎥\n",
       "⎢5⋅sin(12) + 105.986768359379⎥\n",
       "⎢                            ⎥\n",
       "⎢                    f(t)    ⎥\n",
       "⎢    t⋅sin(ω⋅f(t)) + ────    ⎥\n",
       "⎣                     √t     ⎦"
      ]
     },
     "execution_count": 58,
     "metadata": {},
     "output_type": "execute_result"
    }
   ],
   "source": [
    "mat3 = sm.Matrix([expr1, expr2, expr3, expr4, expr5])\n",
    "mat3"
   ]
  },
  {
   "cell_type": "code",
   "execution_count": 59,
   "id": "346c151c",
   "metadata": {
    "execution": {
     "iopub.execute_input": "2022-04-15T21:51:37.497912Z",
     "iopub.status.busy": "2022-04-15T21:51:37.497407Z",
     "iopub.status.idle": "2022-04-15T21:51:37.515620Z",
     "shell.execute_reply": "2022-04-15T21:51:37.514993Z"
    }
   },
   "outputs": [
    {
     "data": {
      "text/latex": [
       "$\\displaystyle \\left[\\begin{matrix}1\\\\\\omega\\\\\\sin{\\left(\\omega \\right)}\\\\0\\\\0\\end{matrix}\\right]$"
      ],
      "text/plain": [
       "⎡  1   ⎤\n",
       "⎢      ⎥\n",
       "⎢  ω   ⎥\n",
       "⎢      ⎥\n",
       "⎢sin(ω)⎥\n",
       "⎢      ⎥\n",
       "⎢  0   ⎥\n",
       "⎢      ⎥\n",
       "⎣  0   ⎦"
      ]
     },
     "execution_count": 59,
     "metadata": {},
     "output_type": "execute_result"
    }
   ],
   "source": [
    "mat3.diff(a)"
   ]
  },
  {
   "cell_type": "code",
   "execution_count": 60,
   "id": "003d8f9f",
   "metadata": {
    "execution": {
     "iopub.execute_input": "2022-04-15T21:51:37.518470Z",
     "iopub.status.busy": "2022-04-15T21:51:37.518023Z",
     "iopub.status.idle": "2022-04-15T21:51:37.537371Z",
     "shell.execute_reply": "2022-04-15T21:51:37.536684Z"
    }
   },
   "outputs": [
    {
     "data": {
      "text/latex": [
       "$\\displaystyle \\left[\\begin{matrix}0\\\\\\frac{d}{d t} f{\\left(t \\right)}\\\\\\frac{\\left(\\operatorname{re}{\\left(f{\\left(t \\right)}\\right)} \\frac{d}{d t} \\operatorname{re}{\\left(f{\\left(t \\right)}\\right)} + \\operatorname{im}{\\left(f{\\left(t \\right)}\\right)} \\frac{d}{d t} \\operatorname{im}{\\left(f{\\left(t \\right)}\\right)}\\right) \\operatorname{sign}{\\left(f{\\left(t \\right)} \\right)}}{\\sqrt{b} f{\\left(t \\right)}}\\\\0\\\\\\omega t \\cos{\\left(\\omega f{\\left(t \\right)} \\right)} \\frac{d}{d t} f{\\left(t \\right)} + \\sin{\\left(\\omega f{\\left(t \\right)} \\right)} + \\frac{\\frac{d}{d t} f{\\left(t \\right)}}{\\sqrt{t}} - \\frac{f{\\left(t \\right)}}{2 t^{\\frac{3}{2}}}\\end{matrix}\\right]$"
      ],
      "text/plain": [
       "⎡                            0                             ⎤\n",
       "⎢                                                          ⎥\n",
       "⎢                         d                                ⎥\n",
       "⎢                         ──(f(t))                         ⎥\n",
       "⎢                         dt                               ⎥\n",
       "⎢                                                          ⎥\n",
       "⎢⎛         d                       d           ⎞           ⎥\n",
       "⎢⎜re(f(t))⋅──(re(f(t))) + im(f(t))⋅──(im(f(t)))⎟⋅sign(f(t))⎥\n",
       "⎢⎝         dt                      dt          ⎠           ⎥\n",
       "⎢──────────────────────────────────────────────────────────⎥\n",
       "⎢                         √b⋅f(t)                          ⎥\n",
       "⎢                                                          ⎥\n",
       "⎢                            0                             ⎥\n",
       "⎢                                                          ⎥\n",
       "⎢                                         d                ⎥\n",
       "⎢                                         ──(f(t))         ⎥\n",
       "⎢                d                        dt          f(t) ⎥\n",
       "⎢ω⋅t⋅cos(ω⋅f(t))⋅──(f(t)) + sin(ω⋅f(t)) + ──────── - ──────⎥\n",
       "⎢                dt                          √t         3/2⎥\n",
       "⎣                                                    2⋅t   ⎦"
      ]
     },
     "execution_count": 60,
     "metadata": {},
     "output_type": "execute_result"
    }
   ],
   "source": [
    "mat3.diff(t)"
   ]
  },
  {
   "cell_type": "code",
   "execution_count": 61,
   "id": "a94d9af3",
   "metadata": {
    "execution": {
     "iopub.execute_input": "2022-04-15T21:51:37.540235Z",
     "iopub.status.busy": "2022-04-15T21:51:37.539745Z",
     "iopub.status.idle": "2022-04-15T21:51:37.545563Z",
     "shell.execute_reply": "2022-04-15T21:51:37.544930Z"
    }
   },
   "outputs": [
    {
     "data": {
      "text/latex": [
       "$\\displaystyle \\left[\\begin{matrix}a\\\\b\\\\\\omega\\\\t\\end{matrix}\\right]$"
      ],
      "text/plain": [
       "⎡a⎤\n",
       "⎢ ⎥\n",
       "⎢b⎥\n",
       "⎢ ⎥\n",
       "⎢ω⎥\n",
       "⎢ ⎥\n",
       "⎣t⎦"
      ]
     },
     "execution_count": 61,
     "metadata": {},
     "output_type": "execute_result"
    }
   ],
   "source": [
    "mat4 = sm.Matrix([a, b, omega, t])\n",
    "mat4"
   ]
  },
  {
   "cell_type": "code",
   "execution_count": 62,
   "id": "2bf1dccd",
   "metadata": {
    "execution": {
     "iopub.execute_input": "2022-04-15T21:51:37.549109Z",
     "iopub.status.busy": "2022-04-15T21:51:37.548625Z",
     "iopub.status.idle": "2022-04-15T21:51:37.580687Z",
     "shell.execute_reply": "2022-04-15T21:51:37.579948Z"
    }
   },
   "outputs": [
    {
     "data": {
      "text/latex": [
       "$\\displaystyle \\left[\\begin{matrix}1 & \\frac{1}{\\omega^{2}} & - \\frac{2 b}{\\omega^{3}} & 0\\\\\\omega & 0 & a & \\frac{d}{d t} f{\\left(t \\right)}\\\\\\sin{\\left(\\omega \\right)} & - \\frac{\\left|{f{\\left(t \\right)}}\\right|}{2 b^{\\frac{3}{2}}} & a \\cos{\\left(\\omega \\right)} & \\frac{\\left(\\operatorname{re}{\\left(f{\\left(t \\right)}\\right)} \\frac{d}{d t} \\operatorname{re}{\\left(f{\\left(t \\right)}\\right)} + \\operatorname{im}{\\left(f{\\left(t \\right)}\\right)} \\frac{d}{d t} \\operatorname{im}{\\left(f{\\left(t \\right)}\\right)}\\right) \\operatorname{sign}{\\left(f{\\left(t \\right)} \\right)}}{\\sqrt{b} f{\\left(t \\right)}}\\\\0 & 0 & 0 & 0\\\\0 & 0 & t f{\\left(t \\right)} \\cos{\\left(\\omega f{\\left(t \\right)} \\right)} & \\omega t \\cos{\\left(\\omega f{\\left(t \\right)} \\right)} \\frac{d}{d t} f{\\left(t \\right)} + \\sin{\\left(\\omega f{\\left(t \\right)} \\right)} + \\frac{\\frac{d}{d t} f{\\left(t \\right)}}{\\sqrt{t}} - \\frac{f{\\left(t \\right)}}{2 t^{\\frac{3}{2}}}\\end{matrix}\\right]$"
      ],
      "text/plain": [
       "⎡           1            -2⋅b                                                 \n",
       "⎢  1        ──           ─────                                     0          \n",
       "⎢            2              3                                                 \n",
       "⎢           ω              ω                                                  \n",
       "⎢                                                                             \n",
       "⎢                                                               d             \n",
       "⎢  ω        0              a                                    ──(f(t))      \n",
       "⎢                                                               dt            \n",
       "⎢                                                                             \n",
       "⎢                                      ⎛         d                       d    \n",
       "⎢                                      ⎜re(f(t))⋅──(re(f(t))) + im(f(t))⋅──(im\n",
       "⎢        -│f(t)│                       ⎝         dt                      dt   \n",
       "⎢sin(ω)  ────────       a⋅cos(ω)       ───────────────────────────────────────\n",
       "⎢            3/2                                                √b⋅f(t)       \n",
       "⎢         2⋅b                                                                 \n",
       "⎢                                                                             \n",
       "⎢  0        0              0                                       0          \n",
       "⎢                                                                             \n",
       "⎢                                                                             \n",
       "⎢                                                                             \n",
       "⎢                                                      d                      \n",
       "⎢  0        0      t⋅f(t)⋅cos(ω⋅f(t))  ω⋅t⋅cos(ω⋅f(t))⋅──(f(t)) + sin(ω⋅f(t)) \n",
       "⎢                                                      dt                     \n",
       "⎣                                                                             \n",
       "\n",
       "                   ⎤\n",
       "                   ⎥\n",
       "                   ⎥\n",
       "                   ⎥\n",
       "                   ⎥\n",
       "                   ⎥\n",
       "                   ⎥\n",
       "                   ⎥\n",
       "                   ⎥\n",
       "       ⎞           ⎥\n",
       "(f(t)))⎟⋅sign(f(t))⎥\n",
       "       ⎠           ⎥\n",
       "───────────────────⎥\n",
       "                   ⎥\n",
       "                   ⎥\n",
       "                   ⎥\n",
       "                   ⎥\n",
       "                   ⎥\n",
       "  d                ⎥\n",
       "  ──(f(t))         ⎥\n",
       "  dt          f(t) ⎥\n",
       "+ ──────── - ──────⎥\n",
       "     √t         3/2⎥\n",
       "             2⋅t   ⎦"
      ]
     },
     "execution_count": 62,
     "metadata": {},
     "output_type": "execute_result"
    }
   ],
   "source": [
    "mat3.jacobian(mat4)"
   ]
  },
  {
   "cell_type": "code",
   "execution_count": 63,
   "id": "049c46a6",
   "metadata": {
    "execution": {
     "iopub.execute_input": "2022-04-15T21:51:37.584130Z",
     "iopub.status.busy": "2022-04-15T21:51:37.583940Z",
     "iopub.status.idle": "2022-04-15T21:51:37.605489Z",
     "shell.execute_reply": "2022-04-15T21:51:37.604876Z"
    }
   },
   "outputs": [
    {
     "data": {
      "text/latex": [
       "$\\displaystyle \\left[\\begin{matrix}a_{1} \\sin{\\left(f{\\left(t \\right)} \\right)} \\cos{\\left(2 f{\\left(t \\right)} \\right)} + a_{2} + \\frac{\\omega \\log{\\left(t \\right)}}{\\log{\\left(f{\\left(t \\right)} \\right)}} + 100\\\\a_{1} \\omega^{2} + a_{2} f{\\left(t \\right)} + \\omega + f^{3}{\\left(t \\right)}\\end{matrix}\\right]$"
      ],
      "text/plain": [
       "⎡                                 ω⋅log(t)      ⎤\n",
       "⎢a₁⋅sin(f(t))⋅cos(2⋅f(t)) + a₂ + ───────── + 100⎥\n",
       "⎢                                log(f(t))      ⎥\n",
       "⎢                                               ⎥\n",
       "⎢              2                  3             ⎥\n",
       "⎣          a₁⋅ω  + a₂⋅f(t) + ω + f (t)          ⎦"
      ]
     },
     "execution_count": 63,
     "metadata": {},
     "output_type": "execute_result"
    }
   ],
   "source": [
    "a1, a2 = sm.symbols('a1, a2')\n",
    "\n",
    "exprs = sm.Matrix([\n",
    "    [a1*sm.sin(f(t))*sm.cos(2*f(t)) + a2 + omega/sm.log(f(t), t) + 100],\n",
    "    [a1*omega**2 + f(t)*a2 + omega + f(t)**3],\n",
    "])\n",
    "exprs"
   ]
  },
  {
   "cell_type": "code",
   "execution_count": 64,
   "id": "0109bf95",
   "metadata": {
    "execution": {
     "iopub.execute_input": "2022-04-15T21:51:37.609151Z",
     "iopub.status.busy": "2022-04-15T21:51:37.608662Z",
     "iopub.status.idle": "2022-04-15T21:51:37.619917Z",
     "shell.execute_reply": "2022-04-15T21:51:37.619347Z"
    }
   },
   "outputs": [
    {
     "data": {
      "text/latex": [
       "$\\displaystyle \\left[\\begin{matrix}\\sin{\\left(f{\\left(t \\right)} \\right)} \\cos{\\left(2 f{\\left(t \\right)} \\right)} & 1\\\\\\omega^{2} & f{\\left(t \\right)}\\end{matrix}\\right]$"
      ],
      "text/plain": [
       "⎡sin(f(t))⋅cos(2⋅f(t))   1  ⎤\n",
       "⎢                           ⎥\n",
       "⎢          2                ⎥\n",
       "⎣         ω             f(t)⎦"
      ]
     },
     "execution_count": 64,
     "metadata": {},
     "output_type": "execute_result"
    }
   ],
   "source": [
    "A = exprs.jacobian([a1, a2])\n",
    "A"
   ]
  },
  {
   "cell_type": "code",
   "execution_count": 65,
   "id": "dce40fbe",
   "metadata": {
    "execution": {
     "iopub.execute_input": "2022-04-15T21:51:37.623254Z",
     "iopub.status.busy": "2022-04-15T21:51:37.622797Z",
     "iopub.status.idle": "2022-04-15T21:51:37.631297Z",
     "shell.execute_reply": "2022-04-15T21:51:37.630690Z"
    }
   },
   "outputs": [
    {
     "data": {
      "text/latex": [
       "$\\displaystyle \\left[\\begin{matrix}- \\frac{\\omega \\log{\\left(t \\right)}}{\\log{\\left(f{\\left(t \\right)} \\right)}} - 100\\\\- \\omega - f^{3}{\\left(t \\right)}\\end{matrix}\\right]$"
      ],
      "text/plain": [
       "⎡   ω⋅log(t)      ⎤\n",
       "⎢- ───────── - 100⎥\n",
       "⎢  log(f(t))      ⎥\n",
       "⎢                 ⎥\n",
       "⎢         3       ⎥\n",
       "⎣   -ω - f (t)    ⎦"
      ]
     },
     "execution_count": 65,
     "metadata": {},
     "output_type": "execute_result"
    }
   ],
   "source": [
    "b = -exprs.xreplace({a1: 0, a2:0})\n",
    "b"
   ]
  },
  {
   "cell_type": "code",
   "execution_count": 66,
   "id": "6d2b2796",
   "metadata": {
    "execution": {
     "iopub.execute_input": "2022-04-15T21:51:37.634770Z",
     "iopub.status.busy": "2022-04-15T21:51:37.634275Z",
     "iopub.status.idle": "2022-04-15T21:51:37.674410Z",
     "shell.execute_reply": "2022-04-15T21:51:37.673645Z"
    }
   },
   "outputs": [
    {
     "data": {
      "text/latex": [
       "$\\displaystyle \\left[\\begin{matrix}\\frac{- \\frac{\\omega \\log{\\left(t \\right)}}{\\log{\\left(f{\\left(t \\right)} \\right)}} - 100 - \\frac{- \\frac{\\omega^{2} \\left(- \\frac{\\omega \\log{\\left(t \\right)}}{\\log{\\left(f{\\left(t \\right)} \\right)}} - 100\\right)}{\\sin{\\left(f{\\left(t \\right)} \\right)} \\cos{\\left(2 f{\\left(t \\right)} \\right)}} - \\omega - f^{3}{\\left(t \\right)}}{- \\frac{\\omega^{2}}{\\sin{\\left(f{\\left(t \\right)} \\right)} \\cos{\\left(2 f{\\left(t \\right)} \\right)}} + f{\\left(t \\right)}}}{\\sin{\\left(f{\\left(t \\right)} \\right)} \\cos{\\left(2 f{\\left(t \\right)} \\right)}}\\\\\\frac{- \\frac{\\omega^{2} \\left(- \\frac{\\omega \\log{\\left(t \\right)}}{\\log{\\left(f{\\left(t \\right)} \\right)}} - 100\\right)}{\\sin{\\left(f{\\left(t \\right)} \\right)} \\cos{\\left(2 f{\\left(t \\right)} \\right)}} - \\omega - f^{3}{\\left(t \\right)}}{- \\frac{\\omega^{2}}{\\sin{\\left(f{\\left(t \\right)} \\right)} \\cos{\\left(2 f{\\left(t \\right)} \\right)}} + f{\\left(t \\right)}}\\end{matrix}\\right]$"
      ],
      "text/plain": [
       "⎡                       2 ⎛   ω⋅log(t)      ⎞            ⎤\n",
       "⎢                      ω ⋅⎜- ───────── - 100⎟            ⎥\n",
       "⎢                         ⎝  log(f(t))      ⎠        3   ⎥\n",
       "⎢                    - ────────────────────── - ω - f (t)⎥\n",
       "⎢   ω⋅log(t)           sin(f(t))⋅cos(2⋅f(t))             ⎥\n",
       "⎢- ───────── - 100 - ────────────────────────────────────⎥\n",
       "⎢  log(f(t))                         2                   ⎥\n",
       "⎢                                   ω                    ⎥\n",
       "⎢                       - ───────────────────── + f(t)   ⎥\n",
       "⎢                         sin(f(t))⋅cos(2⋅f(t))          ⎥\n",
       "⎢────────────────────────────────────────────────────────⎥\n",
       "⎢                 sin(f(t))⋅cos(2⋅f(t))                  ⎥\n",
       "⎢                                                        ⎥\n",
       "⎢             2 ⎛   ω⋅log(t)      ⎞                      ⎥\n",
       "⎢            ω ⋅⎜- ───────── - 100⎟                      ⎥\n",
       "⎢               ⎝  log(f(t))      ⎠        3             ⎥\n",
       "⎢          - ────────────────────── - ω - f (t)          ⎥\n",
       "⎢            sin(f(t))⋅cos(2⋅f(t))                       ⎥\n",
       "⎢          ────────────────────────────────────          ⎥\n",
       "⎢                          2                             ⎥\n",
       "⎢                         ω                              ⎥\n",
       "⎢             - ───────────────────── + f(t)             ⎥\n",
       "⎣               sin(f(t))⋅cos(2⋅f(t))                    ⎦"
      ]
     },
     "execution_count": 66,
     "metadata": {},
     "output_type": "execute_result"
    }
   ],
   "source": [
    "A.LUsolve(b)"
   ]
  },
  {
   "cell_type": "code",
   "execution_count": 67,
   "id": "29326952",
   "metadata": {
    "execution": {
     "iopub.execute_input": "2022-04-15T21:51:37.677868Z",
     "iopub.status.busy": "2022-04-15T21:51:37.677661Z",
     "iopub.status.idle": "2022-04-15T21:51:38.803141Z",
     "shell.execute_reply": "2022-04-15T21:51:38.802628Z"
    }
   },
   "outputs": [
    {
     "data": {
      "text/latex": [
       "$\\displaystyle \\left[\\begin{matrix}\\frac{- \\omega f{\\left(t \\right)} \\log{\\left(t \\right)} + \\omega \\log{\\left(f{\\left(t \\right)} \\right)} + f^{3}{\\left(t \\right)} \\log{\\left(f{\\left(t \\right)} \\right)} - 100 f{\\left(t \\right)} \\log{\\left(f{\\left(t \\right)} \\right)}}{\\left(- \\omega^{2} + f{\\left(t \\right)} \\sin{\\left(f{\\left(t \\right)} \\right)} \\cos{\\left(2 f{\\left(t \\right)} \\right)}\\right) \\log{\\left(f{\\left(t \\right)} \\right)}}\\\\\\frac{- \\omega^{2} \\left(\\omega \\log{\\left(t \\right)} + 100 \\log{\\left(f{\\left(t \\right)} \\right)}\\right) + \\left(\\omega + f^{3}{\\left(t \\right)}\\right) \\log{\\left(f{\\left(t \\right)} \\right)} \\sin{\\left(f{\\left(t \\right)} \\right)} \\cos{\\left(2 f{\\left(t \\right)} \\right)}}{\\left(\\omega^{2} - f{\\left(t \\right)} \\sin{\\left(f{\\left(t \\right)} \\right)} \\cos{\\left(2 f{\\left(t \\right)} \\right)}\\right) \\log{\\left(f{\\left(t \\right)} \\right)}}\\end{matrix}\\right]$"
      ],
      "text/plain": [
       "⎡                                     3                                       \n",
       "⎢     -ω⋅f(t)⋅log(t) + ω⋅log(f(t)) + f (t)⋅log(f(t)) - 100⋅f(t)⋅log(f(t))     \n",
       "⎢     ───────────────────────────────────────────────────────────────────     \n",
       "⎢                ⎛   2                             ⎞                          \n",
       "⎢                ⎝- ω  + f(t)⋅sin(f(t))⋅cos(2⋅f(t))⎠⋅log(f(t))                \n",
       "⎢                                                                             \n",
       "⎢   2                              ⎛     3   ⎞                                \n",
       "⎢- ω ⋅(ω⋅log(t) + 100⋅log(f(t))) + ⎝ω + f (t)⎠⋅log(f(t))⋅sin(f(t))⋅cos(2⋅f(t))\n",
       "⎢─────────────────────────────────────────────────────────────────────────────\n",
       "⎢                 ⎛ 2                             ⎞                           \n",
       "⎣                 ⎝ω  - f(t)⋅sin(f(t))⋅cos(2⋅f(t))⎠⋅log(f(t))                 \n",
       "\n",
       "⎤\n",
       "⎥\n",
       "⎥\n",
       "⎥\n",
       "⎥\n",
       "⎥\n",
       "⎥\n",
       "⎥\n",
       "⎥\n",
       "⎥\n",
       "⎦"
      ]
     },
     "execution_count": 67,
     "metadata": {},
     "output_type": "execute_result"
    }
   ],
   "source": [
    "sm.simplify(A.LUsolve(b))"
   ]
  },
  {
   "cell_type": "code",
   "execution_count": 68,
   "id": "d5cefbfa",
   "metadata": {
    "execution": {
     "iopub.execute_input": "2022-04-15T21:51:38.806404Z",
     "iopub.status.busy": "2022-04-15T21:51:38.805878Z",
     "iopub.status.idle": "2022-04-15T21:51:38.843972Z",
     "shell.execute_reply": "2022-04-15T21:51:38.843408Z"
    }
   },
   "outputs": [
    {
     "data": {
      "text/latex": [
       "$\\displaystyle 1$"
      ],
      "text/plain": [
       "1"
      ]
     },
     "execution_count": 68,
     "metadata": {},
     "output_type": "execute_result"
    }
   ],
   "source": [
    "sm.trigsimp(sm.cos(omega)**2 + sm.sin(omega)**2)"
   ]
  },
  {
   "cell_type": "code",
   "execution_count": 69,
   "id": "a0aefc52",
   "metadata": {
    "execution": {
     "iopub.execute_input": "2022-04-15T21:51:38.847657Z",
     "iopub.status.busy": "2022-04-15T21:51:38.847162Z",
     "iopub.status.idle": "2022-04-15T21:51:38.873553Z",
     "shell.execute_reply": "2022-04-15T21:51:38.872902Z"
    }
   },
   "outputs": [],
   "source": [
    "substitutions, simplified = sm.cse(A.LUsolve(b))"
   ]
  },
  {
   "cell_type": "code",
   "execution_count": 70,
   "id": "27bcdef7",
   "metadata": {
    "execution": {
     "iopub.execute_input": "2022-04-15T21:51:38.876592Z",
     "iopub.status.busy": "2022-04-15T21:51:38.876277Z",
     "iopub.status.idle": "2022-04-15T21:51:38.883099Z",
     "shell.execute_reply": "2022-04-15T21:51:38.882537Z"
    }
   },
   "outputs": [
    {
     "data": {
      "text/latex": [
       "$\\displaystyle \\left( x_{0}, \\  f{\\left(t \\right)}\\right)$"
      ],
      "text/plain": [
       "(x₀, f(t))"
      ]
     },
     "execution_count": 70,
     "metadata": {},
     "output_type": "execute_result"
    }
   ],
   "source": [
    "substitutions[0]"
   ]
  },
  {
   "cell_type": "code",
   "execution_count": 71,
   "id": "a3ca850d",
   "metadata": {
    "execution": {
     "iopub.execute_input": "2022-04-15T21:51:38.886125Z",
     "iopub.status.busy": "2022-04-15T21:51:38.885795Z",
     "iopub.status.idle": "2022-04-15T21:51:38.893476Z",
     "shell.execute_reply": "2022-04-15T21:51:38.892927Z"
    }
   },
   "outputs": [
    {
     "data": {
      "text/latex": [
       "$\\displaystyle x_{0} = f{\\left(t \\right)}$"
      ],
      "text/plain": [
       "x₀ = f(t)"
      ]
     },
     "execution_count": 71,
     "metadata": {},
     "output_type": "execute_result"
    }
   ],
   "source": [
    "sm.Eq(*substitutions[0])"
   ]
  },
  {
   "cell_type": "code",
   "execution_count": 72,
   "id": "f56788b9",
   "metadata": {
    "execution": {
     "iopub.execute_input": "2022-04-15T21:51:38.896628Z",
     "iopub.status.busy": "2022-04-15T21:51:38.896173Z",
     "iopub.status.idle": "2022-04-15T21:51:38.910049Z",
     "shell.execute_reply": "2022-04-15T21:51:38.909481Z"
    }
   },
   "outputs": [
    {
     "data": {
      "text/latex": [
       "$\\displaystyle x_{1} = \\frac{1}{\\sin{\\left(x_{0} \\right)} \\cos{\\left(2 x_{0} \\right)}}$"
      ],
      "text/plain": [
       "             1        \n",
       "x₁ = ─────────────────\n",
       "     sin(x₀)⋅cos(2⋅x₀)"
      ]
     },
     "execution_count": 72,
     "metadata": {},
     "output_type": "execute_result"
    }
   ],
   "source": [
    "sm.Eq(*substitutions[1])"
   ]
  },
  {
   "cell_type": "code",
   "execution_count": 73,
   "id": "c22d4d4c",
   "metadata": {
    "execution": {
     "iopub.execute_input": "2022-04-15T21:51:38.912965Z",
     "iopub.status.busy": "2022-04-15T21:51:38.912634Z",
     "iopub.status.idle": "2022-04-15T21:51:38.921708Z",
     "shell.execute_reply": "2022-04-15T21:51:38.921158Z"
    }
   },
   "outputs": [
    {
     "data": {
      "text/latex": [
       "$\\displaystyle x_{2} = \\omega^{2} x_{1}$"
      ],
      "text/plain": [
       "      2   \n",
       "x₂ = ω ⋅x₁"
      ]
     },
     "execution_count": 73,
     "metadata": {},
     "output_type": "execute_result"
    }
   ],
   "source": [
    "sm.Eq(*substitutions[2])"
   ]
  },
  {
   "cell_type": "code",
   "execution_count": 74,
   "id": "6c137515",
   "metadata": {
    "execution": {
     "iopub.execute_input": "2022-04-15T21:51:38.925796Z",
     "iopub.status.busy": "2022-04-15T21:51:38.924559Z",
     "iopub.status.idle": "2022-04-15T21:51:38.940098Z",
     "shell.execute_reply": "2022-04-15T21:51:38.939541Z"
    }
   },
   "outputs": [
    {
     "data": {
      "text/latex": [
       "$\\displaystyle x_{4} = \\frac{- \\omega - x_{0}^{3} + x_{2} x_{3}}{x_{0} - x_{2}}$"
      ],
      "text/plain": [
       "            3        \n",
       "     -ω - x₀  + x₂⋅x₃\n",
       "x₄ = ────────────────\n",
       "         x₀ - x₂     "
      ]
     },
     "execution_count": 74,
     "metadata": {},
     "output_type": "execute_result"
    }
   ],
   "source": [
    "sm.Eq(*substitutions[4])"
   ]
  },
  {
   "cell_type": "code",
   "execution_count": 75,
   "id": "ecb9684c",
   "metadata": {
    "execution": {
     "iopub.execute_input": "2022-04-15T21:51:38.943102Z",
     "iopub.status.busy": "2022-04-15T21:51:38.942680Z",
     "iopub.status.idle": "2022-04-15T21:51:38.951319Z",
     "shell.execute_reply": "2022-04-15T21:51:38.950786Z"
    }
   },
   "outputs": [
    {
     "data": {
      "text/latex": [
       "$\\displaystyle \\left[\\begin{matrix}x_{1} \\left(- x_{3} - x_{4}\\right)\\\\x_{4}\\end{matrix}\\right]$"
      ],
      "text/plain": [
       "⎡x₁⋅(-x₃ - x₄)⎤\n",
       "⎢             ⎥\n",
       "⎣     x₄      ⎦"
      ]
     },
     "execution_count": 75,
     "metadata": {},
     "output_type": "execute_result"
    }
   ],
   "source": [
    "simplified[0]"
   ]
  }
 ],
 "metadata": {
  "kernelspec": {
   "display_name": "Python 3 (ipykernel)",
   "language": "python",
   "name": "python3"
  },
  "language_info": {
   "codemirror_mode": {
    "name": "ipython",
    "version": 3
   },
   "file_extension": ".py",
   "mimetype": "text/x-python",
   "name": "python",
   "nbconvert_exporter": "python",
   "pygments_lexer": "ipython3",
   "version": "3.9.12"
  }
 },
 "nbformat": 4,
 "nbformat_minor": 5
}