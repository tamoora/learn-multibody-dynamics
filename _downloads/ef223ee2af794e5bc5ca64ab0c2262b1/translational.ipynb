{
 "cells": [
  {
   "cell_type": "code",
   "execution_count": 1,
   "id": "0faa63a7",
   "metadata": {
    "execution": {
     "iopub.execute_input": "2022-04-15T21:51:40.801685Z",
     "iopub.status.busy": "2022-04-15T21:51:40.801441Z",
     "iopub.status.idle": "2022-04-15T21:51:41.424002Z",
     "shell.execute_reply": "2022-04-15T21:51:41.422647Z"
    }
   },
   "outputs": [],
   "source": [
    "import sympy as sm\n",
    "import sympy.physics.mechanics as me\n",
    "me.init_vprinting(use_latex='mathjax')"
   ]
  },
  {
   "cell_type": "code",
   "execution_count": 2,
   "id": "510a5a10",
   "metadata": {
    "execution": {
     "iopub.execute_input": "2022-04-15T21:51:41.428624Z",
     "iopub.status.busy": "2022-04-15T21:51:41.428422Z",
     "iopub.status.idle": "2022-04-15T21:51:41.444572Z",
     "shell.execute_reply": "2022-04-15T21:51:41.443959Z"
    }
   },
   "outputs": [],
   "source": [
    "alpha, beta = me.dynamicsymbols('alpha, beta')\n",
    "\n",
    "N = me.ReferenceFrame('N')\n",
    "A = me.ReferenceFrame('A')\n",
    "B = me.ReferenceFrame('B')\n",
    "\n",
    "A.orient_axis(N, alpha, N.z)\n",
    "B.orient_axis(A, beta, A.x)"
   ]
  },
  {
   "cell_type": "code",
   "execution_count": 3,
   "id": "95298ad3",
   "metadata": {
    "execution": {
     "iopub.execute_input": "2022-04-15T21:51:41.447615Z",
     "iopub.status.busy": "2022-04-15T21:51:41.447190Z",
     "iopub.status.idle": "2022-04-15T21:51:41.461037Z",
     "shell.execute_reply": "2022-04-15T21:51:41.460422Z"
    }
   },
   "outputs": [
    {
     "data": {
      "text/latex": [
       "$\\displaystyle \\left( h\\mathbf{\\hat{n}_z}, \\  -  d\\mathbf{\\hat{a}_x}, \\  -  w\\mathbf{\\hat{b}_x} + (- c - \\frac{l}{2})\\mathbf{\\hat{b}_z}\\right)$"
      ],
      "text/plain": [
       "⎛h n_z, -d a_x,            ⎛     l⎞  ⎞\n",
       "⎜               -w b_x + ⎜-c - ─⎟ b_z⎟\n",
       "⎝                          ⎝     2⎠  ⎠"
      ]
     },
     "execution_count": 3,
     "metadata": {},
     "output_type": "execute_result"
    }
   ],
   "source": [
    "h, d, w, c, l = sm.symbols('h, d, w, c, l')\n",
    "\n",
    "r_O_P = h*N.z\n",
    "r_P_S = -d*A.x\n",
    "r_S_Q = -w*B.x - (c + l/2)*B.z\n",
    "\n",
    "r_O_P, r_P_S, r_S_Q"
   ]
  },
  {
   "cell_type": "code",
   "execution_count": 4,
   "id": "28377f03",
   "metadata": {
    "execution": {
     "iopub.execute_input": "2022-04-15T21:51:41.464678Z",
     "iopub.status.busy": "2022-04-15T21:51:41.464269Z",
     "iopub.status.idle": "2022-04-15T21:51:41.472951Z",
     "shell.execute_reply": "2022-04-15T21:51:41.472337Z"
    }
   },
   "outputs": [
    {
     "data": {
      "text/latex": [
       "$\\displaystyle 0$"
      ],
      "text/plain": [
       "0"
      ]
     },
     "execution_count": 4,
     "metadata": {},
     "output_type": "execute_result"
    }
   ],
   "source": [
    "(r_O_P + r_P_S).dt(A)"
   ]
  },
  {
   "cell_type": "code",
   "execution_count": 5,
   "id": "0873c11c",
   "metadata": {
    "execution": {
     "iopub.execute_input": "2022-04-15T21:51:41.476585Z",
     "iopub.status.busy": "2022-04-15T21:51:41.476108Z",
     "iopub.status.idle": "2022-04-15T21:51:41.481541Z",
     "shell.execute_reply": "2022-04-15T21:51:41.480933Z"
    }
   },
   "outputs": [
    {
     "data": {
      "text/latex": [
       "$\\displaystyle \\dot{\\alpha}\\mathbf{\\hat{n}_z}$"
      ],
      "text/plain": [
       "α̇ n_z"
      ]
     },
     "execution_count": 5,
     "metadata": {},
     "output_type": "execute_result"
    }
   ],
   "source": [
    "A.ang_vel_in(N)"
   ]
  },
  {
   "cell_type": "code",
   "execution_count": 6,
   "id": "ff80a0af",
   "metadata": {
    "execution": {
     "iopub.execute_input": "2022-04-15T21:51:41.485033Z",
     "iopub.status.busy": "2022-04-15T21:51:41.484714Z",
     "iopub.status.idle": "2022-04-15T21:51:41.497058Z",
     "shell.execute_reply": "2022-04-15T21:51:41.496464Z"
    }
   },
   "outputs": [
    {
     "data": {
      "text/latex": [
       "$\\displaystyle -  d \\dot{\\alpha}\\mathbf{\\hat{a}_y}$"
      ],
      "text/plain": [
       "-d⋅α̇ a_y"
      ]
     },
     "execution_count": 6,
     "metadata": {},
     "output_type": "execute_result"
    }
   ],
   "source": [
    "me.cross(A.ang_vel_in(N), r_O_P + r_P_S)"
   ]
  },
  {
   "cell_type": "code",
   "execution_count": 7,
   "id": "36aa6de5",
   "metadata": {
    "execution": {
     "iopub.execute_input": "2022-04-15T21:51:41.500008Z",
     "iopub.status.busy": "2022-04-15T21:51:41.499517Z",
     "iopub.status.idle": "2022-04-15T21:51:41.513928Z",
     "shell.execute_reply": "2022-04-15T21:51:41.513283Z"
    }
   },
   "outputs": [
    {
     "data": {
      "text/latex": [
       "$\\displaystyle -  d \\dot{\\alpha}\\mathbf{\\hat{a}_y}$"
      ],
      "text/plain": [
       "-d⋅α̇ a_y"
      ]
     },
     "execution_count": 7,
     "metadata": {},
     "output_type": "execute_result"
    }
   ],
   "source": [
    "N_v_S = (r_O_P + r_P_S).dt(A) + me.cross(A.ang_vel_in(N), r_O_P + r_P_S)\n",
    "N_v_S"
   ]
  },
  {
   "cell_type": "code",
   "execution_count": 8,
   "id": "2134f615",
   "metadata": {
    "execution": {
     "iopub.execute_input": "2022-04-15T21:51:41.517085Z",
     "iopub.status.busy": "2022-04-15T21:51:41.516599Z",
     "iopub.status.idle": "2022-04-15T21:51:41.534298Z",
     "shell.execute_reply": "2022-04-15T21:51:41.533660Z"
    }
   },
   "outputs": [
    {
     "data": {
      "text/latex": [
       "$\\displaystyle -  h \\sin{\\left(\\alpha \\right)} \\dot{\\beta}\\mathbf{\\hat{n}_x} + h \\cos{\\left(\\alpha \\right)} \\dot{\\beta}\\mathbf{\\hat{n}_y}$"
      ],
      "text/plain": [
       "-h⋅sin(α)⋅β̇ n_x + h⋅cos(α)⋅β̇ n_y"
      ]
     },
     "execution_count": 8,
     "metadata": {},
     "output_type": "execute_result"
    }
   ],
   "source": [
    "(r_O_P + r_P_S + r_S_Q).dt(B)"
   ]
  },
  {
   "cell_type": "code",
   "execution_count": 9,
   "id": "a125b994",
   "metadata": {
    "execution": {
     "iopub.execute_input": "2022-04-15T21:51:41.537897Z",
     "iopub.status.busy": "2022-04-15T21:51:41.537408Z",
     "iopub.status.idle": "2022-04-15T21:51:41.571417Z",
     "shell.execute_reply": "2022-04-15T21:51:41.570773Z"
    }
   },
   "outputs": [
    {
     "data": {
      "text/latex": [
       "$\\displaystyle h \\sin{\\left(\\alpha \\right)} \\dot{\\beta}\\mathbf{\\hat{n}_x} -  h \\cos{\\left(\\alpha \\right)} \\dot{\\beta}\\mathbf{\\hat{n}_y} -  d \\dot{\\alpha}\\mathbf{\\hat{a}_y} + \\left(- c - \\frac{l}{2}\\right) \\sin{\\left(\\beta \\right)} \\dot{\\alpha}\\mathbf{\\hat{b}_x} + (- w \\cos{\\left(\\beta \\right)} \\dot{\\alpha} - \\left(- c - \\frac{l}{2}\\right) \\dot{\\beta})\\mathbf{\\hat{b}_y} + w \\sin{\\left(\\beta \\right)} \\dot{\\alpha}\\mathbf{\\hat{b}_z}$"
      ],
      "text/plain": [
       "                                              ⎛     l⎞                ⎛\n",
       "h⋅sin(α)⋅β̇ n_x + -h⋅cos(α)⋅β̇ n_y + -d⋅α̇ a_y + ⎜-c - ─⎟⋅sin(β)⋅α̇ b_x + ⎜-w⋅\n",
       "                                              ⎝     2⎠                ⎝\n",
       "\n",
       "       ⎛     l⎞  ⎞\n",
       "cos(β)⋅α̇ - ⎜-c - ─⎟⋅β̇⎟ b_y + w⋅sin(β)⋅α̇ b_z\n",
       "       ⎝     2⎠  ⎠"
      ]
     },
     "execution_count": 9,
     "metadata": {},
     "output_type": "execute_result"
    }
   ],
   "source": [
    "me.cross(B.ang_vel_in(N), r_O_P + r_P_S + r_S_Q)"
   ]
  },
  {
   "cell_type": "code",
   "execution_count": 10,
   "id": "0e8fb48b",
   "metadata": {
    "execution": {
     "iopub.execute_input": "2022-04-15T21:51:41.574694Z",
     "iopub.status.busy": "2022-04-15T21:51:41.574203Z",
     "iopub.status.idle": "2022-04-15T21:51:41.605151Z",
     "shell.execute_reply": "2022-04-15T21:51:41.604530Z"
    }
   },
   "outputs": [
    {
     "data": {
      "text/latex": [
       "$\\displaystyle -  d \\dot{\\alpha}\\mathbf{\\hat{a}_y} + \\left(- c - \\frac{l}{2}\\right) \\sin{\\left(\\beta \\right)} \\dot{\\alpha}\\mathbf{\\hat{b}_x} + (- w \\cos{\\left(\\beta \\right)} \\dot{\\alpha} - \\left(- c - \\frac{l}{2}\\right) \\dot{\\beta})\\mathbf{\\hat{b}_y} + w \\sin{\\left(\\beta \\right)} \\dot{\\alpha}\\mathbf{\\hat{b}_z}$"
      ],
      "text/plain": [
       "           ⎛     l⎞                ⎛              ⎛     l⎞  ⎞\n",
       "-d⋅α̇ a_y + ⎜-c - ─⎟⋅sin(β)⋅α̇ b_x + ⎜-w⋅cos(β)⋅α̇ - ⎜-c - ─⎟⋅β̇⎟ b_y + w⋅sin(\n",
       "           ⎝     2⎠                ⎝              ⎝     2⎠  ⎠\n",
       "\n",
       "\n",
       "β)⋅α̇ b_z\n"
      ]
     },
     "execution_count": 10,
     "metadata": {},
     "output_type": "execute_result"
    }
   ],
   "source": [
    "N_v_Q = (r_O_P + r_P_S + r_S_Q).dt(B) + me.cross(B.ang_vel_in(N), r_O_P + r_P_S + r_S_Q)\n",
    "N_v_Q"
   ]
  },
  {
   "cell_type": "code",
   "execution_count": 11,
   "id": "fae5f291",
   "metadata": {
    "execution": {
     "iopub.execute_input": "2022-04-15T21:51:41.608161Z",
     "iopub.status.busy": "2022-04-15T21:51:41.607668Z",
     "iopub.status.idle": "2022-04-15T21:51:41.614250Z",
     "shell.execute_reply": "2022-04-15T21:51:41.613609Z"
    }
   },
   "outputs": [],
   "source": [
    "O = me.Point('O')\n",
    "P = me.Point('P')\n",
    "S = me.Point('S')\n",
    "Q = me.Point('Q')\n",
    "\n",
    "P.set_pos(O, h*N.z)\n",
    "S.set_pos(P, -d*A.x)\n",
    "Q.set_pos(S, -w*B.x - (c + l/2)*B.z)"
   ]
  },
  {
   "cell_type": "code",
   "execution_count": 12,
   "id": "3bafd65e",
   "metadata": {
    "execution": {
     "iopub.execute_input": "2022-04-15T21:51:41.617118Z",
     "iopub.status.busy": "2022-04-15T21:51:41.616647Z",
     "iopub.status.idle": "2022-04-15T21:51:41.623388Z",
     "shell.execute_reply": "2022-04-15T21:51:41.622787Z"
    }
   },
   "outputs": [
    {
     "data": {
      "text/latex": [
       "$\\displaystyle -  w\\mathbf{\\hat{b}_x} + (- c - \\frac{l}{2})\\mathbf{\\hat{b}_z} -  d\\mathbf{\\hat{a}_x} + h\\mathbf{\\hat{n}_z}$"
      ],
      "text/plain": [
       "         ⎛     l⎞\n",
       "-w b_x + ⎜-c - ─⎟ b_z + -d a_x + h n_z\n",
       "         ⎝     2⎠"
      ]
     },
     "execution_count": 12,
     "metadata": {},
     "output_type": "execute_result"
    }
   ],
   "source": [
    "Q.pos_from(O)"
   ]
  },
  {
   "cell_type": "code",
   "execution_count": 13,
   "id": "bae3fdaa",
   "metadata": {
    "execution": {
     "iopub.execute_input": "2022-04-15T21:51:41.626836Z",
     "iopub.status.busy": "2022-04-15T21:51:41.626364Z",
     "iopub.status.idle": "2022-04-15T21:51:41.629460Z",
     "shell.execute_reply": "2022-04-15T21:51:41.628885Z"
    }
   },
   "outputs": [],
   "source": [
    "O.set_vel(N, 0)"
   ]
  },
  {
   "cell_type": "code",
   "execution_count": 14,
   "id": "f6475430",
   "metadata": {
    "execution": {
     "iopub.execute_input": "2022-04-15T21:51:41.632178Z",
     "iopub.status.busy": "2022-04-15T21:51:41.631692Z",
     "iopub.status.idle": "2022-04-15T21:51:41.654601Z",
     "shell.execute_reply": "2022-04-15T21:51:41.653989Z"
    }
   },
   "outputs": [
    {
     "data": {
      "text/latex": [
       "$\\displaystyle \\left(- c - \\frac{l}{2}\\right) \\sin{\\left(\\beta \\right)} \\dot{\\alpha}\\mathbf{\\hat{b}_x} + (- w \\cos{\\left(\\beta \\right)} \\dot{\\alpha} - \\left(- c - \\frac{l}{2}\\right) \\dot{\\beta})\\mathbf{\\hat{b}_y} + w \\sin{\\left(\\beta \\right)} \\dot{\\alpha}\\mathbf{\\hat{b}_z} -  d \\dot{\\alpha}\\mathbf{\\hat{a}_y}$"
      ],
      "text/plain": [
       "⎛     l⎞                ⎛              ⎛     l⎞  ⎞\n",
       "⎜-c - ─⎟⋅sin(β)⋅α̇ b_x + ⎜-w⋅cos(β)⋅α̇ - ⎜-c - ─⎟⋅β̇⎟ b_y + w⋅sin(β)⋅α̇ b_z +\n",
       "⎝     2⎠                ⎝              ⎝     2⎠  ⎠\n",
       "\n",
       "\n",
       "-d⋅α̇ a_y\n"
      ]
     },
     "execution_count": 14,
     "metadata": {},
     "output_type": "execute_result"
    }
   ],
   "source": [
    "Q.vel(N)"
   ]
  },
  {
   "cell_type": "code",
   "execution_count": 15,
   "id": "306c9079",
   "metadata": {
    "execution": {
     "iopub.execute_input": "2022-04-15T21:51:41.657674Z",
     "iopub.status.busy": "2022-04-15T21:51:41.657196Z",
     "iopub.status.idle": "2022-04-15T21:51:41.660653Z",
     "shell.execute_reply": "2022-04-15T21:51:41.660050Z"
    }
   },
   "outputs": [],
   "source": [
    "N_v_P = 0*N.z"
   ]
  },
  {
   "cell_type": "code",
   "execution_count": 16,
   "id": "4847b6ac",
   "metadata": {
    "execution": {
     "iopub.execute_input": "2022-04-15T21:51:41.663652Z",
     "iopub.status.busy": "2022-04-15T21:51:41.663102Z",
     "iopub.status.idle": "2022-04-15T21:51:41.671454Z",
     "shell.execute_reply": "2022-04-15T21:51:41.670888Z"
    }
   },
   "outputs": [
    {
     "data": {
      "text/latex": [
       "$\\displaystyle -  d \\dot{\\alpha}\\mathbf{\\hat{a}_y}$"
      ],
      "text/plain": [
       "-d⋅α̇ a_y"
      ]
     },
     "execution_count": 16,
     "metadata": {},
     "output_type": "execute_result"
    }
   ],
   "source": [
    "N_v_S = N_v_P +  me.cross(A.ang_vel_in(N), S.pos_from(P))\n",
    "N_v_S"
   ]
  },
  {
   "cell_type": "code",
   "execution_count": 17,
   "id": "f50ca3ba",
   "metadata": {
    "execution": {
     "iopub.execute_input": "2022-04-15T21:51:41.674331Z",
     "iopub.status.busy": "2022-04-15T21:51:41.673819Z",
     "iopub.status.idle": "2022-04-15T21:51:41.682280Z",
     "shell.execute_reply": "2022-04-15T21:51:41.681675Z"
    }
   },
   "outputs": [
    {
     "data": {
      "text/latex": [
       "$\\displaystyle -  d \\dot{\\alpha}\\mathbf{\\hat{a}_y}$"
      ],
      "text/plain": [
       "-d⋅α̇ a_y"
      ]
     },
     "execution_count": 17,
     "metadata": {},
     "output_type": "execute_result"
    }
   ],
   "source": [
    "P.set_vel(N, 0)\n",
    "S.v2pt_theory(P, N, A)"
   ]
  },
  {
   "cell_type": "code",
   "execution_count": 18,
   "id": "256fb720",
   "metadata": {
    "execution": {
     "iopub.execute_input": "2022-04-15T21:51:41.685615Z",
     "iopub.status.busy": "2022-04-15T21:51:41.685133Z",
     "iopub.status.idle": "2022-04-15T21:51:41.690635Z",
     "shell.execute_reply": "2022-04-15T21:51:41.690015Z"
    }
   },
   "outputs": [
    {
     "data": {
      "text/latex": [
       "$\\displaystyle -  d \\dot{\\alpha}\\mathbf{\\hat{a}_y}$"
      ],
      "text/plain": [
       "-d⋅α̇ a_y"
      ]
     },
     "execution_count": 18,
     "metadata": {},
     "output_type": "execute_result"
    }
   ],
   "source": [
    "S.vel(N)"
   ]
  },
  {
   "cell_type": "code",
   "execution_count": 19,
   "id": "61b24985",
   "metadata": {
    "execution": {
     "iopub.execute_input": "2022-04-15T21:51:41.694214Z",
     "iopub.status.busy": "2022-04-15T21:51:41.693684Z",
     "iopub.status.idle": "2022-04-15T21:51:41.709556Z",
     "shell.execute_reply": "2022-04-15T21:51:41.708947Z"
    }
   },
   "outputs": [
    {
     "data": {
      "text/latex": [
       "$\\displaystyle -  d \\dot{\\alpha}\\mathbf{\\hat{a}_y} + \\left(- c - \\frac{l}{2}\\right) \\sin{\\left(\\beta \\right)} \\dot{\\alpha}\\mathbf{\\hat{b}_x} + (- w \\cos{\\left(\\beta \\right)} \\dot{\\alpha} - \\left(- c - \\frac{l}{2}\\right) \\dot{\\beta})\\mathbf{\\hat{b}_y} + w \\sin{\\left(\\beta \\right)} \\dot{\\alpha}\\mathbf{\\hat{b}_z}$"
      ],
      "text/plain": [
       "           ⎛     l⎞                ⎛              ⎛     l⎞  ⎞\n",
       "-d⋅α̇ a_y + ⎜-c - ─⎟⋅sin(β)⋅α̇ b_x + ⎜-w⋅cos(β)⋅α̇ - ⎜-c - ─⎟⋅β̇⎟ b_y + w⋅sin(\n",
       "           ⎝     2⎠                ⎝              ⎝     2⎠  ⎠\n",
       "\n",
       "\n",
       "β)⋅α̇ b_z\n"
      ]
     },
     "execution_count": 19,
     "metadata": {},
     "output_type": "execute_result"
    }
   ],
   "source": [
    "N_v_Q = N_v_S +  me.cross(B.ang_vel_in(N), Q.pos_from(S))\n",
    "N_v_Q"
   ]
  },
  {
   "cell_type": "code",
   "execution_count": 20,
   "id": "65e358ec",
   "metadata": {
    "execution": {
     "iopub.execute_input": "2022-04-15T21:51:41.712463Z",
     "iopub.status.busy": "2022-04-15T21:51:41.711983Z",
     "iopub.status.idle": "2022-04-15T21:51:41.727471Z",
     "shell.execute_reply": "2022-04-15T21:51:41.726856Z"
    }
   },
   "outputs": [
    {
     "data": {
      "text/latex": [
       "$\\displaystyle -  d \\dot{\\alpha}\\mathbf{\\hat{a}_y} + \\left(- c - \\frac{l}{2}\\right) \\sin{\\left(\\beta \\right)} \\dot{\\alpha}\\mathbf{\\hat{b}_x} + (- w \\cos{\\left(\\beta \\right)} \\dot{\\alpha} - \\left(- c - \\frac{l}{2}\\right) \\dot{\\beta})\\mathbf{\\hat{b}_y} + w \\sin{\\left(\\beta \\right)} \\dot{\\alpha}\\mathbf{\\hat{b}_z}$"
      ],
      "text/plain": [
       "           ⎛     l⎞                ⎛              ⎛     l⎞  ⎞\n",
       "-d⋅α̇ a_y + ⎜-c - ─⎟⋅sin(β)⋅α̇ b_x + ⎜-w⋅cos(β)⋅α̇ - ⎜-c - ─⎟⋅β̇⎟ b_y + w⋅sin(\n",
       "           ⎝     2⎠                ⎝              ⎝     2⎠  ⎠\n",
       "\n",
       "\n",
       "β)⋅α̇ b_z\n"
      ]
     },
     "execution_count": 20,
     "metadata": {},
     "output_type": "execute_result"
    }
   ],
   "source": [
    "Q.v2pt_theory(S, N, B)"
   ]
  },
  {
   "cell_type": "code",
   "execution_count": 21,
   "id": "2346f46f",
   "metadata": {
    "execution": {
     "iopub.execute_input": "2022-04-15T21:51:41.730536Z",
     "iopub.status.busy": "2022-04-15T21:51:41.730062Z",
     "iopub.status.idle": "2022-04-15T21:51:41.748802Z",
     "shell.execute_reply": "2022-04-15T21:51:41.748186Z"
    }
   },
   "outputs": [
    {
     "data": {
      "text/latex": [
       "$\\displaystyle (- d \\dot{\\alpha} - \\frac{w \\dot{\\alpha}}{2})\\mathbf{\\hat{a}_y} -  c \\sin{\\left(\\beta \\right)} \\dot{\\alpha}\\mathbf{\\hat{b}_x} + c \\dot{\\beta}\\mathbf{\\hat{b}_y}$"
      ],
      "text/plain": [
       "⎛       w⋅α̇⎞\n",
       "⎜-d⋅α̇ - ───⎟ a_y + -c⋅sin(β)⋅α̇ b_x + c⋅β̇ b_y\n",
       "⎝        2 ⎠"
      ]
     },
     "execution_count": 21,
     "metadata": {},
     "output_type": "execute_result"
    }
   ],
   "source": [
    "Bc = me.Point('B_c')\n",
    "Bc.set_pos(S, -c*B.z - w/2*A.x)\n",
    "Bc.v2pt_theory(S, N, B)"
   ]
  },
  {
   "cell_type": "code",
   "execution_count": 22,
   "id": "140e8b62",
   "metadata": {
    "execution": {
     "iopub.execute_input": "2022-04-15T21:51:41.752288Z",
     "iopub.status.busy": "2022-04-15T21:51:41.751803Z",
     "iopub.status.idle": "2022-04-15T21:51:41.757445Z",
     "shell.execute_reply": "2022-04-15T21:51:41.756835Z"
    }
   },
   "outputs": [],
   "source": [
    "s = me.dynamicsymbols('s')\n",
    "t = me.dynamicsymbols._t\n",
    "\n",
    "R = me.Point('R')\n",
    "R.set_pos(Q, l*B.z + s*B.x)"
   ]
  },
  {
   "cell_type": "code",
   "execution_count": 23,
   "id": "67a8ec18",
   "metadata": {
    "execution": {
     "iopub.execute_input": "2022-04-15T21:51:41.760361Z",
     "iopub.status.busy": "2022-04-15T21:51:41.759883Z",
     "iopub.status.idle": "2022-04-15T21:51:41.766034Z",
     "shell.execute_reply": "2022-04-15T21:51:41.765413Z"
    }
   },
   "outputs": [
    {
     "data": {
      "text/latex": [
       "$\\displaystyle \\dot{s}\\mathbf{\\hat{b}_x}$"
      ],
      "text/plain": [
       "ṡ b_x"
      ]
     },
     "execution_count": 23,
     "metadata": {},
     "output_type": "execute_result"
    }
   ],
   "source": [
    "B_v_R = s.diff(t)*B.x\n",
    "B_v_R"
   ]
  },
  {
   "cell_type": "code",
   "execution_count": 24,
   "id": "dc16665e",
   "metadata": {
    "execution": {
     "iopub.execute_input": "2022-04-15T21:51:41.769403Z",
     "iopub.status.busy": "2022-04-15T21:51:41.768931Z",
     "iopub.status.idle": "2022-04-15T21:51:41.776161Z",
     "shell.execute_reply": "2022-04-15T21:51:41.775568Z"
    }
   },
   "outputs": [
    {
     "data": {
      "text/latex": [
       "$\\displaystyle (- w + s)\\mathbf{\\hat{b}_x} + (- c + \\frac{l}{2})\\mathbf{\\hat{b}_z}$"
      ],
      "text/plain": [
       "               ⎛     l⎞\n",
       "(-w + s) b_x + ⎜-c + ─⎟ b_z\n",
       "               ⎝     2⎠"
      ]
     },
     "execution_count": 24,
     "metadata": {},
     "output_type": "execute_result"
    }
   ],
   "source": [
    "r_S_R = R.pos_from(S)\n",
    "r_S_R"
   ]
  },
  {
   "cell_type": "code",
   "execution_count": 25,
   "id": "b037425e",
   "metadata": {
    "execution": {
     "iopub.execute_input": "2022-04-15T21:51:41.779620Z",
     "iopub.status.busy": "2022-04-15T21:51:41.779143Z",
     "iopub.status.idle": "2022-04-15T21:51:41.800931Z",
     "shell.execute_reply": "2022-04-15T21:51:41.800332Z"
    }
   },
   "outputs": [
    {
     "data": {
      "text/latex": [
       "$\\displaystyle -  d \\dot{\\alpha}\\mathbf{\\hat{a}_y} + \\left(- c + \\frac{l}{2}\\right) \\sin{\\left(\\beta \\right)} \\dot{\\alpha}\\mathbf{\\hat{b}_x} + (- \\left(- c + \\frac{l}{2}\\right) \\dot{\\beta} + \\left(- w + s\\right) \\cos{\\left(\\beta \\right)} \\dot{\\alpha})\\mathbf{\\hat{b}_y} -  \\left(- w + s\\right) \\sin{\\left(\\beta \\right)} \\dot{\\alpha}\\mathbf{\\hat{b}_z}$"
      ],
      "text/plain": [
       "           ⎛     l⎞                ⎛  ⎛     l⎞                      ⎞\n",
       "-d⋅α̇ a_y + ⎜-c + ─⎟⋅sin(β)⋅α̇ b_x + ⎜- ⎜-c + ─⎟⋅β̇ + (-w + s)⋅cos(β)⋅α̇⎟ b_y\n",
       "           ⎝     2⎠                ⎝  ⎝     2⎠                      ⎠\n",
       "\n",
       "\n",
       "+ -(-w + s)⋅sin(β)⋅α̇ b_z\n"
      ]
     },
     "execution_count": 25,
     "metadata": {},
     "output_type": "execute_result"
    }
   ],
   "source": [
    "N_v_T = N_v_S + me.cross(B.ang_vel_in(N), r_S_R)\n",
    "N_v_T"
   ]
  },
  {
   "cell_type": "code",
   "execution_count": 26,
   "id": "05bcaafd",
   "metadata": {
    "execution": {
     "iopub.execute_input": "2022-04-15T21:51:41.803948Z",
     "iopub.status.busy": "2022-04-15T21:51:41.803466Z",
     "iopub.status.idle": "2022-04-15T21:51:41.817649Z",
     "shell.execute_reply": "2022-04-15T21:51:41.817043Z"
    }
   },
   "outputs": [
    {
     "data": {
      "text/latex": [
       "$\\displaystyle (\\left(- c + \\frac{l}{2}\\right) \\sin{\\left(\\beta \\right)} \\dot{\\alpha} + \\dot{s})\\mathbf{\\hat{b}_x} + (- \\left(- c + \\frac{l}{2}\\right) \\dot{\\beta} + \\left(- w + s\\right) \\cos{\\left(\\beta \\right)} \\dot{\\alpha})\\mathbf{\\hat{b}_y} -  \\left(- w + s\\right) \\sin{\\left(\\beta \\right)} \\dot{\\alpha}\\mathbf{\\hat{b}_z} -  d \\dot{\\alpha}\\mathbf{\\hat{a}_y}$"
      ],
      "text/plain": [
       "⎛⎛     l⎞             ⎞       ⎛  ⎛     l⎞                      ⎞\n",
       "⎜⎜-c + ─⎟⋅sin(β)⋅α̇ + ṡ⎟ b_x + ⎜- ⎜-c + ─⎟⋅β̇ + (-w + s)⋅cos(β)⋅α̇⎟ b_y + -(-\n",
       "⎝⎝     2⎠             ⎠       ⎝  ⎝     2⎠                      ⎠\n",
       "\n",
       "\n",
       "w + s)⋅sin(β)⋅α̇ b_z + -d⋅α̇ a_y\n"
      ]
     },
     "execution_count": 26,
     "metadata": {},
     "output_type": "execute_result"
    }
   ],
   "source": [
    "N_v_R = B_v_R + N_v_T\n",
    "N_v_R"
   ]
  },
  {
   "cell_type": "code",
   "execution_count": 27,
   "id": "e7798e18",
   "metadata": {
    "execution": {
     "iopub.execute_input": "2022-04-15T21:51:41.820739Z",
     "iopub.status.busy": "2022-04-15T21:51:41.820192Z",
     "iopub.status.idle": "2022-04-15T21:51:41.851280Z",
     "shell.execute_reply": "2022-04-15T21:51:41.850579Z"
    }
   },
   "outputs": [
    {
     "data": {
      "text/latex": [
       "$\\displaystyle (\\left(- c + \\frac{l}{2}\\right) \\sin{\\left(\\beta \\right)} \\dot{\\alpha} + \\dot{s})\\mathbf{\\hat{b}_x} + (- \\left(- c + \\frac{l}{2}\\right) \\dot{\\beta} + \\left(- w + s\\right) \\cos{\\left(\\beta \\right)} \\dot{\\alpha})\\mathbf{\\hat{b}_y} -  \\left(- w + s\\right) \\sin{\\left(\\beta \\right)} \\dot{\\alpha}\\mathbf{\\hat{b}_z} -  d \\dot{\\alpha}\\mathbf{\\hat{a}_y}$"
      ],
      "text/plain": [
       "⎛⎛     l⎞             ⎞       ⎛  ⎛     l⎞                      ⎞\n",
       "⎜⎜-c + ─⎟⋅sin(β)⋅α̇ + ṡ⎟ b_x + ⎜- ⎜-c + ─⎟⋅β̇ + (-w + s)⋅cos(β)⋅α̇⎟ b_y + -(-\n",
       "⎝⎝     2⎠             ⎠       ⎝  ⎝     2⎠                      ⎠\n",
       "\n",
       "\n",
       "w + s)⋅sin(β)⋅α̇ b_z + -d⋅α̇ a_y\n"
      ]
     },
     "execution_count": 27,
     "metadata": {},
     "output_type": "execute_result"
    }
   ],
   "source": [
    "S.set_vel(B, 0)\n",
    "R.v1pt_theory(S, N, B)"
   ]
  },
  {
   "cell_type": "code",
   "execution_count": 28,
   "id": "1a8cae1e",
   "metadata": {
    "execution": {
     "iopub.execute_input": "2022-04-15T21:51:41.854663Z",
     "iopub.status.busy": "2022-04-15T21:51:41.854185Z",
     "iopub.status.idle": "2022-04-15T21:51:41.867844Z",
     "shell.execute_reply": "2022-04-15T21:51:41.867253Z"
    }
   },
   "outputs": [
    {
     "data": {
      "text/latex": [
       "$\\displaystyle d \\dot{\\alpha}^{2}\\mathbf{\\hat{a}_x} -  d \\ddot{\\alpha}\\mathbf{\\hat{a}_y}$"
      ],
      "text/plain": [
       "   2\n",
       "d⋅α̇  a_x + -d⋅α̈ a_y"
      ]
     },
     "execution_count": 28,
     "metadata": {},
     "output_type": "execute_result"
    }
   ],
   "source": [
    "S.acc(N)"
   ]
  },
  {
   "cell_type": "code",
   "execution_count": 29,
   "id": "121cee1b",
   "metadata": {
    "execution": {
     "iopub.execute_input": "2022-04-15T21:51:41.871321Z",
     "iopub.status.busy": "2022-04-15T21:51:41.870843Z",
     "iopub.status.idle": "2022-04-15T21:51:41.881810Z",
     "shell.execute_reply": "2022-04-15T21:51:41.881210Z"
    }
   },
   "outputs": [
    {
     "data": {
      "text/latex": [
       "$\\displaystyle -  d \\ddot{\\alpha}\\mathbf{\\hat{a}_y}$"
      ],
      "text/plain": [
       "-d⋅α̈ a_y"
      ]
     },
     "execution_count": 29,
     "metadata": {},
     "output_type": "execute_result"
    }
   ],
   "source": [
    "me.cross(A.ang_acc_in(N), S.pos_from(P))"
   ]
  },
  {
   "cell_type": "code",
   "execution_count": 30,
   "id": "6ea1972f",
   "metadata": {
    "execution": {
     "iopub.execute_input": "2022-04-15T21:51:41.885323Z",
     "iopub.status.busy": "2022-04-15T21:51:41.884776Z",
     "iopub.status.idle": "2022-04-15T21:51:41.896603Z",
     "shell.execute_reply": "2022-04-15T21:51:41.895976Z"
    }
   },
   "outputs": [
    {
     "data": {
      "text/latex": [
       "$\\displaystyle d \\dot{\\alpha}^{2}\\mathbf{\\hat{a}_x}$"
      ],
      "text/plain": [
       "   2\n",
       "d⋅α̇  a_x"
      ]
     },
     "execution_count": 30,
     "metadata": {},
     "output_type": "execute_result"
    }
   ],
   "source": [
    "me.cross(A.ang_vel_in(N), me.cross(A.ang_vel_in(N), S.pos_from(P)))"
   ]
  },
  {
   "cell_type": "code",
   "execution_count": 31,
   "id": "891e2fc8",
   "metadata": {
    "execution": {
     "iopub.execute_input": "2022-04-15T21:51:41.899467Z",
     "iopub.status.busy": "2022-04-15T21:51:41.898987Z",
     "iopub.status.idle": "2022-04-15T21:51:41.915095Z",
     "shell.execute_reply": "2022-04-15T21:51:41.914486Z"
    }
   },
   "outputs": [
    {
     "data": {
      "text/latex": [
       "$\\displaystyle d \\dot{\\alpha}^{2}\\mathbf{\\hat{a}_x} -  d \\ddot{\\alpha}\\mathbf{\\hat{a}_y}$"
      ],
      "text/plain": [
       "   2\n",
       "d⋅α̇  a_x + -d⋅α̈ a_y"
      ]
     },
     "execution_count": 31,
     "metadata": {},
     "output_type": "execute_result"
    }
   ],
   "source": [
    "S.a2pt_theory(P, N, A)"
   ]
  },
  {
   "cell_type": "code",
   "execution_count": 32,
   "id": "f6ec27b2",
   "metadata": {
    "execution": {
     "iopub.execute_input": "2022-04-15T21:51:41.918228Z",
     "iopub.status.busy": "2022-04-15T21:51:41.917687Z",
     "iopub.status.idle": "2022-04-15T21:51:41.987368Z",
     "shell.execute_reply": "2022-04-15T21:51:41.986578Z"
    }
   },
   "outputs": [
    {
     "data": {
      "text/latex": [
       "$\\displaystyle d \\dot{\\alpha}^{2}\\mathbf{\\hat{a}_x} -  d \\ddot{\\alpha}\\mathbf{\\hat{a}_y} + (w \\sin^{2}{\\left(\\beta \\right)} \\dot{\\alpha}^{2} + \\left(- c - \\frac{l}{2}\\right) \\left(\\sin{\\left(\\beta \\right)} \\ddot{\\alpha} + \\cos{\\left(\\beta \\right)} \\dot{\\alpha} \\dot{\\beta}\\right) - \\left(- w \\cos{\\left(\\beta \\right)} \\dot{\\alpha} - \\left(- c - \\frac{l}{2}\\right) \\dot{\\beta}\\right) \\cos{\\left(\\beta \\right)} \\dot{\\alpha})\\mathbf{\\hat{b}_x} + (- w \\left(- \\sin{\\left(\\beta \\right)} \\dot{\\alpha} \\dot{\\beta} + \\cos{\\left(\\beta \\right)} \\ddot{\\alpha}\\right) - w \\sin{\\left(\\beta \\right)} \\dot{\\alpha} \\dot{\\beta} + \\left(- c - \\frac{l}{2}\\right) \\sin{\\left(\\beta \\right)} \\cos{\\left(\\beta \\right)} \\dot{\\alpha}^{2} - \\left(- c - \\frac{l}{2}\\right) \\ddot{\\beta})\\mathbf{\\hat{b}_y} + (w \\left(\\sin{\\left(\\beta \\right)} \\ddot{\\alpha} + \\cos{\\left(\\beta \\right)} \\dot{\\alpha} \\dot{\\beta}\\right) - \\left(- c - \\frac{l}{2}\\right) \\sin^{2}{\\left(\\beta \\right)} \\dot{\\alpha}^{2} + \\left(- w \\cos{\\left(\\beta \\right)} \\dot{\\alpha} - \\left(- c - \\frac{l}{2}\\right) \\dot{\\beta}\\right) \\dot{\\beta})\\mathbf{\\hat{b}_z}$"
      ],
      "text/plain": [
       "   2                  ⎛     2     2   ⎛     l⎞                           ⎛\n",
       "d⋅α̇  a_x + -d⋅α̈ a_y + ⎜w⋅sin (β)⋅α̇  + ⎜-c - ─⎟⋅(sin(β)⋅α̈ + cos(β)⋅α̇⋅β̇) -\n",
       "                      ⎝               ⎝     2⎠                           ⎝\n",
       "\n",
       "          ⎛     l⎞  ⎞         ⎞       ⎛\n",
       " ⎜-w⋅cos(β)⋅α̇ - ⎜-c - ─⎟⋅β̇⎟⋅cos(β)⋅α̇⎟ b_x + ⎜-w⋅(-sin(β)⋅α̇⋅β̇ + cos(β)⋅α̈)\n",
       "          ⎝     2⎠  ⎠         ⎠       ⎝\n",
       "\n",
       "      ⎛     l⎞                2   ⎛     l⎞  ⎞       ⎛\n",
       " - w⋅sin(β)⋅α̇⋅β̇ + ⎜-c - ─⎟⋅sin(β)⋅cos(β)⋅α̇  - ⎜-c - ─⎟⋅β̈⎟ b_y + ⎜w⋅(sin(β)\n",
       "      ⎝     2⎠                    ⎝     2⎠  ⎠       ⎝\n",
       "\n",
       "   ⎛     l⎞    2     2   ⎛              ⎛     l⎞  ⎞  ⎞\n",
       "⋅α̈ + cos(β)⋅α̇⋅β̇) - ⎜-c - ─⎟⋅sin (β)⋅α̇  + ⎜-w⋅cos(β)⋅α̇ - ⎜-c - ─⎟⋅β̇⎟⋅β̇⎟\n",
       "   ⎝     2⎠              ⎝              ⎝     2⎠  ⎠  ⎠"
      ]
     },
     "execution_count": 32,
     "metadata": {},
     "output_type": "execute_result"
    }
   ],
   "source": [
    "Q.a2pt_theory(S, N, B)"
   ]
  },
  {
   "cell_type": "code",
   "execution_count": 33,
   "id": "5e87e303",
   "metadata": {
    "execution": {
     "iopub.execute_input": "2022-04-15T21:51:41.991212Z",
     "iopub.status.busy": "2022-04-15T21:51:41.990807Z",
     "iopub.status.idle": "2022-04-15T21:51:41.998418Z",
     "shell.execute_reply": "2022-04-15T21:51:41.997794Z"
    }
   },
   "outputs": [
    {
     "data": {
      "text/latex": [
       "$\\displaystyle \\ddot{s}\\mathbf{\\hat{b}_x}$"
      ],
      "text/plain": [
       "s̈ b_x"
      ]
     },
     "execution_count": 33,
     "metadata": {},
     "output_type": "execute_result"
    }
   ],
   "source": [
    "B_a_R = R.acc(B)\n",
    "B_a_R"
   ]
  },
  {
   "cell_type": "code",
   "execution_count": 34,
   "id": "9b04e4a6",
   "metadata": {
    "execution": {
     "iopub.execute_input": "2022-04-15T21:51:42.001853Z",
     "iopub.status.busy": "2022-04-15T21:51:42.001522Z",
     "iopub.status.idle": "2022-04-15T21:51:42.065621Z",
     "shell.execute_reply": "2022-04-15T21:51:42.065044Z"
    }
   },
   "outputs": [
    {
     "data": {
      "text/latex": [
       "$\\displaystyle d \\dot{\\alpha}^{2}\\mathbf{\\hat{a}_x} -  d \\ddot{\\alpha}\\mathbf{\\hat{a}_y} + (\\left(- c + \\frac{l}{2}\\right) \\left(\\sin{\\left(\\beta \\right)} \\ddot{\\alpha} + \\cos{\\left(\\beta \\right)} \\dot{\\alpha} \\dot{\\beta}\\right) - \\left(- w + s\\right) \\sin^{2}{\\left(\\beta \\right)} \\dot{\\alpha}^{2} - \\left(- \\left(- c + \\frac{l}{2}\\right) \\dot{\\beta} + \\left(- w + s\\right) \\cos{\\left(\\beta \\right)} \\dot{\\alpha}\\right) \\cos{\\left(\\beta \\right)} \\dot{\\alpha})\\mathbf{\\hat{b}_x} + (\\left(- c + \\frac{l}{2}\\right) \\sin{\\left(\\beta \\right)} \\cos{\\left(\\beta \\right)} \\dot{\\alpha}^{2} - \\left(- c + \\frac{l}{2}\\right) \\ddot{\\beta} + \\left(- w + s\\right) \\left(- \\sin{\\left(\\beta \\right)} \\dot{\\alpha} \\dot{\\beta} + \\cos{\\left(\\beta \\right)} \\ddot{\\alpha}\\right) + \\left(- w + s\\right) \\sin{\\left(\\beta \\right)} \\dot{\\alpha} \\dot{\\beta})\\mathbf{\\hat{b}_y} + (- \\left(- c + \\frac{l}{2}\\right) \\sin^{2}{\\left(\\beta \\right)} \\dot{\\alpha}^{2} - \\left(- w + s\\right) \\left(\\sin{\\left(\\beta \\right)} \\ddot{\\alpha} + \\cos{\\left(\\beta \\right)} \\dot{\\alpha} \\dot{\\beta}\\right) + \\left(- \\left(- c + \\frac{l}{2}\\right) \\dot{\\beta} + \\left(- w + s\\right) \\cos{\\left(\\beta \\right)} \\dot{\\alpha}\\right) \\dot{\\beta})\\mathbf{\\hat{b}_z}$"
      ],
      "text/plain": [
       "   2                  ⎛⎛     l⎞                                       2     2\n",
       "d⋅α̇  a_x + -d⋅α̈ a_y + ⎜⎜-c + ─⎟⋅(sin(β)⋅α̈ + cos(β)⋅α̇⋅β̇) - (-w + s)⋅sin (β\n",
       "                      ⎝⎝     2⎠\n",
       "\n",
       "  ⎛  ⎛     l⎞                      ⎞         ⎞       ⎛⎛     l⎞\n",
       ")⋅α̇  - ⎜- ⎜-c + ─⎟⋅β̇ + (-w + s)⋅cos(β)⋅α̇⎟⋅cos(β)⋅α̇⎟ b_x + ⎜⎜-c + ─⎟⋅sin(β)\n",
       "  ⎝  ⎝     2⎠                      ⎠         ⎠       ⎝⎝     2⎠\n",
       "\n",
       "2   ⎛     l⎞                                                            ⎞\n",
       "⋅cos(β)⋅α̇  - ⎜-c + ─⎟⋅β̈ + (-w + s)⋅(-sin(β)⋅α̇⋅β̇ + cos(β)⋅α̈) + (-w + s)⋅si\n",
       "    ⎝     2⎠                                                            ⎠\n",
       "\n",
       "  ⎛  ⎛     l⎞    2     2                                      ⎛  ⎛     l⎞\n",
       "n(β)⋅α̇⋅β̇⎟ b_y + ⎜- ⎜-c + ─⎟⋅sin (β)⋅α̇  - (-w + s)⋅(sin(β)⋅α̈ + cos(β)⋅α̇⋅β̇\n",
       "  ⎝  ⎝     2⎠                                                 ⎝  ⎝     2⎠\n",
       "\n",
       "                 ⎞  ⎞\n",
       ") + ⎜- ⎜-c + ─⎟⋅β̇ + (-w + s)⋅cos(β)⋅α̇⎟⋅β̇⎟ b_z\n",
       "                 ⎠  ⎠"
      ]
     },
     "execution_count": 34,
     "metadata": {},
     "output_type": "execute_result"
    }
   ],
   "source": [
    "N_a_T = R.a2pt_theory(S, N, B)\n",
    "N_a_T"
   ]
  },
  {
   "cell_type": "code",
   "execution_count": 35,
   "id": "7025aedd",
   "metadata": {
    "execution": {
     "iopub.execute_input": "2022-04-15T21:51:42.068713Z",
     "iopub.status.busy": "2022-04-15T21:51:42.068405Z",
     "iopub.status.idle": "2022-04-15T21:51:42.081047Z",
     "shell.execute_reply": "2022-04-15T21:51:42.080600Z"
    }
   },
   "outputs": [
    {
     "data": {
      "text/latex": [
       "$\\displaystyle 2 \\cos{\\left(\\beta \\right)} \\dot{\\alpha} \\dot{s}\\mathbf{\\hat{b}_y} -  2 \\sin{\\left(\\beta \\right)} \\dot{\\alpha} \\dot{s}\\mathbf{\\hat{b}_z}$"
      ],
      "text/plain": [
       "2⋅cos(β)⋅α̇⋅ṡ b_y + -2⋅sin(β)⋅α̇⋅ṡ b_z"
      ]
     },
     "execution_count": 35,
     "metadata": {},
     "output_type": "execute_result"
    }
   ],
   "source": [
    "2*me.cross(B.ang_vel_in(N), R.vel(B))"
   ]
  },
  {
   "cell_type": "code",
   "execution_count": 36,
   "id": "364f79c1",
   "metadata": {
    "execution": {
     "iopub.execute_input": "2022-04-15T21:51:42.083863Z",
     "iopub.status.busy": "2022-04-15T21:51:42.083365Z",
     "iopub.status.idle": "2022-04-15T21:51:42.151021Z",
     "shell.execute_reply": "2022-04-15T21:51:42.150229Z"
    }
   },
   "outputs": [
    {
     "data": {
      "text/latex": [
       "$\\displaystyle (\\left(- c + \\frac{l}{2}\\right) \\left(\\sin{\\left(\\beta \\right)} \\ddot{\\alpha} + \\cos{\\left(\\beta \\right)} \\dot{\\alpha} \\dot{\\beta}\\right) - \\left(- w + s\\right) \\sin^{2}{\\left(\\beta \\right)} \\dot{\\alpha}^{2} - \\left(- \\left(- c + \\frac{l}{2}\\right) \\dot{\\beta} + \\left(- w + s\\right) \\cos{\\left(\\beta \\right)} \\dot{\\alpha}\\right) \\cos{\\left(\\beta \\right)} \\dot{\\alpha} + \\ddot{s})\\mathbf{\\hat{b}_x} + (\\left(- c + \\frac{l}{2}\\right) \\sin{\\left(\\beta \\right)} \\cos{\\left(\\beta \\right)} \\dot{\\alpha}^{2} - \\left(- c + \\frac{l}{2}\\right) \\ddot{\\beta} + \\left(- w + s\\right) \\left(- \\sin{\\left(\\beta \\right)} \\dot{\\alpha} \\dot{\\beta} + \\cos{\\left(\\beta \\right)} \\ddot{\\alpha}\\right) + \\left(- w + s\\right) \\sin{\\left(\\beta \\right)} \\dot{\\alpha} \\dot{\\beta} + 2 \\cos{\\left(\\beta \\right)} \\dot{\\alpha} \\dot{s})\\mathbf{\\hat{b}_y} + (- \\left(- c + \\frac{l}{2}\\right) \\sin^{2}{\\left(\\beta \\right)} \\dot{\\alpha}^{2} - \\left(- w + s\\right) \\left(\\sin{\\left(\\beta \\right)} \\ddot{\\alpha} + \\cos{\\left(\\beta \\right)} \\dot{\\alpha} \\dot{\\beta}\\right) + \\left(- \\left(- c + \\frac{l}{2}\\right) \\dot{\\beta} + \\left(- w + s\\right) \\cos{\\left(\\beta \\right)} \\dot{\\alpha}\\right) \\dot{\\beta} - 2 \\sin{\\left(\\beta \\right)} \\dot{\\alpha} \\dot{s})\\mathbf{\\hat{b}_z} + d \\dot{\\alpha}^{2}\\mathbf{\\hat{a}_x} -  d \\ddot{\\alpha}\\mathbf{\\hat{a}_y}$"
      ],
      "text/plain": [
       "⎛⎛     l⎞                                       2     2   ⎛  ⎛     l⎞\n",
       "⎜⎜-c + ─⎟⋅(sin(β)⋅α̈ + cos(β)⋅α̇⋅β̇) - (-w + s)⋅sin (β)⋅α̇  - ⎜- ⎜-c + ─⎟⋅β̇ +\n",
       "⎝⎝     2⎠                                                 ⎝  ⎝     2⎠\n",
       "\n",
       "             ⎞             ⎞       ⎛⎛     l⎞                2   ⎛     l⎞\n",
       " (-w + s)⋅cos(β)⋅α̇⎟⋅cos(β)⋅α̇ + s̈⎟ b_x + ⎜⎜-c + ─⎟⋅sin(β)⋅cos(β)⋅α̇  - ⎜-c +\n",
       "             ⎠             ⎠       ⎝⎝     2⎠                    ⎝     2⎠\n",
       "\n",
       "                                                                     ⎞       ⎛\n",
       " ─⎟⋅β̈ + (-w + s)⋅(-sin(β)⋅α̇⋅β̇ + cos(β)⋅α̈) + (-w + s)⋅sin(β)⋅α̇⋅β̇ + 2⋅cos(\n",
       "                                                                     ⎠       ⎝\n",
       "\n",
       "  ⎛     l⎞    2     2                                      ⎛  ⎛     l⎞\n",
       "β)⋅α̇⋅ṡ⎟ b_y + ⎜- ⎜-c + ─⎟⋅sin (β)⋅α̇  - (-w + s)⋅(sin(β)⋅α̈ + cos(β)⋅α̇⋅β̇)\n",
       "  ⎝     2⎠                                                 ⎝  ⎝     2⎠\n",
       "\n",
       "              ⎞                 ⎞          2\n",
       "+ ⎜- ⎜-c + ─⎟⋅β̇ + (-w + s)⋅cos(β)⋅α̇⎟⋅β̇ - 2⋅sin(β)⋅α̇⋅ṡ⎟ b_z + d⋅α̇  a_x +\n",
       "              ⎠                 ⎠"
      ]
     },
     "execution_count": 36,
     "metadata": {},
     "output_type": "execute_result"
    }
   ],
   "source": [
    "R.a1pt_theory(S, N, B)"
   ]
  }
 ],
 "metadata": {
  "kernelspec": {
   "display_name": "Python 3 (ipykernel)",
   "language": "python",
   "name": "python3"
  },
  "language_info": {
   "codemirror_mode": {
    "name": "ipython",
    "version": 3
   },
   "file_extension": ".py",
   "mimetype": "text/x-python",
   "name": "python",
   "nbconvert_exporter": "python",
   "pygments_lexer": "ipython3",
   "version": "3.9.12"
  }
 },
 "nbformat": 4,
 "nbformat_minor": 5
}