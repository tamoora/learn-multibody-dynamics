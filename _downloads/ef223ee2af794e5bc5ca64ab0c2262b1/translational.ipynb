{
 "cells": [
  {
   "cell_type": "code",
   "execution_count": 1,
   "id": "ca34a805",
   "metadata": {
    "execution": {
     "iopub.execute_input": "2022-04-15T22:54:11.769723Z",
     "iopub.status.busy": "2022-04-15T22:54:11.769358Z",
     "iopub.status.idle": "2022-04-15T22:54:12.298460Z",
     "shell.execute_reply": "2022-04-15T22:54:12.297906Z"
    }
   },
   "outputs": [],
   "source": [
    "import sympy as sm\n",
    "import sympy.physics.mechanics as me\n",
    "me.init_vprinting(use_latex='mathjax')"
   ]
  },
  {
   "cell_type": "code",
   "execution_count": 2,
   "id": "cc939017",
   "metadata": {
    "execution": {
     "iopub.execute_input": "2022-04-15T22:54:12.301760Z",
     "iopub.status.busy": "2022-04-15T22:54:12.301578Z",
     "iopub.status.idle": "2022-04-15T22:54:12.315865Z",
     "shell.execute_reply": "2022-04-15T22:54:12.315289Z"
    }
   },
   "outputs": [],
   "source": [
    "alpha, beta = me.dynamicsymbols('alpha, beta')\n",
    "\n",
    "N = me.ReferenceFrame('N')\n",
    "A = me.ReferenceFrame('A')\n",
    "B = me.ReferenceFrame('B')\n",
    "\n",
    "A.orient_axis(N, alpha, N.z)\n",
    "B.orient_axis(A, beta, A.x)"
   ]
  },
  {
   "cell_type": "code",
   "execution_count": 3,
   "id": "a2be9dbd",
   "metadata": {
    "execution": {
     "iopub.execute_input": "2022-04-15T22:54:12.318548Z",
     "iopub.status.busy": "2022-04-15T22:54:12.318387Z",
     "iopub.status.idle": "2022-04-15T22:54:12.329478Z",
     "shell.execute_reply": "2022-04-15T22:54:12.328958Z"
    }
   },
   "outputs": [
    {
     "data": {
      "text/latex": [
       "$\\displaystyle \\left( h\\mathbf{\\hat{n}_z}, \\  -  d\\mathbf{\\hat{a}_x}, \\  -  w\\mathbf{\\hat{b}_x} + (- c - \\frac{l}{2})\\mathbf{\\hat{b}_z}\\right)$"
      ],
      "text/plain": [
       "⎛h n_z, -d a_x,            ⎛     l⎞  ⎞\n",
       "⎜               -w b_x + ⎜-c - ─⎟ b_z⎟\n",
       "⎝                          ⎝     2⎠  ⎠"
      ]
     },
     "execution_count": 3,
     "metadata": {},
     "output_type": "execute_result"
    }
   ],
   "source": [
    "h, d, w, c, l = sm.symbols('h, d, w, c, l')\n",
    "\n",
    "r_O_P = h*N.z\n",
    "r_P_S = -d*A.x\n",
    "r_S_Q = -w*B.x - (c + l/2)*B.z\n",
    "\n",
    "r_O_P, r_P_S, r_S_Q"
   ]
  },
  {
   "cell_type": "code",
   "execution_count": 4,
   "id": "0ab59144",
   "metadata": {
    "execution": {
     "iopub.execute_input": "2022-04-15T22:54:12.332852Z",
     "iopub.status.busy": "2022-04-15T22:54:12.332584Z",
     "iopub.status.idle": "2022-04-15T22:54:12.340720Z",
     "shell.execute_reply": "2022-04-15T22:54:12.340202Z"
    }
   },
   "outputs": [
    {
     "data": {
      "text/latex": [
       "$\\displaystyle 0$"
      ],
      "text/plain": [
       "0"
      ]
     },
     "execution_count": 4,
     "metadata": {},
     "output_type": "execute_result"
    }
   ],
   "source": [
    "(r_O_P + r_P_S).dt(A)"
   ]
  },
  {
   "cell_type": "code",
   "execution_count": 5,
   "id": "e5854765",
   "metadata": {
    "execution": {
     "iopub.execute_input": "2022-04-15T22:54:12.343398Z",
     "iopub.status.busy": "2022-04-15T22:54:12.343137Z",
     "iopub.status.idle": "2022-04-15T22:54:12.349404Z",
     "shell.execute_reply": "2022-04-15T22:54:12.348934Z"
    }
   },
   "outputs": [
    {
     "data": {
      "text/latex": [
       "$\\displaystyle \\dot{\\alpha}\\mathbf{\\hat{n}_z}$"
      ],
      "text/plain": [
       "α̇ n_z"
      ]
     },
     "execution_count": 5,
     "metadata": {},
     "output_type": "execute_result"
    }
   ],
   "source": [
    "A.ang_vel_in(N)"
   ]
  },
  {
   "cell_type": "code",
   "execution_count": 6,
   "id": "5421c2cd",
   "metadata": {
    "execution": {
     "iopub.execute_input": "2022-04-15T22:54:12.351994Z",
     "iopub.status.busy": "2022-04-15T22:54:12.351594Z",
     "iopub.status.idle": "2022-04-15T22:54:12.363410Z",
     "shell.execute_reply": "2022-04-15T22:54:12.362961Z"
    }
   },
   "outputs": [
    {
     "data": {
      "text/latex": [
       "$\\displaystyle -  d \\dot{\\alpha}\\mathbf{\\hat{a}_y}$"
      ],
      "text/plain": [
       "-d⋅α̇ a_y"
      ]
     },
     "execution_count": 6,
     "metadata": {},
     "output_type": "execute_result"
    }
   ],
   "source": [
    "me.cross(A.ang_vel_in(N), r_O_P + r_P_S)"
   ]
  },
  {
   "cell_type": "code",
   "execution_count": 7,
   "id": "813db3a7",
   "metadata": {
    "execution": {
     "iopub.execute_input": "2022-04-15T22:54:12.365535Z",
     "iopub.status.busy": "2022-04-15T22:54:12.365385Z",
     "iopub.status.idle": "2022-04-15T22:54:12.377923Z",
     "shell.execute_reply": "2022-04-15T22:54:12.377411Z"
    }
   },
   "outputs": [
    {
     "data": {
      "text/latex": [
       "$\\displaystyle -  d \\dot{\\alpha}\\mathbf{\\hat{a}_y}$"
      ],
      "text/plain": [
       "-d⋅α̇ a_y"
      ]
     },
     "execution_count": 7,
     "metadata": {},
     "output_type": "execute_result"
    }
   ],
   "source": [
    "N_v_S = (r_O_P + r_P_S).dt(A) + me.cross(A.ang_vel_in(N), r_O_P + r_P_S)\n",
    "N_v_S"
   ]
  },
  {
   "cell_type": "code",
   "execution_count": 8,
   "id": "0c5382e0",
   "metadata": {
    "execution": {
     "iopub.execute_input": "2022-04-15T22:54:12.380992Z",
     "iopub.status.busy": "2022-04-15T22:54:12.380586Z",
     "iopub.status.idle": "2022-04-15T22:54:12.395755Z",
     "shell.execute_reply": "2022-04-15T22:54:12.395241Z"
    }
   },
   "outputs": [
    {
     "data": {
      "text/latex": [
       "$\\displaystyle -  h \\sin{\\left(\\alpha \\right)} \\dot{\\beta}\\mathbf{\\hat{n}_x} + h \\cos{\\left(\\alpha \\right)} \\dot{\\beta}\\mathbf{\\hat{n}_y}$"
      ],
      "text/plain": [
       "-h⋅sin(α)⋅β̇ n_x + h⋅cos(α)⋅β̇ n_y"
      ]
     },
     "execution_count": 8,
     "metadata": {},
     "output_type": "execute_result"
    }
   ],
   "source": [
    "(r_O_P + r_P_S + r_S_Q).dt(B)"
   ]
  },
  {
   "cell_type": "code",
   "execution_count": 9,
   "id": "37bc5def",
   "metadata": {
    "execution": {
     "iopub.execute_input": "2022-04-15T22:54:12.398389Z",
     "iopub.status.busy": "2022-04-15T22:54:12.397986Z",
     "iopub.status.idle": "2022-04-15T22:54:12.427231Z",
     "shell.execute_reply": "2022-04-15T22:54:12.426691Z"
    }
   },
   "outputs": [
    {
     "data": {
      "text/latex": [
       "$\\displaystyle h \\sin{\\left(\\alpha \\right)} \\dot{\\beta}\\mathbf{\\hat{n}_x} -  h \\cos{\\left(\\alpha \\right)} \\dot{\\beta}\\mathbf{\\hat{n}_y} -  d \\dot{\\alpha}\\mathbf{\\hat{a}_y} + \\left(- c - \\frac{l}{2}\\right) \\sin{\\left(\\beta \\right)} \\dot{\\alpha}\\mathbf{\\hat{b}_x} + (- w \\cos{\\left(\\beta \\right)} \\dot{\\alpha} - \\left(- c - \\frac{l}{2}\\right) \\dot{\\beta})\\mathbf{\\hat{b}_y} + w \\sin{\\left(\\beta \\right)} \\dot{\\alpha}\\mathbf{\\hat{b}_z}$"
      ],
      "text/plain": [
       "                                              ⎛     l⎞                ⎛\n",
       "h⋅sin(α)⋅β̇ n_x + -h⋅cos(α)⋅β̇ n_y + -d⋅α̇ a_y + ⎜-c - ─⎟⋅sin(β)⋅α̇ b_x + ⎜-w⋅\n",
       "                                              ⎝     2⎠                ⎝\n",
       "\n",
       "       ⎛     l⎞  ⎞\n",
       "cos(β)⋅α̇ - ⎜-c - ─⎟⋅β̇⎟ b_y + w⋅sin(β)⋅α̇ b_z\n",
       "       ⎝     2⎠  ⎠"
      ]
     },
     "execution_count": 9,
     "metadata": {},
     "output_type": "execute_result"
    }
   ],
   "source": [
    "me.cross(B.ang_vel_in(N), r_O_P + r_P_S + r_S_Q)"
   ]
  },
  {
   "cell_type": "code",
   "execution_count": 10,
   "id": "4e357cf5",
   "metadata": {
    "execution": {
     "iopub.execute_input": "2022-04-15T22:54:12.429758Z",
     "iopub.status.busy": "2022-04-15T22:54:12.429337Z",
     "iopub.status.idle": "2022-04-15T22:54:12.456237Z",
     "shell.execute_reply": "2022-04-15T22:54:12.455712Z"
    }
   },
   "outputs": [
    {
     "data": {
      "text/latex": [
       "$\\displaystyle -  d \\dot{\\alpha}\\mathbf{\\hat{a}_y} + \\left(- c - \\frac{l}{2}\\right) \\sin{\\left(\\beta \\right)} \\dot{\\alpha}\\mathbf{\\hat{b}_x} + (- w \\cos{\\left(\\beta \\right)} \\dot{\\alpha} - \\left(- c - \\frac{l}{2}\\right) \\dot{\\beta})\\mathbf{\\hat{b}_y} + w \\sin{\\left(\\beta \\right)} \\dot{\\alpha}\\mathbf{\\hat{b}_z}$"
      ],
      "text/plain": [
       "           ⎛     l⎞                ⎛              ⎛     l⎞  ⎞\n",
       "-d⋅α̇ a_y + ⎜-c - ─⎟⋅sin(β)⋅α̇ b_x + ⎜-w⋅cos(β)⋅α̇ - ⎜-c - ─⎟⋅β̇⎟ b_y + w⋅sin(\n",
       "           ⎝     2⎠                ⎝              ⎝     2⎠  ⎠\n",
       "\n",
       "\n",
       "β)⋅α̇ b_z\n"
      ]
     },
     "execution_count": 10,
     "metadata": {},
     "output_type": "execute_result"
    }
   ],
   "source": [
    "N_v_Q = (r_O_P + r_P_S + r_S_Q).dt(B) + me.cross(B.ang_vel_in(N), r_O_P + r_P_S + r_S_Q)\n",
    "N_v_Q"
   ]
  },
  {
   "cell_type": "code",
   "execution_count": 11,
   "id": "07dbe437",
   "metadata": {
    "execution": {
     "iopub.execute_input": "2022-04-15T22:54:12.458996Z",
     "iopub.status.busy": "2022-04-15T22:54:12.458567Z",
     "iopub.status.idle": "2022-04-15T22:54:12.464347Z",
     "shell.execute_reply": "2022-04-15T22:54:12.463817Z"
    }
   },
   "outputs": [],
   "source": [
    "O = me.Point('O')\n",
    "P = me.Point('P')\n",
    "S = me.Point('S')\n",
    "Q = me.Point('Q')\n",
    "\n",
    "P.set_pos(O, h*N.z)\n",
    "S.set_pos(P, -d*A.x)\n",
    "Q.set_pos(S, -w*B.x - (c + l/2)*B.z)"
   ]
  },
  {
   "cell_type": "code",
   "execution_count": 12,
   "id": "e26841e4",
   "metadata": {
    "execution": {
     "iopub.execute_input": "2022-04-15T22:54:12.466904Z",
     "iopub.status.busy": "2022-04-15T22:54:12.466431Z",
     "iopub.status.idle": "2022-04-15T22:54:12.472509Z",
     "shell.execute_reply": "2022-04-15T22:54:12.471991Z"
    }
   },
   "outputs": [
    {
     "data": {
      "text/latex": [
       "$\\displaystyle -  w\\mathbf{\\hat{b}_x} + (- c - \\frac{l}{2})\\mathbf{\\hat{b}_z} -  d\\mathbf{\\hat{a}_x} + h\\mathbf{\\hat{n}_z}$"
      ],
      "text/plain": [
       "         ⎛     l⎞\n",
       "-w b_x + ⎜-c - ─⎟ b_z + -d a_x + h n_z\n",
       "         ⎝     2⎠"
      ]
     },
     "execution_count": 12,
     "metadata": {},
     "output_type": "execute_result"
    }
   ],
   "source": [
    "Q.pos_from(O)"
   ]
  },
  {
   "cell_type": "code",
   "execution_count": 13,
   "id": "790e7362",
   "metadata": {
    "execution": {
     "iopub.execute_input": "2022-04-15T22:54:12.475071Z",
     "iopub.status.busy": "2022-04-15T22:54:12.474665Z",
     "iopub.status.idle": "2022-04-15T22:54:12.477471Z",
     "shell.execute_reply": "2022-04-15T22:54:12.476952Z"
    }
   },
   "outputs": [],
   "source": [
    "O.set_vel(N, 0)"
   ]
  },
  {
   "cell_type": "code",
   "execution_count": 14,
   "id": "d4ac5405",
   "metadata": {
    "execution": {
     "iopub.execute_input": "2022-04-15T22:54:12.479946Z",
     "iopub.status.busy": "2022-04-15T22:54:12.479462Z",
     "iopub.status.idle": "2022-04-15T22:54:12.499739Z",
     "shell.execute_reply": "2022-04-15T22:54:12.499194Z"
    }
   },
   "outputs": [
    {
     "data": {
      "text/latex": [
       "$\\displaystyle \\left(- c - \\frac{l}{2}\\right) \\sin{\\left(\\beta \\right)} \\dot{\\alpha}\\mathbf{\\hat{b}_x} + (- w \\cos{\\left(\\beta \\right)} \\dot{\\alpha} - \\left(- c - \\frac{l}{2}\\right) \\dot{\\beta})\\mathbf{\\hat{b}_y} + w \\sin{\\left(\\beta \\right)} \\dot{\\alpha}\\mathbf{\\hat{b}_z} -  d \\dot{\\alpha}\\mathbf{\\hat{a}_y}$"
      ],
      "text/plain": [
       "⎛     l⎞                ⎛              ⎛     l⎞  ⎞\n",
       "⎜-c - ─⎟⋅sin(β)⋅α̇ b_x + ⎜-w⋅cos(β)⋅α̇ - ⎜-c - ─⎟⋅β̇⎟ b_y + w⋅sin(β)⋅α̇ b_z +\n",
       "⎝     2⎠                ⎝              ⎝     2⎠  ⎠\n",
       "\n",
       "\n",
       "-d⋅α̇ a_y\n"
      ]
     },
     "execution_count": 14,
     "metadata": {},
     "output_type": "execute_result"
    }
   ],
   "source": [
    "Q.vel(N)"
   ]
  },
  {
   "cell_type": "code",
   "execution_count": 15,
   "id": "06f36d21",
   "metadata": {
    "execution": {
     "iopub.execute_input": "2022-04-15T22:54:12.502139Z",
     "iopub.status.busy": "2022-04-15T22:54:12.501734Z",
     "iopub.status.idle": "2022-04-15T22:54:12.506513Z",
     "shell.execute_reply": "2022-04-15T22:54:12.506089Z"
    }
   },
   "outputs": [],
   "source": [
    "N_v_P = 0*N.z"
   ]
  },
  {
   "cell_type": "code",
   "execution_count": 16,
   "id": "fc576ce9",
   "metadata": {
    "execution": {
     "iopub.execute_input": "2022-04-15T22:54:12.510420Z",
     "iopub.status.busy": "2022-04-15T22:54:12.509921Z",
     "iopub.status.idle": "2022-04-15T22:54:12.517411Z",
     "shell.execute_reply": "2022-04-15T22:54:12.516895Z"
    }
   },
   "outputs": [
    {
     "data": {
      "text/latex": [
       "$\\displaystyle -  d \\dot{\\alpha}\\mathbf{\\hat{a}_y}$"
      ],
      "text/plain": [
       "-d⋅α̇ a_y"
      ]
     },
     "execution_count": 16,
     "metadata": {},
     "output_type": "execute_result"
    }
   ],
   "source": [
    "N_v_S = N_v_P +  me.cross(A.ang_vel_in(N), S.pos_from(P))\n",
    "N_v_S"
   ]
  },
  {
   "cell_type": "code",
   "execution_count": 17,
   "id": "b543652d",
   "metadata": {
    "execution": {
     "iopub.execute_input": "2022-04-15T22:54:12.519660Z",
     "iopub.status.busy": "2022-04-15T22:54:12.519383Z",
     "iopub.status.idle": "2022-04-15T22:54:12.526736Z",
     "shell.execute_reply": "2022-04-15T22:54:12.526233Z"
    }
   },
   "outputs": [
    {
     "data": {
      "text/latex": [
       "$\\displaystyle -  d \\dot{\\alpha}\\mathbf{\\hat{a}_y}$"
      ],
      "text/plain": [
       "-d⋅α̇ a_y"
      ]
     },
     "execution_count": 17,
     "metadata": {},
     "output_type": "execute_result"
    }
   ],
   "source": [
    "P.set_vel(N, 0)\n",
    "S.v2pt_theory(P, N, A)"
   ]
  },
  {
   "cell_type": "code",
   "execution_count": 18,
   "id": "f7007dda",
   "metadata": {
    "execution": {
     "iopub.execute_input": "2022-04-15T22:54:12.529607Z",
     "iopub.status.busy": "2022-04-15T22:54:12.529344Z",
     "iopub.status.idle": "2022-04-15T22:54:12.534177Z",
     "shell.execute_reply": "2022-04-15T22:54:12.533679Z"
    }
   },
   "outputs": [
    {
     "data": {
      "text/latex": [
       "$\\displaystyle -  d \\dot{\\alpha}\\mathbf{\\hat{a}_y}$"
      ],
      "text/plain": [
       "-d⋅α̇ a_y"
      ]
     },
     "execution_count": 18,
     "metadata": {},
     "output_type": "execute_result"
    }
   ],
   "source": [
    "S.vel(N)"
   ]
  },
  {
   "cell_type": "code",
   "execution_count": 19,
   "id": "17a5326b",
   "metadata": {
    "execution": {
     "iopub.execute_input": "2022-04-15T22:54:12.536968Z",
     "iopub.status.busy": "2022-04-15T22:54:12.536712Z",
     "iopub.status.idle": "2022-04-15T22:54:12.550648Z",
     "shell.execute_reply": "2022-04-15T22:54:12.550140Z"
    }
   },
   "outputs": [
    {
     "data": {
      "text/latex": [
       "$\\displaystyle -  d \\dot{\\alpha}\\mathbf{\\hat{a}_y} + \\left(- c - \\frac{l}{2}\\right) \\sin{\\left(\\beta \\right)} \\dot{\\alpha}\\mathbf{\\hat{b}_x} + (- w \\cos{\\left(\\beta \\right)} \\dot{\\alpha} - \\left(- c - \\frac{l}{2}\\right) \\dot{\\beta})\\mathbf{\\hat{b}_y} + w \\sin{\\left(\\beta \\right)} \\dot{\\alpha}\\mathbf{\\hat{b}_z}$"
      ],
      "text/plain": [
       "           ⎛     l⎞                ⎛              ⎛     l⎞  ⎞\n",
       "-d⋅α̇ a_y + ⎜-c - ─⎟⋅sin(β)⋅α̇ b_x + ⎜-w⋅cos(β)⋅α̇ - ⎜-c - ─⎟⋅β̇⎟ b_y + w⋅sin(\n",
       "           ⎝     2⎠                ⎝              ⎝     2⎠  ⎠\n",
       "\n",
       "\n",
       "β)⋅α̇ b_z\n"
      ]
     },
     "execution_count": 19,
     "metadata": {},
     "output_type": "execute_result"
    }
   ],
   "source": [
    "N_v_Q = N_v_S +  me.cross(B.ang_vel_in(N), Q.pos_from(S))\n",
    "N_v_Q"
   ]
  },
  {
   "cell_type": "code",
   "execution_count": 20,
   "id": "017cbab3",
   "metadata": {
    "execution": {
     "iopub.execute_input": "2022-04-15T22:54:12.553658Z",
     "iopub.status.busy": "2022-04-15T22:54:12.553247Z",
     "iopub.status.idle": "2022-04-15T22:54:12.566840Z",
     "shell.execute_reply": "2022-04-15T22:54:12.566322Z"
    }
   },
   "outputs": [
    {
     "data": {
      "text/latex": [
       "$\\displaystyle -  d \\dot{\\alpha}\\mathbf{\\hat{a}_y} + \\left(- c - \\frac{l}{2}\\right) \\sin{\\left(\\beta \\right)} \\dot{\\alpha}\\mathbf{\\hat{b}_x} + (- w \\cos{\\left(\\beta \\right)} \\dot{\\alpha} - \\left(- c - \\frac{l}{2}\\right) \\dot{\\beta})\\mathbf{\\hat{b}_y} + w \\sin{\\left(\\beta \\right)} \\dot{\\alpha}\\mathbf{\\hat{b}_z}$"
      ],
      "text/plain": [
       "           ⎛     l⎞                ⎛              ⎛     l⎞  ⎞\n",
       "-d⋅α̇ a_y + ⎜-c - ─⎟⋅sin(β)⋅α̇ b_x + ⎜-w⋅cos(β)⋅α̇ - ⎜-c - ─⎟⋅β̇⎟ b_y + w⋅sin(\n",
       "           ⎝     2⎠                ⎝              ⎝     2⎠  ⎠\n",
       "\n",
       "\n",
       "β)⋅α̇ b_z\n"
      ]
     },
     "execution_count": 20,
     "metadata": {},
     "output_type": "execute_result"
    }
   ],
   "source": [
    "Q.v2pt_theory(S, N, B)"
   ]
  },
  {
   "cell_type": "code",
   "execution_count": 21,
   "id": "b606076e",
   "metadata": {
    "execution": {
     "iopub.execute_input": "2022-04-15T22:54:12.569437Z",
     "iopub.status.busy": "2022-04-15T22:54:12.569021Z",
     "iopub.status.idle": "2022-04-15T22:54:12.585418Z",
     "shell.execute_reply": "2022-04-15T22:54:12.584880Z"
    }
   },
   "outputs": [
    {
     "data": {
      "text/latex": [
       "$\\displaystyle (- d \\dot{\\alpha} - \\frac{w \\dot{\\alpha}}{2})\\mathbf{\\hat{a}_y} -  c \\sin{\\left(\\beta \\right)} \\dot{\\alpha}\\mathbf{\\hat{b}_x} + c \\dot{\\beta}\\mathbf{\\hat{b}_y}$"
      ],
      "text/plain": [
       "⎛       w⋅α̇⎞\n",
       "⎜-d⋅α̇ - ───⎟ a_y + -c⋅sin(β)⋅α̇ b_x + c⋅β̇ b_y\n",
       "⎝        2 ⎠"
      ]
     },
     "execution_count": 21,
     "metadata": {},
     "output_type": "execute_result"
    }
   ],
   "source": [
    "Bc = me.Point('B_c')\n",
    "Bc.set_pos(S, -c*B.z - w/2*A.x)\n",
    "Bc.v2pt_theory(S, N, B)"
   ]
  },
  {
   "cell_type": "code",
   "execution_count": 22,
   "id": "4a009c04",
   "metadata": {
    "execution": {
     "iopub.execute_input": "2022-04-15T22:54:12.588667Z",
     "iopub.status.busy": "2022-04-15T22:54:12.588305Z",
     "iopub.status.idle": "2022-04-15T22:54:12.593158Z",
     "shell.execute_reply": "2022-04-15T22:54:12.592653Z"
    }
   },
   "outputs": [],
   "source": [
    "s = me.dynamicsymbols('s')\n",
    "t = me.dynamicsymbols._t\n",
    "\n",
    "R = me.Point('R')\n",
    "R.set_pos(Q, l*B.z + s*B.x)"
   ]
  },
  {
   "cell_type": "code",
   "execution_count": 23,
   "id": "c0f93fef",
   "metadata": {
    "execution": {
     "iopub.execute_input": "2022-04-15T22:54:12.595714Z",
     "iopub.status.busy": "2022-04-15T22:54:12.595227Z",
     "iopub.status.idle": "2022-04-15T22:54:12.600562Z",
     "shell.execute_reply": "2022-04-15T22:54:12.600054Z"
    }
   },
   "outputs": [
    {
     "data": {
      "text/latex": [
       "$\\displaystyle \\dot{s}\\mathbf{\\hat{b}_x}$"
      ],
      "text/plain": [
       "ṡ b_x"
      ]
     },
     "execution_count": 23,
     "metadata": {},
     "output_type": "execute_result"
    }
   ],
   "source": [
    "B_v_R = s.diff(t)*B.x\n",
    "B_v_R"
   ]
  },
  {
   "cell_type": "code",
   "execution_count": 24,
   "id": "7980061a",
   "metadata": {
    "execution": {
     "iopub.execute_input": "2022-04-15T22:54:12.603294Z",
     "iopub.status.busy": "2022-04-15T22:54:12.602825Z",
     "iopub.status.idle": "2022-04-15T22:54:12.609147Z",
     "shell.execute_reply": "2022-04-15T22:54:12.608626Z"
    }
   },
   "outputs": [
    {
     "data": {
      "text/latex": [
       "$\\displaystyle (- w + s)\\mathbf{\\hat{b}_x} + (- c + \\frac{l}{2})\\mathbf{\\hat{b}_z}$"
      ],
      "text/plain": [
       "               ⎛     l⎞\n",
       "(-w + s) b_x + ⎜-c + ─⎟ b_z\n",
       "               ⎝     2⎠"
      ]
     },
     "execution_count": 24,
     "metadata": {},
     "output_type": "execute_result"
    }
   ],
   "source": [
    "r_S_R = R.pos_from(S)\n",
    "r_S_R"
   ]
  },
  {
   "cell_type": "code",
   "execution_count": 25,
   "id": "a7dee01b",
   "metadata": {
    "execution": {
     "iopub.execute_input": "2022-04-15T22:54:12.611561Z",
     "iopub.status.busy": "2022-04-15T22:54:12.611225Z",
     "iopub.status.idle": "2022-04-15T22:54:12.629432Z",
     "shell.execute_reply": "2022-04-15T22:54:12.628930Z"
    }
   },
   "outputs": [
    {
     "data": {
      "text/latex": [
       "$\\displaystyle -  d \\dot{\\alpha}\\mathbf{\\hat{a}_y} + \\left(- c + \\frac{l}{2}\\right) \\sin{\\left(\\beta \\right)} \\dot{\\alpha}\\mathbf{\\hat{b}_x} + (- \\left(- c + \\frac{l}{2}\\right) \\dot{\\beta} + \\left(- w + s\\right) \\cos{\\left(\\beta \\right)} \\dot{\\alpha})\\mathbf{\\hat{b}_y} -  \\left(- w + s\\right) \\sin{\\left(\\beta \\right)} \\dot{\\alpha}\\mathbf{\\hat{b}_z}$"
      ],
      "text/plain": [
       "           ⎛     l⎞                ⎛  ⎛     l⎞                      ⎞\n",
       "-d⋅α̇ a_y + ⎜-c + ─⎟⋅sin(β)⋅α̇ b_x + ⎜- ⎜-c + ─⎟⋅β̇ + (-w + s)⋅cos(β)⋅α̇⎟ b_y\n",
       "           ⎝     2⎠                ⎝  ⎝     2⎠                      ⎠\n",
       "\n",
       "\n",
       "+ -(-w + s)⋅sin(β)⋅α̇ b_z\n"
      ]
     },
     "execution_count": 25,
     "metadata": {},
     "output_type": "execute_result"
    }
   ],
   "source": [
    "N_v_T = N_v_S + me.cross(B.ang_vel_in(N), r_S_R)\n",
    "N_v_T"
   ]
  },
  {
   "cell_type": "code",
   "execution_count": 26,
   "id": "bfb6e238",
   "metadata": {
    "execution": {
     "iopub.execute_input": "2022-04-15T22:54:12.632106Z",
     "iopub.status.busy": "2022-04-15T22:54:12.631686Z",
     "iopub.status.idle": "2022-04-15T22:54:12.643841Z",
     "shell.execute_reply": "2022-04-15T22:54:12.643312Z"
    }
   },
   "outputs": [
    {
     "data": {
      "text/latex": [
       "$\\displaystyle (\\left(- c + \\frac{l}{2}\\right) \\sin{\\left(\\beta \\right)} \\dot{\\alpha} + \\dot{s})\\mathbf{\\hat{b}_x} + (- \\left(- c + \\frac{l}{2}\\right) \\dot{\\beta} + \\left(- w + s\\right) \\cos{\\left(\\beta \\right)} \\dot{\\alpha})\\mathbf{\\hat{b}_y} -  \\left(- w + s\\right) \\sin{\\left(\\beta \\right)} \\dot{\\alpha}\\mathbf{\\hat{b}_z} -  d \\dot{\\alpha}\\mathbf{\\hat{a}_y}$"
      ],
      "text/plain": [
       "⎛⎛     l⎞             ⎞       ⎛  ⎛     l⎞                      ⎞\n",
       "⎜⎜-c + ─⎟⋅sin(β)⋅α̇ + ṡ⎟ b_x + ⎜- ⎜-c + ─⎟⋅β̇ + (-w + s)⋅cos(β)⋅α̇⎟ b_y + -(-\n",
       "⎝⎝     2⎠             ⎠       ⎝  ⎝     2⎠                      ⎠\n",
       "\n",
       "\n",
       "w + s)⋅sin(β)⋅α̇ b_z + -d⋅α̇ a_y\n"
      ]
     },
     "execution_count": 26,
     "metadata": {},
     "output_type": "execute_result"
    }
   ],
   "source": [
    "N_v_R = B_v_R + N_v_T\n",
    "N_v_R"
   ]
  },
  {
   "cell_type": "code",
   "execution_count": 27,
   "id": "87ec6132",
   "metadata": {
    "execution": {
     "iopub.execute_input": "2022-04-15T22:54:12.646348Z",
     "iopub.status.busy": "2022-04-15T22:54:12.645946Z",
     "iopub.status.idle": "2022-04-15T22:54:12.672177Z",
     "shell.execute_reply": "2022-04-15T22:54:12.671645Z"
    }
   },
   "outputs": [
    {
     "data": {
      "text/latex": [
       "$\\displaystyle (\\left(- c + \\frac{l}{2}\\right) \\sin{\\left(\\beta \\right)} \\dot{\\alpha} + \\dot{s})\\mathbf{\\hat{b}_x} + (- \\left(- c + \\frac{l}{2}\\right) \\dot{\\beta} + \\left(- w + s\\right) \\cos{\\left(\\beta \\right)} \\dot{\\alpha})\\mathbf{\\hat{b}_y} -  \\left(- w + s\\right) \\sin{\\left(\\beta \\right)} \\dot{\\alpha}\\mathbf{\\hat{b}_z} -  d \\dot{\\alpha}\\mathbf{\\hat{a}_y}$"
      ],
      "text/plain": [
       "⎛⎛     l⎞             ⎞       ⎛  ⎛     l⎞                      ⎞\n",
       "⎜⎜-c + ─⎟⋅sin(β)⋅α̇ + ṡ⎟ b_x + ⎜- ⎜-c + ─⎟⋅β̇ + (-w + s)⋅cos(β)⋅α̇⎟ b_y + -(-\n",
       "⎝⎝     2⎠             ⎠       ⎝  ⎝     2⎠                      ⎠\n",
       "\n",
       "\n",
       "w + s)⋅sin(β)⋅α̇ b_z + -d⋅α̇ a_y\n"
      ]
     },
     "execution_count": 27,
     "metadata": {},
     "output_type": "execute_result"
    }
   ],
   "source": [
    "S.set_vel(B, 0)\n",
    "R.v1pt_theory(S, N, B)"
   ]
  },
  {
   "cell_type": "code",
   "execution_count": 28,
   "id": "8ef24a61",
   "metadata": {
    "execution": {
     "iopub.execute_input": "2022-04-15T22:54:12.674548Z",
     "iopub.status.busy": "2022-04-15T22:54:12.674287Z",
     "iopub.status.idle": "2022-04-15T22:54:12.686398Z",
     "shell.execute_reply": "2022-04-15T22:54:12.685898Z"
    }
   },
   "outputs": [
    {
     "data": {
      "text/latex": [
       "$\\displaystyle d \\dot{\\alpha}^{2}\\mathbf{\\hat{a}_x} -  d \\ddot{\\alpha}\\mathbf{\\hat{a}_y}$"
      ],
      "text/plain": [
       "   2\n",
       "d⋅α̇  a_x + -d⋅α̈ a_y"
      ]
     },
     "execution_count": 28,
     "metadata": {},
     "output_type": "execute_result"
    }
   ],
   "source": [
    "S.acc(N)"
   ]
  },
  {
   "cell_type": "code",
   "execution_count": 29,
   "id": "9c87ade3",
   "metadata": {
    "execution": {
     "iopub.execute_input": "2022-04-15T22:54:12.689352Z",
     "iopub.status.busy": "2022-04-15T22:54:12.688888Z",
     "iopub.status.idle": "2022-04-15T22:54:12.698471Z",
     "shell.execute_reply": "2022-04-15T22:54:12.697974Z"
    }
   },
   "outputs": [
    {
     "data": {
      "text/latex": [
       "$\\displaystyle -  d \\ddot{\\alpha}\\mathbf{\\hat{a}_y}$"
      ],
      "text/plain": [
       "-d⋅α̈ a_y"
      ]
     },
     "execution_count": 29,
     "metadata": {},
     "output_type": "execute_result"
    }
   ],
   "source": [
    "me.cross(A.ang_acc_in(N), S.pos_from(P))"
   ]
  },
  {
   "cell_type": "code",
   "execution_count": 30,
   "id": "d3815146",
   "metadata": {
    "execution": {
     "iopub.execute_input": "2022-04-15T22:54:12.701014Z",
     "iopub.status.busy": "2022-04-15T22:54:12.700546Z",
     "iopub.status.idle": "2022-04-15T22:54:12.709907Z",
     "shell.execute_reply": "2022-04-15T22:54:12.709420Z"
    }
   },
   "outputs": [
    {
     "data": {
      "text/latex": [
       "$\\displaystyle d \\dot{\\alpha}^{2}\\mathbf{\\hat{a}_x}$"
      ],
      "text/plain": [
       "   2\n",
       "d⋅α̇  a_x"
      ]
     },
     "execution_count": 30,
     "metadata": {},
     "output_type": "execute_result"
    }
   ],
   "source": [
    "me.cross(A.ang_vel_in(N), me.cross(A.ang_vel_in(N), S.pos_from(P)))"
   ]
  },
  {
   "cell_type": "code",
   "execution_count": 31,
   "id": "55835839",
   "metadata": {
    "execution": {
     "iopub.execute_input": "2022-04-15T22:54:12.712354Z",
     "iopub.status.busy": "2022-04-15T22:54:12.711887Z",
     "iopub.status.idle": "2022-04-15T22:54:12.725582Z",
     "shell.execute_reply": "2022-04-15T22:54:12.725066Z"
    }
   },
   "outputs": [
    {
     "data": {
      "text/latex": [
       "$\\displaystyle d \\dot{\\alpha}^{2}\\mathbf{\\hat{a}_x} -  d \\ddot{\\alpha}\\mathbf{\\hat{a}_y}$"
      ],
      "text/plain": [
       "   2\n",
       "d⋅α̇  a_x + -d⋅α̈ a_y"
      ]
     },
     "execution_count": 31,
     "metadata": {},
     "output_type": "execute_result"
    }
   ],
   "source": [
    "S.a2pt_theory(P, N, A)"
   ]
  },
  {
   "cell_type": "code",
   "execution_count": 32,
   "id": "96917a87",
   "metadata": {
    "execution": {
     "iopub.execute_input": "2022-04-15T22:54:12.728020Z",
     "iopub.status.busy": "2022-04-15T22:54:12.727540Z",
     "iopub.status.idle": "2022-04-15T22:54:12.783416Z",
     "shell.execute_reply": "2022-04-15T22:54:12.782864Z"
    }
   },
   "outputs": [
    {
     "data": {
      "text/latex": [
       "$\\displaystyle d \\dot{\\alpha}^{2}\\mathbf{\\hat{a}_x} -  d \\ddot{\\alpha}\\mathbf{\\hat{a}_y} + (w \\sin^{2}{\\left(\\beta \\right)} \\dot{\\alpha}^{2} + \\left(- c - \\frac{l}{2}\\right) \\left(\\sin{\\left(\\beta \\right)} \\ddot{\\alpha} + \\cos{\\left(\\beta \\right)} \\dot{\\alpha} \\dot{\\beta}\\right) - \\left(- w \\cos{\\left(\\beta \\right)} \\dot{\\alpha} - \\left(- c - \\frac{l}{2}\\right) \\dot{\\beta}\\right) \\cos{\\left(\\beta \\right)} \\dot{\\alpha})\\mathbf{\\hat{b}_x} + (- w \\left(- \\sin{\\left(\\beta \\right)} \\dot{\\alpha} \\dot{\\beta} + \\cos{\\left(\\beta \\right)} \\ddot{\\alpha}\\right) - w \\sin{\\left(\\beta \\right)} \\dot{\\alpha} \\dot{\\beta} + \\left(- c - \\frac{l}{2}\\right) \\sin{\\left(\\beta \\right)} \\cos{\\left(\\beta \\right)} \\dot{\\alpha}^{2} - \\left(- c - \\frac{l}{2}\\right) \\ddot{\\beta})\\mathbf{\\hat{b}_y} + (w \\left(\\sin{\\left(\\beta \\right)} \\ddot{\\alpha} + \\cos{\\left(\\beta \\right)} \\dot{\\alpha} \\dot{\\beta}\\right) - \\left(- c - \\frac{l}{2}\\right) \\sin^{2}{\\left(\\beta \\right)} \\dot{\\alpha}^{2} + \\left(- w \\cos{\\left(\\beta \\right)} \\dot{\\alpha} - \\left(- c - \\frac{l}{2}\\right) \\dot{\\beta}\\right) \\dot{\\beta})\\mathbf{\\hat{b}_z}$"
      ],
      "text/plain": [
       "   2                  ⎛     2     2   ⎛     l⎞                           ⎛\n",
       "d⋅α̇  a_x + -d⋅α̈ a_y + ⎜w⋅sin (β)⋅α̇  + ⎜-c - ─⎟⋅(sin(β)⋅α̈ + cos(β)⋅α̇⋅β̇) -\n",
       "                      ⎝               ⎝     2⎠                           ⎝\n",
       "\n",
       "          ⎛     l⎞  ⎞         ⎞       ⎛\n",
       " ⎜-w⋅cos(β)⋅α̇ - ⎜-c - ─⎟⋅β̇⎟⋅cos(β)⋅α̇⎟ b_x + ⎜-w⋅(-sin(β)⋅α̇⋅β̇ + cos(β)⋅α̈)\n",
       "          ⎝     2⎠  ⎠         ⎠       ⎝\n",
       "\n",
       "      ⎛     l⎞                2   ⎛     l⎞  ⎞       ⎛\n",
       " - w⋅sin(β)⋅α̇⋅β̇ + ⎜-c - ─⎟⋅sin(β)⋅cos(β)⋅α̇  - ⎜-c - ─⎟⋅β̈⎟ b_y + ⎜w⋅(sin(β)\n",
       "      ⎝     2⎠                    ⎝     2⎠  ⎠       ⎝\n",
       "\n",
       "   ⎛     l⎞    2     2   ⎛              ⎛     l⎞  ⎞  ⎞\n",
       "⋅α̈ + cos(β)⋅α̇⋅β̇) - ⎜-c - ─⎟⋅sin (β)⋅α̇  + ⎜-w⋅cos(β)⋅α̇ - ⎜-c - ─⎟⋅β̇⎟⋅β̇⎟\n",
       "   ⎝     2⎠              ⎝              ⎝     2⎠  ⎠  ⎠"
      ]
     },
     "execution_count": 32,
     "metadata": {},
     "output_type": "execute_result"
    }
   ],
   "source": [
    "Q.a2pt_theory(S, N, B)"
   ]
  },
  {
   "cell_type": "code",
   "execution_count": 33,
   "id": "b706f9d3",
   "metadata": {
    "execution": {
     "iopub.execute_input": "2022-04-15T22:54:12.786229Z",
     "iopub.status.busy": "2022-04-15T22:54:12.785739Z",
     "iopub.status.idle": "2022-04-15T22:54:12.792902Z",
     "shell.execute_reply": "2022-04-15T22:54:12.792392Z"
    }
   },
   "outputs": [
    {
     "data": {
      "text/latex": [
       "$\\displaystyle \\ddot{s}\\mathbf{\\hat{b}_x}$"
      ],
      "text/plain": [
       "s̈ b_x"
      ]
     },
     "execution_count": 33,
     "metadata": {},
     "output_type": "execute_result"
    }
   ],
   "source": [
    "B_a_R = R.acc(B)\n",
    "B_a_R"
   ]
  },
  {
   "cell_type": "code",
   "execution_count": 34,
   "id": "841f9eb7",
   "metadata": {
    "execution": {
     "iopub.execute_input": "2022-04-15T22:54:12.795300Z",
     "iopub.status.busy": "2022-04-15T22:54:12.794888Z",
     "iopub.status.idle": "2022-04-15T22:54:12.849081Z",
     "shell.execute_reply": "2022-04-15T22:54:12.848474Z"
    }
   },
   "outputs": [
    {
     "data": {
      "text/latex": [
       "$\\displaystyle d \\dot{\\alpha}^{2}\\mathbf{\\hat{a}_x} -  d \\ddot{\\alpha}\\mathbf{\\hat{a}_y} + (\\left(- c + \\frac{l}{2}\\right) \\left(\\sin{\\left(\\beta \\right)} \\ddot{\\alpha} + \\cos{\\left(\\beta \\right)} \\dot{\\alpha} \\dot{\\beta}\\right) - \\left(- w + s\\right) \\sin^{2}{\\left(\\beta \\right)} \\dot{\\alpha}^{2} - \\left(- \\left(- c + \\frac{l}{2}\\right) \\dot{\\beta} + \\left(- w + s\\right) \\cos{\\left(\\beta \\right)} \\dot{\\alpha}\\right) \\cos{\\left(\\beta \\right)} \\dot{\\alpha})\\mathbf{\\hat{b}_x} + (\\left(- c + \\frac{l}{2}\\right) \\sin{\\left(\\beta \\right)} \\cos{\\left(\\beta \\right)} \\dot{\\alpha}^{2} - \\left(- c + \\frac{l}{2}\\right) \\ddot{\\beta} + \\left(- w + s\\right) \\left(- \\sin{\\left(\\beta \\right)} \\dot{\\alpha} \\dot{\\beta} + \\cos{\\left(\\beta \\right)} \\ddot{\\alpha}\\right) + \\left(- w + s\\right) \\sin{\\left(\\beta \\right)} \\dot{\\alpha} \\dot{\\beta})\\mathbf{\\hat{b}_y} + (- \\left(- c + \\frac{l}{2}\\right) \\sin^{2}{\\left(\\beta \\right)} \\dot{\\alpha}^{2} - \\left(- w + s\\right) \\left(\\sin{\\left(\\beta \\right)} \\ddot{\\alpha} + \\cos{\\left(\\beta \\right)} \\dot{\\alpha} \\dot{\\beta}\\right) + \\left(- \\left(- c + \\frac{l}{2}\\right) \\dot{\\beta} + \\left(- w + s\\right) \\cos{\\left(\\beta \\right)} \\dot{\\alpha}\\right) \\dot{\\beta})\\mathbf{\\hat{b}_z}$"
      ],
      "text/plain": [
       "   2                  ⎛⎛     l⎞                                       2     2\n",
       "d⋅α̇  a_x + -d⋅α̈ a_y + ⎜⎜-c + ─⎟⋅(sin(β)⋅α̈ + cos(β)⋅α̇⋅β̇) - (-w + s)⋅sin (β\n",
       "                      ⎝⎝     2⎠\n",
       "\n",
       "  ⎛  ⎛     l⎞                      ⎞         ⎞       ⎛⎛     l⎞\n",
       ")⋅α̇  - ⎜- ⎜-c + ─⎟⋅β̇ + (-w + s)⋅cos(β)⋅α̇⎟⋅cos(β)⋅α̇⎟ b_x + ⎜⎜-c + ─⎟⋅sin(β)\n",
       "  ⎝  ⎝     2⎠                      ⎠         ⎠       ⎝⎝     2⎠\n",
       "\n",
       "2   ⎛     l⎞                                                            ⎞\n",
       "⋅cos(β)⋅α̇  - ⎜-c + ─⎟⋅β̈ + (-w + s)⋅(-sin(β)⋅α̇⋅β̇ + cos(β)⋅α̈) + (-w + s)⋅si\n",
       "    ⎝     2⎠                                                            ⎠\n",
       "\n",
       "  ⎛  ⎛     l⎞    2     2                                      ⎛  ⎛     l⎞\n",
       "n(β)⋅α̇⋅β̇⎟ b_y + ⎜- ⎜-c + ─⎟⋅sin (β)⋅α̇  - (-w + s)⋅(sin(β)⋅α̈ + cos(β)⋅α̇⋅β̇\n",
       "  ⎝  ⎝     2⎠                                                 ⎝  ⎝     2⎠\n",
       "\n",
       "                 ⎞  ⎞\n",
       ") + ⎜- ⎜-c + ─⎟⋅β̇ + (-w + s)⋅cos(β)⋅α̇⎟⋅β̇⎟ b_z\n",
       "                 ⎠  ⎠"
      ]
     },
     "execution_count": 34,
     "metadata": {},
     "output_type": "execute_result"
    }
   ],
   "source": [
    "N_a_T = R.a2pt_theory(S, N, B)\n",
    "N_a_T"
   ]
  },
  {
   "cell_type": "code",
   "execution_count": 35,
   "id": "52006fc5",
   "metadata": {
    "execution": {
     "iopub.execute_input": "2022-04-15T22:54:12.852317Z",
     "iopub.status.busy": "2022-04-15T22:54:12.852030Z",
     "iopub.status.idle": "2022-04-15T22:54:12.865363Z",
     "shell.execute_reply": "2022-04-15T22:54:12.864901Z"
    }
   },
   "outputs": [
    {
     "data": {
      "text/latex": [
       "$\\displaystyle 2 \\cos{\\left(\\beta \\right)} \\dot{\\alpha} \\dot{s}\\mathbf{\\hat{b}_y} -  2 \\sin{\\left(\\beta \\right)} \\dot{\\alpha} \\dot{s}\\mathbf{\\hat{b}_z}$"
      ],
      "text/plain": [
       "2⋅cos(β)⋅α̇⋅ṡ b_y + -2⋅sin(β)⋅α̇⋅ṡ b_z"
      ]
     },
     "execution_count": 35,
     "metadata": {},
     "output_type": "execute_result"
    }
   ],
   "source": [
    "2*me.cross(B.ang_vel_in(N), R.vel(B))"
   ]
  },
  {
   "cell_type": "code",
   "execution_count": 36,
   "id": "e1f4bf6e",
   "metadata": {
    "execution": {
     "iopub.execute_input": "2022-04-15T22:54:12.867935Z",
     "iopub.status.busy": "2022-04-15T22:54:12.867673Z",
     "iopub.status.idle": "2022-04-15T22:54:12.928988Z",
     "shell.execute_reply": "2022-04-15T22:54:12.928378Z"
    }
   },
   "outputs": [
    {
     "data": {
      "text/latex": [
       "$\\displaystyle (\\left(- c + \\frac{l}{2}\\right) \\left(\\sin{\\left(\\beta \\right)} \\ddot{\\alpha} + \\cos{\\left(\\beta \\right)} \\dot{\\alpha} \\dot{\\beta}\\right) - \\left(- w + s\\right) \\sin^{2}{\\left(\\beta \\right)} \\dot{\\alpha}^{2} - \\left(- \\left(- c + \\frac{l}{2}\\right) \\dot{\\beta} + \\left(- w + s\\right) \\cos{\\left(\\beta \\right)} \\dot{\\alpha}\\right) \\cos{\\left(\\beta \\right)} \\dot{\\alpha} + \\ddot{s})\\mathbf{\\hat{b}_x} + (\\left(- c + \\frac{l}{2}\\right) \\sin{\\left(\\beta \\right)} \\cos{\\left(\\beta \\right)} \\dot{\\alpha}^{2} - \\left(- c + \\frac{l}{2}\\right) \\ddot{\\beta} + \\left(- w + s\\right) \\left(- \\sin{\\left(\\beta \\right)} \\dot{\\alpha} \\dot{\\beta} + \\cos{\\left(\\beta \\right)} \\ddot{\\alpha}\\right) + \\left(- w + s\\right) \\sin{\\left(\\beta \\right)} \\dot{\\alpha} \\dot{\\beta} + 2 \\cos{\\left(\\beta \\right)} \\dot{\\alpha} \\dot{s})\\mathbf{\\hat{b}_y} + (- \\left(- c + \\frac{l}{2}\\right) \\sin^{2}{\\left(\\beta \\right)} \\dot{\\alpha}^{2} - \\left(- w + s\\right) \\left(\\sin{\\left(\\beta \\right)} \\ddot{\\alpha} + \\cos{\\left(\\beta \\right)} \\dot{\\alpha} \\dot{\\beta}\\right) + \\left(- \\left(- c + \\frac{l}{2}\\right) \\dot{\\beta} + \\left(- w + s\\right) \\cos{\\left(\\beta \\right)} \\dot{\\alpha}\\right) \\dot{\\beta} - 2 \\sin{\\left(\\beta \\right)} \\dot{\\alpha} \\dot{s})\\mathbf{\\hat{b}_z} + d \\dot{\\alpha}^{2}\\mathbf{\\hat{a}_x} -  d \\ddot{\\alpha}\\mathbf{\\hat{a}_y}$"
      ],
      "text/plain": [
       "⎛⎛     l⎞                                       2     2   ⎛  ⎛     l⎞\n",
       "⎜⎜-c + ─⎟⋅(sin(β)⋅α̈ + cos(β)⋅α̇⋅β̇) - (-w + s)⋅sin (β)⋅α̇  - ⎜- ⎜-c + ─⎟⋅β̇ +\n",
       "⎝⎝     2⎠                                                 ⎝  ⎝     2⎠\n",
       "\n",
       "             ⎞             ⎞       ⎛⎛     l⎞                2   ⎛     l⎞\n",
       " (-w + s)⋅cos(β)⋅α̇⎟⋅cos(β)⋅α̇ + s̈⎟ b_x + ⎜⎜-c + ─⎟⋅sin(β)⋅cos(β)⋅α̇  - ⎜-c +\n",
       "             ⎠             ⎠       ⎝⎝     2⎠                    ⎝     2⎠\n",
       "\n",
       "                                                                     ⎞       ⎛\n",
       " ─⎟⋅β̈ + (-w + s)⋅(-sin(β)⋅α̇⋅β̇ + cos(β)⋅α̈) + (-w + s)⋅sin(β)⋅α̇⋅β̇ + 2⋅cos(\n",
       "                                                                     ⎠       ⎝\n",
       "\n",
       "  ⎛     l⎞    2     2                                      ⎛  ⎛     l⎞\n",
       "β)⋅α̇⋅ṡ⎟ b_y + ⎜- ⎜-c + ─⎟⋅sin (β)⋅α̇  - (-w + s)⋅(sin(β)⋅α̈ + cos(β)⋅α̇⋅β̇)\n",
       "  ⎝     2⎠                                                 ⎝  ⎝     2⎠\n",
       "\n",
       "              ⎞                 ⎞          2\n",
       "+ ⎜- ⎜-c + ─⎟⋅β̇ + (-w + s)⋅cos(β)⋅α̇⎟⋅β̇ - 2⋅sin(β)⋅α̇⋅ṡ⎟ b_z + d⋅α̇  a_x +\n",
       "              ⎠                 ⎠"
      ]
     },
     "execution_count": 36,
     "metadata": {},
     "output_type": "execute_result"
    }
   ],
   "source": [
    "R.a1pt_theory(S, N, B)"
   ]
  }
 ],
 "metadata": {
  "kernelspec": {
   "display_name": "Python 3 (ipykernel)",
   "language": "python",
   "name": "python3"
  },
  "language_info": {
   "codemirror_mode": {
    "name": "ipython",
    "version": 3
   },
   "file_extension": ".py",
   "mimetype": "text/x-python",
   "name": "python",
   "nbconvert_exporter": "python",
   "pygments_lexer": "ipython3",
   "version": "3.9.12"
  }
 },
 "nbformat": 4,
 "nbformat_minor": 5
}